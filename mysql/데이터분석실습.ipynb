{
 "cells": [
  {
   "cell_type": "code",
   "execution_count": 4,
   "id": "5a1bb7e2",
   "metadata": {},
   "outputs": [],
   "source": [
    "import pandas as pd\n",
    "import mysql.connector\n",
    "\n",
    "# 1. MySQL 연결\n",
    "conn = mysql.connector.connect(\n",
    "    host=\"localhost\",\n",
    "    user=\"root\",\n",
    "    password=\"1234\",\n",
    "    database=\"분석실습\"\n",
    ")\n",
    "cursor = conn.cursor()\n",
    "\n"
   ]
  },
  {
   "cell_type": "code",
   "execution_count": 5,
   "id": "21bd0dff",
   "metadata": {},
   "outputs": [
    {
     "data": {
      "text/html": [
       "<div>\n",
       "<style scoped>\n",
       "    .dataframe tbody tr th:only-of-type {\n",
       "        vertical-align: middle;\n",
       "    }\n",
       "\n",
       "    .dataframe tbody tr th {\n",
       "        vertical-align: top;\n",
       "    }\n",
       "\n",
       "    .dataframe thead th {\n",
       "        text-align: right;\n",
       "    }\n",
       "</style>\n",
       "<table border=\"1\" class=\"dataframe\">\n",
       "  <thead>\n",
       "    <tr style=\"text-align: right;\">\n",
       "      <th></th>\n",
       "      <th>mem_no</th>\n",
       "      <th>last_name</th>\n",
       "      <th>first_name</th>\n",
       "      <th>gd</th>\n",
       "      <th>birth_dt</th>\n",
       "      <th>entr_dt</th>\n",
       "      <th>grade</th>\n",
       "      <th>sign_up_ch</th>\n",
       "    </tr>\n",
       "  </thead>\n",
       "  <tbody>\n",
       "    <tr>\n",
       "      <th>0</th>\n",
       "      <td>18466</td>\n",
       "      <td>정</td>\n",
       "      <td>하성</td>\n",
       "      <td>M</td>\n",
       "      <td>1988-03-11</td>\n",
       "      <td>2011-01-01</td>\n",
       "      <td>VVIP</td>\n",
       "      <td>01</td>\n",
       "    </tr>\n",
       "    <tr>\n",
       "      <th>1</th>\n",
       "      <td>18798</td>\n",
       "      <td>정</td>\n",
       "      <td>호정</td>\n",
       "      <td>F</td>\n",
       "      <td>1990-02-28</td>\n",
       "      <td>2013-03-09</td>\n",
       "      <td>VVIP</td>\n",
       "      <td>01</td>\n",
       "    </tr>\n",
       "    <tr>\n",
       "      <th>2</th>\n",
       "      <td>18434</td>\n",
       "      <td>황</td>\n",
       "      <td>성연</td>\n",
       "      <td>F</td>\n",
       "      <td>1971-04-04</td>\n",
       "      <td>2011-09-12</td>\n",
       "      <td>VIP</td>\n",
       "      <td>03</td>\n",
       "    </tr>\n",
       "    <tr>\n",
       "      <th>3</th>\n",
       "      <td>18772</td>\n",
       "      <td>홍</td>\n",
       "      <td>경빈</td>\n",
       "      <td>F</td>\n",
       "      <td>1971-07-06</td>\n",
       "      <td>2012-08-18</td>\n",
       "      <td>VIP</td>\n",
       "      <td>03</td>\n",
       "    </tr>\n",
       "    <tr>\n",
       "      <th>4</th>\n",
       "      <td>18326</td>\n",
       "      <td>조</td>\n",
       "      <td>우준</td>\n",
       "      <td>M</td>\n",
       "      <td>1972-05-08</td>\n",
       "      <td>2011-05-26</td>\n",
       "      <td>VIP</td>\n",
       "      <td>01</td>\n",
       "    </tr>\n",
       "    <tr>\n",
       "      <th>...</th>\n",
       "      <td>...</td>\n",
       "      <td>...</td>\n",
       "      <td>...</td>\n",
       "      <td>...</td>\n",
       "      <td>...</td>\n",
       "      <td>...</td>\n",
       "      <td>...</td>\n",
       "      <td>...</td>\n",
       "    </tr>\n",
       "    <tr>\n",
       "      <th>5364</th>\n",
       "      <td>16332</td>\n",
       "      <td>정</td>\n",
       "      <td>윤제</td>\n",
       "      <td>M</td>\n",
       "      <td>1982-06-03</td>\n",
       "      <td>2012-02-23</td>\n",
       "      <td>BRONZE</td>\n",
       "      <td>01</td>\n",
       "    </tr>\n",
       "    <tr>\n",
       "      <th>5365</th>\n",
       "      <td>17987</td>\n",
       "      <td>임</td>\n",
       "      <td>민건</td>\n",
       "      <td>M</td>\n",
       "      <td>1992-04-16</td>\n",
       "      <td>2013-03-18</td>\n",
       "      <td>BRONZE</td>\n",
       "      <td>04</td>\n",
       "    </tr>\n",
       "    <tr>\n",
       "      <th>5366</th>\n",
       "      <td>17894</td>\n",
       "      <td>임</td>\n",
       "      <td>정윤</td>\n",
       "      <td>F</td>\n",
       "      <td>1992-04-22</td>\n",
       "      <td>2012-06-03</td>\n",
       "      <td>BRONZE</td>\n",
       "      <td>06</td>\n",
       "    </tr>\n",
       "    <tr>\n",
       "      <th>5367</th>\n",
       "      <td>14578</td>\n",
       "      <td>김</td>\n",
       "      <td>로건</td>\n",
       "      <td>M</td>\n",
       "      <td>1992-04-23</td>\n",
       "      <td>2013-10-20</td>\n",
       "      <td>BRONZE</td>\n",
       "      <td>02</td>\n",
       "    </tr>\n",
       "    <tr>\n",
       "      <th>5368</th>\n",
       "      <td>19279</td>\n",
       "      <td>유</td>\n",
       "      <td>은유</td>\n",
       "      <td>M</td>\n",
       "      <td>1993-01-17</td>\n",
       "      <td>2011-06-22</td>\n",
       "      <td>BRONZE</td>\n",
       "      <td>05</td>\n",
       "    </tr>\n",
       "  </tbody>\n",
       "</table>\n",
       "<p>5369 rows × 8 columns</p>\n",
       "</div>"
      ],
      "text/plain": [
       "     mem_no last_name first_name gd    birth_dt     entr_dt   grade sign_up_ch\n",
       "0     18466         정         하성  M  1988-03-11  2011-01-01    VVIP         01\n",
       "1     18798         정         호정  F  1990-02-28  2013-03-09    VVIP         01\n",
       "2     18434         황         성연  F  1971-04-04  2011-09-12     VIP         03\n",
       "3     18772         홍         경빈  F  1971-07-06  2012-08-18     VIP         03\n",
       "4     18326         조         우준  M  1972-05-08  2011-05-26     VIP         01\n",
       "...     ...       ...        ... ..         ...         ...     ...        ...\n",
       "5364  16332         정         윤제  M  1982-06-03  2012-02-23  BRONZE         01\n",
       "5365  17987         임         민건  M  1992-04-16  2013-03-18  BRONZE         04\n",
       "5366  17894         임         정윤  F  1992-04-22  2012-06-03  BRONZE         06\n",
       "5367  14578         김         로건  M  1992-04-23  2013-10-20  BRONZE         02\n",
       "5368  19279         유         은유  M  1993-01-17  2011-06-22  BRONZE         05\n",
       "\n",
       "[5369 rows x 8 columns]"
      ]
     },
     "execution_count": 5,
     "metadata": {},
     "output_type": "execute_result"
    }
   ],
   "source": [
    "# 2. 파일에서 데이터프레임으로 읽기 (탭 구분자라고 가정)\n",
    "df_customer = pd.read_csv(\"./mig/customer.txt\", sep=\"\\t\", dtype=str,  encoding='cp949')\n",
    "df_customer\n",
    "#(5369, 8)\n"
   ]
  },
  {
   "cell_type": "code",
   "execution_count": 6,
   "id": "930c8521",
   "metadata": {},
   "outputs": [
    {
     "data": {
      "text/plain": [
       "(541909, 8)"
      ]
     },
     "execution_count": 6,
     "metadata": {},
     "output_type": "execute_result"
    }
   ],
   "source": [
    "df_sales = pd.read_csv(\"mig/sales.txt\", sep=\"\\t\", dtype=str,  encoding='cp949')\n",
    "df_sales.shape\n",
    "#(541909, 8)"
   ]
  },
  {
   "cell_type": "code",
   "execution_count": 7,
   "id": "73c531f1",
   "metadata": {},
   "outputs": [
    {
     "name": "stdout",
     "output_type": "stream",
     "text": [
      "총 5369건 삽입 완료\n"
     ]
    }
   ],
   "source": [
    "# 3. CUSTOMER INSERT\n",
    "for row in df_customer.itertuples(index=False, name=None):\n",
    "    cursor.execute(\"\"\"\n",
    "        INSERT INTO CUSTOMER (mem_no, last_name, first_name, gd, birth_dt, entr_dt, grade, sign_up_ch)\n",
    "        VALUES (%s, %s, %s, %s, %s, %s, %s, %s)\n",
    "    \"\"\", row)\n",
    "    \n",
    "conn.commit()  # 변경사항 저장\n",
    "\n",
    "cursor.execute(\"SELECT COUNT(*) FROM CUSTOMER\")\n",
    "print(f\"총 {cursor.fetchone()[0]}건 삽입 완료\")"
   ]
  },
  {
   "cell_type": "code",
   "execution_count": 8,
   "id": "f564aea4",
   "metadata": {},
   "outputs": [
    {
     "data": {
      "text/plain": [
       "InvoiceNo      0\n",
       "StockCode      0\n",
       "Description    0\n",
       "Quantity       0\n",
       "InvoiceDate    0\n",
       "UnitPrice      0\n",
       "CustomerID     0\n",
       "Country        0\n",
       "dtype: int64"
      ]
     },
     "execution_count": 8,
     "metadata": {},
     "output_type": "execute_result"
    }
   ],
   "source": [
    "# 4. SALES 데이터전처리\n",
    "df_sales = df_sales.dropna(subset=[\"CustomerID\"])\n",
    "df_sales[\"CustomerID\"] = df_sales[\"CustomerID\"].astype(int)\n",
    "\n",
    "# 날짜 및 숫자 변환\n",
    "df_sales[\"Quantity\"] = df_sales[\"Quantity\"].astype(int)\n",
    "df_sales[\"UnitPrice\"] = df_sales[\"UnitPrice\"].astype(float)\n",
    "df_sales[\"CustomerID\"] = df_sales[\"CustomerID\"].astype(int)\n",
    "\n",
    "# DATETIME 변환\n",
    "df_sales[\"InvoiceDate\"] = pd.to_datetime(df_sales[\"InvoiceDate\"], errors='coerce')\n",
    "df_sales[\"InvoiceDate\"] = df_sales[\"InvoiceDate\"].dt.strftime('%Y-%m-%d %H:%M:%S')\n",
    "df_sales.isna().sum()"
   ]
  },
  {
   "cell_type": "code",
   "execution_count": 9,
   "id": "bbbc4e50",
   "metadata": {},
   "outputs": [
    {
     "name": "stdout",
     "output_type": "stream",
     "text": [
      "총 406829건 삽입 완료\n"
     ]
    }
   ],
   "source": [
    "# 5. SALES INSERT\n",
    "df_sales = df_sales.astype(object)\n",
    "rows = [tuple(x) for x in df_sales.to_records(index=False)]\n",
    "cursor.executemany(\"\"\"\n",
    "    INSERT INTO SALES (InvoiceNo, StockCode, Description, Quantity, InvoiceDate, UnitPrice, CustomerID, Country)\n",
    "    VALUES (%s, %s, %s, %s, %s, %s, %s, %s)\n",
    "\"\"\", rows)\n",
    "\n",
    "conn.commit()\n",
    "\n",
    "cursor.execute(\"SELECT COUNT(*) FROM SALES\")\n",
    "print(f\"총 {cursor.fetchone()[0]}건 삽입 완료\")"
   ]
  },
  {
   "cell_type": "code",
   "execution_count": 10,
   "id": "f4298814",
   "metadata": {},
   "outputs": [
    {
     "name": "stdout",
     "output_type": "stream",
     "text": [
      "데이터 삽입 완료\n"
     ]
    }
   ],
   "source": [
    "# 6. 종료\n",
    "cursor.close()\n",
    "conn.close()\n",
    "print(\"데이터 삽입 완료\")\n"
   ]
  },
  {
   "cell_type": "code",
   "execution_count": null,
   "id": "f54ac8e2",
   "metadata": {},
   "outputs": [],
   "source": []
  },
  {
   "cell_type": "code",
   "execution_count": null,
   "id": "420e0a79",
   "metadata": {},
   "outputs": [],
   "source": []
  },
  {
   "cell_type": "code",
   "execution_count": null,
   "id": "5cc0ebd4",
   "metadata": {},
   "outputs": [],
   "source": []
  },
  {
   "cell_type": "code",
   "execution_count": null,
   "id": "10a18e9c",
   "metadata": {},
   "outputs": [],
   "source": []
  },
  {
   "cell_type": "code",
   "execution_count": null,
   "id": "f3c3f269",
   "metadata": {},
   "outputs": [],
   "source": []
  },
  {
   "cell_type": "code",
   "execution_count": null,
   "id": "729a4783",
   "metadata": {},
   "outputs": [],
   "source": []
  },
  {
   "cell_type": "code",
   "execution_count": null,
   "id": "5b6bc1cb",
   "metadata": {},
   "outputs": [],
   "source": []
  }
 ],
 "metadata": {
  "kernelspec": {
   "display_name": "hipython",
   "language": "python",
   "name": "python3"
  },
  "language_info": {
   "codemirror_mode": {
    "name": "ipython",
    "version": 3
   },
   "file_extension": ".py",
   "mimetype": "text/x-python",
   "name": "python",
   "nbconvert_exporter": "python",
   "pygments_lexer": "ipython3",
   "version": "3.12.9"
  }
 },
 "nbformat": 4,
 "nbformat_minor": 5
}
