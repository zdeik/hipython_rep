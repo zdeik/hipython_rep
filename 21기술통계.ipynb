{
 "cells": [
  {
   "cell_type": "code",
   "execution_count": 2,
   "id": "04867231",
   "metadata": {},
   "outputs": [
    {
     "name": "stdout",
     "output_type": "stream",
     "text": [
      "30.0\n"
     ]
    }
   ],
   "source": [
    "import numpy as np\n",
    "#산술평균\n",
    "data = [10, 20, 30, 40, 50]\n",
    "mean_value = np.mean(data)\n",
    "print(mean_value)  # 30.0"
   ]
  },
  {
   "cell_type": "code",
   "execution_count": 3,
   "id": "e163351d",
   "metadata": {},
   "outputs": [
    {
     "data": {
      "text/plain": [
       "np.float64(26.051710846973528)"
      ]
     },
     "execution_count": 3,
     "metadata": {},
     "output_type": "execute_result"
    }
   ],
   "source": [
    "# 기하평균\n",
    "from scipy.stats import hmean, gmean\n",
    "gmean(data)"
   ]
  },
  {
   "cell_type": "code",
   "execution_count": 4,
   "id": "2d942c51",
   "metadata": {},
   "outputs": [
    {
     "data": {
      "text/plain": [
       "np.float64(21.8978102189781)"
      ]
     },
     "execution_count": 4,
     "metadata": {},
     "output_type": "execute_result"
    }
   ],
   "source": [
    "# 조화평균\n",
    "hmean(data)"
   ]
  },
  {
   "cell_type": "code",
   "execution_count": 5,
   "id": "b86c8e08",
   "metadata": {},
   "outputs": [
    {
     "data": {
      "text/plain": [
       "np.float64(5800.0)"
      ]
     },
     "execution_count": 5,
     "metadata": {},
     "output_type": "execute_result"
    }
   ],
   "source": [
    "# 가중평균\n",
    "# 가격과 개수\n",
    "prices = [5000, 9000]\n",
    "counts = [8, 2]\n",
    "np.average(prices, weights=counts)"
   ]
  },
  {
   "cell_type": "code",
   "execution_count": 10,
   "id": "ada7fd11",
   "metadata": {},
   "outputs": [
    {
     "data": {
      "text/plain": [
       "np.float64(30.0)"
      ]
     },
     "execution_count": 10,
     "metadata": {},
     "output_type": "execute_result"
    }
   ],
   "source": [
    "# 대표값-  중앙값(홀수명 중앙값, 짝수면 가운데 두개의 값 평균)\n",
    "# data = [10, 20, 30, 40, 50]\n",
    "median_value = np.median(data) \n",
    "median_value"
   ]
  },
  {
   "cell_type": "code",
   "execution_count": null,
   "id": "c3c61c07",
   "metadata": {},
   "outputs": [],
   "source": [
    "# 백분위수"
   ]
  },
  {
   "cell_type": "code",
   "execution_count": 15,
   "id": "a744786a",
   "metadata": {},
   "outputs": [],
   "source": [
    "import numpy as np\n",
    "# scores = [65,75,80,85,95]\n",
    "scores = [15,75,80,85,95]\n",
    "p25 = np.percentile(scores, 25) #Q1\n",
    "p50 = np.percentile(scores, 50) #Q2 median\n",
    "p75 = np.percentile(scores, 75) #Q3"
   ]
  },
  {
   "cell_type": "code",
   "execution_count": 16,
   "id": "1e815eee",
   "metadata": {},
   "outputs": [
    {
     "data": {
      "text/plain": [
       "(np.float64(75.0), np.float64(80.0), np.float64(85.0))"
      ]
     },
     "execution_count": 16,
     "metadata": {},
     "output_type": "execute_result"
    }
   ],
   "source": [
    "p25,p50,p75"
   ]
  },
  {
   "cell_type": "code",
   "execution_count": 17,
   "id": "f29860ac",
   "metadata": {},
   "outputs": [
    {
     "data": {
      "text/plain": [
       "np.float64(10.0)"
      ]
     },
     "execution_count": 17,
     "metadata": {},
     "output_type": "execute_result"
    }
   ],
   "source": [
    "# IQR : 사분위범위 Q3-Q1 =85 -75 =10\n",
    "p75 - p25 "
   ]
  },
  {
   "cell_type": "markdown",
   "id": "f26abed9",
   "metadata": {},
   "source": [
    "중앙값, 분위수는 개수(위치)를 중요시하는 통계량\n",
    "이상값/극단적인 값이 중요하지 않다.\n"
   ]
  },
  {
   "cell_type": "markdown",
   "id": "251eb718",
   "metadata": {},
   "source": [
    "# 범위의 계산 > 변동성을 측정하는 지표 > 극단적인값에 민감\n",
    " - 최대/최소 2개의 값만 사용\n",
    " - 개별점수들이 다른 점수들과 얼마나 차이가있나 x\n",
    " - 실제 데이터가 어떤 값들로 구성되어 잇는지를 설명할 수 없다."
   ]
  },
  {
   "cell_type": "code",
   "execution_count": 18,
   "id": "0071581b",
   "metadata": {},
   "outputs": [
    {
     "name": "stdout",
     "output_type": "stream",
     "text": [
      "40\n"
     ]
    }
   ],
   "source": [
    "data = [10, 20, 30, 40, 50]\n",
    "range_value =max(data)- min(data)\n",
    "print(range_value) # 40"
   ]
  },
  {
   "cell_type": "code",
   "execution_count": 25,
   "id": "5dba291e",
   "metadata": {},
   "outputs": [
    {
     "data": {
      "text/html": [
       "<div>\n",
       "<style scoped>\n",
       "    .dataframe tbody tr th:only-of-type {\n",
       "        vertical-align: middle;\n",
       "    }\n",
       "\n",
       "    .dataframe tbody tr th {\n",
       "        vertical-align: top;\n",
       "    }\n",
       "\n",
       "    .dataframe thead th {\n",
       "        text-align: right;\n",
       "    }\n",
       "</style>\n",
       "<table border=\"1\" class=\"dataframe\">\n",
       "  <thead>\n",
       "    <tr style=\"text-align: right;\">\n",
       "      <th></th>\n",
       "      <th>sepal_length</th>\n",
       "      <th>sepal_width</th>\n",
       "      <th>petal_length</th>\n",
       "      <th>petal_width</th>\n",
       "      <th>species</th>\n",
       "    </tr>\n",
       "  </thead>\n",
       "  <tbody>\n",
       "    <tr>\n",
       "      <th>0</th>\n",
       "      <td>5.1</td>\n",
       "      <td>3.5</td>\n",
       "      <td>1.4</td>\n",
       "      <td>0.2</td>\n",
       "      <td>setosa</td>\n",
       "    </tr>\n",
       "    <tr>\n",
       "      <th>1</th>\n",
       "      <td>4.9</td>\n",
       "      <td>3.0</td>\n",
       "      <td>1.4</td>\n",
       "      <td>0.2</td>\n",
       "      <td>setosa</td>\n",
       "    </tr>\n",
       "    <tr>\n",
       "      <th>2</th>\n",
       "      <td>4.7</td>\n",
       "      <td>3.2</td>\n",
       "      <td>1.3</td>\n",
       "      <td>0.2</td>\n",
       "      <td>setosa</td>\n",
       "    </tr>\n",
       "    <tr>\n",
       "      <th>3</th>\n",
       "      <td>4.6</td>\n",
       "      <td>3.1</td>\n",
       "      <td>1.5</td>\n",
       "      <td>0.2</td>\n",
       "      <td>setosa</td>\n",
       "    </tr>\n",
       "    <tr>\n",
       "      <th>4</th>\n",
       "      <td>5.0</td>\n",
       "      <td>3.6</td>\n",
       "      <td>1.4</td>\n",
       "      <td>0.2</td>\n",
       "      <td>setosa</td>\n",
       "    </tr>\n",
       "  </tbody>\n",
       "</table>\n",
       "</div>"
      ],
      "text/plain": [
       "   sepal_length  sepal_width  petal_length  petal_width species\n",
       "0           5.1          3.5           1.4          0.2  setosa\n",
       "1           4.9          3.0           1.4          0.2  setosa\n",
       "2           4.7          3.2           1.3          0.2  setosa\n",
       "3           4.6          3.1           1.5          0.2  setosa\n",
       "4           5.0          3.6           1.4          0.2  setosa"
      ]
     },
     "execution_count": 25,
     "metadata": {},
     "output_type": "execute_result"
    }
   ],
   "source": [
    "import seaborn as sns\n",
    "vp_df = sns.load_dataset('iris')\n",
    "vp_df.head()\n"
   ]
  },
  {
   "cell_type": "code",
   "execution_count": null,
   "id": "0c0b6a52",
   "metadata": {},
   "outputs": [
    {
     "data": {
      "text/plain": [
       "np.float64(3.6000000000000005)"
      ]
     },
     "execution_count": 26,
     "metadata": {},
     "output_type": "execute_result"
    }
   ],
   "source": [
    "# sepal_length 의 범위\n",
    "vp_df['sepal_length'].max() - vp_df['sepal_length'].min()"
   ]
  },
  {
   "cell_type": "code",
   "execution_count": 34,
   "id": "d52bf084",
   "metadata": {},
   "outputs": [
    {
     "name": "stdout",
     "output_type": "stream",
     "text": [
      "sepal_length    3.6\n",
      "sepal_width     2.4\n",
      "petal_length    5.9\n",
      "petal_width     2.4\n",
      "dtype: float64\n"
     ]
    }
   ],
   "source": [
    "numeric_cols = vp_df.select_dtypes(include='number').columns\n",
    "print(vp_df[numeric_cols].max() - vp_df[numeric_cols].min())\n",
    "\n"
   ]
  },
  {
   "cell_type": "markdown",
   "id": "7bf7a12b",
   "metadata": {},
   "source": [
    "변동성이 가장 큰 속성은 petal_length입니다.\n",
    "petal_length와 petal_width가 sepal_length와 sepal_width보다\n",
    "상대적으로 변동성이 큽니다.\n",
    "모델 생성시에 다루어야하는 속성으로 볼 수 있습니다."
   ]
  },
  {
   "cell_type": "code",
   "execution_count": null,
   "id": "5d3eeaf0",
   "metadata": {},
   "outputs": [],
   "source": [
    "# 산포도로 변동성 확인하기\n",
    "# petal_length와 petal_width\n",
    "# sepal_length와 sepal_width"
   ]
  },
  {
   "cell_type": "code",
   "execution_count": null,
   "id": "6d132ac2",
   "metadata": {},
   "outputs": [
    {
     "data": {
      "image/png": "[encoded data removed]",
      "text/plain": [
       "<Figure size 640x480 with 1 Axes>"
      ]
     },
     "metadata": {},
     "output_type": "display_data"
    }
   ],
   "source": [
    "import matplotlib.pyplot as plt\n",
    "\n",
    "# 산포도 그리기\n",
    "plt.scatter(vp_df['petal_length'], vp_df['petal_width'], color='blue', alpha=0.7)\n",
    "\n",
    "plt.show()"
   ]
  },
  {
   "cell_type": "code",
   "execution_count": 36,
   "id": "5f03d5d9",
   "metadata": {},
   "outputs": [
    {
     "data": {
      "image/png": "[encoded data removed]",
      "text/plain": [
       "<Figure size 640x480 with 1 Axes>"
      ]
     },
     "metadata": {},
     "output_type": "display_data"
    }
   ],
   "source": [
    "import matplotlib.pyplot as plt\n",
    "\n",
    "# 산포도 그리기\n",
    "plt.scatter(vp_df['sepal_length'], vp_df['sepal_width'], color='blue', alpha=0.7)\n",
    "plt.show()"
   ]
  },
  {
   "cell_type": "markdown",
   "id": "169a502c",
   "metadata": {},
   "source": [
    "산포도를 이용해 극단적인 다른 데이터(이상치)가 있는지를 확인해야 한다."
   ]
  },
  {
   "cell_type": "code",
   "execution_count": null,
   "id": "d2116e76",
   "metadata": {},
   "outputs": [],
   "source": []
  },
  {
   "cell_type": "code",
   "execution_count": null,
   "id": "aaa54da4",
   "metadata": {},
   "outputs": [],
   "source": []
  },
  {
   "cell_type": "code",
   "execution_count": null,
   "id": "35b53834",
   "metadata": {},
   "outputs": [],
   "source": []
  }
 ],
 "metadata": {
  "kernelspec": {
   "display_name": "hipython",
   "language": "python",
   "name": "python3"
  },
  "language_info": {
   "codemirror_mode": {
    "name": "ipython",
    "version": 3
   },
   "file_extension": ".py",
   "mimetype": "text/x-python",
   "name": "python",
   "nbconvert_exporter": "python",
   "pygments_lexer": "ipython3",
   "version": "3.12.9"
  }
 },
 "nbformat": 4,
 "nbformat_minor": 5
}
