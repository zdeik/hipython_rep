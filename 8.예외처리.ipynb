{
 "cells": [
  {
   "cell_type": "markdown",
   "id": "fed502e7-9692-4ee4-85c0-586b05237119",
   "metadata": {},
   "source": [
    "# 예외의 종류\n",
    "1. 문법오류  SyntaxError, NameError, TypeError\n",
    "2. 논리오류\n",
    "3. 예외상황"
   ]
  },
  {
   "cell_type": "code",
   "execution_count": null,
   "id": "16d50260-2a26-4738-9631-a35d45ff5452",
   "metadata": {},
   "outputs": [],
   "source": [
    "# try except"
   ]
  },
  {
   "cell_type": "code",
   "execution_count": 7,
   "id": "7b24a5a6-c497-4a86-8fc4-94c9e8f7e4bb",
   "metadata": {},
   "outputs": [],
   "source": [
    "# 10/0  ZeroDivisionError  "
   ]
  },
  {
   "cell_type": "code",
   "execution_count": 8,
   "id": "bbff2458-7be5-4f21-bc4a-6e8b4353946a",
   "metadata": {},
   "outputs": [],
   "source": [
    "def divide(m,n):\n",
    "    return m/n"
   ]
  },
  {
   "cell_type": "code",
   "execution_count": 9,
   "id": "d9ed2640-cbf7-41d6-bf98-e771416f9a19",
   "metadata": {},
   "outputs": [
    {
     "ename": "ZeroDivisionError",
     "evalue": "division by zero",
     "output_type": "error",
     "traceback": [
      "\u001b[31m---------------------------------------------------------------------------\u001b[39m",
      "\u001b[31mZeroDivisionError\u001b[39m                         Traceback (most recent call last)",
      "\u001b[36mCell\u001b[39m\u001b[36m \u001b[39m\u001b[32mIn[9]\u001b[39m\u001b[32m, line 1\u001b[39m\n\u001b[32m----> \u001b[39m\u001b[32m1\u001b[39m result = divide(\u001b[32m3\u001b[39m,\u001b[32m0\u001b[39m)\n\u001b[32m      2\u001b[39m result\n",
      "\u001b[36mCell\u001b[39m\u001b[36m \u001b[39m\u001b[32mIn[8]\u001b[39m\u001b[32m, line 2\u001b[39m, in \u001b[36mdivide\u001b[39m\u001b[34m(m, n)\u001b[39m\n\u001b[32m      1\u001b[39m \u001b[38;5;28;01mdef\u001b[39;00m\u001b[38;5;250m \u001b[39m\u001b[34mdivide\u001b[39m(m,n):\n\u001b[32m----> \u001b[39m\u001b[32m2\u001b[39m     \u001b[38;5;28;01mreturn\u001b[39;00m m/n\n",
      "\u001b[31mZeroDivisionError\u001b[39m: division by zero"
     ]
    }
   ],
   "source": [
    "result = divide(3,0)\n",
    "result"
   ]
  },
  {
   "cell_type": "code",
   "execution_count": 33,
   "id": "8f3dfc9e-b81a-4a8f-8d3d-4bee60f81fbd",
   "metadata": {},
   "outputs": [],
   "source": [
    "def divide(m,n):\n",
    "    try:\n",
    "        result = m/n\n",
    "        result += int(s)\n",
    "        return result\n",
    "    except (ZeroDivisionError, ValueError):\n",
    "        print('0으로 나눌수 없습니다.')\n",
    "        return None\n",
    "    except:  # 나머지 모든 에러 받기\n",
    "        print('다른 에러가 발생했습니다.')\n",
    "        return None\n",
    "    finally:\n",
    "        print('항상 실행되는 코드입니다.')"
   ]
  },
  {
   "cell_type": "code",
   "execution_count": 21,
   "id": "4f56ea2d-a439-4ba2-9d75-c0f0037a66cd",
   "metadata": {},
   "outputs": [
    {
     "name": "stdout",
     "output_type": "stream",
     "text": [
      "0으로 나눌수 없습니다.\n"
     ]
    }
   ],
   "source": [
    "result = divide(3,0)\n",
    "result"
   ]
  },
  {
   "cell_type": "code",
   "execution_count": 36,
   "id": "f121a59a-f4ad-46fd-890b-39a9f76d637b",
   "metadata": {},
   "outputs": [
    {
     "name": "stdout",
     "output_type": "stream",
     "text": [
      "0으로 나눌수 없습니다.\n",
      "항상 실행되는 코드입니다.\n"
     ]
    }
   ],
   "source": [
    "result = divide(0, 0)\n",
    "result"
   ]
  },
  {
   "cell_type": "code",
   "execution_count": 38,
   "id": "c1a65e7a-9dea-4695-9108-ef7e039e3400",
   "metadata": {},
   "outputs": [],
   "source": [
    "# 예외 발생시키기"
   ]
  },
  {
   "cell_type": "code",
   "execution_count": 39,
   "id": "95fce332-997a-405c-8e37-8d0cb1cdba88",
   "metadata": {},
   "outputs": [
    {
     "ename": "TypeError",
     "evalue": "입력값 오류",
     "output_type": "error",
     "traceback": [
      "\u001b[31m---------------------------------------------------------------------------\u001b[39m",
      "\u001b[31mTypeError\u001b[39m                                 Traceback (most recent call last)",
      "\u001b[36mCell\u001b[39m\u001b[36m \u001b[39m\u001b[32mIn[39]\u001b[39m\u001b[32m, line 1\u001b[39m\n\u001b[32m----> \u001b[39m\u001b[32m1\u001b[39m \u001b[38;5;28;01mraise\u001b[39;00m \u001b[38;5;167;01mTypeError\u001b[39;00m(\u001b[33m'\u001b[39m\u001b[33m입력값 오류\u001b[39m\u001b[33m'\u001b[39m)\n",
      "\u001b[31mTypeError\u001b[39m: 입력값 오류"
     ]
    }
   ],
   "source": [
    "raise TypeError('입력값 오류')"
   ]
  },
  {
   "cell_type": "code",
   "execution_count": 40,
   "id": "7ed0b38d-300e-4d1c-9a79-a8c1fab74a6f",
   "metadata": {},
   "outputs": [
    {
     "name": "stdout",
     "output_type": "stream",
     "text": [
      "('입력값 오류',)\n"
     ]
    }
   ],
   "source": [
    "try:\n",
    "    raise TypeError('입력값 오류')\n",
    "except TypeError as e :\n",
    "    print(e.args)"
   ]
  },
  {
   "cell_type": "markdown",
   "id": "f6ebe949-81d7-45cf-96af-3fb0b6f91c8b",
   "metadata": {},
   "source": [
    "# 내가 정의하는 예외\n",
    "1. 예외 클래스 작성: 각 예외 상황에 맞는 메시지를 작성\n",
    "2. 호출할 때 try except로 받아줍니다."
   ]
  },
  {
   "cell_type": "code",
   "execution_count": 41,
   "id": "708f6ffc-28d2-423a-b2d2-fd9c562deaf5",
   "metadata": {},
   "outputs": [],
   "source": [
    "class AgeException(Exception):\n",
    "    def __init__(self,msg):\n",
    "        self._message = msg\n",
    "\n",
    "def input_age():\n",
    "    age = int(input('나이를 입력하세요: '))\n",
    "\n",
    "    if age < 0:\n",
    "        raise AgeException('나이는 양수입니다')\n",
    "    elif age > 150:\n",
    "        raise AgeException('150세 이상??')\n",
    "    else:\n",
    "        return age"
   ]
  },
  {
   "cell_type": "code",
   "execution_count": 48,
   "id": "c9ea0926-8129-4f28-b037-ecb145131427",
   "metadata": {},
   "outputs": [
    {
     "name": "stdin",
     "output_type": "stream",
     "text": [
      "나이를 입력하세요:  -20\n"
     ]
    },
    {
     "name": "stdout",
     "output_type": "stream",
     "text": [
      "나이는 양수입니다\n"
     ]
    }
   ],
   "source": [
    "try:\n",
    "    age = input_age()\n",
    "except AgeException as e:\n",
    "    print(e.args[0])\n",
    "else:\n",
    "    print(f'입력하신 나이는 {age} 입니다.')\n",
    "    "
   ]
  },
  {
   "cell_type": "code",
   "execution_count": null,
   "id": "ae5fa031-e9fc-4e53-a9e7-4ac5993fe365",
   "metadata": {},
   "outputs": [],
   "source": []
  },
  {
   "cell_type": "code",
   "execution_count": null,
   "id": "24b64f6a-a656-4cef-afd4-6f558a54404c",
   "metadata": {},
   "outputs": [],
   "source": []
  },
  {
   "cell_type": "code",
   "execution_count": null,
   "id": "cd2adbde-93ba-4b9c-b414-3288128498eb",
   "metadata": {},
   "outputs": [],
   "source": []
  },
  {
   "cell_type": "code",
   "execution_count": null,
   "id": "30182035-7be9-42cb-be25-4bc741df21e2",
   "metadata": {},
   "outputs": [],
   "source": []
  }
 ],
 "metadata": {
  "kernelspec": {
   "display_name": "Python 3 (ipykernel)",
   "language": "python",
   "name": "python3"
  },
  "language_info": {
   "codemirror_mode": {
    "name": "ipython",
    "version": 3
   },
   "file_extension": ".py",
   "mimetype": "text/x-python",
   "name": "python",
   "nbconvert_exporter": "python",
   "pygments_lexer": "ipython3",
   "version": "3.12.9"
  }
 },
 "nbformat": 4,
 "nbformat_minor": 5
}
