{
 "cells": [
  {
   "cell_type": "code",
   "execution_count": 2,
   "id": "31fb5c51",
   "metadata": {},
   "outputs": [],
   "source": [
    "import pandas as pd  # pip install pandas"
   ]
  },
  {
   "cell_type": "code",
   "execution_count": 7,
   "id": "c7fe0255",
   "metadata": {},
   "outputs": [
    {
     "name": "stdout",
     "output_type": "stream",
     "text": [
      "0    1\n",
      "1    2\n",
      "2    3\n",
      "3    4\n",
      "4    5\n",
      "dtype: int64\n"
     ]
    }
   ],
   "source": [
    "# 리스트로 시리즈 생성\n",
    "data = [1, 2, 3, 4, 5]\n",
    "s1 = pd.Series(data) # data: 리스트 or 딕셔너리 등 다양한 형태 가능\n",
    "                     # pd.Series(data, index=index) 인덱스는 선택\n",
    "print(s1)\n"
   ]
  },
  {
   "cell_type": "code",
   "execution_count": 8,
   "id": "5eefaedb",
   "metadata": {},
   "outputs": [],
   "source": [
    "index_S = ['a','b','c','d','e']"
   ]
  },
  {
   "cell_type": "code",
   "execution_count": 9,
   "id": "631b87e4",
   "metadata": {},
   "outputs": [
    {
     "data": {
      "text/plain": [
       "a    1\n",
       "b    2\n",
       "c    3\n",
       "d    4\n",
       "e    5\n",
       "dtype: int64"
      ]
     },
     "execution_count": 9,
     "metadata": {},
     "output_type": "execute_result"
    }
   ],
   "source": [
    "ser = pd.Series(data,index=index_S) \n",
    "ser"
   ]
  },
  {
   "cell_type": "code",
   "execution_count": 10,
   "id": "3bffe10c",
   "metadata": {},
   "outputs": [
    {
     "name": "stderr",
     "output_type": "stream",
     "text": [
      "C:\\Users\\Admin\\AppData\\Local\\Temp\\ipykernel_12980\\143202658.py:1: FutureWarning: Series.__getitem__ treating keys as positions is deprecated. In a future version, integer keys will always be treated as labels (consistent with DataFrame behavior). To access a value by position, use `ser.iloc[pos]`\n",
      "  ser[0],ser['a']\n"
     ]
    },
    {
     "data": {
      "text/plain": [
       "(np.int64(1), np.int64(1))"
      ]
     },
     "execution_count": 10,
     "metadata": {},
     "output_type": "execute_result"
    }
   ],
   "source": [
    "ser[0],ser['a']"
   ]
  },
  {
   "cell_type": "code",
   "execution_count": 26,
   "id": "a9612324",
   "metadata": {},
   "outputs": [
    {
     "data": {
      "text/plain": [
       "(np.int64(1), np.int64(1))"
      ]
     },
     "execution_count": 26,
     "metadata": {},
     "output_type": "execute_result"
    }
   ],
   "source": [
    "ser.iloc[0],ser.loc['a']"
   ]
  },
  {
   "cell_type": "code",
   "execution_count": 17,
   "id": "7f6084a7",
   "metadata": {},
   "outputs": [
    {
     "name": "stdout",
     "output_type": "stream",
     "text": [
      "a    1\n",
      "b    2\n",
      "c    3\n",
      "d    4\n",
      "dtype: int64\n"
     ]
    }
   ],
   "source": [
    "dict_data = {'a':1, 'b':2, 'c':3, 'd':4}\n",
    "s3 = pd.Series(dict_data)\n",
    "\n",
    "print(s3)"
   ]
  },
  {
   "cell_type": "code",
   "execution_count": 22,
   "id": "9c12847f",
   "metadata": {},
   "outputs": [
    {
     "name": "stdout",
     "output_type": "stream",
     "text": [
      "9776\n",
      "서울    9776\n",
      "부산    2729\n",
      "dtype: int64\n"
     ]
    }
   ],
   "source": [
    "population = pd.Series([9776, 2729, 1566, 3158],index=['서울', '부산', '인천', '대구'])\n",
    "print(population['서울'])\n",
    "print(population[['서울','부산']])  # 펜시 인덱싱"
   ]
  },
  {
   "cell_type": "code",
   "execution_count": 24,
   "id": "52321257",
   "metadata": {},
   "outputs": [
    {
     "name": "stdout",
     "output_type": "stream",
     "text": [
      "<class 'pandas.core.series.Series'>\n",
      "Index: 4 entries, 서울 to 대구\n",
      "Series name: None\n",
      "Non-Null Count  Dtype\n",
      "--------------  -----\n",
      "4 non-null      int64\n",
      "dtypes: int64(1)\n",
      "memory usage: 236.0+ bytes\n"
     ]
    }
   ],
   "source": [
    "population.info()"
   ]
  },
  {
   "cell_type": "markdown",
   "id": "21a2f288",
   "metadata": {},
   "source": [
    "#판다스의 데이터프레임 "
   ]
  },
  {
   "cell_type": "code",
   "execution_count": 31,
   "id": "7ac9f0d3",
   "metadata": {},
   "outputs": [
    {
     "data": {
      "text/html": [
       "<div>\n",
       "<style scoped>\n",
       "    .dataframe tbody tr th:only-of-type {\n",
       "        vertical-align: middle;\n",
       "    }\n",
       "\n",
       "    .dataframe tbody tr th {\n",
       "        vertical-align: top;\n",
       "    }\n",
       "\n",
       "    .dataframe thead th {\n",
       "        text-align: right;\n",
       "    }\n",
       "</style>\n",
       "<table border=\"1\" class=\"dataframe\">\n",
       "  <thead>\n",
       "    <tr style=\"text-align: right;\">\n",
       "      <th></th>\n",
       "      <th>Name</th>\n",
       "      <th>Occupation</th>\n",
       "      <th>Born</th>\n",
       "      <th>Died</th>\n",
       "      <th>Age</th>\n",
       "    </tr>\n",
       "  </thead>\n",
       "  <tbody>\n",
       "    <tr>\n",
       "      <th>0</th>\n",
       "      <td>Rosaline Franklin</td>\n",
       "      <td>Chemist</td>\n",
       "      <td>1920-07-25</td>\n",
       "      <td>1958-04-16</td>\n",
       "      <td>37</td>\n",
       "    </tr>\n",
       "    <tr>\n",
       "      <th>1</th>\n",
       "      <td>William Gosset</td>\n",
       "      <td>Statistician</td>\n",
       "      <td>1876-06-13</td>\n",
       "      <td>1937-10-16</td>\n",
       "      <td>61</td>\n",
       "    </tr>\n",
       "  </tbody>\n",
       "</table>\n",
       "</div>"
      ],
      "text/plain": [
       "                Name    Occupation        Born        Died  Age\n",
       "0  Rosaline Franklin       Chemist  1920-07-25  1958-04-16   37\n",
       "1     William Gosset  Statistician  1876-06-13  1937-10-16   61"
      ]
     },
     "execution_count": 31,
     "metadata": {},
     "output_type": "execute_result"
    }
   ],
   "source": [
    "scientists = pd.DataFrame({\n",
    "        \"Name\": [\"Rosaline Franklin\", \"William Gosset\"],\n",
    "        \"Occupation\": [\"Chemist\", \"Statistician\"],\n",
    "        \"Born\": [\"1920-07-25\", \"1876-06-13\"],\n",
    "        \"Died\": [\"1958-04-16\", \"1937-10-16\"],\n",
    "        \"Age\": [37, 61],\n",
    "})\n",
    "scientists\n"
   ]
  },
  {
   "cell_type": "code",
   "execution_count": 33,
   "id": "ebcc6007",
   "metadata": {},
   "outputs": [
    {
     "data": {
      "text/plain": [
       "Index(['Name', 'Occupation', 'Born', 'Died', 'Age'], dtype='object')"
      ]
     },
     "execution_count": 33,
     "metadata": {},
     "output_type": "execute_result"
    }
   ],
   "source": [
    "scientists.columns\n"
   ]
  },
  {
   "cell_type": "code",
   "execution_count": 48,
   "id": "011d9bf4",
   "metadata": {},
   "outputs": [
    {
     "data": {
      "text/plain": [
       "Name          Rosaline Franklin\n",
       "Occupation              Chemist\n",
       "Born                 1920-07-25\n",
       "Died                 1958-04-16\n",
       "Age                          37\n",
       "Name: Rosaline Franklin, dtype: object"
      ]
     },
     "execution_count": 48,
     "metadata": {},
     "output_type": "execute_result"
    }
   ],
   "source": [
    "scientists.iloc[0]"
   ]
  },
  {
   "cell_type": "code",
   "execution_count": 49,
   "id": "3fa12f6a",
   "metadata": {},
   "outputs": [
    {
     "data": {
      "text/plain": [
       "Name          William Gosset\n",
       "Occupation      Statistician\n",
       "Born              1876-06-13\n",
       "Died              1937-10-16\n",
       "Age                       61\n",
       "Name: William Gosset, dtype: object"
      ]
     },
     "execution_count": 49,
     "metadata": {},
     "output_type": "execute_result"
    }
   ],
   "source": [
    "scientists.loc['William Gosset']"
   ]
  },
  {
   "cell_type": "code",
   "execution_count": 53,
   "id": "7df917c3",
   "metadata": {},
   "outputs": [
    {
     "data": {
      "text/html": [
       "<div>\n",
       "<style scoped>\n",
       "    .dataframe tbody tr th:only-of-type {\n",
       "        vertical-align: middle;\n",
       "    }\n",
       "\n",
       "    .dataframe tbody tr th {\n",
       "        vertical-align: top;\n",
       "    }\n",
       "\n",
       "    .dataframe thead th {\n",
       "        text-align: right;\n",
       "    }\n",
       "</style>\n",
       "<table border=\"1\" class=\"dataframe\">\n",
       "  <thead>\n",
       "    <tr style=\"text-align: right;\">\n",
       "      <th></th>\n",
       "      <th>Name</th>\n",
       "      <th>Occupation</th>\n",
       "      <th>Born</th>\n",
       "      <th>Died</th>\n",
       "      <th>Age</th>\n",
       "    </tr>\n",
       "  </thead>\n",
       "  <tbody>\n",
       "    <tr>\n",
       "      <th>0</th>\n",
       "      <td>Rosaline Franklin</td>\n",
       "      <td>Chemist</td>\n",
       "      <td>1920-07-25</td>\n",
       "      <td>1958-04-16</td>\n",
       "      <td>37</td>\n",
       "    </tr>\n",
       "    <tr>\n",
       "      <th>1</th>\n",
       "      <td>William Gosset</td>\n",
       "      <td>Statistician</td>\n",
       "      <td>1876-06-13</td>\n",
       "      <td>1937-10-16</td>\n",
       "      <td>61</td>\n",
       "    </tr>\n",
       "  </tbody>\n",
       "</table>\n",
       "</div>"
      ],
      "text/plain": [
       "                Name    Occupation        Born        Died  Age\n",
       "0  Rosaline Franklin       Chemist  1920-07-25  1958-04-16   37\n",
       "1     William Gosset  Statistician  1876-06-13  1937-10-16   61"
      ]
     },
     "execution_count": 53,
     "metadata": {},
     "output_type": "execute_result"
    }
   ],
   "source": [
    "sci1 = pd.DataFrame({\n",
    "        \"Name\": [\"Rosaline Franklin\", \"William Gosset\"],\n",
    "        \"Occupation\": [\"Chemist\", \"Statistician\"],\n",
    "        \"Born\": [\"1920-07-25\", \"1876-06-13\"],\n",
    "        \"Died\": [\"1958-04-16\", \"1937-10-16\"],\n",
    "        \"Age\": [37, 61],\n",
    "})\n",
    "sci1"
   ]
  },
  {
   "cell_type": "code",
   "execution_count": 58,
   "id": "259f0b82",
   "metadata": {},
   "outputs": [
    {
     "name": "stdout",
     "output_type": "stream",
     "text": [
      "<class 'pandas.core.frame.DataFrame'>\n",
      "RangeIndex: 2 entries, 0 to 1\n",
      "Data columns (total 5 columns):\n",
      " #   Column      Non-Null Count  Dtype \n",
      "---  ------      --------------  ----- \n",
      " 0   Name        2 non-null      object\n",
      " 1   Occupation  2 non-null      object\n",
      " 2   Born        2 non-null      object\n",
      " 3   Died        2 non-null      object\n",
      " 4   Age         2 non-null      int64 \n",
      "dtypes: int64(1), object(4)\n",
      "memory usage: 212.0+ bytes\n"
     ]
    }
   ],
   "source": [
    "sci1.info()"
   ]
  },
  {
   "cell_type": "code",
   "execution_count": 61,
   "id": "f391193e",
   "metadata": {},
   "outputs": [
    {
     "data": {
      "text/plain": [
       "'Rosaline Franklin'"
      ]
     },
     "execution_count": 61,
     "metadata": {},
     "output_type": "execute_result"
    }
   ],
   "source": [
    "sci1.loc[0,'Name']"
   ]
  },
  {
   "cell_type": "code",
   "execution_count": 67,
   "id": "caf8d23f",
   "metadata": {},
   "outputs": [],
   "source": [
    "sci1.to_csv('./data/data_1.csv')"
   ]
  },
  {
   "cell_type": "code",
   "execution_count": 68,
   "id": "5a9e7069",
   "metadata": {},
   "outputs": [],
   "source": [
    "sci1.to_csv('./data/data_2.csv', index=False)"
   ]
  },
  {
   "cell_type": "code",
   "execution_count": 74,
   "id": "a58be312",
   "metadata": {},
   "outputs": [
    {
     "data": {
      "text/html": [
       "<div>\n",
       "<style scoped>\n",
       "    .dataframe tbody tr th:only-of-type {\n",
       "        vertical-align: middle;\n",
       "    }\n",
       "\n",
       "    .dataframe tbody tr th {\n",
       "        vertical-align: top;\n",
       "    }\n",
       "\n",
       "    .dataframe thead th {\n",
       "        text-align: right;\n",
       "    }\n",
       "</style>\n",
       "<table border=\"1\" class=\"dataframe\">\n",
       "  <thead>\n",
       "    <tr style=\"text-align: right;\">\n",
       "      <th></th>\n",
       "      <th>Name</th>\n",
       "      <th>Occupation</th>\n",
       "      <th>Born</th>\n",
       "      <th>Died</th>\n",
       "      <th>Age</th>\n",
       "    </tr>\n",
       "  </thead>\n",
       "  <tbody>\n",
       "    <tr>\n",
       "      <th>0</th>\n",
       "      <td>Rosaline Franklin</td>\n",
       "      <td>Chemist</td>\n",
       "      <td>1920-07-25</td>\n",
       "      <td>1958-04-16</td>\n",
       "      <td>37</td>\n",
       "    </tr>\n",
       "    <tr>\n",
       "      <th>1</th>\n",
       "      <td>William Gosset</td>\n",
       "      <td>Statistician</td>\n",
       "      <td>1876-06-13</td>\n",
       "      <td>1937-10-16</td>\n",
       "      <td>61</td>\n",
       "    </tr>\n",
       "  </tbody>\n",
       "</table>\n",
       "</div>"
      ],
      "text/plain": [
       "                Name    Occupation        Born        Died  Age\n",
       "0  Rosaline Franklin       Chemist  1920-07-25  1958-04-16   37\n",
       "1     William Gosset  Statistician  1876-06-13  1937-10-16   61"
      ]
     },
     "execution_count": 74,
     "metadata": {},
     "output_type": "execute_result"
    }
   ],
   "source": [
    "df = pd.read_csv('./data/data_2.csv')\n",
    "df"
   ]
  },
  {
   "cell_type": "code",
   "execution_count": 73,
   "id": "9d6c8247",
   "metadata": {},
   "outputs": [
    {
     "data": {
      "text/html": [
       "<div>\n",
       "<style scoped>\n",
       "    .dataframe tbody tr th:only-of-type {\n",
       "        vertical-align: middle;\n",
       "    }\n",
       "\n",
       "    .dataframe tbody tr th {\n",
       "        vertical-align: top;\n",
       "    }\n",
       "\n",
       "    .dataframe thead th {\n",
       "        text-align: right;\n",
       "    }\n",
       "</style>\n",
       "<table border=\"1\" class=\"dataframe\">\n",
       "  <thead>\n",
       "    <tr style=\"text-align: right;\">\n",
       "      <th></th>\n",
       "      <th>Name</th>\n",
       "      <th>Born</th>\n",
       "      <th>Died</th>\n",
       "      <th>Age</th>\n",
       "      <th>Occupation</th>\n",
       "    </tr>\n",
       "  </thead>\n",
       "  <tbody>\n",
       "    <tr>\n",
       "      <th>0</th>\n",
       "      <td>Rosaline Franklin</td>\n",
       "      <td>1920-07-25</td>\n",
       "      <td>1958-04-16</td>\n",
       "      <td>37</td>\n",
       "      <td>Chemist</td>\n",
       "    </tr>\n",
       "    <tr>\n",
       "      <th>1</th>\n",
       "      <td>William Gosset</td>\n",
       "      <td>1876-06-13</td>\n",
       "      <td>1937-10-16</td>\n",
       "      <td>61</td>\n",
       "      <td>Statistician</td>\n",
       "    </tr>\n",
       "    <tr>\n",
       "      <th>2</th>\n",
       "      <td>Florence Nightingale</td>\n",
       "      <td>1820-05-12</td>\n",
       "      <td>1910-08-13</td>\n",
       "      <td>90</td>\n",
       "      <td>Nurse</td>\n",
       "    </tr>\n",
       "    <tr>\n",
       "      <th>3</th>\n",
       "      <td>Marie Curie</td>\n",
       "      <td>1867-11-07</td>\n",
       "      <td>1934-07-04</td>\n",
       "      <td>66</td>\n",
       "      <td>Chemist</td>\n",
       "    </tr>\n",
       "    <tr>\n",
       "      <th>4</th>\n",
       "      <td>Rachel Carson</td>\n",
       "      <td>1907-05-27</td>\n",
       "      <td>1964-04-14</td>\n",
       "      <td>56</td>\n",
       "      <td>Biologist</td>\n",
       "    </tr>\n",
       "    <tr>\n",
       "      <th>5</th>\n",
       "      <td>John Snow</td>\n",
       "      <td>1813-03-15</td>\n",
       "      <td>1858-06-16</td>\n",
       "      <td>45</td>\n",
       "      <td>Physician</td>\n",
       "    </tr>\n",
       "    <tr>\n",
       "      <th>6</th>\n",
       "      <td>Alan Turing</td>\n",
       "      <td>1912-06-23</td>\n",
       "      <td>1954-06-07</td>\n",
       "      <td>41</td>\n",
       "      <td>Computer Scientist</td>\n",
       "    </tr>\n",
       "    <tr>\n",
       "      <th>7</th>\n",
       "      <td>Johann Gauss</td>\n",
       "      <td>1777-04-30</td>\n",
       "      <td>1855-02-23</td>\n",
       "      <td>77</td>\n",
       "      <td>Mathematician</td>\n",
       "    </tr>\n",
       "  </tbody>\n",
       "</table>\n",
       "</div>"
      ],
      "text/plain": [
       "                   Name        Born        Died  Age          Occupation\n",
       "0     Rosaline Franklin  1920-07-25  1958-04-16   37             Chemist\n",
       "1        William Gosset  1876-06-13  1937-10-16   61        Statistician\n",
       "2  Florence Nightingale  1820-05-12  1910-08-13   90               Nurse\n",
       "3           Marie Curie  1867-11-07  1934-07-04   66             Chemist\n",
       "4         Rachel Carson  1907-05-27  1964-04-14   56           Biologist\n",
       "5             John Snow  1813-03-15  1858-06-16   45           Physician\n",
       "6           Alan Turing  1912-06-23  1954-06-07   41  Computer Scientist\n",
       "7          Johann Gauss  1777-04-30  1855-02-23   77       Mathematician"
      ]
     },
     "execution_count": 73,
     "metadata": {},
     "output_type": "execute_result"
    }
   ],
   "source": [
    "df1 = pd.read_csv('scientists.csv')\n",
    "df1"
   ]
  },
  {
   "cell_type": "code",
   "execution_count": null,
   "id": "3f008713",
   "metadata": {},
   "outputs": [],
   "source": [
    "# pickle: 파이썬의 객체형을 저장 - 파이썬 전용 포맷\n",
    "sci1.to_pickle('./data/scientists.pickle')"
   ]
  },
  {
   "cell_type": "code",
   "execution_count": 79,
   "id": "56f009ed",
   "metadata": {},
   "outputs": [
    {
     "data": {
      "text/html": [
       "<div>\n",
       "<style scoped>\n",
       "    .dataframe tbody tr th:only-of-type {\n",
       "        vertical-align: middle;\n",
       "    }\n",
       "\n",
       "    .dataframe tbody tr th {\n",
       "        vertical-align: top;\n",
       "    }\n",
       "\n",
       "    .dataframe thead th {\n",
       "        text-align: right;\n",
       "    }\n",
       "</style>\n",
       "<table border=\"1\" class=\"dataframe\">\n",
       "  <thead>\n",
       "    <tr style=\"text-align: right;\">\n",
       "      <th></th>\n",
       "      <th>Name</th>\n",
       "      <th>Occupation</th>\n",
       "      <th>Born</th>\n",
       "      <th>Died</th>\n",
       "      <th>Age</th>\n",
       "    </tr>\n",
       "  </thead>\n",
       "  <tbody>\n",
       "    <tr>\n",
       "      <th>0</th>\n",
       "      <td>Rosaline Franklin</td>\n",
       "      <td>Chemist</td>\n",
       "      <td>1920-07-25</td>\n",
       "      <td>1958-04-16</td>\n",
       "      <td>37</td>\n",
       "    </tr>\n",
       "    <tr>\n",
       "      <th>1</th>\n",
       "      <td>William Gosset</td>\n",
       "      <td>Statistician</td>\n",
       "      <td>1876-06-13</td>\n",
       "      <td>1937-10-16</td>\n",
       "      <td>61</td>\n",
       "    </tr>\n",
       "  </tbody>\n",
       "</table>\n",
       "</div>"
      ],
      "text/plain": [
       "                Name    Occupation        Born        Died  Age\n",
       "0  Rosaline Franklin       Chemist  1920-07-25  1958-04-16   37\n",
       "1     William Gosset  Statistician  1876-06-13  1937-10-16   61"
      ]
     },
     "execution_count": 79,
     "metadata": {},
     "output_type": "execute_result"
    }
   ],
   "source": [
    "df2 = pd.read_pickle('./data/scientists.pickle')\n",
    "df2"
   ]
  },
  {
   "cell_type": "code",
   "execution_count": 80,
   "id": "e7f5a8dc",
   "metadata": {},
   "outputs": [
    {
     "name": "stdout",
     "output_type": "stream",
     "text": [
      "<class 'pandas.core.frame.DataFrame'>\n",
      "RangeIndex: 8 entries, 0 to 7\n",
      "Data columns (total 5 columns):\n",
      " #   Column      Non-Null Count  Dtype \n",
      "---  ------      --------------  ----- \n",
      " 0   Name        8 non-null      object\n",
      " 1   Born        8 non-null      object\n",
      " 2   Died        8 non-null      object\n",
      " 3   Age         8 non-null      int64 \n",
      " 4   Occupation  8 non-null      object\n",
      "dtypes: int64(1), object(4)\n",
      "memory usage: 452.0+ bytes\n"
     ]
    }
   ],
   "source": [
    "df1.info()"
   ]
  },
  {
   "cell_type": "code",
   "execution_count": null,
   "id": "3a792e85",
   "metadata": {},
   "outputs": [],
   "source": [
    "# 데이터 미리보기\n",
    "#  info()\n",
    "#  head() / tail()"
   ]
  },
  {
   "cell_type": "code",
   "execution_count": 87,
   "id": "e4b362a6",
   "metadata": {},
   "outputs": [
    {
     "data": {
      "text/html": [
       "<div>\n",
       "<style scoped>\n",
       "    .dataframe tbody tr th:only-of-type {\n",
       "        vertical-align: middle;\n",
       "    }\n",
       "\n",
       "    .dataframe tbody tr th {\n",
       "        vertical-align: top;\n",
       "    }\n",
       "\n",
       "    .dataframe thead th {\n",
       "        text-align: right;\n",
       "    }\n",
       "</style>\n",
       "<table border=\"1\" class=\"dataframe\">\n",
       "  <thead>\n",
       "    <tr style=\"text-align: right;\">\n",
       "      <th></th>\n",
       "      <th>Name</th>\n",
       "      <th>Born</th>\n",
       "      <th>Died</th>\n",
       "      <th>Age</th>\n",
       "      <th>Occupation</th>\n",
       "    </tr>\n",
       "  </thead>\n",
       "  <tbody>\n",
       "    <tr>\n",
       "      <th>0</th>\n",
       "      <td>Rosaline Franklin</td>\n",
       "      <td>1920-07-25</td>\n",
       "      <td>1958-04-16</td>\n",
       "      <td>37</td>\n",
       "      <td>Chemist</td>\n",
       "    </tr>\n",
       "    <tr>\n",
       "      <th>1</th>\n",
       "      <td>William Gosset</td>\n",
       "      <td>1876-06-13</td>\n",
       "      <td>1937-10-16</td>\n",
       "      <td>61</td>\n",
       "      <td>Statistician</td>\n",
       "    </tr>\n",
       "    <tr>\n",
       "      <th>2</th>\n",
       "      <td>Florence Nightingale</td>\n",
       "      <td>1820-05-12</td>\n",
       "      <td>1910-08-13</td>\n",
       "      <td>90</td>\n",
       "      <td>Nurse</td>\n",
       "    </tr>\n",
       "  </tbody>\n",
       "</table>\n",
       "</div>"
      ],
      "text/plain": [
       "                   Name        Born        Died  Age    Occupation\n",
       "0     Rosaline Franklin  1920-07-25  1958-04-16   37       Chemist\n",
       "1        William Gosset  1876-06-13  1937-10-16   61  Statistician\n",
       "2  Florence Nightingale  1820-05-12  1910-08-13   90         Nurse"
      ]
     },
     "execution_count": 87,
     "metadata": {},
     "output_type": "execute_result"
    }
   ],
   "source": [
    "df1.head(3) # default:5개"
   ]
  },
  {
   "cell_type": "code",
   "execution_count": 86,
   "id": "2769037b",
   "metadata": {},
   "outputs": [
    {
     "data": {
      "text/html": [
       "<div>\n",
       "<style scoped>\n",
       "    .dataframe tbody tr th:only-of-type {\n",
       "        vertical-align: middle;\n",
       "    }\n",
       "\n",
       "    .dataframe tbody tr th {\n",
       "        vertical-align: top;\n",
       "    }\n",
       "\n",
       "    .dataframe thead th {\n",
       "        text-align: right;\n",
       "    }\n",
       "</style>\n",
       "<table border=\"1\" class=\"dataframe\">\n",
       "  <thead>\n",
       "    <tr style=\"text-align: right;\">\n",
       "      <th></th>\n",
       "      <th>Name</th>\n",
       "      <th>Born</th>\n",
       "      <th>Died</th>\n",
       "      <th>Age</th>\n",
       "      <th>Occupation</th>\n",
       "    </tr>\n",
       "  </thead>\n",
       "  <tbody>\n",
       "    <tr>\n",
       "      <th>5</th>\n",
       "      <td>John Snow</td>\n",
       "      <td>1813-03-15</td>\n",
       "      <td>1858-06-16</td>\n",
       "      <td>45</td>\n",
       "      <td>Physician</td>\n",
       "    </tr>\n",
       "    <tr>\n",
       "      <th>6</th>\n",
       "      <td>Alan Turing</td>\n",
       "      <td>1912-06-23</td>\n",
       "      <td>1954-06-07</td>\n",
       "      <td>41</td>\n",
       "      <td>Computer Scientist</td>\n",
       "    </tr>\n",
       "    <tr>\n",
       "      <th>7</th>\n",
       "      <td>Johann Gauss</td>\n",
       "      <td>1777-04-30</td>\n",
       "      <td>1855-02-23</td>\n",
       "      <td>77</td>\n",
       "      <td>Mathematician</td>\n",
       "    </tr>\n",
       "  </tbody>\n",
       "</table>\n",
       "</div>"
      ],
      "text/plain": [
       "           Name        Born        Died  Age          Occupation\n",
       "5     John Snow  1813-03-15  1858-06-16   45           Physician\n",
       "6   Alan Turing  1912-06-23  1954-06-07   41  Computer Scientist\n",
       "7  Johann Gauss  1777-04-30  1855-02-23   77       Mathematician"
      ]
     },
     "execution_count": 86,
     "metadata": {},
     "output_type": "execute_result"
    }
   ],
   "source": [
    "df1.tail(3)"
   ]
  },
  {
   "cell_type": "code",
   "execution_count": null,
   "id": "0ce8bd27",
   "metadata": {},
   "outputs": [
    {
     "data": {
      "text/html": [
       "<div>\n",
       "<style scoped>\n",
       "    .dataframe tbody tr th:only-of-type {\n",
       "        vertical-align: middle;\n",
       "    }\n",
       "\n",
       "    .dataframe tbody tr th {\n",
       "        vertical-align: top;\n",
       "    }\n",
       "\n",
       "    .dataframe thead th {\n",
       "        text-align: right;\n",
       "    }\n",
       "</style>\n",
       "<table border=\"1\" class=\"dataframe\">\n",
       "  <thead>\n",
       "    <tr style=\"text-align: right;\">\n",
       "      <th></th>\n",
       "      <th>Age</th>\n",
       "    </tr>\n",
       "  </thead>\n",
       "  <tbody>\n",
       "    <tr>\n",
       "      <th>count</th>\n",
       "      <td>8.000000</td>\n",
       "    </tr>\n",
       "    <tr>\n",
       "      <th>mean</th>\n",
       "      <td>59.125000</td>\n",
       "    </tr>\n",
       "    <tr>\n",
       "      <th>std</th>\n",
       "      <td>18.325918</td>\n",
       "    </tr>\n",
       "    <tr>\n",
       "      <th>min</th>\n",
       "      <td>37.000000</td>\n",
       "    </tr>\n",
       "    <tr>\n",
       "      <th>25%</th>\n",
       "      <td>44.000000</td>\n",
       "    </tr>\n",
       "    <tr>\n",
       "      <th>50%</th>\n",
       "      <td>58.500000</td>\n",
       "    </tr>\n",
       "    <tr>\n",
       "      <th>75%</th>\n",
       "      <td>68.750000</td>\n",
       "    </tr>\n",
       "    <tr>\n",
       "      <th>max</th>\n",
       "      <td>90.000000</td>\n",
       "    </tr>\n",
       "  </tbody>\n",
       "</table>\n",
       "</div>"
      ],
      "text/plain": [
       "             Age\n",
       "count   8.000000\n",
       "mean   59.125000\n",
       "std    18.325918\n",
       "min    37.000000\n",
       "25%    44.000000\n",
       "50%    58.500000\n",
       "75%    68.750000\n",
       "max    90.000000"
      ]
     },
     "execution_count": 88,
     "metadata": {},
     "output_type": "execute_result"
    }
   ],
   "source": [
    "df1.describe()  # 기본 통계 요약"
   ]
  },
  {
   "cell_type": "code",
   "execution_count": 103,
   "id": "6cce0676",
   "metadata": {},
   "outputs": [
    {
     "name": "stdout",
     "output_type": "stream",
     "text": [
      "<class 'pandas.core.frame.DataFrame'>\n",
      "RangeIndex: 8 entries, 0 to 7\n",
      "Data columns (total 5 columns):\n",
      " #   Column      Non-Null Count  Dtype \n",
      "---  ------      --------------  ----- \n",
      " 0   Name        8 non-null      object\n",
      " 1   Born        8 non-null      object\n",
      " 2   Died        8 non-null      object\n",
      " 3   Age         8 non-null      int64 \n",
      " 4   Occupation  8 non-null      object\n",
      "dtypes: int64(1), object(4)\n",
      "memory usage: 452.0+ bytes\n"
     ]
    }
   ],
   "source": [
    "df1.info()"
   ]
  },
  {
   "cell_type": "code",
   "execution_count": 105,
   "id": "4122a3de",
   "metadata": {},
   "outputs": [
    {
     "data": {
      "text/html": [
       "<div>\n",
       "<style scoped>\n",
       "    .dataframe tbody tr th:only-of-type {\n",
       "        vertical-align: middle;\n",
       "    }\n",
       "\n",
       "    .dataframe tbody tr th {\n",
       "        vertical-align: top;\n",
       "    }\n",
       "\n",
       "    .dataframe thead th {\n",
       "        text-align: right;\n",
       "    }\n",
       "</style>\n",
       "<table border=\"1\" class=\"dataframe\">\n",
       "  <thead>\n",
       "    <tr style=\"text-align: right;\">\n",
       "      <th></th>\n",
       "      <th>Name</th>\n",
       "      <th>Occupation</th>\n",
       "      <th>Born</th>\n",
       "      <th>Died</th>\n",
       "      <th>Age</th>\n",
       "    </tr>\n",
       "  </thead>\n",
       "  <tbody>\n",
       "    <tr>\n",
       "      <th>0</th>\n",
       "      <td>Rosaline Franklin</td>\n",
       "      <td>Chemist</td>\n",
       "      <td>1920-07-25</td>\n",
       "      <td>1958-04-16</td>\n",
       "      <td>37</td>\n",
       "    </tr>\n",
       "    <tr>\n",
       "      <th>1</th>\n",
       "      <td>William Gosset</td>\n",
       "      <td>Statistician</td>\n",
       "      <td>1876-06-13</td>\n",
       "      <td>1937-10-16</td>\n",
       "      <td>61</td>\n",
       "    </tr>\n",
       "  </tbody>\n",
       "</table>\n",
       "</div>"
      ],
      "text/plain": [
       "                Name    Occupation        Born        Died  Age\n",
       "0  Rosaline Franklin       Chemist  1920-07-25  1958-04-16   37\n",
       "1     William Gosset  Statistician  1876-06-13  1937-10-16   61"
      ]
     },
     "execution_count": 105,
     "metadata": {},
     "output_type": "execute_result"
    }
   ],
   "source": [
    "df"
   ]
  },
  {
   "cell_type": "code",
   "execution_count": 90,
   "id": "1040b41a",
   "metadata": {},
   "outputs": [
    {
     "data": {
      "text/plain": [
       "0    37\n",
       "1    61\n",
       "2    90\n",
       "3    66\n",
       "4    56\n",
       "5    45\n",
       "6    41\n",
       "7    77\n",
       "Name: Age, dtype: int64"
      ]
     },
     "execution_count": 90,
     "metadata": {},
     "output_type": "execute_result"
    }
   ],
   "source": [
    "df1['Age']"
   ]
  },
  {
   "cell_type": "code",
   "execution_count": 96,
   "id": "9d57bfa0",
   "metadata": {},
   "outputs": [
    {
     "data": {
      "text/plain": [
       "count     8.000000\n",
       "mean     59.125000\n",
       "std      18.325918\n",
       "min      37.000000\n",
       "25%      44.000000\n",
       "50%      58.500000\n",
       "75%      68.750000\n",
       "max      90.000000\n",
       "Name: Age, dtype: float64"
      ]
     },
     "execution_count": 96,
     "metadata": {},
     "output_type": "execute_result"
    }
   ],
   "source": [
    "df1.loc[:,'Age'].describe()"
   ]
  },
  {
   "cell_type": "code",
   "execution_count": 146,
   "id": "ea21de18",
   "metadata": {},
   "outputs": [
    {
     "data": {
      "text/html": [
       "<div>\n",
       "<style scoped>\n",
       "    .dataframe tbody tr th:only-of-type {\n",
       "        vertical-align: middle;\n",
       "    }\n",
       "\n",
       "    .dataframe tbody tr th {\n",
       "        vertical-align: top;\n",
       "    }\n",
       "\n",
       "    .dataframe thead th {\n",
       "        text-align: right;\n",
       "    }\n",
       "</style>\n",
       "<table border=\"1\" class=\"dataframe\">\n",
       "  <thead>\n",
       "    <tr style=\"text-align: right;\">\n",
       "      <th></th>\n",
       "      <th>이름</th>\n",
       "      <th>나이</th>\n",
       "      <th>점수</th>\n",
       "    </tr>\n",
       "  </thead>\n",
       "  <tbody>\n",
       "    <tr>\n",
       "      <th>0</th>\n",
       "      <td>김철수</td>\n",
       "      <td>25</td>\n",
       "      <td>85</td>\n",
       "    </tr>\n",
       "    <tr>\n",
       "      <th>1</th>\n",
       "      <td>이영희</td>\n",
       "      <td>28</td>\n",
       "      <td>92</td>\n",
       "    </tr>\n",
       "    <tr>\n",
       "      <th>2</th>\n",
       "      <td>박민수</td>\n",
       "      <td>22</td>\n",
       "      <td>78</td>\n",
       "    </tr>\n",
       "    <tr>\n",
       "      <th>3</th>\n",
       "      <td>정수진</td>\n",
       "      <td>31</td>\n",
       "      <td>95</td>\n",
       "    </tr>\n",
       "    <tr>\n",
       "      <th>4</th>\n",
       "      <td>최영호</td>\n",
       "      <td>27</td>\n",
       "      <td>88</td>\n",
       "    </tr>\n",
       "    <tr>\n",
       "      <th>5</th>\n",
       "      <td>한미래</td>\n",
       "      <td>24</td>\n",
       "      <td>73</td>\n",
       "    </tr>\n",
       "    <tr>\n",
       "      <th>6</th>\n",
       "      <td>윤지원</td>\n",
       "      <td>29</td>\n",
       "      <td>91</td>\n",
       "    </tr>\n",
       "  </tbody>\n",
       "</table>\n",
       "</div>"
      ],
      "text/plain": [
       "    이름  나이  점수\n",
       "0  김철수  25  85\n",
       "1  이영희  28  92\n",
       "2  박민수  22  78\n",
       "3  정수진  31  95\n",
       "4  최영호  27  88\n",
       "5  한미래  24  73\n",
       "6  윤지원  29  91"
      ]
     },
     "execution_count": 146,
     "metadata": {},
     "output_type": "execute_result"
    }
   ],
   "source": [
    "import pandas as pd\n",
    "\n",
    "# 샘플 데이터프레임 생성\n",
    "data = {\n",
    "    '이름': ['김철수', '이영희', '박민수', '정수진', '최영호', '한미래', '윤지원'],\n",
    "    '나이': [25, 28, 22, 31, 27, 24, 29],\n",
    "    '점수': [85, 92, 78, 95, 88, 73, 91]\n",
    "}\n",
    "df = pd.DataFrame(data)\n",
    "df"
   ]
  },
  {
   "cell_type": "code",
   "execution_count": 142,
   "id": "bc8f7a0e",
   "metadata": {},
   "outputs": [
    {
     "name": "stdout",
     "output_type": "stream",
     "text": [
      "RangeIndex(start=0, stop=7, step=1)\n",
      "Index(['이름', '나이', '점수'], dtype='object')\n"
     ]
    }
   ],
   "source": [
    "print(df.index)    # 행 이름 출력\n",
    "print(df.columns)  # 열 이름 출력"
   ]
  },
  {
   "cell_type": "code",
   "execution_count": 143,
   "id": "19474b6f",
   "metadata": {},
   "outputs": [
    {
     "data": {
      "text/html": [
       "<div>\n",
       "<style scoped>\n",
       "    .dataframe tbody tr th:only-of-type {\n",
       "        vertical-align: middle;\n",
       "    }\n",
       "\n",
       "    .dataframe tbody tr th {\n",
       "        vertical-align: top;\n",
       "    }\n",
       "\n",
       "    .dataframe thead th {\n",
       "        text-align: right;\n",
       "    }\n",
       "</style>\n",
       "<table border=\"1\" class=\"dataframe\">\n",
       "  <thead>\n",
       "    <tr style=\"text-align: right;\">\n",
       "      <th></th>\n",
       "      <th>name</th>\n",
       "      <th>age</th>\n",
       "      <th>score</th>\n",
       "    </tr>\n",
       "  </thead>\n",
       "  <tbody>\n",
       "    <tr>\n",
       "      <th>0</th>\n",
       "      <td>김철수</td>\n",
       "      <td>25</td>\n",
       "      <td>85</td>\n",
       "    </tr>\n",
       "    <tr>\n",
       "      <th>1</th>\n",
       "      <td>이영희</td>\n",
       "      <td>28</td>\n",
       "      <td>92</td>\n",
       "    </tr>\n",
       "    <tr>\n",
       "      <th>2</th>\n",
       "      <td>박민수</td>\n",
       "      <td>22</td>\n",
       "      <td>78</td>\n",
       "    </tr>\n",
       "    <tr>\n",
       "      <th>3</th>\n",
       "      <td>정수진</td>\n",
       "      <td>31</td>\n",
       "      <td>95</td>\n",
       "    </tr>\n",
       "    <tr>\n",
       "      <th>4</th>\n",
       "      <td>최영호</td>\n",
       "      <td>27</td>\n",
       "      <td>88</td>\n",
       "    </tr>\n",
       "    <tr>\n",
       "      <th>5</th>\n",
       "      <td>한미래</td>\n",
       "      <td>24</td>\n",
       "      <td>73</td>\n",
       "    </tr>\n",
       "    <tr>\n",
       "      <th>6</th>\n",
       "      <td>윤지원</td>\n",
       "      <td>29</td>\n",
       "      <td>91</td>\n",
       "    </tr>\n",
       "  </tbody>\n",
       "</table>\n",
       "</div>"
      ],
      "text/plain": [
       "  name  age  score\n",
       "0  김철수   25     85\n",
       "1  이영희   28     92\n",
       "2  박민수   22     78\n",
       "3  정수진   31     95\n",
       "4  최영호   27     88\n",
       "5  한미래   24     73\n",
       "6  윤지원   29     91"
      ]
     },
     "execution_count": 143,
     "metadata": {},
     "output_type": "execute_result"
    }
   ],
   "source": [
    "# columns 속성으로 모든 열 이름 한번에 변경\n",
    "df.columns = ['name', 'age', 'score']\n",
    "df"
   ]
  },
  {
   "cell_type": "code",
   "execution_count": 144,
   "id": "756d509c",
   "metadata": {},
   "outputs": [
    {
     "data": {
      "text/html": [
       "<div>\n",
       "<style scoped>\n",
       "    .dataframe tbody tr th:only-of-type {\n",
       "        vertical-align: middle;\n",
       "    }\n",
       "\n",
       "    .dataframe tbody tr th {\n",
       "        vertical-align: top;\n",
       "    }\n",
       "\n",
       "    .dataframe thead th {\n",
       "        text-align: right;\n",
       "    }\n",
       "</style>\n",
       "<table border=\"1\" class=\"dataframe\">\n",
       "  <thead>\n",
       "    <tr style=\"text-align: right;\">\n",
       "      <th></th>\n",
       "      <th>name</th>\n",
       "      <th>age</th>\n",
       "      <th>score</th>\n",
       "    </tr>\n",
       "  </thead>\n",
       "  <tbody>\n",
       "    <tr>\n",
       "      <th>A</th>\n",
       "      <td>김철수</td>\n",
       "      <td>25</td>\n",
       "      <td>85</td>\n",
       "    </tr>\n",
       "    <tr>\n",
       "      <th>B</th>\n",
       "      <td>이영희</td>\n",
       "      <td>28</td>\n",
       "      <td>92</td>\n",
       "    </tr>\n",
       "    <tr>\n",
       "      <th>C</th>\n",
       "      <td>박민수</td>\n",
       "      <td>22</td>\n",
       "      <td>78</td>\n",
       "    </tr>\n",
       "    <tr>\n",
       "      <th>D</th>\n",
       "      <td>정수진</td>\n",
       "      <td>31</td>\n",
       "      <td>95</td>\n",
       "    </tr>\n",
       "    <tr>\n",
       "      <th>E</th>\n",
       "      <td>최영호</td>\n",
       "      <td>27</td>\n",
       "      <td>88</td>\n",
       "    </tr>\n",
       "    <tr>\n",
       "      <th>F</th>\n",
       "      <td>한미래</td>\n",
       "      <td>24</td>\n",
       "      <td>73</td>\n",
       "    </tr>\n",
       "    <tr>\n",
       "      <th>G</th>\n",
       "      <td>윤지원</td>\n",
       "      <td>29</td>\n",
       "      <td>91</td>\n",
       "    </tr>\n",
       "  </tbody>\n",
       "</table>\n",
       "</div>"
      ],
      "text/plain": [
       "  name  age  score\n",
       "A  김철수   25     85\n",
       "B  이영희   28     92\n",
       "C  박민수   22     78\n",
       "D  정수진   31     95\n",
       "E  최영호   27     88\n",
       "F  한미래   24     73\n",
       "G  윤지원   29     91"
      ]
     },
     "execution_count": 144,
     "metadata": {},
     "output_type": "execute_result"
    }
   ],
   "source": [
    "# 행 이름 변경\n",
    "df.index = ['A', 'B', 'C', 'D', 'E', 'F', 'G']\n",
    "df"
   ]
  },
  {
   "cell_type": "code",
   "execution_count": 147,
   "id": "67229503",
   "metadata": {},
   "outputs": [
    {
     "data": {
      "text/html": [
       "<div>\n",
       "<style scoped>\n",
       "    .dataframe tbody tr th:only-of-type {\n",
       "        vertical-align: middle;\n",
       "    }\n",
       "\n",
       "    .dataframe tbody tr th {\n",
       "        vertical-align: top;\n",
       "    }\n",
       "\n",
       "    .dataframe thead th {\n",
       "        text-align: right;\n",
       "    }\n",
       "</style>\n",
       "<table border=\"1\" class=\"dataframe\">\n",
       "  <thead>\n",
       "    <tr style=\"text-align: right;\">\n",
       "      <th></th>\n",
       "      <th>이름</th>\n",
       "      <th>나이</th>\n",
       "      <th>점수</th>\n",
       "    </tr>\n",
       "  </thead>\n",
       "  <tbody>\n",
       "    <tr>\n",
       "      <th>0</th>\n",
       "      <td>김철수</td>\n",
       "      <td>25</td>\n",
       "      <td>85</td>\n",
       "    </tr>\n",
       "    <tr>\n",
       "      <th>1</th>\n",
       "      <td>이영희</td>\n",
       "      <td>28</td>\n",
       "      <td>92</td>\n",
       "    </tr>\n",
       "    <tr>\n",
       "      <th>2</th>\n",
       "      <td>박민수</td>\n",
       "      <td>22</td>\n",
       "      <td>78</td>\n",
       "    </tr>\n",
       "    <tr>\n",
       "      <th>3</th>\n",
       "      <td>정수진</td>\n",
       "      <td>31</td>\n",
       "      <td>95</td>\n",
       "    </tr>\n",
       "    <tr>\n",
       "      <th>4</th>\n",
       "      <td>최영호</td>\n",
       "      <td>27</td>\n",
       "      <td>88</td>\n",
       "    </tr>\n",
       "    <tr>\n",
       "      <th>5</th>\n",
       "      <td>한미래</td>\n",
       "      <td>24</td>\n",
       "      <td>73</td>\n",
       "    </tr>\n",
       "    <tr>\n",
       "      <th>6</th>\n",
       "      <td>윤지원</td>\n",
       "      <td>29</td>\n",
       "      <td>91</td>\n",
       "    </tr>\n",
       "  </tbody>\n",
       "</table>\n",
       "</div>"
      ],
      "text/plain": [
       "    이름  나이  점수\n",
       "0  김철수  25  85\n",
       "1  이영희  28  92\n",
       "2  박민수  22  78\n",
       "3  정수진  31  95\n",
       "4  최영호  27  88\n",
       "5  한미래  24  73\n",
       "6  윤지원  29  91"
      ]
     },
     "execution_count": 147,
     "metadata": {},
     "output_type": "execute_result"
    }
   ],
   "source": [
    "# 열 이름 변경\n",
    "df.rename(columns={'이름': 'name', '나이': 'age', '점수': 'score'})\n",
    "df.rename(index={\"A\":\"a\", \"B\": \"b\"})\n",
    "df"
   ]
  },
  {
   "cell_type": "markdown",
   "id": "1291dbfb",
   "metadata": {},
   "source": [
    "# gapminder.tsv 연습"
   ]
  },
  {
   "cell_type": "code",
   "execution_count": 149,
   "id": "419e51b6",
   "metadata": {},
   "outputs": [
    {
     "data": {
      "text/html": [
       "<div>\n",
       "<style scoped>\n",
       "    .dataframe tbody tr th:only-of-type {\n",
       "        vertical-align: middle;\n",
       "    }\n",
       "\n",
       "    .dataframe tbody tr th {\n",
       "        vertical-align: top;\n",
       "    }\n",
       "\n",
       "    .dataframe thead th {\n",
       "        text-align: right;\n",
       "    }\n",
       "</style>\n",
       "<table border=\"1\" class=\"dataframe\">\n",
       "  <thead>\n",
       "    <tr style=\"text-align: right;\">\n",
       "      <th></th>\n",
       "      <th>country</th>\n",
       "      <th>continent</th>\n",
       "      <th>year</th>\n",
       "      <th>lifeExp</th>\n",
       "      <th>pop</th>\n",
       "      <th>gdpPercap</th>\n",
       "    </tr>\n",
       "  </thead>\n",
       "  <tbody>\n",
       "    <tr>\n",
       "      <th>0</th>\n",
       "      <td>Afghanistan</td>\n",
       "      <td>Asia</td>\n",
       "      <td>1952</td>\n",
       "      <td>28.801</td>\n",
       "      <td>8425333</td>\n",
       "      <td>779.445314</td>\n",
       "    </tr>\n",
       "    <tr>\n",
       "      <th>1</th>\n",
       "      <td>Afghanistan</td>\n",
       "      <td>Asia</td>\n",
       "      <td>1957</td>\n",
       "      <td>30.332</td>\n",
       "      <td>9240934</td>\n",
       "      <td>820.853030</td>\n",
       "    </tr>\n",
       "    <tr>\n",
       "      <th>2</th>\n",
       "      <td>Afghanistan</td>\n",
       "      <td>Asia</td>\n",
       "      <td>1962</td>\n",
       "      <td>31.997</td>\n",
       "      <td>10267083</td>\n",
       "      <td>853.100710</td>\n",
       "    </tr>\n",
       "    <tr>\n",
       "      <th>3</th>\n",
       "      <td>Afghanistan</td>\n",
       "      <td>Asia</td>\n",
       "      <td>1967</td>\n",
       "      <td>34.020</td>\n",
       "      <td>11537966</td>\n",
       "      <td>836.197138</td>\n",
       "    </tr>\n",
       "    <tr>\n",
       "      <th>4</th>\n",
       "      <td>Afghanistan</td>\n",
       "      <td>Asia</td>\n",
       "      <td>1972</td>\n",
       "      <td>36.088</td>\n",
       "      <td>13079460</td>\n",
       "      <td>739.981106</td>\n",
       "    </tr>\n",
       "    <tr>\n",
       "      <th>...</th>\n",
       "      <td>...</td>\n",
       "      <td>...</td>\n",
       "      <td>...</td>\n",
       "      <td>...</td>\n",
       "      <td>...</td>\n",
       "      <td>...</td>\n",
       "    </tr>\n",
       "    <tr>\n",
       "      <th>1699</th>\n",
       "      <td>Zimbabwe</td>\n",
       "      <td>Africa</td>\n",
       "      <td>1987</td>\n",
       "      <td>62.351</td>\n",
       "      <td>9216418</td>\n",
       "      <td>706.157306</td>\n",
       "    </tr>\n",
       "    <tr>\n",
       "      <th>1700</th>\n",
       "      <td>Zimbabwe</td>\n",
       "      <td>Africa</td>\n",
       "      <td>1992</td>\n",
       "      <td>60.377</td>\n",
       "      <td>10704340</td>\n",
       "      <td>693.420786</td>\n",
       "    </tr>\n",
       "    <tr>\n",
       "      <th>1701</th>\n",
       "      <td>Zimbabwe</td>\n",
       "      <td>Africa</td>\n",
       "      <td>1997</td>\n",
       "      <td>46.809</td>\n",
       "      <td>11404948</td>\n",
       "      <td>792.449960</td>\n",
       "    </tr>\n",
       "    <tr>\n",
       "      <th>1702</th>\n",
       "      <td>Zimbabwe</td>\n",
       "      <td>Africa</td>\n",
       "      <td>2002</td>\n",
       "      <td>39.989</td>\n",
       "      <td>11926563</td>\n",
       "      <td>672.038623</td>\n",
       "    </tr>\n",
       "    <tr>\n",
       "      <th>1703</th>\n",
       "      <td>Zimbabwe</td>\n",
       "      <td>Africa</td>\n",
       "      <td>2007</td>\n",
       "      <td>43.487</td>\n",
       "      <td>12311143</td>\n",
       "      <td>469.709298</td>\n",
       "    </tr>\n",
       "  </tbody>\n",
       "</table>\n",
       "<p>1704 rows × 6 columns</p>\n",
       "</div>"
      ],
      "text/plain": [
       "          country continent  year  lifeExp       pop   gdpPercap\n",
       "0     Afghanistan      Asia  1952   28.801   8425333  779.445314\n",
       "1     Afghanistan      Asia  1957   30.332   9240934  820.853030\n",
       "2     Afghanistan      Asia  1962   31.997  10267083  853.100710\n",
       "3     Afghanistan      Asia  1967   34.020  11537966  836.197138\n",
       "4     Afghanistan      Asia  1972   36.088  13079460  739.981106\n",
       "...           ...       ...   ...      ...       ...         ...\n",
       "1699     Zimbabwe    Africa  1987   62.351   9216418  706.157306\n",
       "1700     Zimbabwe    Africa  1992   60.377  10704340  693.420786\n",
       "1701     Zimbabwe    Africa  1997   46.809  11404948  792.449960\n",
       "1702     Zimbabwe    Africa  2002   39.989  11926563  672.038623\n",
       "1703     Zimbabwe    Africa  2007   43.487  12311143  469.709298\n",
       "\n",
       "[1704 rows x 6 columns]"
      ]
     },
     "execution_count": 149,
     "metadata": {},
     "output_type": "execute_result"
    }
   ],
   "source": [
    "df_gapminder = pd.read_csv('./data/gapminder.tsv',sep='\\t')\n",
    "df_gapminder"
   ]
  },
  {
   "cell_type": "code",
   "execution_count": null,
   "id": "909dadf8",
   "metadata": {},
   "outputs": [],
   "source": []
  },
  {
   "cell_type": "code",
   "execution_count": null,
   "id": "759075db",
   "metadata": {},
   "outputs": [],
   "source": []
  },
  {
   "cell_type": "code",
   "execution_count": null,
   "id": "c9bcf7b3",
   "metadata": {},
   "outputs": [],
   "source": []
  }
 ],
 "metadata": {
  "kernelspec": {
   "display_name": "hipython",
   "language": "python",
   "name": "python3"
  },
  "language_info": {
   "codemirror_mode": {
    "name": "ipython",
    "version": 3
   },
   "file_extension": ".py",
   "mimetype": "text/x-python",
   "name": "python",
   "nbconvert_exporter": "python",
   "pygments_lexer": "ipython3",
   "version": "3.12.9"
  }
 },
 "nbformat": 4,
 "nbformat_minor": 5
}
