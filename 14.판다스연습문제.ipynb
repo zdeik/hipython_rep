{
 "cells": [
  {
   "cell_type": "code",
   "execution_count": 38,
   "id": "a2c135fb",
   "metadata": {},
   "outputs": [],
   "source": [
    "import numpy as np\n",
    "import pandas as pd\n",
    "import matplotlib.pyplot as plt\n",
    "import seaborn as sns\n",
    "\n",
    "np.random.seed(0)"
   ]
  },
  {
   "cell_type": "code",
   "execution_count": 39,
   "id": "d2d9e56c",
   "metadata": {},
   "outputs": [
    {
     "data": {
      "text/html": [
       "<div>\n",
       "<style scoped>\n",
       "    .dataframe tbody tr th:only-of-type {\n",
       "        vertical-align: middle;\n",
       "    }\n",
       "\n",
       "    .dataframe tbody tr th {\n",
       "        vertical-align: top;\n",
       "    }\n",
       "\n",
       "    .dataframe thead th {\n",
       "        text-align: right;\n",
       "    }\n",
       "</style>\n",
       "<table border=\"1\" class=\"dataframe\">\n",
       "  <thead>\n",
       "    <tr style=\"text-align: right;\">\n",
       "      <th></th>\n",
       "      <th>age</th>\n",
       "      <th>sex</th>\n",
       "      <th>bmi</th>\n",
       "      <th>children</th>\n",
       "      <th>smoker</th>\n",
       "      <th>region</th>\n",
       "      <th>charges</th>\n",
       "    </tr>\n",
       "  </thead>\n",
       "  <tbody>\n",
       "    <tr>\n",
       "      <th>0</th>\n",
       "      <td>19</td>\n",
       "      <td>female</td>\n",
       "      <td>27.900</td>\n",
       "      <td>0</td>\n",
       "      <td>yes</td>\n",
       "      <td>southwest</td>\n",
       "      <td>16884.92400</td>\n",
       "    </tr>\n",
       "    <tr>\n",
       "      <th>1</th>\n",
       "      <td>18</td>\n",
       "      <td>male</td>\n",
       "      <td>33.770</td>\n",
       "      <td>1</td>\n",
       "      <td>no</td>\n",
       "      <td>southeast</td>\n",
       "      <td>1725.55230</td>\n",
       "    </tr>\n",
       "    <tr>\n",
       "      <th>2</th>\n",
       "      <td>28</td>\n",
       "      <td>male</td>\n",
       "      <td>33.000</td>\n",
       "      <td>3</td>\n",
       "      <td>no</td>\n",
       "      <td>southeast</td>\n",
       "      <td>4449.46200</td>\n",
       "    </tr>\n",
       "    <tr>\n",
       "      <th>3</th>\n",
       "      <td>33</td>\n",
       "      <td>male</td>\n",
       "      <td>22.705</td>\n",
       "      <td>0</td>\n",
       "      <td>no</td>\n",
       "      <td>northwest</td>\n",
       "      <td>21984.47061</td>\n",
       "    </tr>\n",
       "    <tr>\n",
       "      <th>4</th>\n",
       "      <td>32</td>\n",
       "      <td>male</td>\n",
       "      <td>28.880</td>\n",
       "      <td>0</td>\n",
       "      <td>no</td>\n",
       "      <td>northwest</td>\n",
       "      <td>3866.85520</td>\n",
       "    </tr>\n",
       "  </tbody>\n",
       "</table>\n",
       "</div>"
      ],
      "text/plain": [
       "   age     sex     bmi  children smoker     region      charges\n",
       "0   19  female  27.900         0    yes  southwest  16884.92400\n",
       "1   18    male  33.770         1     no  southeast   1725.55230\n",
       "2   28    male  33.000         3     no  southeast   4449.46200\n",
       "3   33    male  22.705         0     no  northwest  21984.47061\n",
       "4   32    male  28.880         0     no  northwest   3866.85520"
      ]
     },
     "execution_count": 39,
     "metadata": {},
     "output_type": "execute_result"
    }
   ],
   "source": [
    "# [문제1]\n",
    "# insurance.csv'파일 읽어서 df에 할당하고, 상위 5개 항목 출력하기\n",
    "df = pd.read_csv('./data/insurance.csv')\n",
    "df.head()\n"
   ]
  },
  {
   "cell_type": "code",
   "execution_count": 40,
   "id": "e8457765",
   "metadata": {},
   "outputs": [
    {
     "data": {
      "text/html": [
       "<div>\n",
       "<style scoped>\n",
       "    .dataframe tbody tr th:only-of-type {\n",
       "        vertical-align: middle;\n",
       "    }\n",
       "\n",
       "    .dataframe tbody tr th {\n",
       "        vertical-align: top;\n",
       "    }\n",
       "\n",
       "    .dataframe thead th {\n",
       "        text-align: right;\n",
       "    }\n",
       "</style>\n",
       "<table border=\"1\" class=\"dataframe\">\n",
       "  <thead>\n",
       "    <tr style=\"text-align: right;\">\n",
       "      <th></th>\n",
       "      <th>age</th>\n",
       "      <th>bmi</th>\n",
       "      <th>children</th>\n",
       "      <th>charges</th>\n",
       "    </tr>\n",
       "  </thead>\n",
       "  <tbody>\n",
       "    <tr>\n",
       "      <th>count</th>\n",
       "      <td>1338.000000</td>\n",
       "      <td>1338.000000</td>\n",
       "      <td>1338.000000</td>\n",
       "      <td>1338.000000</td>\n",
       "    </tr>\n",
       "    <tr>\n",
       "      <th>mean</th>\n",
       "      <td>39.207025</td>\n",
       "      <td>30.663397</td>\n",
       "      <td>1.094918</td>\n",
       "      <td>13270.422265</td>\n",
       "    </tr>\n",
       "    <tr>\n",
       "      <th>std</th>\n",
       "      <td>14.049960</td>\n",
       "      <td>6.098187</td>\n",
       "      <td>1.205493</td>\n",
       "      <td>12110.011237</td>\n",
       "    </tr>\n",
       "    <tr>\n",
       "      <th>min</th>\n",
       "      <td>18.000000</td>\n",
       "      <td>15.960000</td>\n",
       "      <td>0.000000</td>\n",
       "      <td>1121.873900</td>\n",
       "    </tr>\n",
       "    <tr>\n",
       "      <th>25%</th>\n",
       "      <td>27.000000</td>\n",
       "      <td>26.296250</td>\n",
       "      <td>0.000000</td>\n",
       "      <td>4740.287150</td>\n",
       "    </tr>\n",
       "    <tr>\n",
       "      <th>50%</th>\n",
       "      <td>39.000000</td>\n",
       "      <td>30.400000</td>\n",
       "      <td>1.000000</td>\n",
       "      <td>9382.033000</td>\n",
       "    </tr>\n",
       "    <tr>\n",
       "      <th>75%</th>\n",
       "      <td>51.000000</td>\n",
       "      <td>34.693750</td>\n",
       "      <td>2.000000</td>\n",
       "      <td>16639.912515</td>\n",
       "    </tr>\n",
       "    <tr>\n",
       "      <th>max</th>\n",
       "      <td>64.000000</td>\n",
       "      <td>53.130000</td>\n",
       "      <td>5.000000</td>\n",
       "      <td>63770.428010</td>\n",
       "    </tr>\n",
       "  </tbody>\n",
       "</table>\n",
       "</div>"
      ],
      "text/plain": [
       "               age          bmi     children       charges\n",
       "count  1338.000000  1338.000000  1338.000000   1338.000000\n",
       "mean     39.207025    30.663397     1.094918  13270.422265\n",
       "std      14.049960     6.098187     1.205493  12110.011237\n",
       "min      18.000000    15.960000     0.000000   1121.873900\n",
       "25%      27.000000    26.296250     0.000000   4740.287150\n",
       "50%      39.000000    30.400000     1.000000   9382.033000\n",
       "75%      51.000000    34.693750     2.000000  16639.912515\n",
       "max      64.000000    53.130000     5.000000  63770.428010"
      ]
     },
     "execution_count": 40,
     "metadata": {},
     "output_type": "execute_result"
    }
   ],
   "source": [
    "#[문제2]\n",
    "# df의 요약(평균, 4분위수, 전체 갯수 등)정보 확인하기\n",
    "df.describe()\n"
   ]
  },
  {
   "cell_type": "code",
   "execution_count": 41,
   "id": "f74b09ab",
   "metadata": {},
   "outputs": [],
   "source": [
    "#[문제3]\n",
    "# 신규 컬럼(double bmi)을 생성하고, bmi의 2배가 되는 값을 할당하기\n",
    "df['double bmi'] = df['bmi'] *2"
   ]
  },
  {
   "cell_type": "code",
   "execution_count": 42,
   "id": "5c1ca15a",
   "metadata": {},
   "outputs": [],
   "source": [
    "# [문제4]\n",
    "# 신규 컬럼(debt)을 생성하고, 0으로 채우기\n",
    "df['debt'] = 0"
   ]
  },
  {
   "cell_type": "code",
   "execution_count": 43,
   "id": "2850bd7b",
   "metadata": {},
   "outputs": [],
   "source": [
    "#[문제5]\n",
    "# debt에 0부터 값이 증가하도록 채우기\n",
    "df['debt'] = range(len(df))"
   ]
  },
  {
   "cell_type": "code",
   "execution_count": 44,
   "id": "ce8b5532",
   "metadata": {},
   "outputs": [
    {
     "data": {
      "text/plain": [
       "age                  19\n",
       "sex              female\n",
       "bmi                27.9\n",
       "children              0\n",
       "smoker              yes\n",
       "region        southwest\n",
       "charges       16884.924\n",
       "double bmi         55.8\n",
       "debt                  0\n",
       "Name: 0, dtype: object"
      ]
     },
     "execution_count": 44,
     "metadata": {},
     "output_type": "execute_result"
    }
   ],
   "source": [
    "#[문제6]\n",
    "# 1번 인덱스의 정보 출력\n",
    "df.iloc[0]"
   ]
  },
  {
   "cell_type": "code",
   "execution_count": 45,
   "id": "9a461898",
   "metadata": {},
   "outputs": [],
   "source": [
    "# [문제7]\n",
    "# 'double bmi'열 삭제하기\n",
    "df.drop(df.columns[7], axis=1, inplace=True)"
   ]
  },
  {
   "cell_type": "code",
   "execution_count": 46,
   "id": "af21c843",
   "metadata": {},
   "outputs": [
    {
     "data": {
      "text/html": [
       "<div>\n",
       "<style scoped>\n",
       "    .dataframe tbody tr th:only-of-type {\n",
       "        vertical-align: middle;\n",
       "    }\n",
       "\n",
       "    .dataframe tbody tr th {\n",
       "        vertical-align: top;\n",
       "    }\n",
       "\n",
       "    .dataframe thead th {\n",
       "        text-align: right;\n",
       "    }\n",
       "</style>\n",
       "<table border=\"1\" class=\"dataframe\">\n",
       "  <thead>\n",
       "    <tr style=\"text-align: right;\">\n",
       "      <th></th>\n",
       "      <th>age</th>\n",
       "      <th>sex</th>\n",
       "    </tr>\n",
       "  </thead>\n",
       "  <tbody>\n",
       "    <tr>\n",
       "      <th>0</th>\n",
       "      <td>19</td>\n",
       "      <td>female</td>\n",
       "    </tr>\n",
       "    <tr>\n",
       "      <th>1</th>\n",
       "      <td>18</td>\n",
       "      <td>male</td>\n",
       "    </tr>\n",
       "    <tr>\n",
       "      <th>2</th>\n",
       "      <td>28</td>\n",
       "      <td>male</td>\n",
       "    </tr>\n",
       "    <tr>\n",
       "      <th>3</th>\n",
       "      <td>33</td>\n",
       "      <td>male</td>\n",
       "    </tr>\n",
       "    <tr>\n",
       "      <th>4</th>\n",
       "      <td>32</td>\n",
       "      <td>male</td>\n",
       "    </tr>\n",
       "    <tr>\n",
       "      <th>...</th>\n",
       "      <td>...</td>\n",
       "      <td>...</td>\n",
       "    </tr>\n",
       "    <tr>\n",
       "      <th>1333</th>\n",
       "      <td>50</td>\n",
       "      <td>male</td>\n",
       "    </tr>\n",
       "    <tr>\n",
       "      <th>1334</th>\n",
       "      <td>18</td>\n",
       "      <td>female</td>\n",
       "    </tr>\n",
       "    <tr>\n",
       "      <th>1335</th>\n",
       "      <td>18</td>\n",
       "      <td>female</td>\n",
       "    </tr>\n",
       "    <tr>\n",
       "      <th>1336</th>\n",
       "      <td>21</td>\n",
       "      <td>female</td>\n",
       "    </tr>\n",
       "    <tr>\n",
       "      <th>1337</th>\n",
       "      <td>61</td>\n",
       "      <td>female</td>\n",
       "    </tr>\n",
       "  </tbody>\n",
       "</table>\n",
       "<p>1338 rows × 2 columns</p>\n",
       "</div>"
      ],
      "text/plain": [
       "      age     sex\n",
       "0      19  female\n",
       "1      18    male\n",
       "2      28    male\n",
       "3      33    male\n",
       "4      32    male\n",
       "...   ...     ...\n",
       "1333   50    male\n",
       "1334   18  female\n",
       "1335   18  female\n",
       "1336   21  female\n",
       "1337   61  female\n",
       "\n",
       "[1338 rows x 2 columns]"
      ]
     },
     "execution_count": 46,
     "metadata": {},
     "output_type": "execute_result"
    }
   ],
   "source": [
    "#[문제8]\n",
    "# 'age'열, 'sex'열만 출력하기\n",
    "# df['age']\n",
    "# df['sex']\n",
    "df [['age','sex']]"
   ]
  },
  {
   "cell_type": "code",
   "execution_count": 47,
   "id": "fc0c79a7",
   "metadata": {},
   "outputs": [],
   "source": [
    "#[문제9]\n",
    "# 나이를 1살씩 증가시키기\n",
    "df['age'] = df['age'] +1\n",
    "\n"
   ]
  },
  {
   "cell_type": "code",
   "execution_count": 48,
   "id": "5ea5ecdf",
   "metadata": {},
   "outputs": [],
   "source": [
    "# [문제10]\n",
    "# charges의 표시형식을 소수점 아래 2자리로 바꾸기\n",
    "df['charges'] = df['charges'].round(2)\n"
   ]
  },
  {
   "cell_type": "code",
   "execution_count": null,
   "id": "bf645a59",
   "metadata": {},
   "outputs": [],
   "source": [
    "# [문제11]\n",
    "# 컬럼 정렬(알파벳 순서대로) : age, bmi, charges... 순으로 정렬\n",
    "df.sort_index(axis=1, inplace=True)"
   ]
  },
  {
   "cell_type": "code",
   "execution_count": 78,
   "id": "543e9b41",
   "metadata": {},
   "outputs": [],
   "source": [
    "# [문제12]\n",
    "# 값 정렬(age) : 나이 순으로 정렬\n",
    "df.sort_values(by='age', ascending= False, inplace=True )"
   ]
  },
  {
   "cell_type": "code",
   "execution_count": 84,
   "id": "a895053f",
   "metadata": {},
   "outputs": [
    {
     "name": "stdout",
     "output_type": "stream",
     "text": [
      "40.20702541106129\n"
     ]
    }
   ],
   "source": [
    "# [문제13]\n",
    "# 나이('age') 평균구하기\n",
    "print(df['age'].mean())"
   ]
  },
  {
   "cell_type": "code",
   "execution_count": 79,
   "id": "0a94c411",
   "metadata": {},
   "outputs": [
    {
     "data": {
      "text/html": [
       "<div>\n",
       "<style scoped>\n",
       "    .dataframe tbody tr th:only-of-type {\n",
       "        vertical-align: middle;\n",
       "    }\n",
       "\n",
       "    .dataframe tbody tr th {\n",
       "        vertical-align: top;\n",
       "    }\n",
       "\n",
       "    .dataframe thead th {\n",
       "        text-align: right;\n",
       "    }\n",
       "</style>\n",
       "<table border=\"1\" class=\"dataframe\">\n",
       "  <thead>\n",
       "    <tr style=\"text-align: right;\">\n",
       "      <th></th>\n",
       "      <th>age</th>\n",
       "      <th>bmi</th>\n",
       "      <th>charges</th>\n",
       "      <th>children</th>\n",
       "      <th>debt</th>\n",
       "      <th>region</th>\n",
       "      <th>sex</th>\n",
       "      <th>smoker</th>\n",
       "    </tr>\n",
       "  </thead>\n",
       "  <tbody>\n",
       "    <tr>\n",
       "      <th>1265</th>\n",
       "      <td>65</td>\n",
       "      <td>23.760</td>\n",
       "      <td>26926.51</td>\n",
       "      <td>0</td>\n",
       "      <td>1265</td>\n",
       "      <td>southeast</td>\n",
       "      <td>male</td>\n",
       "      <td>yes</td>\n",
       "    </tr>\n",
       "    <tr>\n",
       "      <th>1241</th>\n",
       "      <td>65</td>\n",
       "      <td>36.960</td>\n",
       "      <td>49577.66</td>\n",
       "      <td>2</td>\n",
       "      <td>1241</td>\n",
       "      <td>southeast</td>\n",
       "      <td>male</td>\n",
       "      <td>yes</td>\n",
       "    </tr>\n",
       "    <tr>\n",
       "      <th>752</th>\n",
       "      <td>65</td>\n",
       "      <td>37.905</td>\n",
       "      <td>14210.54</td>\n",
       "      <td>0</td>\n",
       "      <td>752</td>\n",
       "      <td>northwest</td>\n",
       "      <td>male</td>\n",
       "      <td>no</td>\n",
       "    </tr>\n",
       "    <tr>\n",
       "      <th>768</th>\n",
       "      <td>65</td>\n",
       "      <td>39.700</td>\n",
       "      <td>14319.03</td>\n",
       "      <td>0</td>\n",
       "      <td>768</td>\n",
       "      <td>southwest</td>\n",
       "      <td>female</td>\n",
       "      <td>no</td>\n",
       "    </tr>\n",
       "    <tr>\n",
       "      <th>825</th>\n",
       "      <td>65</td>\n",
       "      <td>31.825</td>\n",
       "      <td>16069.08</td>\n",
       "      <td>2</td>\n",
       "      <td>825</td>\n",
       "      <td>northeast</td>\n",
       "      <td>female</td>\n",
       "      <td>no</td>\n",
       "    </tr>\n",
       "  </tbody>\n",
       "</table>\n",
       "</div>"
      ],
      "text/plain": [
       "      age     bmi   charges  children  debt     region     sex smoker\n",
       "1265   65  23.760  26926.51         0  1265  southeast    male    yes\n",
       "1241   65  36.960  49577.66         2  1241  southeast    male    yes\n",
       "752    65  37.905  14210.54         0   752  northwest    male     no\n",
       "768    65  39.700  14319.03         0   768  southwest  female     no\n",
       "825    65  31.825  16069.08         2   825  northeast  female     no"
      ]
     },
     "execution_count": 79,
     "metadata": {},
     "output_type": "execute_result"
    }
   ],
   "source": [
    "df.head()"
   ]
  },
  {
   "cell_type": "code",
   "execution_count": null,
   "id": "ce1b5f35",
   "metadata": {},
   "outputs": [],
   "source": [
    "# [문제14]\n",
    "# 보험료('charges')와 가장 상관관계가 높은 변수는?\n",
    "df"
   ]
  },
  {
   "cell_type": "code",
   "execution_count": 54,
   "id": "931f8ccf",
   "metadata": {},
   "outputs": [],
   "source": [
    "# [문제15]\n",
    "# 남자, 여자가 각각 몇명있는지 구하기"
   ]
  },
  {
   "cell_type": "code",
   "execution_count": 55,
   "id": "2eb040ae",
   "metadata": {},
   "outputs": [],
   "source": [
    "# [문제16]\n",
    "# 자녀(children)가 3명인 데이터 출력하기"
   ]
  },
  {
   "cell_type": "code",
   "execution_count": 56,
   "id": "7c6d3027",
   "metadata": {},
   "outputs": [],
   "source": [
    "# [문제16]\n",
    "# 자녀(children)가 5명 이상인 데이터 출력하기"
   ]
  },
  {
   "cell_type": "code",
   "execution_count": 57,
   "id": "0c9daaf4",
   "metadata": {},
   "outputs": [],
   "source": [
    "# [문제17]\n",
    "# bmi가 17 미만인 데이터 출력하기"
   ]
  },
  {
   "cell_type": "code",
   "execution_count": 58,
   "id": "c4de05b4",
   "metadata": {},
   "outputs": [],
   "source": [
    "# [문제18]\n",
    "# 성별에 따른 보험료 평균"
   ]
  },
  {
   "cell_type": "code",
   "execution_count": 59,
   "id": "5df8f80f",
   "metadata": {},
   "outputs": [],
   "source": [
    "# [문제19]\n",
    "# 흡연여부에 따른 보험료 평균"
   ]
  },
  {
   "cell_type": "code",
   "execution_count": 60,
   "id": "e6925ecd",
   "metadata": {},
   "outputs": [],
   "source": [
    "# [문제20]\n",
    "# 지역별 보험료 평균"
   ]
  },
  {
   "cell_type": "code",
   "execution_count": 61,
   "id": "4242b2d7",
   "metadata": {},
   "outputs": [],
   "source": [
    "# [문제21]\n",
    "# 흡연여부 + 지역별 데이터 평균"
   ]
  },
  {
   "cell_type": "code",
   "execution_count": 62,
   "id": "fd03b079",
   "metadata": {},
   "outputs": [],
   "source": [
    "# [문제22]\n",
    "# 흡연여부 + 지역별 데이터 평균에서 'charges' 만 츨력하기"
   ]
  },
  {
   "cell_type": "code",
   "execution_count": 63,
   "id": "7e3ecc74",
   "metadata": {},
   "outputs": [],
   "source": [
    "# [문제23]\n",
    "# 흡연여부 + 지역별 데이터 크기(size)"
   ]
  },
  {
   "cell_type": "code",
   "execution_count": 64,
   "id": "e3020073",
   "metadata": {},
   "outputs": [],
   "source": [
    "# [문제24]\n",
    "# smoker 여부에 따라, group_val 컬럼에 '흡연자', '비흡연자' 표시하기"
   ]
  }
 ],
 "metadata": {
  "kernelspec": {
   "display_name": "hipython",
   "language": "python",
   "name": "python3"
  },
  "language_info": {
   "codemirror_mode": {
    "name": "ipython",
    "version": 3
   },
   "file_extension": ".py",
   "mimetype": "text/x-python",
   "name": "python",
   "nbconvert_exporter": "python",
   "pygments_lexer": "ipython3",
   "version": "3.12.9"
  }
 },
 "nbformat": 4,
 "nbformat_minor": 5
}
