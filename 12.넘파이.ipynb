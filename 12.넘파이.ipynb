{
 "cells": [
  {
   "cell_type": "code",
   "execution_count": null,
   "id": "d0a3fa7f",
   "metadata": {},
   "outputs": [],
   "source": [
    "# 넘파이의 사용\n",
    "\n",
    "1. 데이터 분석 프로젝트 : 수치형 데이터의 요약, 통계, 시각화\n",
    "2. 이미지 처리 프로젝트 : 이미지 블러\n",
    "3. 게임, 사뮬래이션 프로그램 : 수치시뮬레이션 등을 구현\n",
    "4. 머신러닝/딥러닝 모델 프로젝트 : 금융데이터,의료데이터, 실험데이터, 센서데이터\n"
   ]
  },
  {
   "cell_type": "code",
   "execution_count": 6,
   "id": "d5b1ed5b",
   "metadata": {},
   "outputs": [],
   "source": [
    "import numpy as np  #numpy의 별칭 np"
   ]
  },
  {
   "cell_type": "code",
   "execution_count": 8,
   "id": "684812bc",
   "metadata": {},
   "outputs": [
    {
     "data": {
      "text/plain": [
       "[[120, 135, 150, 145], [100, 110, 140, 130], [90, 100, 95, 105]]"
      ]
     },
     "execution_count": 8,
     "metadata": {},
     "output_type": "execute_result"
    }
   ],
   "source": [
    "data = [\n",
    "    [120, 135, 150, 145],  # 제품A\n",
    "    [100, 110, 140, 130],  # 제품B\n",
    "    [90, 100, 95, 105] ]\n",
    "data"
   ]
  },
  {
   "cell_type": "code",
   "execution_count": 9,
   "id": "a9c0d1fc",
   "metadata": {},
   "outputs": [
    {
     "data": {
      "text/plain": [
       "array([[120, 135, 150, 145],\n",
       "       [100, 110, 140, 130],\n",
       "       [ 90, 100,  95, 105]])"
      ]
     },
     "execution_count": 9,
     "metadata": {},
     "output_type": "execute_result"
    }
   ],
   "source": [
    "np.array(data)"
   ]
  },
  {
   "cell_type": "code",
   "execution_count": 20,
   "id": "14623d17",
   "metadata": {},
   "outputs": [
    {
     "data": {
      "text/plain": [
       "array([550, 480, 390])"
      ]
     },
     "execution_count": 20,
     "metadata": {},
     "output_type": "execute_result"
    }
   ],
   "source": [
    "sales_data = np.array(data) # data의 배열선언\n",
    "np.sum(sales_data, axis=1)  #총판매량"
   ]
  },
  {
   "cell_type": "code",
   "execution_count": 21,
   "id": "780a4c85",
   "metadata": {},
   "outputs": [
    {
     "data": {
      "text/plain": [
       "array([7650, 8500, 9575, 9425])"
      ]
     },
     "execution_count": 21,
     "metadata": {},
     "output_type": "execute_result"
    }
   ],
   "source": [
    "profit_per_unit = np.array([20, 30, 25])\n",
    "np.dot(profit_per_unit, sales_data) # dot:  두 넘파이 리스트의 곱"
   ]
  },
  {
   "cell_type": "markdown",
   "id": "c197b1ca",
   "metadata": {},
   "source": [
    "# 이미지처리"
   ]
  },
  {
   "cell_type": "code",
   "execution_count": 31,
   "id": "8a84d133",
   "metadata": {},
   "outputs": [],
   "source": [
    "from PIL import Image    # pip install pillow\n",
    "img =Image.open('sample.jpg')\n",
    "img_arry = np.array(img)\n",
    "new_img = np.clip(img_arry+10, 0, 255).astype(np.uint8)\n",
    "\n",
    "Image.fromarray(new_img).save('new_sample.jpg')"
   ]
  },
  {
   "cell_type": "code",
   "execution_count": 32,
   "id": "515e9ffa",
   "metadata": {},
   "outputs": [],
   "source": [
    "from PIL import Image\n",
    "img = Image.open('sample.jpg').convert('L')\n",
    "img_ary = np.array(img)\n",
    "new_img = np.clip(img_ary+10, 0, 255).astype(np.uint8)\n",
    "\n",
    "Image.fromarray(new_img).save('new_sample.jpg')"
   ]
  },
  {
   "cell_type": "markdown",
   "id": "d86a4947",
   "metadata": {},
   "source": [
    "# 데이터 시뮬레이션"
   ]
  },
  {
   "cell_type": "markdown",
   "id": "01890a42",
   "metadata": {},
   "source": [
    "1차원 배열의 랜딩워크 시뮬레이션"
   ]
  },
  {
   "cell_type": "code",
   "execution_count": 169,
   "id": "f4ccc66d",
   "metadata": {},
   "outputs": [
    {
     "data": {
      "text/plain": [
       "[<matplotlib.lines.Line2D at 0x1f247250950>]"
      ]
     },
     "execution_count": 169,
     "metadata": {},
     "output_type": "execute_result"
    },
    {
     "data": {
      "image/png": "[encoded data removed]",
      "text/plain": [
       "<Figure size 640x480 with 1 Axes>"
      ]
     },
     "metadata": {},
     "output_type": "display_data"
    }
   ],
   "source": [
    "import matplotlib.pyplot as plt  # pip install matplotlib\n",
    "\n",
    "n_step =1000\n",
    "step = np.random.choice([-1,1], size= n_step)\n",
    "walk = np.cumsum(step)\n",
    "plt.plot(walk)\n"
   ]
  },
  {
   "cell_type": "code",
   "execution_count": 170,
   "id": "995845e7",
   "metadata": {},
   "outputs": [
    {
     "name": "stdout",
     "output_type": "stream",
     "text": [
      "배열의 차원: 2\n",
      "배열의 형태: (3, 3)\n",
      "배열의 크기: 9\n",
      "배열의 데이터 타입: int64\n",
      "배열 요소의 크기: 8\n",
      "배열의 strides: (24, 8)\n"
     ]
    }
   ],
   "source": [
    "# 배열 생성\n",
    "arr = np.array([[1, 2, 3],\n",
    "                [4, 5, 6],\n",
    "                [7, 8, 9]])\n",
    "\n",
    "# 배열의 속성 확인\n",
    "print('배열의 차원:', arr.ndim)         # 2\n",
    "print('배열의 형태:', arr.shape)        # (3, 3)\n",
    "print('배열의 크기:', arr.size)         # 9\n",
    "print('배열의 데이터 타입:', arr.dtype) # int64\n",
    "print('배열 요소의 크기:', arr.itemsize) # 8 (바이트)\n",
    "print('배열의 strides:', arr.strides)   # (24, 8)"
   ]
  },
  {
   "cell_type": "code",
   "execution_count": null,
   "id": "5fe8567e",
   "metadata": {},
   "outputs": [],
   "source": []
  },
  {
   "cell_type": "code",
   "execution_count": null,
   "id": "05876f45",
   "metadata": {},
   "outputs": [],
   "source": []
  },
  {
   "cell_type": "code",
   "execution_count": null,
   "id": "581dbe73",
   "metadata": {},
   "outputs": [],
   "source": []
  },
  {
   "cell_type": "code",
   "execution_count": null,
   "id": "9d2f4e80",
   "metadata": {},
   "outputs": [],
   "source": []
  },
  {
   "cell_type": "code",
   "execution_count": null,
   "id": "9502d5d4",
   "metadata": {},
   "outputs": [],
   "source": []
  },
  {
   "cell_type": "code",
   "execution_count": null,
   "id": "95746173",
   "metadata": {},
   "outputs": [],
   "source": []
  },
  {
   "cell_type": "code",
   "execution_count": null,
   "id": "155e8629",
   "metadata": {},
   "outputs": [],
   "source": []
  },
  {
   "cell_type": "code",
   "execution_count": null,
   "id": "ca308ef1",
   "metadata": {},
   "outputs": [],
   "source": []
  },
  {
   "cell_type": "code",
   "execution_count": null,
   "id": "dd4b989f",
   "metadata": {},
   "outputs": [],
   "source": []
  },
  {
   "cell_type": "code",
   "execution_count": null,
   "id": "743a6a13",
   "metadata": {},
   "outputs": [],
   "source": []
  },
  {
   "cell_type": "code",
   "execution_count": null,
   "id": "cd4d2207",
   "metadata": {},
   "outputs": [],
   "source": []
  },
  {
   "cell_type": "code",
   "execution_count": null,
   "id": "ad9dfd41",
   "metadata": {},
   "outputs": [],
   "source": []
  },
  {
   "cell_type": "code",
   "execution_count": null,
   "id": "7860b145",
   "metadata": {},
   "outputs": [],
   "source": []
  },
  {
   "cell_type": "code",
   "execution_count": null,
   "id": "23c44b6f",
   "metadata": {},
   "outputs": [],
   "source": []
  },
  {
   "cell_type": "code",
   "execution_count": null,
   "id": "a777cbae",
   "metadata": {},
   "outputs": [],
   "source": []
  },
  {
   "cell_type": "code",
   "execution_count": null,
   "id": "f6921811",
   "metadata": {},
   "outputs": [],
   "source": []
  },
  {
   "cell_type": "code",
   "execution_count": null,
   "id": "627df63f",
   "metadata": {},
   "outputs": [],
   "source": []
  },
  {
   "cell_type": "code",
   "execution_count": null,
   "id": "e70c46ab",
   "metadata": {},
   "outputs": [],
   "source": []
  }
 ],
 "metadata": {
  "kernelspec": {
   "display_name": "hipython",
   "language": "python",
   "name": "python3"
  },
  "language_info": {
   "codemirror_mode": {
    "name": "ipython",
    "version": 3
   },
   "file_extension": ".py",
   "mimetype": "text/x-python",
   "name": "python",
   "nbconvert_exporter": "python",
   "pygments_lexer": "ipython3",
   "version": "3.12.9"
  }
 },
 "nbformat": 4,
 "nbformat_minor": 5
}
