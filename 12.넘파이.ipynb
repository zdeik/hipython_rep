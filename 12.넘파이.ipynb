{
 "cells": [
  {
   "cell_type": "code",
   "execution_count": null,
   "id": "d0a3fa7f",
   "metadata": {},
   "outputs": [],
   "source": [
    "# 넘파이의 사용\n",
    "\n",
    "1. 데이터 분석 프로젝트 : 수치형 데이터의 요약, 통계, 시각화\n",
    "2. 이미지 처리 프로젝트 : 이미지 블러\n",
    "3. 게임, 사뮬래이션 프로그램 : 수치시뮬레이션 등을 구현\n",
    "4. 머신러닝/딥러닝 모델 프로젝트 : 금융데이터,의료데이터, 실험데이터, 센서데이터\n"
   ]
  },
  {
   "cell_type": "code",
   "execution_count": 9,
   "id": "d5b1ed5b",
   "metadata": {},
   "outputs": [],
   "source": [
    "import numpy as np  #numpy의 별칭 np"
   ]
  },
  {
   "cell_type": "code",
   "execution_count": 8,
   "id": "684812bc",
   "metadata": {},
   "outputs": [
    {
     "data": {
      "text/plain": [
       "[[120, 135, 150, 145], [100, 110, 140, 130], [90, 100, 95, 105]]"
      ]
     },
     "execution_count": 8,
     "metadata": {},
     "output_type": "execute_result"
    }
   ],
   "source": [
    "data = [\n",
    "    [120, 135, 150, 145],  # 제품A\n",
    "    [100, 110, 140, 130],  # 제품B\n",
    "    [90, 100, 95, 105] ]\n",
    "data"
   ]
  },
  {
   "cell_type": "code",
   "execution_count": 9,
   "id": "a9c0d1fc",
   "metadata": {},
   "outputs": [
    {
     "data": {
      "text/plain": [
       "array([[120, 135, 150, 145],\n",
       "       [100, 110, 140, 130],\n",
       "       [ 90, 100,  95, 105]])"
      ]
     },
     "execution_count": 9,
     "metadata": {},
     "output_type": "execute_result"
    }
   ],
   "source": [
    "np.array(data)"
   ]
  },
  {
   "cell_type": "code",
   "execution_count": 20,
   "id": "14623d17",
   "metadata": {},
   "outputs": [
    {
     "data": {
      "text/plain": [
       "array([550, 480, 390])"
      ]
     },
     "execution_count": 20,
     "metadata": {},
     "output_type": "execute_result"
    }
   ],
   "source": [
    "sales_data = np.array(data) # data의 배열선언\n",
    "np.sum(sales_data, axis=1)  #총판매량"
   ]
  },
  {
   "cell_type": "code",
   "execution_count": 21,
   "id": "780a4c85",
   "metadata": {},
   "outputs": [
    {
     "data": {
      "text/plain": [
       "array([7650, 8500, 9575, 9425])"
      ]
     },
     "execution_count": 21,
     "metadata": {},
     "output_type": "execute_result"
    }
   ],
   "source": [
    "profit_per_unit = np.array([20, 30, 25])\n",
    "np.dot(profit_per_unit, sales_data) # dot:  두 넘파이 리스트의 곱"
   ]
  },
  {
   "cell_type": "markdown",
   "id": "c197b1ca",
   "metadata": {},
   "source": [
    "# 이미지처리"
   ]
  },
  {
   "cell_type": "code",
   "execution_count": 31,
   "id": "8a84d133",
   "metadata": {},
   "outputs": [],
   "source": [
    "from PIL import Image    # pip install pillow\n",
    "img =Image.open('sample.jpg')\n",
    "img_arry = np.array(img)\n",
    "new_img = np.clip(img_arry+10, 0, 255).astype(np.uint8)\n",
    "\n",
    "Image.fromarray(new_img).save('new_sample.jpg')"
   ]
  },
  {
   "cell_type": "code",
   "execution_count": 32,
   "id": "515e9ffa",
   "metadata": {},
   "outputs": [],
   "source": [
    "from PIL import Image\n",
    "img = Image.open('sample.jpg').convert('L')\n",
    "img_ary = np.array(img)\n",
    "new_img = np.clip(img_ary+10, 0, 255).astype(np.uint8)\n",
    "\n",
    "Image.fromarray(new_img).save('new_sample.jpg')"
   ]
  },
  {
   "cell_type": "markdown",
   "id": "d86a4947",
   "metadata": {},
   "source": [
    "# 데이터 시뮬레이션"
   ]
  },
  {
   "cell_type": "markdown",
   "id": "01890a42",
   "metadata": {},
   "source": [
    "1차원 배열의 랜딩워크 시뮬레이션"
   ]
  },
  {
   "cell_type": "code",
   "execution_count": 169,
   "id": "f4ccc66d",
   "metadata": {},
   "outputs": [
    {
     "data": {
      "text/plain": [
       "[<matplotlib.lines.Line2D at 0x1f247250950>]"
      ]
     },
     "execution_count": 169,
     "metadata": {},
     "output_type": "execute_result"
    },
    {
     "data": {
      "image/png": "[encoded data removed]",
      "text/plain": [
       "<Figure size 640x480 with 1 Axes>"
      ]
     },
     "metadata": {},
     "output_type": "display_data"
    }
   ],
   "source": [
    "import matplotlib.pyplot as plt  # pip install matplotlib\n",
    "\n",
    "n_step =1000\n",
    "step = np.random.choice([-1,1], size= n_step)\n",
    "walk = np.cumsum(step)\n",
    "plt.plot(walk)\n"
   ]
  },
  {
   "cell_type": "code",
   "execution_count": 21,
   "id": "995845e7",
   "metadata": {},
   "outputs": [
    {
     "name": "stdout",
     "output_type": "stream",
     "text": [
      "배열의 차원: 2\n",
      "배열의 형태: (3, 3)\n",
      "배열의 크기: 9\n",
      "배열의 데이터 타입: int64\n",
      "배열 요소의 크기: 8\n",
      "배열의 strides: (24, 8)\n"
     ]
    }
   ],
   "source": [
    "# 배열 생성 - 2차원: 행렬\n",
    "arr = np.array([[1, 2, 3],\n",
    "                [4, 5, 6],\n",
    "                [7, 8, 9]])\n",
    "\n",
    "# 배열의 속성 확인\n",
    "print('배열의 차원:', arr.ndim)         # 2\n",
    "print('배열의 형태:', arr.shape)        # (3, 3)\n",
    "print('배열의 크기:', arr.size)         # 9\n",
    "print('배열의 데이터 타입:', arr.dtype) # int64\n",
    "print('배열 요소의 크기:', arr.itemsize) # 8 (바이트)\n",
    "print('배열의 strides:', arr.strides)   # (24, 8)"
   ]
  },
  {
   "cell_type": "code",
   "execution_count": 171,
   "id": "5fe8567e",
   "metadata": {},
   "outputs": [
    {
     "name": "stdout",
     "output_type": "stream",
     "text": [
      "[1 3 5 7 9]\n",
      "[  0.  25.  50.  75. 100.]\n",
      "[[0.52597528 0.96983798 0.95283259]\n",
      " [0.24228168 0.70172602 0.55559814]]\n"
     ]
    }
   ],
   "source": [
    "# 리스트로부터 배열 생성\n",
    "arr1 = np.array([1, 2, 3, 4, 5])\n",
    "\n",
    "# 0으로 채워진 배열 생성\n",
    "arr2 = np.zeros(5)\n",
    "\n",
    "# 1로 채워진 배열 생성\n",
    "arr3 = np.ones((3, 3))\n",
    "\n",
    "# 1부터 10까지 2씩 증가하는 배열\n",
    "range_arr = np.arange(1, 10, 2)  \n",
    "print(range_arr)\n",
    "\n",
    " # 0부터 100까지 5개의 숫자를 균등 간격으로 생성\n",
    "linspace_arr = np.linspace(0, 100, 5) \n",
    "print(linspace_arr)\n",
    "\n",
    "# 2행 3열의 랜덤 값 배열 (0~1 사이)\n",
    "random_arr = np.random.rand(2, 3) \n",
    "print(random_arr)"
   ]
  },
  {
   "cell_type": "code",
   "execution_count": 14,
   "id": "05876f45",
   "metadata": {},
   "outputs": [
    {
     "data": {
      "text/plain": [
       "[[[1, 2, 3, 4], [1, 2, 3, 4], [1, 2, 3, 4]],\n",
       " [[1, 2, 3, 4], [1, 2, 3, 4], [1, 2, 3, 4]],\n",
       " [[1, 2, 3, 4], [1, 2, 3, 4], [1, 2, 3, 4]],\n",
       " [[1, 2, 3, 4], [1, 2, 3, 4], [1, 2, 3, 4]]]"
      ]
     },
     "execution_count": 14,
     "metadata": {},
     "output_type": "execute_result"
    }
   ],
   "source": [
    "tensor_list = [[[1,2,3,4],[1,2,3,4],[1,2,3,4]],  # 4,3,4     4면 3행 4열\n",
    "               [[1,2,3,4],[1,2,3,4],[1,2,3,4]],\n",
    "               [[1,2,3,4],[1,2,3,4],[1,2,3,4]],\n",
    "               [[1,2,3,4],[1,2,3,4],[1,2,3,4]]]\n",
    "type(tensor_list)\n",
    "tensor_list"
   ]
  },
  {
   "cell_type": "code",
   "execution_count": 11,
   "id": "581dbe73",
   "metadata": {},
   "outputs": [
    {
     "data": {
      "text/plain": [
       "numpy.ndarray"
      ]
     },
     "execution_count": 11,
     "metadata": {},
     "output_type": "execute_result"
    }
   ],
   "source": [
    "arr1 = (np.array(tensor_list))\n",
    "type(arr1)\n"
   ]
  },
  {
   "cell_type": "code",
   "execution_count": 12,
   "id": "2394308a",
   "metadata": {},
   "outputs": [
    {
     "data": {
      "text/plain": [
       "array([[[1, 2, 3, 4],\n",
       "        [1, 2, 3, 4],\n",
       "        [1, 2, 3, 4]],\n",
       "\n",
       "       [[1, 2, 3, 4],\n",
       "        [1, 2, 3, 4],\n",
       "        [1, 2, 3, 4]],\n",
       "\n",
       "       [[1, 2, 3, 4],\n",
       "        [1, 2, 3, 4],\n",
       "        [1, 2, 3, 4]],\n",
       "\n",
       "       [[1, 2, 3, 4],\n",
       "        [1, 2, 3, 4],\n",
       "        [1, 2, 3, 4]]])"
      ]
     },
     "execution_count": 12,
     "metadata": {},
     "output_type": "execute_result"
    }
   ],
   "source": [
    "arr1"
   ]
  },
  {
   "cell_type": "code",
   "execution_count": null,
   "id": "9d2f4e80",
   "metadata": {},
   "outputs": [
    {
     "data": {
      "text/plain": [
       "(4, 3, 4)"
      ]
     },
     "execution_count": 179,
     "metadata": {},
     "output_type": "execute_result"
    }
   ],
   "source": [
    "arr1.shape  # 4,3,4     4면 3행 4열"
   ]
  },
  {
   "cell_type": "code",
   "execution_count": 17,
   "id": "95746173",
   "metadata": {},
   "outputs": [
    {
     "data": {
      "text/plain": [
       "numpy.ndarray"
      ]
     },
     "execution_count": 17,
     "metadata": {},
     "output_type": "execute_result"
    }
   ],
   "source": [
    "arr2 = np.array([[1, 2, 3],\n",
    "                 [4, 5, 6],\n",
    "                 [7, 8, 9]])\n",
    "type(arr2)"
   ]
  },
  {
   "cell_type": "code",
   "execution_count": 19,
   "id": "155e8629",
   "metadata": {},
   "outputs": [
    {
     "data": {
      "text/plain": [
       "numpy.ndarray"
      ]
     },
     "execution_count": 19,
     "metadata": {},
     "output_type": "execute_result"
    }
   ],
   "source": [
    "arr3 = np.array([1, 2, 3])\n",
    "type(arr3)"
   ]
  },
  {
   "cell_type": "code",
   "execution_count": 22,
   "id": "ca308ef1",
   "metadata": {},
   "outputs": [
    {
     "data": {
      "text/plain": [
       "(dtype('int64'), dtype('int64'))"
      ]
     },
     "execution_count": 22,
     "metadata": {},
     "output_type": "execute_result"
    }
   ],
   "source": [
    "arr.dtype, arr3.dtype"
   ]
  },
  {
   "cell_type": "code",
   "execution_count": 24,
   "id": "dd4b989f",
   "metadata": {},
   "outputs": [],
   "source": [
    "arr4 = np.array([1, 2, 3])"
   ]
  },
  {
   "cell_type": "code",
   "execution_count": 25,
   "id": "743a6a13",
   "metadata": {},
   "outputs": [
    {
     "data": {
      "text/plain": [
       "(2192534611760, 2192535827824)"
      ]
     },
     "execution_count": 25,
     "metadata": {},
     "output_type": "execute_result"
    }
   ],
   "source": [
    "id(arr3), id(arr4)"
   ]
  },
  {
   "cell_type": "code",
   "execution_count": 30,
   "id": "cd4d2207",
   "metadata": {},
   "outputs": [
    {
     "data": {
      "text/plain": [
       "(dtype('<U21'), array(['1', '2', '4', '5', '10'], dtype='<U21'))"
      ]
     },
     "execution_count": 30,
     "metadata": {},
     "output_type": "execute_result"
    }
   ],
   "source": [
    "# type 변환\n",
    "list2 =[1,2,4,'5',10]\n",
    "type(list2)\n",
    "t_1 = np.array(list2)\n",
    "t_1.dtype, t_1"
   ]
  },
  {
   "cell_type": "code",
   "execution_count": 34,
   "id": "ad9dfd41",
   "metadata": {},
   "outputs": [
    {
     "data": {
      "text/plain": [
       "dtype('float64')"
      ]
     },
     "execution_count": 34,
     "metadata": {},
     "output_type": "execute_result"
    }
   ],
   "source": [
    "np.array(list2,float).dtype\n"
   ]
  },
  {
   "cell_type": "markdown",
   "id": "7860b145",
   "metadata": {},
   "source": [
    "# shape 속성"
   ]
  },
  {
   "cell_type": "code",
   "execution_count": 36,
   "id": "23c44b6f",
   "metadata": {},
   "outputs": [
    {
     "data": {
      "text/plain": [
       "((8,), 1)"
      ]
     },
     "execution_count": 36,
     "metadata": {},
     "output_type": "execute_result"
    }
   ],
   "source": [
    "list2 =[1,2,3,4,5,6,7,8]\n",
    "t_2 = np.array(list2)\n",
    "t_2.shape,t_2.ndim"
   ]
  },
  {
   "cell_type": "code",
   "execution_count": 39,
   "id": "a777cbae",
   "metadata": {},
   "outputs": [],
   "source": [
    "#3,4\n",
    "list2 = [[1,2,3,0],\n",
    "         [4,5,6,0],\n",
    "         [7,8,9,0],\n",
    "         ]\n"
   ]
  },
  {
   "cell_type": "code",
   "execution_count": 42,
   "id": "f6921811",
   "metadata": {},
   "outputs": [
    {
     "data": {
      "text/plain": [
       "array([[ 1,  2,  3,  4],\n",
       "       [ 5,  6,  7,  8],\n",
       "       [ 9, 10, 11, 12]])"
      ]
     },
     "execution_count": 42,
     "metadata": {},
     "output_type": "execute_result"
    }
   ],
   "source": [
    "list3 =range(1,13)\n",
    "list3 =np.array(list3).reshape((3,4))\n",
    "list3"
   ]
  },
  {
   "cell_type": "code",
   "execution_count": 43,
   "id": "627df63f",
   "metadata": {},
   "outputs": [
    {
     "data": {
      "text/plain": [
       "array([[ 1,  2,  3],\n",
       "       [ 4,  5,  6],\n",
       "       [ 7,  8,  9],\n",
       "       [10, 11, 12]])"
      ]
     },
     "execution_count": 43,
     "metadata": {},
     "output_type": "execute_result"
    }
   ],
   "source": [
    "list3.reshape((4,3))"
   ]
  },
  {
   "cell_type": "code",
   "execution_count": 46,
   "id": "e70c46ab",
   "metadata": {},
   "outputs": [
    {
     "data": {
      "text/plain": [
       "array([[1, 2, 3]])"
      ]
     },
     "execution_count": 46,
     "metadata": {},
     "output_type": "execute_result"
    }
   ],
   "source": [
    "list4 =np.array([1,2,3])\n",
    "list4.reshape((1,3))  # list4[np.newaxis, :]"
   ]
  },
  {
   "cell_type": "code",
   "execution_count": null,
   "id": "0fccf83f",
   "metadata": {},
   "outputs": [],
   "source": [
    "np.newaxis()"
   ]
  },
  {
   "cell_type": "code",
   "execution_count": 47,
   "id": "72674333",
   "metadata": {},
   "outputs": [
    {
     "data": {
      "text/plain": [
       "array([[1, 2, 3]])"
      ]
     },
     "execution_count": 47,
     "metadata": {},
     "output_type": "execute_result"
    }
   ],
   "source": [
    "list4[np.newaxis, :]"
   ]
  },
  {
   "cell_type": "code",
   "execution_count": 48,
   "id": "b319a727",
   "metadata": {},
   "outputs": [
    {
     "data": {
      "text/plain": [
       "array([[1],\n",
       "       [2],\n",
       "       [3]])"
      ]
     },
     "execution_count": 48,
     "metadata": {},
     "output_type": "execute_result"
    }
   ],
   "source": [
    "list4[:, np.newaxis]  # list4.reshape((3,1))"
   ]
  },
  {
   "cell_type": "markdown",
   "id": "e6aa5ae1",
   "metadata": {},
   "source": [
    "## araneg()\n",
    "range(시작, 끝, 스탭)\n"
   ]
  },
  {
   "cell_type": "code",
   "execution_count": 50,
   "id": "71d8031a",
   "metadata": {},
   "outputs": [
    {
     "data": {
      "text/plain": [
       "array([0, 1, 2, 3, 4, 5, 6, 7, 8, 9])"
      ]
     },
     "execution_count": 50,
     "metadata": {},
     "output_type": "execute_result"
    }
   ],
   "source": [
    "np.arange(10)\n"
   ]
  },
  {
   "cell_type": "code",
   "execution_count": 51,
   "id": "d5a74eaa",
   "metadata": {},
   "outputs": [
    {
     "data": {
      "text/plain": [
       "array([-5, -4, -3, -2, -1,  0,  1,  2,  3,  4])"
      ]
     },
     "execution_count": 51,
     "metadata": {},
     "output_type": "execute_result"
    }
   ],
   "source": [
    "np.arange(-5,5)"
   ]
  },
  {
   "cell_type": "code",
   "execution_count": 53,
   "id": "a57aa594",
   "metadata": {},
   "outputs": [
    {
     "data": {
      "text/plain": [
       "array([0. , 0.5, 1. , 1.5, 2. , 2.5, 3. , 3.5, 4. , 4.5])"
      ]
     },
     "execution_count": 53,
     "metadata": {},
     "output_type": "execute_result"
    }
   ],
   "source": [
    "np.arange(0,5,0.5)"
   ]
  },
  {
   "cell_type": "code",
   "execution_count": 54,
   "id": "bc689c15",
   "metadata": {},
   "outputs": [
    {
     "data": {
      "text/plain": [
       "(2, 3)"
      ]
     },
     "execution_count": 54,
     "metadata": {},
     "output_type": "execute_result"
    }
   ],
   "source": [
    "# 2,3\n",
    "np.arange(1,7).reshape((2,3)).shape"
   ]
  },
  {
   "cell_type": "code",
   "execution_count": 62,
   "id": "1a65f289",
   "metadata": {},
   "outputs": [],
   "source": [
    "# 2,3,4\n",
    "list1 = np.arange(1,25).reshape((2,3,4))\n"
   ]
  },
  {
   "cell_type": "code",
   "execution_count": 63,
   "id": "b93b112e",
   "metadata": {},
   "outputs": [
    {
     "data": {
      "text/plain": [
       "array([[[ 1,  2,  3,  4],\n",
       "        [ 5,  6,  7,  8],\n",
       "        [ 9, 10, 11, 12]],\n",
       "\n",
       "       [[13, 14, 15, 16],\n",
       "        [17, 18, 19, 20],\n",
       "        [21, 22, 23, 24]]])"
      ]
     },
     "execution_count": 63,
     "metadata": {},
     "output_type": "execute_result"
    }
   ],
   "source": [
    "list1"
   ]
  },
  {
   "cell_type": "code",
   "execution_count": 70,
   "id": "e4b7365a",
   "metadata": {},
   "outputs": [
    {
     "data": {
      "text/plain": [
       "array([ 1,  2,  3,  4,  5,  6,  7,  8,  9, 10, 11, 12, 13, 14, 15, 16, 17,\n",
       "       18, 19, 20, 21, 22, 23, 24])"
      ]
     },
     "execution_count": 70,
     "metadata": {},
     "output_type": "execute_result"
    }
   ],
   "source": [
    "list1.reshape((24,))"
   ]
  },
  {
   "cell_type": "code",
   "execution_count": 98,
   "id": "d0f53762",
   "metadata": {},
   "outputs": [],
   "source": [
    "# 리스트로부터 배열 생성\n",
    "arr1 = np.array([1,2,3,4,5])\n",
    "    \n",
    "# 0으로 채워진 배열 생성\n",
    "arr2 = np.zeros(5)  # zeros 기본 데이터 타입: float64\n",
    "\n",
    "# 1로 채워진 배열 생성\n",
    "arr3 = np.ones((3,4)) # 3행4열 ones 기본 데이터 타입: float64\n",
    "\n",
    "# 1부터 10까지 2씩 증가하는 배열\n",
    "arr4 = np.arange(1,10,2)\n",
    "\n",
    "# 0부터 100까지 5개의 숫자를 균등 간격으로 생성\n",
    "arr5 = np.arange(0,101,5)\n",
    "\n",
    "# 2행 3열의 랜덤 값 배열 (0~1 사이) rand: 0 이상 1 미만의 난수(float)\n",
    "arr6 = np.random.rand(2,3)\n"
   ]
  },
  {
   "cell_type": "code",
   "execution_count": null,
   "id": "29a02d2c",
   "metadata": {},
   "outputs": [],
   "source": [
    "# 2차원 배열 생성 2,2\n",
    "arr_2d = np.array([[1,2],\n",
    "                [3,4]])"
   ]
  },
  {
   "cell_type": "code",
   "execution_count": 112,
   "id": "554f711a",
   "metadata": {},
   "outputs": [
    {
     "data": {
      "text/plain": [
       "(3, 2, 2)"
      ]
     },
     "execution_count": 112,
     "metadata": {},
     "output_type": "execute_result"
    }
   ],
   "source": [
    "# 3차원 배열 생성 : 3,2,2\n",
    "arr_3d = np.array([[[1,2],[3,4]],\n",
    "                   [[5,6],[7,8]],\n",
    "                   [[9,0],[0,0]]])\n",
    "\n",
    "# 배열의 shape 확인\n",
    "arr_3d.shape"
   ]
  },
  {
   "cell_type": "code",
   "execution_count": 117,
   "id": "19e6aff1",
   "metadata": {},
   "outputs": [
    {
     "data": {
      "text/plain": [
       "array([[1., 0., 0.],\n",
       "       [0., 1., 0.],\n",
       "       [0., 0., 1.]])"
      ]
     },
     "execution_count": 117,
     "metadata": {},
     "output_type": "execute_result"
    }
   ],
   "source": [
    "identity_martix = np.identity(3)  # np.identity(): 단위행렬 생성\n",
    "identity_martix"
   ]
  },
  {
   "cell_type": "code",
   "execution_count": 120,
   "id": "ccdde29a",
   "metadata": {},
   "outputs": [
    {
     "data": {
      "text/plain": [
       "array([[1, 0, 0],\n",
       "       [0, 2, 0],\n",
       "       [0, 0, 3]])"
      ]
     },
     "execution_count": 120,
     "metadata": {},
     "output_type": "execute_result"
    }
   ],
   "source": [
    "diagonal_matrix = np.diag([1, 2, 3])  #  np.diag(대각값,): 대각행렬 생성\n",
    "diagonal_matrix"
   ]
  },
  {
   "cell_type": "code",
   "execution_count": 122,
   "id": "809dfcd0",
   "metadata": {},
   "outputs": [
    {
     "data": {
      "text/plain": [
       "array([0, 4, 8])"
      ]
     },
     "execution_count": 122,
     "metadata": {},
     "output_type": "execute_result"
    }
   ],
   "source": [
    "a = np.arange(9).reshape(3,3)\n",
    "diagonal_matrix_value = np.diag(a)  # 대각행렬을 만들기 위해 2차원배열에서 대각값 추출 0,4,8\n",
    "diagonal_matrix_value"
   ]
  },
  {
   "cell_type": "code",
   "execution_count": 124,
   "id": "6ad17b55",
   "metadata": {},
   "outputs": [
    {
     "name": "stdout",
     "output_type": "stream",
     "text": [
      "[[1. 0. 0.]\n",
      " [0. 1. 0.]\n",
      " [0. 0. 1.]]\n",
      "[[1. 0. 0.]\n",
      " [0. 1. 0.]\n",
      " [0. 0. 1.]\n",
      " [0. 0. 0.]]\n",
      "[[0. 1. 0.]\n",
      " [0. 0. 1.]\n",
      " [0. 0. 0.]]\n"
     ]
    }
   ],
   "source": [
    "# 3x3 단위행렬 생성 (N=3)\n",
    "eye_matrix = np.eye(3)\n",
    "print(eye_matrix)\n",
    "# [[1. 0. 0.]\n",
    "#  [0. 1. 0.]\n",
    "#  [0. 0. 1.]]\n",
    "\n",
    "# 4x3 직사각형 행렬 생성 (N=4, M=3)\n",
    "rect_eye = np.eye(4, 3)\n",
    "print(rect_eye)\n",
    "# [[1. 0. 0.]\n",
    "#  [0. 1. 0.]\n",
    "#  [0. 0. 1.]\n",
    "#  [0. 0. 0.]]\n",
    "\n",
    "# k 매개변수로 대각선 위치 조정 (k=1은 주대각선 위로 한 칸)\n",
    "shifted_eye = np.eye(3, k=1)\n",
    "print(shifted_eye)\n",
    "# [[0. 1. 0.]\n",
    "#  [0. 0. 1.]\n",
    "#  [0. 0. 0.]]"
   ]
  },
  {
   "cell_type": "code",
   "execution_count": 127,
   "id": "abc7a496",
   "metadata": {},
   "outputs": [
    {
     "name": "stdout",
     "output_type": "stream",
     "text": [
      "원본 배열의 shape: (2, 3)\n",
      "zeros_like 결과:\n",
      " [[0 0 0]\n",
      " [0 0 0]]\n",
      "ones_like 결과:\n",
      " [[1 1 1]\n",
      " [1 1 1]]\n",
      "full_like 결과:\n",
      " [[7 7 7]\n",
      " [7 7 7]]\n"
     ]
    }
   ],
   "source": [
    "# 기존 배열\n",
    "arr = np.array([[1, 2, 3], [4, 5, 6]])\n",
    "\n",
    "# empty_like(): 초기화되지 않은 배열 생성\n",
    "empty_arr = np.empty_like(arr)\n",
    "\n",
    "# zeros_like(): 0으로 채워진 배열 생성\n",
    "zeros_arr = np.zeros_like(arr)\n",
    "\n",
    "# ones_like(): 1로 채워진 배열 생성\n",
    "ones_arr = np.ones_like(arr)\n",
    "\n",
    "# full_like(): 지정된 값으로 채워진 배열 생성\n",
    "full_arr = np.full_like(arr, 7)  # 7로 채워진 배열\n",
    "\n",
    "print(\"원본 배열의 shape:\", arr.shape)\n",
    "print(\"zeros_like 결과:\\n\", zeros_arr)\n",
    "print(\"ones_like 결과:\\n\", ones_arr)\n",
    "print(\"full_like 결과:\\n\", full_arr)\n"
   ]
  },
  {
   "cell_type": "markdown",
   "id": "6e25107a",
   "metadata": {},
   "source": [
    "# 행렬의 연산\n",
    "## 파이썬 자료형과의 비교"
   ]
  },
  {
   "cell_type": "code",
   "execution_count": 138,
   "id": "af756300",
   "metadata": {},
   "outputs": [
    {
     "data": {
      "text/plain": [
       "[1, 2, 3, 4, 5, 1, 2, 3, 4, 5]"
      ]
     },
     "execution_count": 138,
     "metadata": {},
     "output_type": "execute_result"
    }
   ],
   "source": [
    "list_data = [1,2,3,4,5]  # __add__, .append()\n",
    "list_data + list_data "
   ]
  },
  {
   "cell_type": "code",
   "execution_count": 146,
   "id": "021cf1fc",
   "metadata": {},
   "outputs": [
    {
     "data": {
      "text/plain": [
       "array([3, 4, 5, 6, 7])"
      ]
     },
     "execution_count": 146,
     "metadata": {},
     "output_type": "execute_result"
    }
   ],
   "source": [
    "## 요소별 연산 -> element wise\n",
    "a1 = np.array(list_data)\n",
    "a1 +2  # 브로드케스팅 사칙연산(2,2,2,2,2)"
   ]
  },
  {
   "cell_type": "code",
   "execution_count": 143,
   "id": "3944b2ec",
   "metadata": {},
   "outputs": [
    {
     "data": {
      "text/plain": [
       "array([3, 5, 4, 8, 7])"
      ]
     },
     "execution_count": 143,
     "metadata": {},
     "output_type": "execute_result"
    }
   ],
   "source": [
    "a2 = np.array([2,3,1,4,2])\n",
    "a1 + a2"
   ]
  },
  {
   "cell_type": "code",
   "execution_count": 148,
   "id": "58dd6f8c",
   "metadata": {},
   "outputs": [
    {
     "data": {
      "text/plain": [
       "(array([0, 1, 2]),\n",
       " array([[0],\n",
       "        [1],\n",
       "        [2]]))"
      ]
     },
     "execution_count": 148,
     "metadata": {},
     "output_type": "execute_result"
    }
   ],
   "source": [
    "a_array =np.arange(3)\n",
    "b_array = np.arange(3)[:,np.newaxis]\n",
    "a_array,b_array"
   ]
  },
  {
   "cell_type": "code",
   "execution_count": 149,
   "id": "4b0d7181",
   "metadata": {},
   "outputs": [
    {
     "data": {
      "text/plain": [
       "array([[0, 1, 2],\n",
       "       [1, 2, 3],\n",
       "       [2, 3, 4]])"
      ]
     },
     "execution_count": 149,
     "metadata": {},
     "output_type": "execute_result"
    }
   ],
   "source": [
    "a_array + b_array"
   ]
  },
  {
   "cell_type": "code",
   "execution_count": 128,
   "id": "82b2472e",
   "metadata": {},
   "outputs": [
    {
     "name": "stdout",
     "output_type": "stream",
     "text": [
      "[3 4 5 6 7]\n",
      "[ 3  6  9 12 15]\n",
      "[ 2  4  8 16 32]\n"
     ]
    }
   ],
   "source": [
    "import numpy as np\n",
    "\n",
    "arr = np.array([1, 2, 3, 4, 5])\n",
    "print(arr + 2)  # [3, 4, 5, 6, 7]\n",
    "print(arr * 3)  # [3, 6, 9, 12, 15]\n",
    "print(2 ** arr)  # [2, 4, 8, 16, 32]"
   ]
  },
  {
   "cell_type": "code",
   "execution_count": 129,
   "id": "9e94d456",
   "metadata": {},
   "outputs": [
    {
     "name": "stdout",
     "output_type": "stream",
     "text": [
      "덧셈: [ 6  8 10 12]\n",
      "뺄셈: [4 4 4 4]\n",
      "곱셈: [ 5 12 21 32]\n",
      "나눗셈: [5.         3.         2.33333333 2.        ]\n",
      "제곱: [ 1  4  9 16]\n",
      "제곱근: [1.         1.41421356 1.73205081 2.        ]\n",
      "지수: [ 2.71828183  7.3890561  20.08553692 54.59815003]\n",
      "로그: [0.         0.69314718 1.09861229 1.38629436]\n"
     ]
    }
   ],
   "source": [
    "# 기본 산술 연산 예제\n",
    "arr1 = np.array([1, 2, 3, 4])\n",
    "arr2 = np.array([5, 6, 7, 8])\n",
    "\n",
    "# 덧셈\n",
    "print(\"덧셈:\", arr1 + arr2)  # [6 8 10 12]\n",
    "\n",
    "# 뺄셈\n",
    "print(\"뺄셈:\", arr2 - arr1)  # [4 4 4 4]\n",
    "\n",
    "# 곱셈\n",
    "print(\"곱셈:\", arr1 * arr2)  # [5 12 21 32]\n",
    "\n",
    "# 나눗셈\n",
    "print(\"나눗셈:\", arr2 / arr1)  # [5. 3. 2.33... 2.]\n",
    "\n",
    "# 제곱\n",
    "print(\"제곱:\", np.square(arr1))  # [1 4 9 16]\n",
    "\n",
    "# 제곱근\n",
    "print(\"제곱근:\", np.sqrt(arr1))  # [1. 1.41421356 1.73205081 2.]\n",
    "\n",
    "# 지수\n",
    "print(\"지수:\", np.exp(arr1))  # [2.71828183 7.3890561 20.08553692 54.59815003]\n",
    "\n",
    "# 로그\n",
    "print(\"로그:\", np.log(arr1))  # [0. 0.69314718 1.09861229 1.38629436]"
   ]
  },
  {
   "cell_type": "code",
   "execution_count": 131,
   "id": "963a8ab0",
   "metadata": {},
   "outputs": [
    {
     "name": "stdout",
     "output_type": "stream",
     "text": [
      "덧셈:\n",
      " [[ 6  8]\n",
      " [10 12]]\n",
      "뺄셈:\n",
      " [[-4 -4]\n",
      " [-4 -4]]\n",
      "곱셈:\n",
      " [[ 5 12]\n",
      " [21 32]]\n",
      "나눗셈:\n",
      " [[0.2        0.33333333]\n",
      " [0.42857143 0.5       ]]\n"
     ]
    }
   ],
   "source": [
    "# shape이 같은 배열 간의 연산\n",
    "# 기본적으로 두 배열의 shape이 동일해야 한다. \n",
    "a = np.array([[1, 2], [3, 4]])\n",
    "b = np.array([[5, 6], [7, 8]])\n",
    "\n",
    "print(\"덧셈:\\n\", a + b)\n",
    "print(\"뺄셈:\\n\", a - b)\n",
    "print(\"곱셈:\\n\", a * b)\n",
    "print(\"나눗셈:\\n\", a / b)\n",
    "\n",
    "# shape이 다른 경우 오류 발생\n",
    "c = np.array([[1, 2, 3], [4, 5, 6]])  # shape: (2, 3)\n",
    "d = np.array([[1, 2], [3, 4]])        # shape: (2, 2)\n",
    "\n",
    "# 이 연산은 오류를 발생시킴\n",
    "# print(c + d)  # ValueError: operands could not be broadcast together"
   ]
  },
  {
   "cell_type": "code",
   "execution_count": 132,
   "id": "721684a0",
   "metadata": {},
   "outputs": [
    {
     "name": "stdout",
     "output_type": "stream",
     "text": [
      "같음: [ True False  True False  True]\n",
      "더 큼: [False False False  True False]\n",
      "더 작음: [False  True False False False]\n",
      "복합 조건: [False False  True  True False]\n",
      "3보다 큰 값: [4 5]\n"
     ]
    }
   ],
   "source": [
    "# 비교 연산 예제\n",
    "# 배열의 각 요소에 대해 개별적인 비교를 수행\n",
    "arr1 = np.array([1, 2, 3, 4, 5])\n",
    "arr2 = np.array([1, 3, 3, 0, 5])\n",
    "\n",
    "# 같음 비교\n",
    "print(\"같음:\", arr1 == arr2)  # [ True False  True False  True]\n",
    "\n",
    "# 크기 비교\n",
    "print(\"더 큼:\", arr1 > arr2)  # [False False False  True False]\n",
    "print(\"더 작음:\", arr1 < arr2)  # [False  True False False False]\n",
    "\n",
    "# 논리 연산 결합\n",
    "mask = (arr1 >= 3) & (arr2 <= 4)\n",
    "print(\"복합 조건:\", mask)  # [False False  True False False]\n",
    "\n",
    "# 비교 결과를 이용한 필터링\n",
    "filtered = arr1[arr1 > 3]\n",
    "print(\"3보다 큰 값:\", filtered)  # [4 5]"
   ]
  },
  {
   "cell_type": "code",
   "execution_count": 133,
   "id": "222391de",
   "metadata": {},
   "outputs": [
    {
     "name": "stdout",
     "output_type": "stream",
     "text": [
      "요소별 덧셈: [5 7 9]\n",
      "요소별 곱셈: [ 4 10 18]\n",
      "요소별 제곱: [1 4 9]\n",
      "요소별 제곱근: [1.         1.41421356 1.73205081]\n"
     ]
    }
   ],
   "source": [
    "# 요소별 연산 예제\n",
    "a = np.array([1, 2, 3])\n",
    "b = np.array([4, 5, 6])\n",
    "\n",
    "print(\"요소별 덧셈:\", a + b)      # [5 7 9]\n",
    "print(\"요소별 곱셈:\", a * b)      # [4 10 18]\n",
    "print(\"요소별 제곱:\", np.square(a))  # [1 4 9]\n",
    "print(\"요소별 제곱근:\", np.sqrt(a))  # [1. 1.41421356 1.73205081]"
   ]
  },
  {
   "cell_type": "markdown",
   "id": "248fedd3",
   "metadata": {},
   "source": [
    "## 브로드 캐스팅\n",
    "- 크기가 다른 배열 간의 연산을 가능하게 하는 NumPy의 강력한 기능\n",
    "- 차원이 다른 두 배열의 연산에서 낮은 차원의 배열이 차원을 맞추어 변환\n"
   ]
  },
  {
   "cell_type": "code",
   "execution_count": 136,
   "id": "c72a451d",
   "metadata": {},
   "outputs": [
    {
     "name": "stdout",
     "output_type": "stream",
     "text": [
      "배열 * 스칼라:\n",
      "[[ 2  4  6]\n",
      " [ 8 10 12]]\n",
      "\n",
      "2차원 배열 + 1차원 배열:\n",
      "[[2 2 4]\n",
      " [5 5 7]]\n"
     ]
    }
   ],
   "source": [
    "# 브로드캐스팅 예제\n",
    "arr = np.array([[1, 2, 3],\n",
    "                [4, 5, 6]])\n",
    "scalar = 2\n",
    "\n",
    "# 배열과 스칼라의 연산\n",
    "print(\"배열 * 스칼라:\")\n",
    "print(arr * scalar)\n",
    "# [[ 2  4  6]\n",
    "#  [ 8 10 12]]\n",
    "\n",
    "# 1차원 배열과 2차원 배열의 연산\n",
    "row = np.array([1, 0, 1])\n",
    "print(\"\\n2차원 배열 + 1차원 배열:\")\n",
    "print(arr + row)\n",
    "# [[2 2 4]\n",
    "#  [5 5 7]]"
   ]
  },
  {
   "cell_type": "code",
   "execution_count": 137,
   "id": "77cfc3fe",
   "metadata": {},
   "outputs": [
    {
     "name": "stdout",
     "output_type": "stream",
     "text": [
      "합계: 21\n",
      "평균: 3.5\n",
      "표준편차: 1.707825127659933\n",
      "행 방향 합계: [ 6 15]\n",
      "열 방향 평균: [2.5 3.5 4.5]\n"
     ]
    }
   ],
   "source": [
    "arr = np.array([[1, 2, 3],\n",
    "                [4, 5, 6]])\n",
    "\n",
    "print(\"합계:\", arr.sum())          # 21\n",
    "print(\"평균:\", arr.mean())         # 3.5\n",
    "print(\"표준편차:\", arr.std())      # 1.707825127659933\n",
    "print(\"행 방향 합계:\", arr.sum(axis=1))  # [6 15]\n",
    "print(\"열 방향 평균:\", arr.mean(axis=0))  # [2.5 3.5 4.5]"
   ]
  },
  {
   "cell_type": "markdown",
   "id": "b1c43f64",
   "metadata": {},
   "source": [
    "## 배열의 결합, 연결\n",
    "\n",
    "concatenate(),vstack(), hstack()"
   ]
  },
  {
   "cell_type": "code",
   "execution_count": 153,
   "id": "a754f57a",
   "metadata": {},
   "outputs": [
    {
     "data": {
      "text/plain": [
       "(array([0, 1, 2]),\n",
       " array([[0],\n",
       "        [1],\n",
       "        [2]]))"
      ]
     },
     "execution_count": 153,
     "metadata": {},
     "output_type": "execute_result"
    }
   ],
   "source": [
    "a_array,b_array"
   ]
  },
  {
   "cell_type": "code",
   "execution_count": 154,
   "id": "7647d5ab",
   "metadata": {},
   "outputs": [
    {
     "ename": "ValueError",
     "evalue": "all the input arrays must have same number of dimensions, but the array at index 0 has 1 dimension(s) and the array at index 1 has 2 dimension(s)",
     "output_type": "error",
     "traceback": [
      "\u001b[31m---------------------------------------------------------------------------\u001b[39m",
      "\u001b[31mValueError\u001b[39m                                Traceback (most recent call last)",
      "\u001b[36mCell\u001b[39m\u001b[36m \u001b[39m\u001b[32mIn[154]\u001b[39m\u001b[32m, line 1\u001b[39m\n\u001b[32m----> \u001b[39m\u001b[32m1\u001b[39m np.concatenate([a_array,b_array])\n",
      "\u001b[31mValueError\u001b[39m: all the input arrays must have same number of dimensions, but the array at index 0 has 1 dimension(s) and the array at index 1 has 2 dimension(s)"
     ]
    }
   ],
   "source": [
    "np.concatenate([a_array,b_array])"
   ]
  },
  {
   "cell_type": "code",
   "execution_count": 155,
   "id": "3850c9fa",
   "metadata": {},
   "outputs": [
    {
     "data": {
      "text/plain": [
       "array([1, 2, 3, 4, 5, 6, 7])"
      ]
     },
     "execution_count": 155,
     "metadata": {},
     "output_type": "execute_result"
    }
   ],
   "source": [
    "v1 =[1,2,3]\n",
    "v2 = [4,5,6,7]\n",
    "np.concatenate([v1,v2],axis=0)\n"
   ]
  },
  {
   "cell_type": "code",
   "execution_count": 156,
   "id": "1902e3ee",
   "metadata": {},
   "outputs": [
    {
     "data": {
      "text/plain": [
       "array([[1, 2, 3],\n",
       "       [1, 2, 3],\n",
       "       [1, 2, 3],\n",
       "       [1, 2, 3]])"
      ]
     },
     "execution_count": 156,
     "metadata": {},
     "output_type": "execute_result"
    }
   ],
   "source": [
    "grid = np.array([[1,2,3],[1,2,3]])\n",
    "np.concatenate([grid,grid], axis=0) #np.concatenate([grid,grid],axis=0)"
   ]
  },
  {
   "cell_type": "code",
   "execution_count": 225,
   "id": "517808c3",
   "metadata": {},
   "outputs": [
    {
     "data": {
      "text/plain": [
       "array([[1, 2, 3],\n",
       "       [1, 2, 3]])"
      ]
     },
     "execution_count": 225,
     "metadata": {},
     "output_type": "execute_result"
    }
   ],
   "source": [
    "np.vstack([v1,v1])"
   ]
  },
  {
   "cell_type": "markdown",
   "id": "c3ce11f2",
   "metadata": {},
   "source": [
    "# 인덱싱\n",
    "axis() = 0\n",
    "\n",
    "aixs = =1\n",
    "\n",
    "aixs = =3\n"
   ]
  },
  {
   "cell_type": "code",
   "execution_count": 159,
   "id": "81d0c483",
   "metadata": {},
   "outputs": [
    {
     "data": {
      "text/plain": [
       "np.int64(21)"
      ]
     },
     "execution_count": 159,
     "metadata": {},
     "output_type": "execute_result"
    }
   ],
   "source": [
    "arr_2d = np.array([[1,2,3],[4,5,6]])\n",
    "np.sum(arr_2d)"
   ]
  },
  {
   "cell_type": "code",
   "execution_count": 160,
   "id": "53e99cad",
   "metadata": {},
   "outputs": [
    {
     "data": {
      "text/plain": [
       "array([ 6, 15])"
      ]
     },
     "execution_count": 160,
     "metadata": {},
     "output_type": "execute_result"
    }
   ],
   "source": [
    "np.sum(arr_2d, axis=1)"
   ]
  },
  {
   "cell_type": "markdown",
   "id": "6edda817",
   "metadata": {},
   "source": [
    "## 배열의 인덱싱\n",
    "배열[행인덱스, 열인덱스]\n"
   ]
  },
  {
   "cell_type": "code",
   "execution_count": 161,
   "id": "604b8595",
   "metadata": {},
   "outputs": [
    {
     "data": {
      "text/plain": [
       "(np.int64(1), np.int64(5))"
      ]
     },
     "execution_count": 161,
     "metadata": {},
     "output_type": "execute_result"
    }
   ],
   "source": [
    "arr = np.array([1,2,3,4,5])\n",
    "arr[0],arr[-1]"
   ]
  },
  {
   "cell_type": "markdown",
   "id": "114ead9d",
   "metadata": {},
   "source": [
    "## 슬라이싱\n",
    "- [:] 전체\n",
    "- [0:n] 0~n-1까지\n",
    "- [:5] 0~4 까지\n",
    "\n",
    "리스트의 차이점\n",
    "- 리스트: 복사본을 리턴\n",
    "- 배열: 원본 배열의 뷰 -> 복사 x, 원본에도 영향을미친다.\n",
    "- 슬라이싱 copy()"
   ]
  },
  {
   "cell_type": "code",
   "execution_count": 163,
   "id": "c9fa30f4",
   "metadata": {},
   "outputs": [
    {
     "name": "stdout",
     "output_type": "stream",
     "text": [
      "[2 3 4]\n",
      "[0 2 4]\n"
     ]
    }
   ],
   "source": [
    "arr = np.array([0, 1, 2, 3, 4, 5])\n",
    "print(arr[2:5])    # [2 3 4]\n",
    "print(arr[::2])    # [0 2 4]"
   ]
  },
  {
   "cell_type": "code",
   "execution_count": 164,
   "id": "6ff429e9",
   "metadata": {},
   "outputs": [
    {
     "name": "stdout",
     "output_type": "stream",
     "text": [
      "[[2 3]\n",
      " [6 7]]\n"
     ]
    }
   ],
   "source": [
    "arr_2d = np.array([[1, 2, 3, 4],\n",
    "                   [5, 6, 7, 8],\n",
    "                   [9, 10, 11, 12]])\n",
    "print(arr_2d[:2, 1:3])    # 처음 두 행, 두 번째와 세 번째 열\n",
    "# [[2 3]\n",
    "#  [6 7]]"
   ]
  },
  {
   "cell_type": "code",
   "execution_count": 179,
   "id": "fbb8498c",
   "metadata": {},
   "outputs": [
    {
     "data": {
      "text/plain": [
       "array([0, 1, 2, 3, 4, 5, 6, 7, 8, 9])"
      ]
     },
     "execution_count": 179,
     "metadata": {},
     "output_type": "execute_result"
    }
   ],
   "source": [
    "x = np.arange(10)\n",
    "x"
   ]
  },
  {
   "cell_type": "code",
   "execution_count": 174,
   "id": "3057c872",
   "metadata": {},
   "outputs": [
    {
     "data": {
      "text/plain": [
       "array([4, 5, 6])"
      ]
     },
     "execution_count": 174,
     "metadata": {},
     "output_type": "execute_result"
    }
   ],
   "source": [
    "new_x = x[4:7]\n",
    "new_x"
   ]
  },
  {
   "cell_type": "code",
   "execution_count": 175,
   "id": "9037be2f",
   "metadata": {},
   "outputs": [
    {
     "data": {
      "text/plain": [
       "(array([100,   5,   6]),\n",
       " array([  0,   1,   2,   3, 100,   5,   6,   7,   8,   9]))"
      ]
     },
     "execution_count": 175,
     "metadata": {},
     "output_type": "execute_result"
    }
   ],
   "source": [
    "new_x[0] = 100\n",
    "new_x ,x"
   ]
  },
  {
   "cell_type": "code",
   "execution_count": 180,
   "id": "34285ec8",
   "metadata": {},
   "outputs": [
    {
     "data": {
      "text/plain": [
       "(array([200,   5,   6]), array([0, 1, 2, 3, 4, 5, 6, 7, 8, 9]))"
      ]
     },
     "execution_count": 180,
     "metadata": {},
     "output_type": "execute_result"
    }
   ],
   "source": [
    "new_x1 = x[4:7].copy()\n",
    "new_x1[0] = 200\n",
    "new_x1 ,x\n"
   ]
  },
  {
   "cell_type": "markdown",
   "id": "504e716f",
   "metadata": {},
   "source": [
    "# 인덱싱 연습하기"
   ]
  },
  {
   "cell_type": "code",
   "execution_count": 2,
   "id": "47d50e39",
   "metadata": {},
   "outputs": [
    {
     "name": "stdout",
     "output_type": "stream",
     "text": [
      "원본 4x4 배열:\n",
      "[[ 0  1  2  3]\n",
      " [ 4  5  6  7]\n",
      " [ 8  9 10 11]\n",
      " [12 13 14 15]]\n",
      "------------------------------\n"
     ]
    }
   ],
   "source": [
    "import numpy as np\n",
    "\n",
    "# 기준이 될 4x4 배열 생성 (이미지와움 동일하게 0부터 15까지의 숫자로 채)\n",
    "arr_2d = np.arange(16).reshape((4, 4))\n",
    "\n",
    "print(\"원본 4x4 배열:\")\n",
    "print(arr_2d)\n",
    "print(\"-\" * 30)\n"
   ]
  },
  {
   "cell_type": "code",
   "execution_count": 194,
   "id": "97bdcc7c",
   "metadata": {},
   "outputs": [
    {
     "name": "stdout",
     "output_type": "stream",
     "text": [
      "[0 1 2 3]\n"
     ]
    }
   ],
   "source": [
    "# 첫 번째 행 전체\n",
    "print(arr_2d[0])"
   ]
  },
  {
   "cell_type": "code",
   "execution_count": 6,
   "id": "41608479",
   "metadata": {},
   "outputs": [
    {
     "name": "stdout",
     "output_type": "stream",
     "text": [
      "[ 3  7 11 15]\n",
      "[ 3  7 11 15]\n"
     ]
    }
   ],
   "source": [
    "#마지막 열 전체\n",
    "print(arr_2d[:,3])\n",
    "print(arr_2d[:,-1])"
   ]
  },
  {
   "cell_type": "code",
   "execution_count": 17,
   "id": "d412a560",
   "metadata": {},
   "outputs": [
    {
     "name": "stdout",
     "output_type": "stream",
     "text": [
      "[[ 0  3]\n",
      " [12 15]]\n",
      "[[ 0  3]\n",
      " [12 15]]\n"
     ]
    }
   ],
   "source": [
    "#첫 번째 행과 마지막 행만 선택, 각 행의 첫번째, 마지막 열 선택\n",
    "print(arr_2d[0:4:3,0:4:3])\n",
    "print(arr_2d[[0,3]][:,[0,3]])"
   ]
  },
  {
   "cell_type": "code",
   "execution_count": 20,
   "id": "a23320bd",
   "metadata": {},
   "outputs": [
    {
     "name": "stdout",
     "output_type": "stream",
     "text": [
      "[[ 1  3]\n",
      " [ 9 11]]\n",
      "[[ 1  3]\n",
      " [ 9 11]]\n",
      "[[ 1  3]\n",
      " [ 9 11]]\n"
     ]
    }
   ],
   "source": [
    "# 짝수 인덱스 행(0번째, 2번째 행), 홀수 인덱스 열 선택\n",
    "print(arr_2d[0:3:2,1::2])\n",
    "print(arr_2d[::2,1::2])\n",
    "print(arr_2d[::2][:,1::2])\n"
   ]
  },
  {
   "cell_type": "code",
   "execution_count": 21,
   "id": "519619df",
   "metadata": {},
   "outputs": [
    {
     "name": "stdout",
     "output_type": "stream",
     "text": [
      "원본 4,6,6 배열:\n",
      "[[[ 0  1  2  3  4  5]\n",
      "  [ 6  7  8  9 10 11]\n",
      "  [12 13 14 15 16 17]\n",
      "  [18 19 20 21 22 23]\n",
      "  [24 25 26 27 28 29]\n",
      "  [30 31 32 33 34 35]]\n",
      "\n",
      " [[ 0  1  2  3  4  5]\n",
      "  [ 6  7  8  9 10 11]\n",
      "  [12 13 14 15 16 17]\n",
      "  [18 19 20 21 22 23]\n",
      "  [24 25 26 27 28 29]\n",
      "  [30 31 32 33 34 35]]\n",
      "\n",
      " [[ 0  1  2  3  4  5]\n",
      "  [ 6  7  8  9 10 11]\n",
      "  [12 13 14 15 16 17]\n",
      "  [18 19 20 21 22 23]\n",
      "  [24 25 26 27 28 29]\n",
      "  [30 31 32 33 34 35]]\n",
      "\n",
      " [[ 0  1  2  3  4  5]\n",
      "  [ 6  7  8  9 10 11]\n",
      "  [12 13 14 15 16 17]\n",
      "  [18 19 20 21 22 23]\n",
      "  [24 25 26 27 28 29]\n",
      "  [30 31 32 33 34 35]]]\n",
      "------------------------------\n"
     ]
    }
   ],
   "source": [
    "#위의 3차원 행렬을 작성하세요\n",
    "# 기준이 될 4,6,6 배열 생성 (이미지와움 동일하게 0부터 15까지의 숫자로 채)\n",
    "arr_3d = np.arange(36).reshape((6,6))\n",
    "\n",
    "arr_4d =np.stack((arr_3d,arr_3d,arr_3d,arr_3d)).reshape((4,6,6))\n",
    "\n",
    "\n",
    "print(\"원본 4,6,6 배열:\")\n",
    "print(arr_4d)\n",
    "print(\"-\" * 30)\n"
   ]
  },
  {
   "cell_type": "code",
   "execution_count": 22,
   "id": "60f9beb1",
   "metadata": {},
   "outputs": [
    {
     "data": {
      "text/plain": [
       "array([[ 0,  1,  2,  3,  4,  5],\n",
       "       [ 6,  7,  8,  9, 10, 11],\n",
       "       [12, 13, 14, 15, 16, 17],\n",
       "       [18, 19, 20, 21, 22, 23],\n",
       "       [24, 25, 26, 27, 28, 29],\n",
       "       [30, 31, 32, 33, 34, 35]])"
      ]
     },
     "execution_count": 22,
     "metadata": {},
     "output_type": "execute_result"
    }
   ],
   "source": [
    "# 2번째 층(깊이, 면) 선택\n",
    "arr_4d[1, :, :]"
   ]
  },
  {
   "cell_type": "code",
   "execution_count": 23,
   "id": "b8436242",
   "metadata": {},
   "outputs": [
    {
     "data": {
      "text/plain": [
       "array([[[ 0,  1,  2,  3,  4,  5],\n",
       "        [ 6,  7,  8,  9, 10, 11],\n",
       "        [12, 13, 14, 15, 16, 17],\n",
       "        [18, 19, 20, 21, 22, 23],\n",
       "        [24, 25, 26, 27, 28, 29],\n",
       "        [30, 31, 32, 33, 34, 35]],\n",
       "\n",
       "       [[ 1,  1,  2,  3,  4,  5],\n",
       "        [ 6,  7,  8,  9, 10, 11],\n",
       "        [12, 13, 14, 15, 16, 17],\n",
       "        [18, 19, 20, 21, 22, 23],\n",
       "        [24, 25, 26, 27, 28, 29],\n",
       "        [30, 31, 32, 33, 34, 35]],\n",
       "\n",
       "       [[ 2,  1,  2,  3,  4,  5],\n",
       "        [ 6,  7,  8,  9, 10, 11],\n",
       "        [12, 13, 14, 15, 16, 17],\n",
       "        [18, 19, 20, 21, 22, 23],\n",
       "        [24, 25, 26, 27, 28, 29],\n",
       "        [30, 31, 32, 33, 34, 35]],\n",
       "\n",
       "       [[ 3,  1,  2,  3,  4,  5],\n",
       "        [ 6,  7,  8,  9, 10, 11],\n",
       "        [12, 13, 14, 15, 16, 17],\n",
       "        [18, 19, 20, 21, 22, 23],\n",
       "        [24, 25, 26, 27, 28, 29],\n",
       "        [30, 31, 32, 33, 34, 35]]])"
      ]
     },
     "execution_count": 23,
     "metadata": {},
     "output_type": "execute_result"
    }
   ],
   "source": [
    "#각 층의 (0,0)위치의 값을 각 층의 인덱스로 설정\n",
    "\n",
    "for d_idx in range(4):\n",
    "  arr_4d[d_idx, 0,0] = d_idx\n",
    "arr_4d"
   ]
  },
  {
   "cell_type": "code",
   "execution_count": null,
   "id": "f1c3e6ac",
   "metadata": {},
   "outputs": [
    {
     "data": {
      "text/plain": [
       "array([[ 0,  1,  2,  3,  4,  5],\n",
       "       [ 6,  7,  8,  9, 10, 11],\n",
       "       [12, 13, 14, 15, 16, 17],\n",
       "       [18, 19, 20, 21, 22, 23],\n",
       "       [24, 25, 26, 27, 28, 29],\n",
       "       [30, 31, 32, 33, 34, 35]])"
      ]
     },
     "execution_count": 234,
     "metadata": {},
     "output_type": "execute_result"
    }
   ],
   "source": [
    "# 2번째 층 선택\n",
    "arr_4d[1]\n"
   ]
  },
  {
   "cell_type": "code",
   "execution_count": 24,
   "id": "7075b3b9",
   "metadata": {},
   "outputs": [
    {
     "data": {
      "text/plain": [
       "array([19, 19, 19, 19])"
      ]
     },
     "execution_count": 24,
     "metadata": {},
     "output_type": "execute_result"
    }
   ],
   "source": [
    "#모든 층, 네번째행, 두번째 열 원소 선택, 1차원 배열로 작성\n",
    "arr_4d[1,3:4,1]\n",
    "arr_4d[:, 3, 1]"
   ]
  },
  {
   "cell_type": "code",
   "execution_count": 25,
   "id": "8daf92a1",
   "metadata": {},
   "outputs": [
    {
     "data": {
      "text/plain": [
       "(array([[[28, 29],\n",
       "         [34, 35]],\n",
       " \n",
       "        [[28, 29],\n",
       "         [34, 35]]]),\n",
       " array([[[28, 29],\n",
       "         [34, 35]],\n",
       " \n",
       "        [[28, 29],\n",
       "         [34, 35]]]))"
      ]
     },
     "execution_count": 25,
     "metadata": {},
     "output_type": "execute_result"
    }
   ],
   "source": [
    "#배열의 첫 두 층, 마지막 두 행, 마지막 두 열 선택\n",
    "arr_4d[2:,4:6,4:6] , arr_4d[:2, -2:, -2:]"
   ]
  },
  {
   "cell_type": "code",
   "execution_count": 26,
   "id": "235a288e",
   "metadata": {},
   "outputs": [
    {
     "data": {
      "text/plain": [
       "(array([[ 2,  8, 14, 20, 26, 32],\n",
       "        [ 2,  8, 14, 20, 26, 32]]),\n",
       " array([[ 2,  8, 14, 20, 26, 32],\n",
       "        [ 2,  8, 14, 20, 26, 32]]))"
      ]
     },
     "execution_count": 26,
     "metadata": {},
     "output_type": "execute_result"
    }
   ],
   "source": [
    "#짝수 인덱스층, 모든행의 세번째열 선택\n",
    "arr_4d[:5:2,:,2] , arr_4d[::2, :, 2]"
   ]
  },
  {
   "cell_type": "code",
   "execution_count": 27,
   "id": "b0c515bc",
   "metadata": {},
   "outputs": [
    {
     "data": {
      "text/plain": [
       "(array([[ 7,  9, 11],\n",
       "        [13, 15, 17],\n",
       "        [19, 21, 23]]),\n",
       " array([[ 7,  9, 11],\n",
       "        [13, 15, 17],\n",
       "        [19, 21, 23]]))"
      ]
     },
     "execution_count": 27,
     "metadata": {},
     "output_type": "execute_result"
    }
   ],
   "source": [
    "#세번째 층, 두째번째 행에서 네번 행, 홀수 인덱스 열\n",
    "arr_4d[2,1:4,1:6:2] , arr_4d[2, 1:4, 1::2]"
   ]
  },
  {
   "cell_type": "markdown",
   "id": "091906d0",
   "metadata": {},
   "source": [
    "# 인덱싱 기법\n",
    "\n",
    "- 기본 인덱싱\n",
    "- 블리언 인덱싱\n",
    "- 팬시 인덱싱"
   ]
  },
  {
   "cell_type": "markdown",
   "id": "b5bdf2c9",
   "metadata": {},
   "source": [
    "## 블리언 인덱싱\n",
    "비교연산자, 논리연산자를 이용한 마스크 행렬을 생성\n",
    "마스크 행렬을 이용한 인덱싱"
   ]
  },
  {
   "cell_type": "code",
   "execution_count": 31,
   "id": "232697d3",
   "metadata": {},
   "outputs": [
    {
     "data": {
      "text/plain": [
       "array([ True,  True, False, False, False])"
      ]
     },
     "execution_count": 31,
     "metadata": {},
     "output_type": "execute_result"
    }
   ],
   "source": [
    "# 부울행렬\n",
    "x = np.array([1,2,3,4,5])\n",
    "x<3"
   ]
  },
  {
   "cell_type": "code",
   "execution_count": 32,
   "id": "a4db9664",
   "metadata": {},
   "outputs": [
    {
     "data": {
      "text/plain": [
       "array([ True,  True, False, False, False])"
      ]
     },
     "execution_count": 32,
     "metadata": {},
     "output_type": "execute_result"
    }
   ],
   "source": [
    "np.less(x,3)"
   ]
  },
  {
   "cell_type": "code",
   "execution_count": 37,
   "id": "7863784b",
   "metadata": {},
   "outputs": [
    {
     "data": {
      "text/plain": [
       "array([[False, False, False],\n",
       "       [False, False,  True]])"
      ]
     },
     "execution_count": 37,
     "metadata": {},
     "output_type": "execute_result"
    }
   ],
   "source": [
    "x1 = np.array([[1,2,3],[4,5,6]])\n",
    "x1.shape\n",
    "x1 > 5\n"
   ]
  },
  {
   "cell_type": "code",
   "execution_count": 40,
   "id": "9b95b1d4",
   "metadata": {},
   "outputs": [
    {
     "data": {
      "text/plain": [
       "array([[False, False, False, False],\n",
       "       [False,  True,  True,  True],\n",
       "       [ True,  True,  True,  True],\n",
       "       [ True,  True,  True,  True],\n",
       "       [ True,  True,  True,  True],\n",
       "       [ True,  True,  True,  True],\n",
       "       [ True,  True,  True,  True]])"
      ]
     },
     "execution_count": 40,
     "metadata": {},
     "output_type": "execute_result"
    }
   ],
   "source": [
    "data =np.arange(28).reshape(7,4)\n",
    "data > 4"
   ]
  },
  {
   "cell_type": "code",
   "execution_count": 43,
   "id": "76a63ffb",
   "metadata": {},
   "outputs": [
    {
     "data": {
      "text/plain": [
       "array([ 6,  7,  8,  9, 10, 11, 12, 13, 14, 15, 16, 17, 18, 19, 20, 21, 22,\n",
       "       23, 24, 25, 26, 27])"
      ]
     },
     "execution_count": 43,
     "metadata": {},
     "output_type": "execute_result"
    }
   ],
   "source": [
    "data[data > 5]"
   ]
  },
  {
   "cell_type": "code",
   "execution_count": 48,
   "id": "fef2aa94",
   "metadata": {},
   "outputs": [
    {
     "data": {
      "text/plain": [
       "array(['Bob', 'Joe', 'Will', 'Bob', 'loe', 'Jhon', 'Jhon'], dtype='<U4')"
      ]
     },
     "execution_count": 48,
     "metadata": {},
     "output_type": "execute_result"
    }
   ],
   "source": [
    "name = np.array(['Bob','Joe','Will','Bob','loe','Jhon','Jhon'])\n",
    "name"
   ]
  },
  {
   "cell_type": "code",
   "execution_count": 49,
   "id": "77414a1a",
   "metadata": {},
   "outputs": [
    {
     "data": {
      "text/plain": [
       "array([ True, False, False,  True, False, False, False])"
      ]
     },
     "execution_count": 49,
     "metadata": {},
     "output_type": "execute_result"
    }
   ],
   "source": [
    "name =='Bob'"
   ]
  },
  {
   "cell_type": "code",
   "execution_count": 71,
   "id": "e7eee354",
   "metadata": {},
   "outputs": [
    {
     "data": {
      "text/plain": [
       "array([[ 0,  1,  2,  3],\n",
       "       [ 4,  5,  6,  7],\n",
       "       [ 8,  9, 10, 11],\n",
       "       [12, 13, 14, 15],\n",
       "       [16, 17, 18, 19],\n",
       "       [20, 21, 22, 23],\n",
       "       [24, 25, 26, 27]])"
      ]
     },
     "execution_count": 71,
     "metadata": {},
     "output_type": "execute_result"
    }
   ],
   "source": [
    "data"
   ]
  },
  {
   "cell_type": "code",
   "execution_count": 53,
   "id": "04aa604d",
   "metadata": {},
   "outputs": [
    {
     "data": {
      "text/plain": [
       "array([ 6,  7,  8,  9, 10, 11, 12, 13, 14, 15, 16, 17, 18, 19, 20, 21, 22,\n",
       "       23, 24, 25, 26, 27])"
      ]
     },
     "execution_count": 53,
     "metadata": {},
     "output_type": "execute_result"
    }
   ],
   "source": [
    "data[data > 5]  # 조건에 맞는 값 추출 -> 1차원"
   ]
  },
  {
   "cell_type": "code",
   "execution_count": 70,
   "id": "9f468786",
   "metadata": {},
   "outputs": [
    {
     "data": {
      "text/plain": [
       "array([[ 0,  1,  2,  3],\n",
       "       [12, 13, 14, 15]])"
      ]
     },
     "execution_count": 70,
     "metadata": {},
     "output_type": "execute_result"
    }
   ],
   "source": [
    "data[name =='Bob']  # 부울인덱싱"
   ]
  },
  {
   "cell_type": "markdown",
   "id": "7867e9a4",
   "metadata": {},
   "source": [
    "## 조건식의 규칙\n",
    "- 조건식으로 사용할 행렬의 값이 문자여도 결과인 true/False 식으로 나오면 필터가 된다.\n",
    "- 필터로 사용할 행렬의 개수 ==원본 데이터의 개수 : \"짝이 맞아야 한다\" Indexeeror\n",
    "- 행렬[조건식, ]\n",
    "- 행렬 [:, 조건식] \n",
    "- 괄호()로 우선순위를 지정할 수 있다.\n",
    "- 복합조건: 논리함수 and, or-> &, | 로 표현한다\n",
    "- 부정연산자: != , ~"
   ]
  },
  {
   "cell_type": "code",
   "execution_count": 54,
   "id": "88269f85",
   "metadata": {},
   "outputs": [
    {
     "data": {
      "text/plain": [
       "array(['Bob', 'Joe', 'Will', 'Bob', 'loe', 'Jhon', 'Jhon'], dtype='<U4')"
      ]
     },
     "execution_count": 54,
     "metadata": {},
     "output_type": "execute_result"
    }
   ],
   "source": [
    "name"
   ]
  },
  {
   "cell_type": "code",
   "execution_count": 69,
   "id": "5e9031b1",
   "metadata": {},
   "outputs": [
    {
     "ename": "TypeError",
     "evalue": "'builtin_function_or_method' object is not subscriptable",
     "output_type": "error",
     "traceback": [
      "\u001b[31m---------------------------------------------------------------------------\u001b[39m",
      "\u001b[31mTypeError\u001b[39m                                 Traceback (most recent call last)",
      "\u001b[36mCell\u001b[39m\u001b[36m \u001b[39m\u001b[32mIn[69]\u001b[39m\u001b[32m, line 1\u001b[39m\n\u001b[32m----> \u001b[39m\u001b[32m1\u001b[39m name1 = np.array[\u001b[33m'\u001b[39m\u001b[33mBob\u001b[39m\u001b[33m'\u001b[39m,\u001b[33m'\u001b[39m\u001b[33mJoe\u001b[39m\u001b[33m'\u001b[39m,\u001b[33m'\u001b[39m\u001b[33mWill\u001b[39m\u001b[33m'\u001b[39m]\n\u001b[32m      2\u001b[39m data[name1 ==\u001b[33m'\u001b[39m\u001b[33mBob\u001b[39m\u001b[33m'\u001b[39m]\n",
      "\u001b[31mTypeError\u001b[39m: 'builtin_function_or_method' object is not subscriptable"
     ]
    }
   ],
   "source": [
    "name1 = np.array['Bob','Joe','Will']\n",
    "data[name1 =='Bob']  # 2d array idenx [r,c]\n"
   ]
  },
  {
   "cell_type": "code",
   "execution_count": 63,
   "id": "fb235680",
   "metadata": {},
   "outputs": [
    {
     "data": {
      "text/plain": [
       "array([[ 0,  1,  2,  3],\n",
       "       [12, 13, 14, 15]])"
      ]
     },
     "execution_count": 63,
     "metadata": {},
     "output_type": "execute_result"
    }
   ],
   "source": [
    "data[name =='Bob', :]"
   ]
  },
  {
   "cell_type": "code",
   "execution_count": 62,
   "id": "8aaf3bc1",
   "metadata": {},
   "outputs": [
    {
     "data": {
      "text/plain": [
       "array([ 1, 13])"
      ]
     },
     "execution_count": 62,
     "metadata": {},
     "output_type": "execute_result"
    }
   ],
   "source": [
    "data[name =='Bob', 1]"
   ]
  },
  {
   "cell_type": "code",
   "execution_count": 65,
   "id": "d4f01613",
   "metadata": {},
   "outputs": [
    {
     "ename": "SyntaxError",
     "evalue": "invalid syntax (900916167.py, line 1)",
     "output_type": "error",
     "traceback": [
      "  \u001b[36mCell\u001b[39m\u001b[36m \u001b[39m\u001b[32mIn[65]\u001b[39m\u001b[32m, line 1\u001b[39m\n\u001b[31m    \u001b[39m\u001b[31mdata[,name =='Bob']\u001b[39m\n         ^\n\u001b[31mSyntaxError\u001b[39m\u001b[31m:\u001b[39m invalid syntax\n"
     ]
    }
   ],
   "source": [
    "data[,name =='Bob']"
   ]
  },
  {
   "cell_type": "code",
   "execution_count": 73,
   "id": "bab3634f",
   "metadata": {},
   "outputs": [],
   "source": [
    "mask = (name=='Bob') & (name =='Will')"
   ]
  },
  {
   "cell_type": "code",
   "execution_count": 74,
   "id": "35a84944",
   "metadata": {},
   "outputs": [
    {
     "data": {
      "text/plain": [
       "array([], shape=(0, 4), dtype=int64)"
      ]
     },
     "execution_count": 74,
     "metadata": {},
     "output_type": "execute_result"
    }
   ],
   "source": [
    "data[mask]"
   ]
  },
  {
   "cell_type": "markdown",
   "id": "d5d627d4",
   "metadata": {},
   "source": [
    "# 팬시 인덱싱\n",
    "- 정수 리스트를 인덱스로 사용\n",
    "- 행,열의 순서를 바꿀 수 있다.\n"
   ]
  },
  {
   "cell_type": "code",
   "execution_count": 77,
   "id": "f7adbef8",
   "metadata": {},
   "outputs": [
    {
     "data": {
      "text/plain": [
       "array([[ 0,  1,  2,  3],\n",
       "       [ 4,  5,  6,  7],\n",
       "       [ 8,  9, 10, 11],\n",
       "       [12, 13, 14, 15],\n",
       "       [16, 17, 18, 19],\n",
       "       [20, 21, 22, 23],\n",
       "       [24, 25, 26, 27]])"
      ]
     },
     "execution_count": 77,
     "metadata": {},
     "output_type": "execute_result"
    }
   ],
   "source": [
    "data"
   ]
  },
  {
   "cell_type": "code",
   "execution_count": 78,
   "id": "0feccceb",
   "metadata": {},
   "outputs": [
    {
     "data": {
      "text/plain": [
       "array([[12, 13, 14, 15],\n",
       "       [ 0,  1,  2,  3]])"
      ]
     },
     "execution_count": 78,
     "metadata": {},
     "output_type": "execute_result"
    }
   ],
   "source": [
    "data[[3,0]]"
   ]
  },
  {
   "cell_type": "code",
   "execution_count": 80,
   "id": "3a5d236b",
   "metadata": {},
   "outputs": [
    {
     "data": {
      "text/plain": [
       "array([[1.30264697e-311, 1.05730048e-321, 0.00000000e+000,\n",
       "        0.00000000e+000],\n",
       "       [0.00000000e+000, 5.02034658e+175, 8.01026774e+165,\n",
       "        1.20101503e-075],\n",
       "       [1.27915678e+161, 3.54086817e-061, 3.24555139e-057,\n",
       "        7.11388708e-144],\n",
       "       [3.59751658e+252, 2.24154146e+174, 3.11380495e+175,\n",
       "        1.70098498e+256],\n",
       "       [5.49109388e-143, 1.06396443e+224, 3.96041428e+246,\n",
       "        1.16318408e-028],\n",
       "       [1.32350439e-071, 4.25135880e+174, 1.57324236e+161,\n",
       "        4.08310963e-033],\n",
       "       [2.24151504e+174, 3.36163259e-067, 8.26661039e-072,\n",
       "        3.18119368e-028],\n",
       "       [5.40126512e-062, 5.74015544e+180, 1.94919988e-153,\n",
       "        1.51139928e-142]])"
      ]
     },
     "execution_count": 80,
     "metadata": {},
     "output_type": "execute_result"
    }
   ],
   "source": [
    "arr = np.empty((8,4))\n",
    "arr"
   ]
  },
  {
   "cell_type": "code",
   "execution_count": 81,
   "id": "a4113306",
   "metadata": {},
   "outputs": [
    {
     "data": {
      "text/plain": [
       "array([[0., 0., 0., 0.],\n",
       "       [1., 1., 1., 1.],\n",
       "       [2., 2., 2., 2.],\n",
       "       [3., 3., 3., 3.],\n",
       "       [4., 4., 4., 4.],\n",
       "       [5., 5., 5., 5.],\n",
       "       [6., 6., 6., 6.],\n",
       "       [7., 7., 7., 7.]])"
      ]
     },
     "execution_count": 81,
     "metadata": {},
     "output_type": "execute_result"
    }
   ],
   "source": [
    "for i in range(8):\n",
    "    arr[i] = i\n",
    "arr"
   ]
  },
  {
   "cell_type": "code",
   "execution_count": 83,
   "id": "a0254ed9",
   "metadata": {},
   "outputs": [
    {
     "data": {
      "text/plain": [
       "array([[3., 3., 3., 3.],\n",
       "       [5., 5., 5., 5.]])"
      ]
     },
     "execution_count": 83,
     "metadata": {},
     "output_type": "execute_result"
    }
   ],
   "source": [
    "arr[[3,5]]"
   ]
  },
  {
   "cell_type": "code",
   "execution_count": 84,
   "id": "4b7ba1f1",
   "metadata": {},
   "outputs": [
    {
     "data": {
      "text/plain": [
       "array([1., 5., 7., 2.])"
      ]
     },
     "execution_count": 84,
     "metadata": {},
     "output_type": "execute_result"
    }
   ],
   "source": [
    "# (1,0),(5,3),(7,1),(2,2)\n",
    "arr[[1,5,7,2],[0,3,1,2]]"
   ]
  },
  {
   "cell_type": "code",
   "execution_count": null,
   "id": "5bbb7ca8",
   "metadata": {},
   "outputs": [],
   "source": []
  },
  {
   "cell_type": "code",
   "execution_count": null,
   "id": "18e826db",
   "metadata": {},
   "outputs": [],
   "source": []
  }
 ],
 "metadata": {
  "kernelspec": {
   "display_name": "hipython",
   "language": "python",
   "name": "python3"
  },
  "language_info": {
   "codemirror_mode": {
    "name": "ipython",
    "version": 3
   },
   "file_extension": ".py",
   "mimetype": "text/x-python",
   "name": "python",
   "nbconvert_exporter": "python",
   "pygments_lexer": "ipython3",
   "version": "3.12.9"
  }
 },
 "nbformat": 4,
 "nbformat_minor": 5
}
