{
 "cells": [
  {
   "cell_type": "code",
   "execution_count": null,
   "id": "a7e056d9",
   "metadata": {},
   "outputs": [],
   "source": [
    "# data/gapminder.tsv 를 읽어 데이터 프레임 만들기"
   ]
  },
  {
   "cell_type": "code",
   "execution_count": null,
   "id": "37429421",
   "metadata": {},
   "outputs": [],
   "source": [
    "# 미리보기"
   ]
  },
  {
   "cell_type": "code",
   "execution_count": null,
   "id": "f9d580fa",
   "metadata": {},
   "outputs": [],
   "source": [
    "# country 열 추출하기"
   ]
  },
  {
   "cell_type": "code",
   "execution_count": null,
   "id": "80e26b9a",
   "metadata": {},
   "outputs": [],
   "source": [
    "# 'country', 'continent', 'year' 열 추출하기"
   ]
  },
  {
   "cell_type": "code",
   "execution_count": null,
   "id": "67a0206a",
   "metadata": {},
   "outputs": [],
   "source": [
    "# [0], [99] , [-1] 행을 각각 추출하기"
   ]
  },
  {
   "cell_type": "code",
   "execution_count": null,
   "id": "89064ada",
   "metadata": {},
   "outputs": [],
   "source": []
  },
  {
   "cell_type": "code",
   "execution_count": null,
   "id": "c08ca013",
   "metadata": {},
   "outputs": [],
   "source": []
  },
  {
   "cell_type": "code",
   "execution_count": null,
   "id": "b5acdb79",
   "metadata": {},
   "outputs": [],
   "source": []
  },
  {
   "cell_type": "code",
   "execution_count": null,
   "id": "06041d47",
   "metadata": {},
   "outputs": [],
   "source": []
  },
  {
   "cell_type": "code",
   "execution_count": null,
   "id": "4fab451f",
   "metadata": {},
   "outputs": [],
   "source": []
  },
  {
   "cell_type": "code",
   "execution_count": null,
   "id": "6d40637a",
   "metadata": {},
   "outputs": [],
   "source": []
  },
  {
   "cell_type": "code",
   "execution_count": null,
   "id": "0422cf50",
   "metadata": {},
   "outputs": [],
   "source": []
  },
  {
   "cell_type": "code",
   "execution_count": null,
   "id": "267a4443",
   "metadata": {},
   "outputs": [],
   "source": []
  },
  {
   "cell_type": "code",
   "execution_count": null,
   "id": "34d201b2",
   "metadata": {},
   "outputs": [],
   "source": []
  }
 ],
 "metadata": {
  "language_info": {
   "name": "python"
  }
 },
 "nbformat": 4,
 "nbformat_minor": 5
}
