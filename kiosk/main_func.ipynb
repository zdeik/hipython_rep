{
 "cells": [
  {
   "cell_type": "code",
   "execution_count": null,
   "id": "bbbf4e6e-9062-42b1-ad9c-926a2af33557",
   "metadata": {},
   "outputs": [
    {
     "name": "stdout",
     "output_type": "stream",
     "text": [
      "🍦 아이스크림 키오스크에 오신 것을 환영합니다! 🍦\n",
      "==================================================\n",
      "        보고싶었어요! I Miss You Cram!🍦\n",
      "==================================================\n",
      "\n",
      "📋 메뉴판\n",
      "\n",
      "1. 초코\n",
      "2. 바닐라\n",
      "3. 딸기\n",
      "4. 우유\n",
      "5. 말차\n",
      "6. 민트초코\n"
     ]
    }
   ],
   "source": [
    "from features import start\n",
    "\n",
    "def main():\n",
    "    print(\"🍦 아이스크림 키오스크에 오신 것을 환영합니다! 🍦\")\n",
    "    start()\n",
    "\n",
    "if __name__ == \"__main__\":\n",
    "    main()\n"
   ]
  }
 ],
 "metadata": {
  "kernelspec": {
   "display_name": "Python 3 (ipykernel)",
   "language": "python",
   "name": "python3"
  },
  "language_info": {
   "codemirror_mode": {
    "name": "ipython",
    "version": 3
   },
   "file_extension": ".py",
   "mimetype": "text/x-python",
   "name": "python",
   "nbconvert_exporter": "python",
   "pygments_lexer": "ipython3",
   "version": "3.12.9"
  }
 },
 "nbformat": 4,
 "nbformat_minor": 5
}
