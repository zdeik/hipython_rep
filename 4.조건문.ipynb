{
 "cells": [
  {
   "cell_type": "code",
   "execution_count": 1,
   "id": "b7601dc4-bb11-4a0b-958b-c8bc684d66aa",
   "metadata": {},
   "outputs": [
    {
     "data": {
      "text/plain": [
       "False"
      ]
     },
     "execution_count": 1,
     "metadata": {},
     "output_type": "execute_result"
    }
   ],
   "source": [
    "# 연산자\n",
    "2+3 #산술연산자\n",
    "a=2 #대입연산자\n",
    "a>2 #비교연산자"
   ]
  },
  {
   "cell_type": "code",
   "execution_count": 2,
   "id": "52fbef0e-1872-4923-9950-7e8dabbbe6f1",
   "metadata": {},
   "outputs": [
    {
     "data": {
      "text/plain": [
       "(2, 2, 2, 2)"
      ]
     },
     "execution_count": 2,
     "metadata": {},
     "output_type": "execute_result"
    }
   ],
   "source": [
    "b=c=d=a #대입연산자\n",
    "b,c,d,a"
   ]
  },
  {
   "cell_type": "code",
   "execution_count": 3,
   "id": "3e3b5d52-90ab-4248-9f60-88143313b6d4",
   "metadata": {},
   "outputs": [
    {
     "data": {
      "text/plain": [
       "True"
      ]
     },
     "execution_count": 3,
     "metadata": {},
     "output_type": "execute_result"
    }
   ],
   "source": [
    "id(b) == id(c) #비교연산자"
   ]
  },
  {
   "cell_type": "markdown",
   "id": "8b2e41c9-a55e-4ab9-824d-1d7883d7896b",
   "metadata": {},
   "source": [
    "# 조건문 : \n",
    "\n",
    "- 비교연산자를 이용한 부울값이 출력되어야 한다.\n",
    "- : 이후 영역표시는 들여쓰기로 맞추어야 한다.\n"
   ]
  },
  {
   "cell_type": "code",
   "execution_count": 5,
   "id": "181f57c3-1a23-492a-b0c5-84b4af1866dc",
   "metadata": {},
   "outputs": [
    {
     "name": "stdout",
     "output_type": "stream",
     "text": [
      "pass\n"
     ]
    }
   ],
   "source": [
    "kor_score = 95\n",
    "\n",
    "#단독if\n",
    "if kor_score>90 : #True일때만 실행\n",
    "    print('pass')\n",
    "    "
   ]
  },
  {
   "cell_type": "code",
   "execution_count": 6,
   "id": "b3b91997-d345-4858-9b4d-a694644a424b",
   "metadata": {},
   "outputs": [
    {
     "name": "stdout",
     "output_type": "stream",
     "text": [
      "pass\n"
     ]
    }
   ],
   "source": [
    "# 한줄 작성\n",
    "if kor_score > 90 : print('pass')"
   ]
  },
  {
   "cell_type": "code",
   "execution_count": 7,
   "id": "0a8c6aea-111c-4535-b62a-7054bf4ef604",
   "metadata": {},
   "outputs": [
    {
     "name": "stdout",
     "output_type": "stream",
     "text": [
      "pass\n"
     ]
    }
   ],
   "source": [
    "if kor_score > 90 :\n",
    "    print('pass')\n",
    "else :\n",
    "    print('fail')"
   ]
  },
  {
   "cell_type": "code",
   "execution_count": 9,
   "id": "572546f4-7ea3-460f-8987-505cecd3f006",
   "metadata": {},
   "outputs": [
    {
     "name": "stdout",
     "output_type": "stream",
     "text": [
      "pass\n"
     ]
    }
   ],
   "source": [
    "# 한줄로 작성\n",
    "#if kor_score > 90 : print('pass') else : print('fail')\n",
    "# 'True일때 실행문` if 조건식 else `False일때 실행문`\n",
    "#비교연산자, 논리연산자 > 조건식\n",
    "print('pass') if kor_score > 90 else print('fail')"
   ]
  },
  {
   "cell_type": "markdown",
   "id": "b97a73bd-22b7-4fd6-98d5-445058370144",
   "metadata": {},
   "source": [
    "#수우미양가\n",
    ">= 90 \n"
   ]
  },
  {
   "cell_type": "code",
   "execution_count": 15,
   "id": "5cf0fc26-40d8-4c6a-a4f4-a28239fd269a",
   "metadata": {},
   "outputs": [
    {
     "name": "stdin",
     "output_type": "stream",
     "text": [
      "점수를 입력하세요. 숫자로요..  95\n"
     ]
    },
    {
     "name": "stdout",
     "output_type": "stream",
     "text": [
      "수\n"
     ]
    }
   ],
   "source": [
    "score = int(input('점수를 입력하세요. 숫자로요.. '))\n",
    "\n",
    "#중첩if (nested if)\n",
    "if score >= 90 :\n",
    "    print('수')\n",
    "else : #89~\n",
    "    if score >= 80 :\n",
    "        print('우')\n",
    "    else :\n",
    "        if score >= 70 :\n",
    "            print('미')\n",
    "        else :\n",
    "            if score >= 60 :\n",
    "                print('양')\n",
    "            else :\n",
    "                print('가')"
   ]
  },
  {
   "cell_type": "code",
   "execution_count": 14,
   "id": "d72e60ed-2529-4ef6-8650-fcf79d8110ec",
   "metadata": {},
   "outputs": [
    {
     "name": "stdin",
     "output_type": "stream",
     "text": [
      "점수를 입력하세요. 숫자로요..  95\n"
     ]
    },
    {
     "name": "stdout",
     "output_type": "stream",
     "text": [
      "수\n",
      "우\n",
      "미\n"
     ]
    }
   ],
   "source": [
    "score = int(input('점수를 입력하세요. 숫자로요.. '))\n",
    "\n",
    "if score >= 90 :\n",
    "    print('수')\n",
    "\n",
    "if score >= 80 :\n",
    "    print('우')\n",
    "\n",
    "if score >= 70 :\n",
    "    print('미')\n"
   ]
  },
  {
   "cell_type": "code",
   "execution_count": 17,
   "id": "78c4581a-b3c8-4685-80ad-c1b457bfc736",
   "metadata": {},
   "outputs": [
    {
     "name": "stdin",
     "output_type": "stream",
     "text": [
      "점수를 입력하세요. 숫자로요..  95\n"
     ]
    },
    {
     "name": "stdout",
     "output_type": "stream",
     "text": [
      "수\n"
     ]
    }
   ],
   "source": [
    "score = int(input('점수를 입력하세요. 숫자로요.. '))\n",
    "\n",
    "if score >= 90 :\n",
    "    print('수')\n",
    "elif score >= 80 :\n",
    "    print('우')\n",
    "elif score >= 70:\n",
    "    print('미')\n",
    "else :\n",
    "    print('가')"
   ]
  },
  {
   "cell_type": "code",
   "execution_count": 24,
   "id": "55c26f00-b390-405f-b90d-16e91fdd769f",
   "metadata": {},
   "outputs": [
    {
     "name": "stdin",
     "output_type": "stream",
     "text": [
      "수식을 입력하세요. (예. 20 * 40)  20 // 40\n"
     ]
    },
    {
     "data": {
      "text/plain": [
       "('20', '//', '40')"
      ]
     },
     "execution_count": 24,
     "metadata": {},
     "output_type": "execute_result"
    }
   ],
   "source": [
    "formula = input('수식을 입력하세요. (예. 20 * 40) ')\n",
    "num1, opr, num2 = formula.split()\n",
    "num1, opr, num2"
   ]
  },
  {
   "cell_type": "code",
   "execution_count": 25,
   "id": "85d2062a-7a06-45bd-a3f4-c4d53bc1e61b",
   "metadata": {},
   "outputs": [
    {
     "name": "stdout",
     "output_type": "stream",
     "text": [
      "지원하지 않는 연산자입니다.\n"
     ]
    }
   ],
   "source": [
    "num1 = float(num1)\n",
    "num2 = float(num2)\n",
    "\n",
    "opr_list = ['+', '-', '*', '/'] #연산자\n",
    "\n",
    "if opr == '+' :\n",
    "    result = num1 + num2 \n",
    "elif opr == '-' :\n",
    "    result = num1 - num2 \n",
    "elif opr == '*' :\n",
    "    result = num1 * num2 \n",
    "elif opr == '/' :\n",
    "    result = num1 / num2 \n",
    "else:\n",
    "    result = None\n",
    "\n",
    "if result == None :\n",
    "    print('지원하지 않는 연산자입니다.')\n",
    "else :\n",
    "    print(f'{num1} {opr} {num2} = {result}')"
   ]
  },
  {
   "cell_type": "code",
   "execution_count": 27,
   "id": "2c1097fb-9af4-42fc-8336-9ba609a8cf68",
   "metadata": {},
   "outputs": [
    {
     "name": "stdin",
     "output_type": "stream",
     "text": [
      "수식을 입력하세요. (예. 20 * 40)  20 // 2\n"
     ]
    },
    {
     "name": "stdout",
     "output_type": "stream",
     "text": [
      "지원하지 않는 연산자입니다.\n"
     ]
    }
   ],
   "source": [
    "formula = input('수식을 입력하세요. (예. 20 * 40) ')\n",
    "num1, opr, num2 = formula.split()\n",
    "#num1, opr, num2\n",
    "\n",
    "if opr not in opr_list :\n",
    "    print('지원하지 않는 연산자입니다.')\n",
    "else :\n",
    "    if opr == '+' :\n",
    "        result = num1 + num2 \n",
    "    elif opr == '-' :\n",
    "        result = num1 - num2 \n",
    "    elif opr == '*' :\n",
    "        result = num1 * num2 \n",
    "    elif opr == '/' :\n",
    "        result = num1 / num2 \n",
    "    print(f'{num1} {opr} {num2} = {result}')"
   ]
  },
  {
   "cell_type": "markdown",
   "id": "aa9aca33-a583-4edd-af51-14319e109b72",
   "metadata": {},
   "source": [
    "# 1줄로 쓰기"
   ]
  },
  {
   "cell_type": "code",
   "execution_count": 28,
   "id": "c2ef4fd9-9914-41f2-b51f-f839cd1bb039",
   "metadata": {},
   "outputs": [
    {
     "name": "stdout",
     "output_type": "stream",
     "text": [
      "홀수\n"
     ]
    }
   ],
   "source": [
    "num = 7\n",
    "#if num % 2 : print('짝수') else print('홀수')\n",
    "print('짝수' if num % 2 == 0 else '홀수')"
   ]
  },
  {
   "cell_type": "code",
   "execution_count": 31,
   "id": "20e47f22-b08e-40c8-a92f-94ac1fd8bd54",
   "metadata": {},
   "outputs": [
    {
     "name": "stdout",
     "output_type": "stream",
     "text": [
      "쉽시다\n"
     ]
    }
   ],
   "source": [
    "#졸려 = True - 쉽시다, 화이팅\n",
    "졸려 = True#False\n",
    "#action = '쉽시다' if 졸려 == True else '화이팅'\n",
    "action = '쉽시다' if 졸려  else '화이팅'\n",
    "print(action)"
   ]
  },
  {
   "cell_type": "code",
   "execution_count": 35,
   "id": "02d35212-0eeb-45fb-9e36-a4a5f78dfa41",
   "metadata": {},
   "outputs": [
    {
     "data": {
      "text/plain": [
       "'패'"
      ]
     },
     "execution_count": 35,
     "metadata": {},
     "output_type": "execute_result"
    }
   ],
   "source": [
    "player = '가위'\n",
    "computer = '바위'\n",
    "#result = '승' '패' '무승부'\n",
    "result = '승' if (player == '가위' and computer == '보')  else \\\n",
    "        '무승부' if player == computer else '패'\n",
    "result"
   ]
  },
  {
   "cell_type": "code",
   "execution_count": null,
   "id": "d8105d61-121b-45db-8688-efdf2e2c5b7f",
   "metadata": {},
   "outputs": [],
   "source": [
    "#학점 A,B,C,D 출력하는 1줄 조건식\n"
   ]
  },
  {
   "cell_type": "markdown",
   "id": "47cd69ba-8bd9-4034-a543-071caab7b7c2",
   "metadata": {},
   "source": [
    "# break, continue, pass"
   ]
  },
  {
   "cell_type": "code",
   "execution_count": 36,
   "id": "0c8801d8-58aa-4c57-b06e-8cf601aebddc",
   "metadata": {},
   "outputs": [
    {
     "name": "stdout",
     "output_type": "stream",
     "text": [
      "현재 검사 중인 숫자: 1\n",
      "현재 검사 중인 숫자: 3\n",
      "현재 검사 중인 숫자: 5\n",
      "현재 검사 중인 숫자: 7\n",
      "9를 찾았습니다!\n"
     ]
    }
   ],
   "source": [
    "numbers = [1, 3, 5, 7, 9, 11, 13, 15]\n",
    "search_number = 9\n",
    "\n",
    "for num in numbers:\n",
    "    if num == search_number:\n",
    "        print(f\"{search_number}를 찾았습니다!\")\n",
    "        break\n",
    "    print(f\"현재 검사 중인 숫자: {num}\")\n"
   ]
  },
  {
   "cell_type": "code",
   "execution_count": 37,
   "id": "1d357db6-99e2-41e9-89db-45b11ffea797",
   "metadata": {},
   "outputs": [
    {
     "name": "stdout",
     "output_type": "stream",
     "text": [
      "2\n",
      "4\n",
      "6\n",
      "8\n",
      "10\n"
     ]
    }
   ],
   "source": [
    "for i in range(1, 11):\n",
    "    if i % 2 != 0:  # 홀수인 경우\n",
    "        continue\n",
    "    print(i)  # 짝수만 출력"
   ]
  },
  {
   "cell_type": "code",
   "execution_count": 40,
   "id": "80797710-24af-41f7-89ee-e659db3bddf8",
   "metadata": {},
   "outputs": [],
   "source": [
    "condition = True#False\n",
    "\n",
    "if condition:\n",
    "    pass  # 나중에 구현할 예정\n",
    "else:\n",
    "    print(\"else 구문 실행\")"
   ]
  }
 ],
 "metadata": {
  "kernelspec": {
   "display_name": "Python 3 (ipykernel)",
   "language": "python",
   "name": "python3"
  },
  "language_info": {
   "codemirror_mode": {
    "name": "ipython",
    "version": 3
   },
   "file_extension": ".py",
   "mimetype": "text/x-python",
   "name": "python",
   "nbconvert_exporter": "python",
   "pygments_lexer": "ipython3",
   "version": "3.12.9"
  }
 },
 "nbformat": 4,
 "nbformat_minor": 5
}
