{
 "cells": [
  {
   "cell_type": "markdown",
   "id": "d6a9b6bd-e06a-4a10-92d3-45f789e7ec5e",
   "metadata": {},
   "source": [
    "모듈은 파이썬 형식이다 .py확장자"
   ]
  },
  {
   "cell_type": "code",
   "execution_count": 4,
   "id": "9e023810-2e57-4ace-88a4-b2746dad4324",
   "metadata": {},
   "outputs": [],
   "source": [
    "import first"
   ]
  },
  {
   "cell_type": "code",
   "execution_count": 4,
   "id": "349842f2-3532-42ca-91a3-40ae89f2aa16",
   "metadata": {},
   "outputs": [
    {
     "name": "stdout",
     "output_type": "stream",
     "text": [
      "hello\n"
     ]
    }
   ],
   "source": [
    "first.my_func()"
   ]
  },
  {
   "cell_type": "code",
   "execution_count": 6,
   "id": "0d23ae60-7733-44fe-bf5c-b37a4d96ee30",
   "metadata": {},
   "outputs": [
    {
     "name": "stdout",
     "output_type": "stream",
     "text": [
      "2nd hello\n"
     ]
    }
   ],
   "source": [
    "first.my_func1()"
   ]
  },
  {
   "cell_type": "code",
   "execution_count": 8,
   "id": "212ce80e-ecdb-4e18-aac2-6deee17157ba",
   "metadata": {},
   "outputs": [],
   "source": [
    "import first as f"
   ]
  },
  {
   "cell_type": "code",
   "execution_count": 9,
   "id": "20d288fa-bc97-4af8-9f1c-1fdd701b6b5a",
   "metadata": {},
   "outputs": [
    {
     "name": "stdout",
     "output_type": "stream",
     "text": [
      "hello\n"
     ]
    }
   ],
   "source": [
    "f.my_func()"
   ]
  },
  {
   "cell_type": "code",
   "execution_count": 10,
   "id": "b9207e42-20ea-4dd1-b870-8cc6a9e49c0a",
   "metadata": {},
   "outputs": [
    {
     "name": "stdout",
     "output_type": "stream",
     "text": [
      "2nd hello\n"
     ]
    }
   ],
   "source": [
    "f.my_func1()"
   ]
  },
  {
   "cell_type": "code",
   "execution_count": 3,
   "id": "3d522ab9-ed6e-4986-9f4f-340f4f082da9",
   "metadata": {},
   "outputs": [],
   "source": [
    "from first import my_func, my_func1, my_func2 #*"
   ]
  },
  {
   "cell_type": "code",
   "execution_count": 2,
   "id": "171bb9a6-aed6-4ea0-9f0b-8fdbe578a014",
   "metadata": {},
   "outputs": [
    {
     "name": "stdout",
     "output_type": "stream",
     "text": [
      "hello\n"
     ]
    }
   ],
   "source": [
    "my_func()"
   ]
  },
  {
   "cell_type": "code",
   "execution_count": 3,
   "id": "df110ea9-f025-4d58-8fc6-5c0dd0cd1579",
   "metadata": {},
   "outputs": [
    {
     "name": "stdout",
     "output_type": "stream",
     "text": [
      "2nd hello\n"
     ]
    }
   ],
   "source": [
    "my_func1()"
   ]
  },
  {
   "cell_type": "code",
   "execution_count": 4,
   "id": "00ce6dee-2396-4da6-a532-bfdadf97df24",
   "metadata": {},
   "outputs": [
    {
     "name": "stdout",
     "output_type": "stream",
     "text": [
      "3nd hello\n"
     ]
    }
   ],
   "source": [
    "my_func2()"
   ]
  },
  {
   "cell_type": "code",
   "execution_count": 5,
   "id": "610b73e8-27d2-4793-9d83-df3d44beeb1d",
   "metadata": {},
   "outputs": [
    {
     "data": {
      "text/plain": [
       "['__annotations__',\n",
       " '__builtins__',\n",
       " '__call__',\n",
       " '__class__',\n",
       " '__closure__',\n",
       " '__code__',\n",
       " '__defaults__',\n",
       " '__delattr__',\n",
       " '__dict__',\n",
       " '__dir__',\n",
       " '__doc__',\n",
       " '__eq__',\n",
       " '__format__',\n",
       " '__ge__',\n",
       " '__get__',\n",
       " '__getattribute__',\n",
       " '__getstate__',\n",
       " '__globals__',\n",
       " '__gt__',\n",
       " '__hash__',\n",
       " '__init__',\n",
       " '__init_subclass__',\n",
       " '__kwdefaults__',\n",
       " '__le__',\n",
       " '__lt__',\n",
       " '__module__',\n",
       " '__name__',\n",
       " '__ne__',\n",
       " '__new__',\n",
       " '__qualname__',\n",
       " '__reduce__',\n",
       " '__reduce_ex__',\n",
       " '__repr__',\n",
       " '__setattr__',\n",
       " '__sizeof__',\n",
       " '__str__',\n",
       " '__subclasshook__',\n",
       " '__type_params__']"
      ]
     },
     "execution_count": 5,
     "metadata": {},
     "output_type": "execute_result"
    }
   ],
   "source": [
    "dir(my_func)"
   ]
  },
  {
   "cell_type": "code",
   "execution_count": null,
   "id": "26e9c807-2410-4326-9403-e54d11d20ee2",
   "metadata": {},
   "outputs": [],
   "source": [
    "import my_first_package.second"
   ]
  },
  {
   "cell_type": "code",
   "execution_count": 4,
   "id": "edb2e5cf-16c3-4ff2-ad63-f08c0958d71c",
   "metadata": {},
   "outputs": [
    {
     "name": "stdout",
     "output_type": "stream",
     "text": [
      "hello\n"
     ]
    }
   ],
   "source": [
    "import first\n",
    "first.my_func()"
   ]
  },
  {
   "cell_type": "markdown",
   "id": "c9a3c83d-2ace-40e2-8503-1d05e41436df",
   "metadata": {},
   "source": [
    "# 모듈의 실행 vs 모듈의 import를 구분\n",
    "- 모듈 단독 실행시에만 호출되는 코드<br>\n",
    "`if __name__ == \"__main__\":`<br>\n",
    "     실행함수<br>\n",
    "`else: `<br>\n",
    "    `변수설정`<br>\n",
    "- import 할대는 실행되지 않는다."
   ]
  },
  {
   "cell_type": "markdown",
   "id": "04c1d061-6f51-4a0b-bf14-7d485dacbf8d",
   "metadata": {},
   "source": [
    "# 패키지: 모듈의 묶음\n",
    "윈도우, 리눅스: 디렉토리/폴더\n"
   ]
  },
  {
   "cell_type": "code",
   "execution_count": null,
   "id": "d739d585-cc48-4380-a393-a5a663207ed2",
   "metadata": {},
   "outputs": [],
   "source": []
  },
  {
   "cell_type": "code",
   "execution_count": null,
   "id": "f6cd3ce2-7ff6-4d97-8736-9b4f0bb7c3d8",
   "metadata": {},
   "outputs": [],
   "source": []
  },
  {
   "cell_type": "code",
   "execution_count": null,
   "id": "69365f2e-0ef6-48c3-8421-c9765122cc5b",
   "metadata": {},
   "outputs": [],
   "source": []
  },
  {
   "cell_type": "code",
   "execution_count": null,
   "id": "59854360-a6f7-4b46-9178-0f411d6e196a",
   "metadata": {},
   "outputs": [],
   "source": []
  }
 ],
 "metadata": {
  "kernelspec": {
   "display_name": "Python 3 (ipykernel)",
   "language": "python",
   "name": "python3"
  },
  "language_info": {
   "codemirror_mode": {
    "name": "ipython",
    "version": 3
   },
   "file_extension": ".py",
   "mimetype": "text/x-python",
   "name": "python",
   "nbconvert_exporter": "python",
   "pygments_lexer": "ipython3",
   "version": "3.12.9"
  }
 },
 "nbformat": 4,
 "nbformat_minor": 5
}
