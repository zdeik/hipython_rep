{
 "cells": [
  {
   "cell_type": "markdown",
   "id": "857016aa-6fee-4347-a991-9a7d42904c7d",
   "metadata": {
    "jp-MarkdownHeadingCollapsed": true
   },
   "source": [
    "# 초보자를 위한 파이썬 300제 연습문제 (11~20)"
   ]
  },
  {
   "cell_type": "code",
   "execution_count": 50,
   "id": "fb4dc2bd-19bc-47ac-930e-e69aad5b511e",
   "metadata": {},
   "outputs": [
    {
     "name": "stdout",
     "output_type": "stream",
     "text": [
      "총평가금액:  500000\n"
     ]
    }
   ],
   "source": [
    "# 11.삼성전자라는 변수로 50,000원을 바인딩해보세요. 삼성전자 주식 10주를 보유하고 있을 때 총 평가금액을 출력하세요.\n",
    "\n",
    "삼성전자 = 50000\n",
    "총평가금액 = 삼성전자 *10\n",
    "print(\"총평가금액: \",총평가금액)"
   ]
  },
  {
   "cell_type": "code",
   "execution_count": 53,
   "id": "613f5ceb-c7d5-41a8-b6e6-56e23af8d769",
   "metadata": {},
   "outputs": [
    {
     "name": "stdout",
     "output_type": "stream",
     "text": [
      "298000000000000 <class 'int'>\n",
      "50000 <class 'int'>\n",
      "15.79 <class 'float'>\n"
     ]
    }
   ],
   "source": [
    "# 12.다음 표는 삼성전자의 일부 투자정보입니다. 변수를 사용해서 시가총액, 현재가, PER 등을 바인딩해보세요.\n",
    "\n",
    "시가총액 = 298000000000000\n",
    "현재가 = 50000\n",
    "PER = 15.79\n",
    "\n",
    "print(시가총액, type(시가총액))\n",
    "print(현재가, type(현재가))\n",
    "print(PER, type(PER))"
   ]
  },
  {
   "cell_type": "code",
   "execution_count": 54,
   "id": "8d27db7f-c211-49b2-a7d5-a6d03566fca8",
   "metadata": {},
   "outputs": [
    {
     "name": "stdout",
     "output_type": "stream",
     "text": [
      "hello! python\n"
     ]
    }
   ],
   "source": [
    "# 13.문자열 출력\n",
    "s = \"hello\"\n",
    "t = \"python\"\n",
    "\n",
    "print(s+\"!\",t)\n"
   ]
  },
  {
   "cell_type": "code",
   "execution_count": 57,
   "id": "54b482be-5c8d-44b6-87cf-c1b8228e549c",
   "metadata": {},
   "outputs": [
    {
     "name": "stdout",
     "output_type": "stream",
     "text": [
      "<class 'int'>\n",
      "<class 'int'>\n"
     ]
    }
   ],
   "source": [
    "# 15.type 함수\n",
    "\n",
    "a =128\n",
    "print (type(a))\n",
    "\n",
    "a=132\n",
    "print (type(a))\n",
    "\n"
   ]
  },
  {
   "cell_type": "code",
   "execution_count": 61,
   "id": "50416d66-1395-4c03-a4b8-50f35d30212a",
   "metadata": {},
   "outputs": [
    {
     "name": "stdout",
     "output_type": "stream",
     "text": [
      "720 <class 'int'>\n"
     ]
    }
   ],
   "source": [
    "# 16.문자열 '720'를 정수형으로 변환해보세요.\n",
    "\n",
    "num_str = \"720\"\n",
    "num_int =int(num_str)\n",
    "print(num_int, type(num_int))"
   ]
  },
  {
   "cell_type": "code",
   "execution_count": 62,
   "id": "ff68cad3-a826-41cc-aac8-c5957549b6b4",
   "metadata": {},
   "outputs": [
    {
     "name": "stdout",
     "output_type": "stream",
     "text": [
      "100 <class 'str'>\n"
     ]
    }
   ],
   "source": [
    "# 17. 정수 100을 문자열 '100'으로 변환해보세요.\n",
    "\n",
    "num =100\n",
    "num_str = str(num)\n",
    "print(num_str, type(num_str))"
   ]
  },
  {
   "cell_type": "code",
   "execution_count": 64,
   "id": "cf53a22e-b8ef-443b-a045-1ec887954f3a",
   "metadata": {},
   "outputs": [
    {
     "name": "stdout",
     "output_type": "stream",
     "text": [
      "15.79 <class 'float'>\n"
     ]
    }
   ],
   "source": [
    "# 18.문자열 \"15.79\"를 실수(float) 타입으로 변환해보세요.\n",
    "\n",
    "a =15.79\n",
    "a = float(a)\n",
    "print(a, type(a))"
   ]
  },
  {
   "cell_type": "code",
   "execution_count": 67,
   "id": "94587d20-996c-4491-b903-0d6ffa34fafe",
   "metadata": {},
   "outputs": [
    {
     "name": "stdout",
     "output_type": "stream",
     "text": [
      "2019 2018 2017\n"
     ]
    }
   ],
   "source": [
    "# 19. 문자열을 정수로 변환\n",
    "\n",
    "year =\"2020\"\n",
    "year = int(year)\n",
    "print(year-1,year-2,year-3)"
   ]
  },
  {
   "cell_type": "code",
   "execution_count": 73,
   "id": "ce77381c-aa4e-4556-9006-eb3d6fd73fc9",
   "metadata": {},
   "outputs": [
    {
     "name": "stdout",
     "output_type": "stream",
     "text": [
      "총 금액:  1749024\n"
     ]
    }
   ],
   "source": [
    "# 20. 에이컨이 월 48,584원에 무이자 36개월의 조건으로 홈쇼핑에서 판매되고 있습니다.\n",
    "# 총 금액은 계산한 후 이를 화면에 출력해보세요. (변수사용하기)\n",
    "월금액 = 48584\n",
    "개월수 = 36\n",
    "result = 월금액*개월수\n",
    "print(\"총 금액: \", result)\n"
   ]
  },
  {
   "cell_type": "code",
   "execution_count": null,
   "id": "19136c93-c7d9-46e2-8c1e-b9426390b71c",
   "metadata": {},
   "outputs": [],
   "source": [
    "-기본 자료형: 숫자형, 문자열형 str, 부울형\n",
    "-복합 자료형: 리스트 셋, 튜플, 딕셔너리"
   ]
  },
  {
   "cell_type": "markdown",
   "id": "ad32cccf-66c8-44a7-a5fa-46914435e26e",
   "metadata": {},
   "source": [
    "기본 자료형        | 설명                               | 예시                        |\n",
    "|---------------|------------------------------------|-----------------------------|\n",
    "| 정수형 (`int`) | 정수를 저장하는 자료형              | `1`, `-5`, `100`            |\n",
    "| 실수형 (`float`) | 소수점이 있는 숫자를 저장하는 자료형 | `3.14`, `-0.001`, `2.0`     |\n",
    "| 문자열 (`str`) | 텍스트를 저장하는 자료형             | `\"Hello\"`, `'파이썬'`       |\n",
    "| 논리형 (`bool`) | 참/거짓 값을 저장하는 자료형         | `True`, `False`             |\n"
   ]
  },
  {
   "cell_type": "markdown",
   "id": "c1b991fe-4a6b-4bb3-97b7-02c91d8eb855",
   "metadata": {},
   "source": [
    "| 복합 자료형         | 설명                                      | 예시                                      |\n",
    "|----------------|-------------------------------------------|-------------------------------------------|\n",
    "| 리스트 (`list`) | 여러 항목을 순서대로 저장하는 자료형         | `[1, 2, 3]`, `['a', 'b']`                  |\n",
    "| 튜플 (`tuple`)  | 변경 불가능한 순서가 있는 자료형             | `(1, 2)`, `('x', 'y')`                     |\n",
    "| 딕셔너리 (`dict`)| 키와 값의 쌍으로 데이터를 저장하는 자료형   | `{'name': '홍길동', 'age': 20}`            |\n",
    "| 집합 (`set`)    | 중복되지 않는 항목들의 모음                  | `{1, 2, 3}, {'apple', 'banana'}`            | \n"
   ]
  },
  {
   "cell_type": "code",
   "execution_count": 116,
   "id": "ff9c2b37-1caf-4e0e-9055-c4e6ec48e19d",
   "metadata": {},
   "outputs": [
    {
     "data": {
      "text/plain": [
       "(10, int)"
      ]
     },
     "execution_count": 116,
     "metadata": {},
     "output_type": "execute_result"
    }
   ],
   "source": [
    "# 정수형 int\n",
    "10,type(10)"
   ]
  },
  {
   "cell_type": "code",
   "execution_count": 75,
   "id": "8545c8a9-9c49-44ca-af42-9f93a42cbed1",
   "metadata": {},
   "outputs": [
    {
     "data": {
      "text/plain": [
       "int"
      ]
     },
     "execution_count": 75,
     "metadata": {},
     "output_type": "execute_result"
    }
   ],
   "source": [
    "age = 10\n",
    "type(age)"
   ]
  },
  {
   "cell_type": "code",
   "execution_count": null,
   "id": "3c608125-ef87-4e41-bd74-477f3481882f",
   "metadata": {},
   "outputs": [],
   "source": [
    "1. 진법: 10진수, 2진수, 8진수, 16진수\n",
    "2. 입력하는 방법은 다르지만, print()결과는 동일하다."
   ]
  },
  {
   "cell_type": "code",
   "execution_count": 79,
   "id": "2ee4d5da-bab0-4e27-b8ac-5e10b13a0117",
   "metadata": {},
   "outputs": [
    {
     "data": {
      "text/plain": [
       "(10, 10)"
      ]
     },
     "execution_count": 79,
     "metadata": {},
     "output_type": "execute_result"
    }
   ],
   "source": [
    "a = 10       # 2진수: bin()    # 8진수: oct()    # 16진수: hex()\n",
    "b = 0b1010\n",
    "a,b"
   ]
  },
  {
   "cell_type": "code",
   "execution_count": 81,
   "id": "0717e3a5-b9c9-4851-bdd1-68877a2f84ee",
   "metadata": {},
   "outputs": [
    {
     "data": {
      "text/plain": [
       "(3.14, float)"
      ]
     },
     "execution_count": 81,
     "metadata": {},
     "output_type": "execute_result"
    }
   ],
   "source": [
    "# 실수형 float\n",
    "a = 3.14\n",
    "a,type(a)"
   ]
  },
  {
   "cell_type": "code",
   "execution_count": null,
   "id": "c096b991-743f-482e-b18e-6657793a35cb",
   "metadata": {},
   "outputs": [],
   "source": [
    "지수의 표기\n",
    "\n",
    "숫자e2 ->10^2의 곱 = 10**3\n",
    "숫자e-2 -> 10^-2의 곱 = 10**-1"
   ]
  },
  {
   "cell_type": "code",
   "execution_count": 89,
   "id": "bc902c2f-a78f-406a-8630-cf0b6a6b900c",
   "metadata": {},
   "outputs": [
    {
     "data": {
      "text/plain": [
       "(1000.0, 1000)"
      ]
     },
     "execution_count": 89,
     "metadata": {},
     "output_type": "execute_result"
    }
   ],
   "source": [
    "fa = 10e2\n",
    "fa,10**3"
   ]
  },
  {
   "cell_type": "code",
   "execution_count": 88,
   "id": "d2970ce2-0915-483b-8f05-a6aa3a14909a",
   "metadata": {},
   "outputs": [
    {
     "data": {
      "text/plain": [
       "(0.1, 0.1)"
      ]
     },
     "execution_count": 88,
     "metadata": {},
     "output_type": "execute_result"
    }
   ],
   "source": [
    "fb = 10e-2\n",
    "fb, 10**-1"
   ]
  },
  {
   "cell_type": "code",
   "execution_count": null,
   "id": "d1410f73-384c-4a89-b485-7b569ea729e2",
   "metadata": {},
   "outputs": [],
   "source": [
    "# 논리형 bool\n",
    "BOOLEM값 = True False"
   ]
  },
  {
   "cell_type": "code",
   "execution_count": 99,
   "id": "57b693c0-7892-47c7-bd04-e4c0bfab0c4c",
   "metadata": {},
   "outputs": [
    {
     "data": {
      "text/plain": [
       "bool"
      ]
     },
     "execution_count": 99,
     "metadata": {},
     "output_type": "execute_result"
    }
   ],
   "source": [
    "ba = True\n",
    "type(ba)"
   ]
  },
  {
   "cell_type": "code",
   "execution_count": 100,
   "id": "03779669-56c1-43e5-be21-7dc8e08b77d7",
   "metadata": {},
   "outputs": [
    {
     "data": {
      "text/plain": [
       "True"
      ]
     },
     "execution_count": 100,
     "metadata": {},
     "output_type": "execute_result"
    }
   ],
   "source": [
    "ba == True"
   ]
  },
  {
   "cell_type": "code",
   "execution_count": 102,
   "id": "ae0b3489-381d-4f47-8a14-c265fe057193",
   "metadata": {},
   "outputs": [],
   "source": [
    "# 사칙연산 + - * / // % **\n",
    "a = 2\n",
    "b = 3"
   ]
  },
  {
   "cell_type": "code",
   "execution_count": 103,
   "id": "4fb79ad3-1cd6-446a-8022-c9d40ae2feba",
   "metadata": {},
   "outputs": [
    {
     "data": {
      "text/plain": [
       "(0.6666666666666666, 0, 2, 8)"
      ]
     },
     "execution_count": 103,
     "metadata": {},
     "output_type": "execute_result"
    }
   ],
   "source": [
    "a+b\n",
    "a-b\n",
    "a*b\n",
    "a/b, a//b, a%b, a**b"
   ]
  },
  {
   "cell_type": "code",
   "execution_count": 104,
   "id": "f2bbfea3-f791-4778-ad4c-266160cdff40",
   "metadata": {},
   "outputs": [
    {
     "data": {
      "text/plain": [
       "False"
      ]
     },
     "execution_count": 104,
     "metadata": {},
     "output_type": "execute_result"
    }
   ],
   "source": [
    "# 비교연산자\n",
    "1+2 ==4"
   ]
  },
  {
   "cell_type": "code",
   "execution_count": 105,
   "id": "a9386480-b7ec-4350-89fc-a8601a804fce",
   "metadata": {},
   "outputs": [
    {
     "data": {
      "text/plain": [
       "True"
      ]
     },
     "execution_count": 105,
     "metadata": {},
     "output_type": "execute_result"
    }
   ],
   "source": [
    "1+2 <4"
   ]
  },
  {
   "cell_type": "code",
   "execution_count": 106,
   "id": "672e346d-0189-4b5b-a8f7-fc035928222c",
   "metadata": {},
   "outputs": [
    {
     "data": {
      "text/plain": [
       "True"
      ]
     },
     "execution_count": 106,
     "metadata": {},
     "output_type": "execute_result"
    }
   ],
   "source": [
    "1+2 !=2"
   ]
  },
  {
   "cell_type": "code",
   "execution_count": 107,
   "id": "248289d7-d8a6-43f7-b781-df3c7460e68f",
   "metadata": {},
   "outputs": [
    {
     "data": {
      "text/plain": [
       "True"
      ]
     },
     "execution_count": 107,
     "metadata": {},
     "output_type": "execute_result"
    }
   ],
   "source": [
    "1+2 <=3"
   ]
  },
  {
   "cell_type": "code",
   "execution_count": 109,
   "id": "ff8a8417-5a85-4bb7-9335-fc91e59c3712",
   "metadata": {},
   "outputs": [
    {
     "data": {
      "text/plain": [
       "True"
      ]
     },
     "execution_count": 109,
     "metadata": {},
     "output_type": "execute_result"
    }
   ],
   "source": [
    "# 비교연산자와 논리연산자의 결합\n",
    "10%2 ==0 and 12%3 == 0"
   ]
  },
  {
   "cell_type": "code",
   "execution_count": 111,
   "id": "c5cd3e49-392f-43db-8eeb-59ae8abce804",
   "metadata": {},
   "outputs": [
    {
     "data": {
      "text/plain": [
       "('1234', '5678', 2300887734608, 2300929599424)"
      ]
     },
     "execution_count": 111,
     "metadata": {},
     "output_type": "execute_result"
    }
   ],
   "source": [
    "a ='1234'\n",
    "b = '5678'\n",
    "a,b,id(a),id(b)"
   ]
  },
  {
   "cell_type": "code",
   "execution_count": 112,
   "id": "baeb1723-b9e9-442a-8d72-c76d329254d0",
   "metadata": {},
   "outputs": [
    {
     "data": {
      "text/plain": [
       "False"
      ]
     },
     "execution_count": 112,
     "metadata": {},
     "output_type": "execute_result"
    }
   ],
   "source": [
    "id(a)==id(b)"
   ]
  },
  {
   "cell_type": "code",
   "execution_count": 113,
   "id": "3eb1f448-3b32-40cf-834f-1336d0b7c296",
   "metadata": {},
   "outputs": [
    {
     "data": {
      "text/plain": [
       "(10, 11)"
      ]
     },
     "execution_count": 113,
     "metadata": {},
     "output_type": "execute_result"
    }
   ],
   "source": [
    "# 대입 연산자\n",
    "a = 10\n",
    "b = a+1\n",
    "a,b"
   ]
  },
  {
   "cell_type": "code",
   "execution_count": 142,
   "id": "ae63a6c3-7554-472f-a3d8-9d5347a24b58",
   "metadata": {},
   "outputs": [
    {
     "data": {
      "text/plain": [
       "21"
      ]
     },
     "execution_count": 142,
     "metadata": {},
     "output_type": "execute_result"
    }
   ],
   "source": [
    "a = 20\n",
    "a += 1    # a = a + 1\n",
    "a"
   ]
  },
  {
   "cell_type": "code",
   "execution_count": 143,
   "id": "176a8f7a-843b-421a-8515-b31f99863b93",
   "metadata": {},
   "outputs": [
    {
     "data": {
      "text/plain": [
       "20"
      ]
     },
     "execution_count": 143,
     "metadata": {},
     "output_type": "execute_result"
    }
   ],
   "source": [
    "a -= 1    # a = a - 1\n",
    "a"
   ]
  },
  {
   "cell_type": "code",
   "execution_count": 145,
   "id": "dcb38a2f-3bf6-4f9b-99db-a8f5edef2308",
   "metadata": {},
   "outputs": [
    {
     "data": {
      "text/plain": [
       "7"
      ]
     },
     "execution_count": 145,
     "metadata": {},
     "output_type": "execute_result"
    }
   ],
   "source": [
    "a =3\n",
    "b =2\n",
    "a += 2 + b\n",
    "a"
   ]
  },
  {
   "cell_type": "code",
   "execution_count": 146,
   "id": "0221cb07-7040-460e-b27c-ebf6af24a7f7",
   "metadata": {},
   "outputs": [
    {
     "data": {
      "text/plain": [
       "'zxcasd'"
      ]
     },
     "execution_count": 146,
     "metadata": {},
     "output_type": "execute_result"
    }
   ],
   "source": [
    "a = 'zxc'\n",
    "b = 'asd'\n",
    "a+b"
   ]
  },
  {
   "cell_type": "code",
   "execution_count": 148,
   "id": "8c060cb7-ab7c-4adf-925b-6da634eb5942",
   "metadata": {},
   "outputs": [
    {
     "data": {
      "text/plain": [
       "'zxczxczxc'"
      ]
     },
     "execution_count": 148,
     "metadata": {},
     "output_type": "execute_result"
    }
   ],
   "source": [
    "a * 3"
   ]
  },
  {
   "cell_type": "code",
   "execution_count": 149,
   "id": "b38fdce8-3da6-48f3-b406-51a2bbc9ca8e",
   "metadata": {},
   "outputs": [
    {
     "data": {
      "text/plain": [
       "\"Kim's family.\""
      ]
     },
     "execution_count": 149,
     "metadata": {},
     "output_type": "execute_result"
    }
   ],
   "source": [
    "c = \"Kim's family.\"\n",
    "c"
   ]
  },
  {
   "cell_type": "code",
   "execution_count": 150,
   "id": "fb87006d-db8f-4d1c-963d-090ec53b98ce",
   "metadata": {},
   "outputs": [
    {
     "data": {
      "text/plain": [
       "True"
      ]
     },
     "execution_count": 150,
     "metadata": {},
     "output_type": "execute_result"
    }
   ],
   "source": [
    "a = 'i'\n",
    "b = 'i'\n",
    "a ==b"
   ]
  },
  {
   "cell_type": "code",
   "execution_count": 151,
   "id": "59274aaa-69f6-4e43-b209-9b332e0fab3e",
   "metadata": {},
   "outputs": [
    {
     "data": {
      "text/plain": [
       "'2'"
      ]
     },
     "execution_count": 151,
     "metadata": {},
     "output_type": "execute_result"
    }
   ],
   "source": [
    "# 문자열은 리스트, 열거형\n",
    "a = '2001asdcxz' # 10개의 글자의 목록\n",
    "a[0] # 숫자 자리수 -> 인덱스"
   ]
  },
  {
   "cell_type": "code",
   "execution_count": 156,
   "id": "1dec0b53-249b-457c-916c-796e3818924c",
   "metadata": {},
   "outputs": [
    {
     "data": {
      "text/plain": [
       "'1'"
      ]
     },
     "execution_count": 156,
     "metadata": {},
     "output_type": "execute_result"
    }
   ],
   "source": [
    "a[3] #인덱싱"
   ]
  },
  {
   "cell_type": "code",
   "execution_count": 157,
   "id": "645cf907-e637-486d-91a2-eb947337269d",
   "metadata": {},
   "outputs": [
    {
     "data": {
      "text/plain": [
       "'200'"
      ]
     },
     "execution_count": 157,
     "metadata": {},
     "output_type": "execute_result"
    }
   ],
   "source": [
    "a[:3] # 영역을 지정할 때 :(콜론),  슬라이싱"
   ]
  },
  {
   "cell_type": "code",
   "execution_count": 159,
   "id": "971b34e7-ce18-41d4-a145-62114094925e",
   "metadata": {},
   "outputs": [
    {
     "data": {
      "text/plain": [
       "'cx'"
      ]
     },
     "execution_count": 159,
     "metadata": {},
     "output_type": "execute_result"
    }
   ],
   "source": [
    "a = '2001asdcxz'\n",
    "a[7:9]"
   ]
  },
  {
   "cell_type": "code",
   "execution_count": 161,
   "id": "7a18c19c-a5fa-4207-bb0c-7bd9e5217271",
   "metadata": {},
   "outputs": [
    {
     "data": {
      "text/plain": [
       "'zxcdsa1002'"
      ]
     },
     "execution_count": 161,
     "metadata": {},
     "output_type": "execute_result"
    }
   ],
   "source": [
    "a[::-1] # 역순으로 전체 뒤집기"
   ]
  },
  {
   "cell_type": "code",
   "execution_count": 162,
   "id": "ffc3d36b-34fe-406c-a959-d1b2505aff11",
   "metadata": {},
   "outputs": [
    {
     "data": {
      "text/plain": [
       "'20adx'"
      ]
     },
     "execution_count": 162,
     "metadata": {},
     "output_type": "execute_result"
    }
   ],
   "source": [
    "a[::2] # 전체 중에서 2칸씩 건너뛰기"
   ]
  },
  {
   "cell_type": "code",
   "execution_count": 163,
   "id": "33b5dccf-07f0-4bf5-8473-78d36e3b8f39",
   "metadata": {},
   "outputs": [
    {
     "data": {
      "text/plain": [
       "'01scz'"
      ]
     },
     "execution_count": 163,
     "metadata": {},
     "output_type": "execute_result"
    }
   ],
   "source": [
    "a[1::2] # \t1번 인덱스부터 2칸씩"
   ]
  },
  {
   "cell_type": "code",
   "execution_count": 167,
   "id": "679d68a3-6b80-4d1b-91e5-ab40f120c735",
   "metadata": {},
   "outputs": [
    {
     "data": {
      "text/plain": [
       "True"
      ]
     },
     "execution_count": 167,
     "metadata": {},
     "output_type": "execute_result"
    }
   ],
   "source": [
    "s ='abc'\n",
    "a =s\n",
    "a is s"
   ]
  },
  {
   "cell_type": "code",
   "execution_count": 168,
   "id": "6d670ae0-6ff2-4457-84cd-c9bd2535147f",
   "metadata": {},
   "outputs": [
    {
     "data": {
      "text/plain": [
       "True"
      ]
     },
     "execution_count": 168,
     "metadata": {},
     "output_type": "execute_result"
    }
   ],
   "source": [
    "s ='abc'\n",
    "b =s[:]\n",
    "a is b"
   ]
  },
  {
   "cell_type": "code",
   "execution_count": 171,
   "id": "60f83026-886a-4169-8bb6-29597d1a69c6",
   "metadata": {},
   "outputs": [
    {
     "data": {
      "text/plain": [
       "'1111111111111111111111111111111111111111111111111111111111111111111111111111111111111111111111111111111111111111111111111111111111111111111111111111111111111111111111111111111111111111111111111111111111111111111111111111111111111111111111111111111111111111111111111111111111111111111111111111111111111111111111111111111111111111111111111111111111111111111111111111111111111111111111111111111111111111111111111111111111111111111111111111111111111111111111111111111111111111111111111111111111111111111111111111111111111111111111111111111111111111111111111111111111111111111111111111111111111111111111111111111111111111111111111111111111111111111111111111111111111111111111111111111111111111111111111111111111111111111111111111111111111111111111111111111111111111111111111111111111111111111111111111111111111111111111111111111111111111111111111111111111111111111111111111111111111111111111111111111111111111111111111111111111111111111111111111111111111111111111111111111111111111111111111111111111111111'"
      ]
     },
     "execution_count": 171,
     "metadata": {},
     "output_type": "execute_result"
    }
   ],
   "source": [
    "s1 = '1'*1000\n",
    "s1"
   ]
  },
  {
   "cell_type": "code",
   "execution_count": 172,
   "id": "c106af75-4084-4298-809b-89957e436eed",
   "metadata": {},
   "outputs": [
    {
     "data": {
      "text/plain": [
       "True"
      ]
     },
     "execution_count": 172,
     "metadata": {},
     "output_type": "execute_result"
    }
   ],
   "source": [
    "b = s1[:]\n",
    "s1 is b"
   ]
  },
  {
   "cell_type": "code",
   "execution_count": 9,
   "id": "5458708e-4c86-4bae-828f-ce1469350254",
   "metadata": {},
   "outputs": [
    {
     "name": "stdout",
     "output_type": "stream",
     "text": [
      "파이썬\n",
      "54028\n"
     ]
    }
   ],
   "source": [
    "text ='파이썬'\n",
    "print(text)\n",
    "print(ord('파'))"
   ]
  },
  {
   "cell_type": "code",
   "execution_count": 10,
   "id": "d2efeca8-2fcc-4436-8f3d-bdd473691c1a",
   "metadata": {},
   "outputs": [
    {
     "data": {
      "text/plain": [
       "b'\\xed\\x8c\\x8c\\xec\\x9d\\xb4\\xec\\x8d\\xac'"
      ]
     },
     "execution_count": 10,
     "metadata": {},
     "output_type": "execute_result"
    }
   ],
   "source": [
    "# 인코딩s\n",
    "enc_text = text.encode('utf-8')\n",
    "enc_text"
   ]
  },
  {
   "cell_type": "code",
   "execution_count": 14,
   "id": "9244c294-46a6-4ed0-881e-3fd239a5461e",
   "metadata": {},
   "outputs": [
    {
     "data": {
      "text/plain": [
       "'파이썬'"
      ]
     },
     "execution_count": 14,
     "metadata": {},
     "output_type": "execute_result"
    }
   ],
   "source": [
    "dec_text = enc_text.decode('utf-8')\n",
    "dec_text"
   ]
  },
  {
   "cell_type": "code",
   "execution_count": 15,
   "id": "fb656e36-f387-418c-b572-31c7cd06136a",
   "metadata": {},
   "outputs": [
    {
     "data": {
      "text/plain": [
       "True"
      ]
     },
     "execution_count": 15,
     "metadata": {},
     "output_type": "execute_result"
    }
   ],
   "source": [
    "e ='1'\n",
    "e == '1'"
   ]
  },
  {
   "cell_type": "markdown",
   "id": "826b7db4-fbcd-49be-9b52-8b93e2dc047f",
   "metadata": {},
   "source": [
    "''' docstring \\n\n",
    "start \\n\n",
    "end \\n"
   ]
  },
  {
   "cell_type": "code",
   "execution_count": 20,
   "id": "47a3d583-6ea2-4f79-a3e6-ee841412f712",
   "metadata": {},
   "outputs": [
    {
     "name": "stdout",
     "output_type": "stream",
     "text": [
      " docstring \n",
      "\n",
      "start \n",
      "\n",
      "end \n",
      "\n",
      "\n"
     ]
    }
   ],
   "source": [
    "doc_string =''' docstring \\n\n",
    "start \\n\n",
    "end \\n\n",
    "'''\n",
    "print(doc_string)"
   ]
  },
  {
   "cell_type": "code",
   "execution_count": 21,
   "id": "65deaf3b-8cfe-47f9-9212-49eb7b42dfd7",
   "metadata": {},
   "outputs": [
    {
     "data": {
      "text/plain": [
       "' docstring \\n\\nstart \\n\\nend \\n\\n'"
      ]
     },
     "execution_count": 21,
     "metadata": {},
     "output_type": "execute_result"
    }
   ],
   "source": [
    "doc_string"
   ]
  },
  {
   "cell_type": "code",
   "execution_count": 22,
   "id": "39db1646-8966-4d36-b668-869fd40c8edd",
   "metadata": {},
   "outputs": [
    {
     "data": {
      "text/plain": [
       "'파이썬'"
      ]
     },
     "execution_count": 22,
     "metadata": {},
     "output_type": "execute_result"
    }
   ],
   "source": [
    "text"
   ]
  },
  {
   "cell_type": "code",
   "execution_count": 23,
   "id": "c5e40751-388c-45d6-8e45-3de0b3594d74",
   "metadata": {},
   "outputs": [
    {
     "data": {
      "text/plain": [
       "['__add__',\n",
       " '__class__',\n",
       " '__contains__',\n",
       " '__delattr__',\n",
       " '__dir__',\n",
       " '__doc__',\n",
       " '__eq__',\n",
       " '__format__',\n",
       " '__ge__',\n",
       " '__getattribute__',\n",
       " '__getitem__',\n",
       " '__getnewargs__',\n",
       " '__getstate__',\n",
       " '__gt__',\n",
       " '__hash__',\n",
       " '__init__',\n",
       " '__init_subclass__',\n",
       " '__iter__',\n",
       " '__le__',\n",
       " '__len__',\n",
       " '__lt__',\n",
       " '__mod__',\n",
       " '__mul__',\n",
       " '__ne__',\n",
       " '__new__',\n",
       " '__reduce__',\n",
       " '__reduce_ex__',\n",
       " '__repr__',\n",
       " '__rmod__',\n",
       " '__rmul__',\n",
       " '__setattr__',\n",
       " '__sizeof__',\n",
       " '__str__',\n",
       " '__subclasshook__',\n",
       " 'capitalize',\n",
       " 'casefold',\n",
       " 'center',\n",
       " 'count',\n",
       " 'encode',\n",
       " 'endswith',\n",
       " 'expandtabs',\n",
       " 'find',\n",
       " 'format',\n",
       " 'format_map',\n",
       " 'index',\n",
       " 'isalnum',\n",
       " 'isalpha',\n",
       " 'isascii',\n",
       " 'isdecimal',\n",
       " 'isdigit',\n",
       " 'isidentifier',\n",
       " 'islower',\n",
       " 'isnumeric',\n",
       " 'isprintable',\n",
       " 'isspace',\n",
       " 'istitle',\n",
       " 'isupper',\n",
       " 'join',\n",
       " 'ljust',\n",
       " 'lower',\n",
       " 'lstrip',\n",
       " 'maketrans',\n",
       " 'partition',\n",
       " 'removeprefix',\n",
       " 'removesuffix',\n",
       " 'replace',\n",
       " 'rfind',\n",
       " 'rindex',\n",
       " 'rjust',\n",
       " 'rpartition',\n",
       " 'rsplit',\n",
       " 'rstrip',\n",
       " 'split',\n",
       " 'splitlines',\n",
       " 'startswith',\n",
       " 'strip',\n",
       " 'swapcase',\n",
       " 'title',\n",
       " 'translate',\n",
       " 'upper',\n",
       " 'zfill']"
      ]
     },
     "execution_count": 23,
     "metadata": {},
     "output_type": "execute_result"
    }
   ],
   "source": [
    "dir(text)"
   ]
  },
  {
   "cell_type": "code",
   "execution_count": 30,
   "id": "9ca92e4d-36b4-4b16-ade6-3c226952dae7",
   "metadata": {},
   "outputs": [
    {
     "data": {
      "text/plain": [
       "0"
      ]
     },
     "execution_count": 30,
     "metadata": {},
     "output_type": "execute_result"
    }
   ],
   "source": [
    "text.count('t')"
   ]
  },
  {
   "cell_type": "code",
   "execution_count": 32,
   "id": "ae1de66e-f359-4da9-a2bf-71f64ad6418e",
   "metadata": {},
   "outputs": [
    {
     "data": {
      "text/plain": [
       "'파이썬4'"
      ]
     },
     "execution_count": 32,
     "metadata": {},
     "output_type": "execute_result"
    }
   ],
   "source": [
    "text.__add__('4')"
   ]
  },
  {
   "cell_type": "code",
   "execution_count": 34,
   "id": "7dd08b1a-654a-438e-89ea-ebbb7a555e00",
   "metadata": {},
   "outputs": [
    {
     "data": {
      "text/plain": [
       "'파이썬4'"
      ]
     },
     "execution_count": 34,
     "metadata": {},
     "output_type": "execute_result"
    }
   ],
   "source": [
    "text + '4'"
   ]
  },
  {
   "cell_type": "code",
   "execution_count": 43,
   "id": "20d1e939-3eb9-4248-881e-6e021e65a842",
   "metadata": {},
   "outputs": [
    {
     "name": "stdout",
     "output_type": "stream",
     "text": [
      "hello\n",
      "world's\n"
     ]
    }
   ],
   "source": [
    "print('hello\\nworld\\'s') # excape 문자는 특수문자를 그냥 텍스트로 인식하게 된다.\n"
   ]
  },
  {
   "cell_type": "markdown",
   "id": "1d941ddf-f509-49a4-80e3-f2312373e589",
   "metadata": {},
   "source": [
    "raw-string  : 모두다 문자열이다   r'str?\\'\n",
    "f-string   : 형식코드가 내포된 문자열 f'str(text)'"
   ]
  },
  {
   "cell_type": "code",
   "execution_count": 52,
   "id": "9cce278e-c71d-432a-aac9-803ef97fa3ea",
   "metadata": {},
   "outputs": [
    {
     "data": {
      "text/plain": [
       "'12\\\\4'"
      ]
     },
     "execution_count": 52,
     "metadata": {},
     "output_type": "execute_result"
    }
   ],
   "source": [
    "str_1 = '12\\\\4' # 12\\x04 \\는\n",
    "str_1"
   ]
  },
  {
   "cell_type": "code",
   "execution_count": 53,
   "id": "65c89a71-d1cb-41e7-b80e-378f7ee77135",
   "metadata": {},
   "outputs": [
    {
     "data": {
      "text/plain": [
       "'12\\\\4'"
      ]
     },
     "execution_count": 53,
     "metadata": {},
     "output_type": "execute_result"
    }
   ],
   "source": [
    "raw_str = r'12\\4'\n",
    "raw_str"
   ]
  },
  {
   "cell_type": "code",
   "execution_count": 55,
   "id": "d360ff2a-486f-41fe-b1de-6fda4e18da96",
   "metadata": {},
   "outputs": [
    {
     "name": "stdout",
     "output_type": "stream",
     "text": [
      "Hello\\nWorld\n"
     ]
    }
   ],
   "source": [
    "raw_str_1 = r'Hello\\nWorld'\n",
    "print(raw_str_1)"
   ]
  },
  {
   "cell_type": "markdown",
   "id": "0d797df6-97b4-406f-95be-46ab06c971b2",
   "metadata": {},
   "source": [
    "f' 문자열이에요 {변수} '"
   ]
  },
  {
   "cell_type": "code",
   "execution_count": 62,
   "id": "5d016e6f-d0ee-4269-a02c-b1f5d9a997c0",
   "metadata": {},
   "outputs": [
    {
     "name": "stdout",
     "output_type": "stream",
     "text": [
      "제 이름은 ylee 내 나이는  25\n"
     ]
    }
   ],
   "source": [
    "name = 'ylee'\n",
    "age = 25\n",
    "print('제 이름은', name, '내 나이는 ',age)"
   ]
  },
  {
   "cell_type": "code",
   "execution_count": 67,
   "id": "7267d986-7e69-4a07-9c7d-7b83540ac85c",
   "metadata": {},
   "outputs": [
    {
     "data": {
      "text/plain": [
       "'제 이름은 ylee 내 나이는 25 입니다.'"
      ]
     },
     "execution_count": 67,
     "metadata": {},
     "output_type": "execute_result"
    }
   ],
   "source": [
    "f_str_1 = f'제 이름은 {name} 내 나이는 {age} 입니다.'\n",
    "f_str_1"
   ]
  },
  {
   "cell_type": "code",
   "execution_count": 70,
   "id": "998531bf-13bb-4fbd-9594-c19fda284264",
   "metadata": {},
   "outputs": [
    {
     "name": "stdin",
     "output_type": "stream",
     "text": [
      "이름을 입력하세요. 이정석\n",
      "나이를 입력하세요. 26\n"
     ]
    },
    {
     "data": {
      "text/plain": [
       "'제 이름은 이정석 내 나이는 26 입니다.'"
      ]
     },
     "execution_count": 70,
     "metadata": {},
     "output_type": "execute_result"
    }
   ],
   "source": [
    "name = input(\"이름을 입력하세요.\")\n",
    "age = input(\"나이를 입력하세요.\")\n",
    "f'제 이름은 {name} 내 나이는 {age} 입니다.'"
   ]
  },
  {
   "cell_type": "code",
   "execution_count": null,
   "id": "444b0a3b-a0cf-499c-a716-426ce4c22861",
   "metadata": {},
   "outputs": [],
   "source": [
    "문자열, format()\n",
    "\n",
    "문자열에 위치 인덱스를 사용해 포맷한 값을 지정할 수있다."
   ]
  },
  {
   "cell_type": "code",
   "execution_count": 71,
   "id": "5b7823ea-ceb0-4f82-9bab-9f892c62dd94",
   "metadata": {},
   "outputs": [
    {
     "data": {
      "text/plain": [
       "'제 이름은 이정석 내 나이는 26 입니다.'"
      ]
     },
     "execution_count": 71,
     "metadata": {},
     "output_type": "execute_result"
    }
   ],
   "source": [
    "f_str_1 = f'제 이름은 {name} 내 나이는 {age} 입니다.'\n",
    "f_str_1"
   ]
  },
  {
   "cell_type": "code",
   "execution_count": 79,
   "id": "5345dcf3-b969-46b4-b857-586f39e1277a",
   "metadata": {},
   "outputs": [
    {
     "data": {
      "text/plain": [
       "'99.9900 dollar are worth USS 100'"
      ]
     },
     "execution_count": 79,
     "metadata": {},
     "output_type": "execute_result"
    }
   ],
   "source": [
    "# dir(f_str_1)\n",
    "format_str = '{0:.4f} {1:s} are worth USS {2}' # template\n",
    "format_str.format(99.99,'dollar', 100)"
   ]
  },
  {
   "cell_type": "code",
   "execution_count": 83,
   "id": "b85dfb43-f567-4429-bc87-014a85a93e9c",
   "metadata": {},
   "outputs": [
    {
     "name": "stdin",
     "output_type": "stream",
     "text": [
      "주문할 메뉴를 입력하세요  밥\n",
      "한 개 가격이 얼마인가요?  1000\n",
      "몇 개나 주문하세요?  3\n"
     ]
    },
    {
     "name": "stdout",
     "output_type": "stream",
     "text": [
      "밥 메뉴의 3개 가격은 총 3,000입니다.\n"
     ]
    }
   ],
   "source": [
    "menu = input('주문할 메뉴를 입력하세요 ')\n",
    "price = input('한 개 가격이 얼마인가요? ')\n",
    "count = input('몇 개나 주문하세요? ')\n",
    "total = int(price) * int(count)\n",
    "msg = '{} 메뉴의 {}개 가격은 총 {:,}입니다.' # 15,000\n",
    "print(msg.format(menu, count, total))"
   ]
  },
  {
   "cell_type": "code",
   "execution_count": 92,
   "id": "f5fee913-5a87-4faa-9cb7-828eda9f1a3f",
   "metadata": {},
   "outputs": [],
   "source": [
    "items = [\n",
    "    {\"name\": \"아메리카노\", \"price\": 3000, \"qty\": 2},\n",
    "    {\"name\": \"카페라떼\", \"price\": 4000, \"qty\": 1},\n",
    "    {\"name\": \"샌드위치\", \"price\": 5500, \"qty\": 3}\n",
    "]\n"
   ]
  },
  {
   "cell_type": "code",
   "execution_count": 120,
   "id": "d29638cc-ef4c-43ae-97ed-00491474f13b",
   "metadata": {},
   "outputs": [
    {
     "name": "stdout",
     "output_type": "stream",
     "text": [
      "상품명       가격        수량        총액        \n",
      "--------------------------------------------------\n",
      "아메리카노          3,000원         2개     6,000원\n",
      "카페라떼           4,000원         1개     4,000원\n",
      "샌드위치           5,500원         3개    16,500원\n"
     ]
    }
   ],
   "source": [
    "header_str = '{0:10}{1:10}{2:10}{3:10}' # 인덱스: 데이터 결과\n",
    "print(header_str.format('상품명', '가격', '수량', '총액'))\n",
    "print('-'*50)\n",
    "data_str = '{0:10}{1:10,}원{2:10}개{3:10,}원' # 인덱스: 데이터 결과\n",
    "\n",
    "for item in items :\n",
    "    item_name = item['name']\n",
    "    item_price = item['price']\n",
    "    item_qty = item['qty']\n",
    "    total_price = item_price * item_qty\n",
    "    print(data_str.format(item_name, item_price, item_qty, total_price))\n"
   ]
  },
  {
   "cell_type": "code",
   "execution_count": 58,
   "id": "352acb38-09ba-4dff-8477-382d43fb75dd",
   "metadata": {},
   "outputs": [
    {
     "data": {
      "text/plain": [
       "5"
      ]
     },
     "execution_count": 58,
     "metadata": {},
     "output_type": "execute_result"
    }
   ],
   "source": [
    "b = 2\n",
    "c = '3'\n",
    "# b + c # TypeError\n",
    "b + int(c)"
   ]
  },
  {
   "cell_type": "code",
   "execution_count": 61,
   "id": "6ebace46-51e7-43f6-9eaa-cc964d32e323",
   "metadata": {},
   "outputs": [
    {
     "data": {
      "text/plain": [
       "5"
      ]
     },
     "execution_count": 61,
     "metadata": {},
     "output_type": "execute_result"
    }
   ],
   "source": [
    "c = '3a'\n",
    "# b + int(c) # ValueError\n",
    "b + int(c[:1])"
   ]
  },
  {
   "cell_type": "code",
   "execution_count": 6,
   "id": "252abd37-c813-470c-8a15-351b3ffcf1e2",
   "metadata": {},
   "outputs": [],
   "source": [
    "ra = range(2,20,2)"
   ]
  },
  {
   "cell_type": "code",
   "execution_count": 7,
   "id": "19ae6f82-6c7e-448e-a4d7-589d99a93067",
   "metadata": {},
   "outputs": [
    {
     "data": {
      "text/plain": [
       "[2, 4, 6, 8, 10, 12, 14, 16, 18]"
      ]
     },
     "execution_count": 7,
     "metadata": {},
     "output_type": "execute_result"
    }
   ],
   "source": [
    "num_list = list(ra) # 생성자\n",
    "num_list"
   ]
  },
  {
   "cell_type": "code",
   "execution_count": 11,
   "id": "e2a4194c-0100-4977-80b4-54ace3d95d92",
   "metadata": {},
   "outputs": [
    {
     "data": {
      "text/plain": [
       "18"
      ]
     },
     "execution_count": 11,
     "metadata": {},
     "output_type": "execute_result"
    }
   ],
   "source": [
    "num_list[-1]"
   ]
  },
  {
   "cell_type": "code",
   "execution_count": 9,
   "id": "0ef27f77-2024-42ef-a88c-6c8deb3897e4",
   "metadata": {},
   "outputs": [
    {
     "data": {
      "text/plain": [
       "9"
      ]
     },
     "execution_count": 9,
     "metadata": {},
     "output_type": "execute_result"
    }
   ],
   "source": [
    "ra.__len__()"
   ]
  },
  {
   "cell_type": "code",
   "execution_count": 12,
   "id": "7facd21c-f444-45ce-a29b-51d4051bef47",
   "metadata": {},
   "outputs": [
    {
     "data": {
      "text/plain": [
       "1"
      ]
     },
     "execution_count": 12,
     "metadata": {},
     "output_type": "execute_result"
    }
   ],
   "source": [
    "num_list.count(2)"
   ]
  },
  {
   "cell_type": "markdown",
   "id": "cf9a0514-e926-4d99-bbb8-8a3f45995abf",
   "metadata": {},
   "source": [
    "method 와 function\n",
    "1. method : 객체의 한해서 동작하는 함수 -> 객체명.함수()\n",
    "2. function : 함수(매개변수) -> 매개변수로 동작하는 함수\n",
    "\n",
    "dir() -> function\n",
    "list_obj.len() -> method"
   ]
  },
  {
   "cell_type": "code",
   "execution_count": 43,
   "id": "1d4416cd-593f-4259-80ef-1bf3640da4df",
   "metadata": {},
   "outputs": [],
   "source": [
    "str_1 = 'hello'\n",
    "# str_1[0] = 'H' # TypeError -> str Immutable(객체의 불변성)"
   ]
  },
  {
   "cell_type": "code",
   "execution_count": 44,
   "id": "3530655d-89bb-4668-a026-a9fe7726a2ad",
   "metadata": {},
   "outputs": [
    {
     "data": {
      "text/plain": [
       "['H', 'e', 'l', 'l', 'o']"
      ]
     },
     "execution_count": 44,
     "metadata": {},
     "output_type": "execute_result"
    }
   ],
   "source": [
    "str_2 = list(str_1)\n",
    "str_2[0] = 'H'\n",
    "str_2"
   ]
  },
  {
   "cell_type": "code",
   "execution_count": 45,
   "id": "a4ebd253-978a-4cb4-9d29-73bd125c18f7",
   "metadata": {},
   "outputs": [
    {
     "data": {
      "text/plain": [
       "'Hello'"
      ]
     },
     "execution_count": 45,
     "metadata": {},
     "output_type": "execute_result"
    }
   ],
   "source": [
    "''.join(str_2)\n"
   ]
  },
  {
   "cell_type": "code",
   "execution_count": 46,
   "id": "128ae5a0-a9c2-497d-97b5-22d4fa798332",
   "metadata": {},
   "outputs": [
    {
     "data": {
      "text/plain": [
       "[['aaa', 'bbb', 'ccc'], [1, 2, 'aaa', 'bbb']]"
      ]
     },
     "execution_count": 46,
     "metadata": {},
     "output_type": "execute_result"
    }
   ],
   "source": [
    "# 리스트의 생성\n",
    "a = list()\n",
    "a = []\n",
    "b = [1,2,3,4,5]\n",
    "c = ['aaa','bbb','ccc']\n",
    "d =[1,2,'aaa','bbb']\n",
    "e = [c,d]\n",
    "e"
   ]
  },
  {
   "cell_type": "code",
   "execution_count": 59,
   "id": "3991d782-ae08-45a3-86d4-7932bec7e6dd",
   "metadata": {},
   "outputs": [
    {
     "data": {
      "text/plain": [
       "'bbb'"
      ]
     },
     "execution_count": 59,
     "metadata": {},
     "output_type": "execute_result"
    }
   ],
   "source": [
    "e[1][3]"
   ]
  },
  {
   "cell_type": "code",
   "execution_count": 60,
   "id": "bed33385-b870-4a7d-8545-42ddf2130121",
   "metadata": {},
   "outputs": [
    {
     "data": {
      "text/plain": [
       "[[1, 2], [3, 4]]"
      ]
     },
     "execution_count": 60,
     "metadata": {},
     "output_type": "execute_result"
    }
   ],
   "source": [
    "score = [[1,2],[3,4]]\n",
    "score"
   ]
  },
  {
   "cell_type": "code",
   "execution_count": null,
   "id": "ce8d7771-e33f-4deb-a77e-ccaf3c21123d",
   "metadata": {},
   "outputs": [],
   "source": [
    "복사\n",
    "1. 얕은 복사 shallow copy\n",
    "2. 깊은 복사 deep copy"
   ]
  },
  {
   "cell_type": "code",
   "execution_count": 65,
   "id": "88a9bb40-93fc-4d42-a49e-5253d293bd75",
   "metadata": {},
   "outputs": [
    {
     "data": {
      "text/plain": [
       "[[100, 2], [3, 4]]"
      ]
     },
     "execution_count": 65,
     "metadata": {},
     "output_type": "execute_result"
    }
   ],
   "source": [
    "new_score = score[:]    # 얕은카피\n",
    "new_score[0][0] = 100\n",
    "new_score"
   ]
  },
  {
   "cell_type": "code",
   "execution_count": 66,
   "id": "2d422312-9886-44cc-ad66-bf8067c01d1f",
   "metadata": {},
   "outputs": [
    {
     "data": {
      "text/plain": [
       "[[100, 2], [3, 4]]"
      ]
     },
     "execution_count": 66,
     "metadata": {},
     "output_type": "execute_result"
    }
   ],
   "source": [
    "score    "
   ]
  },
  {
   "cell_type": "code",
   "execution_count": 75,
   "id": "198c0b9e-664f-49aa-b207-1fbeec87cc2f",
   "metadata": {},
   "outputs": [
    {
     "data": {
      "text/plain": [
       "[[100, 99], [3, 4]]"
      ]
     },
     "execution_count": 75,
     "metadata": {},
     "output_type": "execute_result"
    }
   ],
   "source": [
    "import copy\n",
    "copied = copy.copy(score)\n",
    "copied [0][1] = 99\n",
    "copied"
   ]
  },
  {
   "cell_type": "code",
   "execution_count": 76,
   "id": "9c459d6e-7a2a-4eed-811d-b0f4f43ed839",
   "metadata": {},
   "outputs": [
    {
     "data": {
      "text/plain": [
       "[[100, 99], [3, 4]]"
      ]
     },
     "execution_count": 76,
     "metadata": {},
     "output_type": "execute_result"
    }
   ],
   "source": [
    "score"
   ]
  },
  {
   "cell_type": "code",
   "execution_count": 79,
   "id": "e29e71b2-a7ea-452d-9929-f931e5d80241",
   "metadata": {},
   "outputs": [
    {
     "data": {
      "text/plain": [
       "[[100, 99], [88, 4]]"
      ]
     },
     "execution_count": 79,
     "metadata": {},
     "output_type": "execute_result"
    }
   ],
   "source": [
    "deepcopied = copy.deepcopy(score)\n",
    "deepcopied[1][0] = 88\n",
    "deepcopied"
   ]
  },
  {
   "cell_type": "code",
   "execution_count": 80,
   "id": "2494d78f-ee0b-427c-83c8-fe29ec96707d",
   "metadata": {},
   "outputs": [
    {
     "data": {
      "text/plain": [
       "[[100, 99], [3, 4]]"
      ]
     },
     "execution_count": 80,
     "metadata": {},
     "output_type": "execute_result"
    }
   ],
   "source": [
    "score"
   ]
  },
  {
   "cell_type": "code",
   "execution_count": 106,
   "id": "5e6ec5c9-7937-4790-b50b-b1eb29f17e1b",
   "metadata": {},
   "outputs": [
    {
     "data": {
      "text/plain": [
       "['해물라면', '샐러드', '떡볶이', '오므라이스', '볶음밥', '떡볶이', '제육볶음', '주먹밥']"
      ]
     },
     "execution_count": 106,
     "metadata": {},
     "output_type": "execute_result"
    }
   ],
   "source": [
    "lunch1 = ['해물라면', '샐러드', '떡볶이']\n",
    "lunch2 = ['오므라이스', '볶음밥', '떡볶이','제육볶음','주먹밥']\n",
    "lunch1 + lunch2"
   ]
  },
  {
   "cell_type": "code",
   "execution_count": 99,
   "id": "12abe702-0790-4bb3-bf7c-a0407bf0731c",
   "metadata": {},
   "outputs": [
    {
     "data": {
      "text/plain": [
       "['해물라면', '샐러드', '떡볶이', '해물라면', '샐러드', '떡볶이']"
      ]
     },
     "execution_count": 99,
     "metadata": {},
     "output_type": "execute_result"
    }
   ],
   "source": [
    "lunch1 *2"
   ]
  },
  {
   "cell_type": "code",
   "execution_count": 100,
   "id": "60a3cfab-4d1b-489e-9fec-fe6a55564173",
   "metadata": {},
   "outputs": [
    {
     "data": {
      "text/plain": [
       "['샐러드', '떡볶이']"
      ]
     },
     "execution_count": 100,
     "metadata": {},
     "output_type": "execute_result"
    }
   ],
   "source": [
    "del lunch1[0]\n",
    "lunch1"
   ]
  },
  {
   "cell_type": "code",
   "execution_count": 105,
   "id": "b53b34ef-b287-4ce8-8e69-be1a1c299c91",
   "metadata": {},
   "outputs": [
    {
     "data": {
      "text/plain": [
       "['샐러드', '오므라이스', '볶음밥', '떡볶이', '제육볶음', '주먹밥']"
      ]
     },
     "execution_count": 105,
     "metadata": {},
     "output_type": "execute_result"
    }
   ],
   "source": [
    "# lunch1과 lunch2를 합하고 '떡볶이'를 삭제하시오.\n",
    "lunch3 = lunch1 + lunch2\n",
    "lunch3\n",
    "del lunch3[1]\n",
    "lunch3"
   ]
  },
  {
   "cell_type": "code",
   "execution_count": 102,
   "id": "f520ec4e-b511-4ec4-a1ad-ef617e98f909",
   "metadata": {},
   "outputs": [
    {
     "data": {
      "text/plain": [
       "True"
      ]
     },
     "execution_count": 102,
     "metadata": {},
     "output_type": "execute_result"
    }
   ],
   "source": [
    "'떡볶이' in lunch3"
   ]
  },
  {
   "cell_type": "code",
   "execution_count": 147,
   "id": "97a7272e-56ae-4bc1-b0bc-2fde2b293cc3",
   "metadata": {},
   "outputs": [
    {
     "name": "stdin",
     "output_type": "stream",
     "text": [
      "먹고싶은 간식을 추가하세요. 단, 쉼표(,)로 연결하세요 홈런볼,사이다\n"
     ]
    },
    {
     "data": {
      "text/plain": [
       "['초코파이', '홈런볼', '사이다']"
      ]
     },
     "execution_count": 147,
     "metadata": {},
     "output_type": "execute_result"
    }
   ],
   "source": [
    "# 간식박스 관리 프로그램\n",
    "snack_box = ['초코파이']\n",
    "new_snack = input(\"먹고싶은 간식을 추가하세요. 단, 쉼표(,)로 연결하세요\").split(',')\n",
    "snack_box += new_snack\n",
    "snack_box"
   ]
  },
  {
   "cell_type": "code",
   "execution_count": 148,
   "id": "f4cc4952-f1b3-4de3-8606-17143b2f478b",
   "metadata": {},
   "outputs": [
    {
     "name": "stdin",
     "output_type": "stream",
     "text": [
      "간식박스 몇 세트로 포장할까요? (예: 2 -> 2box) 2\n"
     ]
    },
    {
     "data": {
      "text/plain": [
       "['초코파이', '홈런볼', '사이다', '초코파이', '홈런볼', '사이다']"
      ]
     },
     "execution_count": 148,
     "metadata": {},
     "output_type": "execute_result"
    }
   ],
   "source": [
    "# 간식박스 관리 프로그램 2\n",
    "qty = int(input(\"간식박스 몇 세트로 포장할까요? (예: 2 -> 2box)\"))\n",
    "snack_box *= qty\n",
    "snack_box"
   ]
  },
  {
   "cell_type": "code",
   "execution_count": 149,
   "id": "2c4ff537-009c-4341-b51e-4fecfca12605",
   "metadata": {},
   "outputs": [
    {
     "name": "stdout",
     "output_type": "stream",
     "text": [
      "주문하신 간식상자는 초코파이,홈런볼,사이다) 등입니다. 확인해주세요.\n"
     ]
    }
   ],
   "source": [
    "print(f'주문하신 간식상자는 {snack_box[0]},{snack_box[1]},{snack_box[2]}) 등입니다. 확인해주세요.')"
   ]
  },
  {
   "cell_type": "code",
   "execution_count": 150,
   "id": "9a280007-a9b3-4496-bd50-c472bdc2aa5a",
   "metadata": {},
   "outputs": [
    {
     "name": "stdin",
     "output_type": "stream",
     "text": [
      " 혹시 빼고싶은 간식이 있으면 번호를 입력하세요 (0 ~ (len(snack_box)-1) 2\n"
     ]
    }
   ],
   "source": [
    "# 간식박스 관리 프로그램 3\n",
    "msg =f' 혹시 빼고싶은 간식이 있으면 번호를 입력하세요 (0 ~ (len(snack_box)-1)'\n",
    "snack_no =int(input(msg)) -1"
   ]
  },
  {
   "cell_type": "code",
   "execution_count": 151,
   "id": "0b5a5510-1f56-4809-9f7c-a5076dae59a9",
   "metadata": {},
   "outputs": [],
   "source": [
    "del snack_box[snack_no]"
   ]
  },
  {
   "cell_type": "code",
   "execution_count": 152,
   "id": "0b390bc5-7e2f-4355-b144-c2ab8e351e77",
   "metadata": {},
   "outputs": [
    {
     "data": {
      "text/plain": [
       "['초코파이', '사이다', '초코파이', '홈런볼', '사이다']"
      ]
     },
     "execution_count": 152,
     "metadata": {},
     "output_type": "execute_result"
    }
   ],
   "source": [
    "snack_box"
   ]
  },
  {
   "cell_type": "code",
   "execution_count": 153,
   "id": "82b064c0-96c7-47bc-b3ad-89638971f85b",
   "metadata": {},
   "outputs": [
    {
     "name": "stdin",
     "output_type": "stream",
     "text": [
      "찾고 싶은 간식이름을 입력하세요:  홈런볼\n"
     ]
    }
   ],
   "source": [
    "snack_search = input (\"찾고 싶은 간식이름을 입력하세요: \")"
   ]
  },
  {
   "cell_type": "code",
   "execution_count": 154,
   "id": "76faa611-03b4-42d8-ad5d-eb54926ac7d2",
   "metadata": {},
   "outputs": [
    {
     "name": "stdout",
     "output_type": "stream",
     "text": [
      "있어요\n"
     ]
    }
   ],
   "source": [
    "if snack_search in snack_box:\n",
    "    print(\"있어요\")\n",
    "else:\n",
    "    print(\"없어요\")\n",
    "    "
   ]
  },
  {
   "cell_type": "code",
   "execution_count": 157,
   "id": "84aebd89-9ba9-4608-a713-0c0427c994e2",
   "metadata": {},
   "outputs": [
    {
     "name": "stdout",
     "output_type": "stream",
     "text": [
      "주문하신 간식박스는 위에서부터 다음과 같습니다.\n",
      " ['사이다', '홈런볼', '초코파이', '사이다', '초코파이'], 총5개 입니다.\n"
     ]
    }
   ],
   "source": [
    "# 간식박스 관리 프로그램 5\n",
    "print(\"주문하신 간식박스는 위에서부터 다음과 같습니다.\")\n",
    "print(f' {snack_box[::-1]}, 총{len(snack_box)}개 입니다.')"
   ]
  },
  {
   "cell_type": "code",
   "execution_count": null,
   "id": "2733b6a4-f507-414b-8150-585cb3d02b46",
   "metadata": {},
   "outputs": [],
   "source": [
    "# 연산자\n",
    "\n",
    "- 비식별 연산자\n",
    "1. 수치연산: 사칙연산\n",
    "    add() -> 특정메소드를 정의하고 객체에서 사용할 수 있다.\n",
    "    숫자일 때는 기본연산\n",
    "    형변환이 자동으로 일어난다. int + float -> float, int\n",
    "\n",
    "2. 대입연산\n",
    "3. 비교연산\n",
    "4. 물리연산\n",
    "\n",
    "- 식별 연산자\n"
   ]
  },
  {
   "cell_type": "code",
   "execution_count": 44,
   "id": "8f1c1fd8-0215-42bf-849f-90f3de1e99e9",
   "metadata": {},
   "outputs": [
    {
     "data": {
      "text/plain": [
       "True"
      ]
     },
     "execution_count": 44,
     "metadata": {},
     "output_type": "execute_result"
    }
   ],
   "source": [
    "lunch1 =['주먹밥','치킨','칼국수']\n",
    "lunch2 =['주먹밥','치킨','칼국수']\n",
    "lunch1  == lunch2"
   ]
  },
  {
   "cell_type": "code",
   "execution_count": 45,
   "id": "1e9160e7-1f3d-4489-8fbb-c65ea5d58dc1",
   "metadata": {},
   "outputs": [
    {
     "data": {
      "text/plain": [
       "False"
      ]
     },
     "execution_count": 45,
     "metadata": {},
     "output_type": "execute_result"
    }
   ],
   "source": [
    "id(lunch1) == id(lunch2)"
   ]
  },
  {
   "cell_type": "code",
   "execution_count": 46,
   "id": "56a84e45-0cba-4a3a-9a1e-c03866828b60",
   "metadata": {},
   "outputs": [
    {
     "data": {
      "text/plain": [
       "False"
      ]
     },
     "execution_count": 46,
     "metadata": {},
     "output_type": "execute_result"
    }
   ],
   "source": [
    "lunch1  is lunch2"
   ]
  },
  {
   "cell_type": "code",
   "execution_count": 1,
   "id": "718bc58d-dd27-408d-9945-d388cea4c55d",
   "metadata": {},
   "outputs": [],
   "source": [
    "students = [\n",
    "               {'num':'1','name':'김철수','kor':90,'eng':80,'math':85,'total':0,'avg':0.0,'order':0 },\n",
    "               {'num':'2','name':'박제동','kor':90,'eng':85,'math':90,'total':0,'avg':0.0,'order':0 },\n",
    "               {'num':'3','name':'홍길동','kor':80,'eng':80,'math':80,'total':0,'avg':0.0,'order':0 }\n",
    "           ]"
   ]
  },
  {
   "cell_type": "code",
   "execution_count": 3,
   "id": "2c91b6b1-9453-41eb-b48a-f59e25432955",
   "metadata": {},
   "outputs": [],
   "source": [
    "students[0]['total'] = students[0]['kor'] + students[0]['eng'] + students[0]['math']"
   ]
  },
  {
   "cell_type": "code",
   "execution_count": 4,
   "id": "6d781fa9-de96-4304-af09-79e225c72894",
   "metadata": {},
   "outputs": [
    {
     "data": {
      "text/plain": [
       "255"
      ]
     },
     "execution_count": 4,
     "metadata": {},
     "output_type": "execute_result"
    }
   ],
   "source": [
    "students[0]['total']"
   ]
  },
  {
   "cell_type": "code",
   "execution_count": 10,
   "id": "c745b14c-9000-4a96-a064-81f0e6fb2377",
   "metadata": {},
   "outputs": [],
   "source": [
    "students[1]['total'] = students[1]['kor'] + students[1]['eng'] + students[1]['math']\n",
    "students[2]['total'] = students[2]['kor'] + students[2]['eng'] + students[2]['math']"
   ]
  },
  {
   "cell_type": "code",
   "execution_count": 11,
   "id": "652eac73-c9ef-4e94-933a-ca47cab7ca82",
   "metadata": {},
   "outputs": [
    {
     "data": {
      "text/plain": [
       "265"
      ]
     },
     "execution_count": 11,
     "metadata": {},
     "output_type": "execute_result"
    }
   ],
   "source": [
    "\n",
    "students[1]['total']\n"
   ]
  },
  {
   "cell_type": "code",
   "execution_count": 12,
   "id": "75518bb6-ff83-44fa-92d3-026612588e69",
   "metadata": {},
   "outputs": [
    {
     "data": {
      "text/plain": [
       "240"
      ]
     },
     "execution_count": 12,
     "metadata": {},
     "output_type": "execute_result"
    }
   ],
   "source": [
    "students[2]['total']"
   ]
  },
  {
   "cell_type": "code",
   "execution_count": 15,
   "id": "5891e75e-3db6-4ed2-a301-ba9e34a441ef",
   "metadata": {},
   "outputs": [],
   "source": [
    "students = [\n",
    "               {'num':'1','name':'김철수','kor':90,'eng':80,'math':85,'total':0,'avg':0.0,'order':0 },\n",
    "               {'num':'2','name':'박제동','kor':90,'eng':85,'math':90,'total':0,'avg':0.0,'order':0 },\n",
    "               {'num':'3','name':'홍길동','kor':80,'eng':80,'math':80,'total':0,'avg':0.0,'order':0 }\n",
    "           ]"
   ]
  },
  {
   "cell_type": "code",
   "execution_count": 37,
   "id": "1854245d-4512-4677-ac01-3e53607bd8e7",
   "metadata": {},
   "outputs": [
    {
     "name": "stdout",
     "output_type": "stream",
     "text": [
      "255\n",
      "85.0\n",
      "265\n",
      "88.33333333333333\n",
      "240\n",
      "80.0\n"
     ]
    }
   ],
   "source": [
    "for student in students :    # 0,1,2\n",
    "    student['total'] = student['kor'] + student['eng'] + student['math']\n",
    "    student['avg'] = student['total'] / 3\n",
    "    print(student['total'])\n",
    "    print(student['avg'])\n"
   ]
  },
  {
   "cell_type": "code",
   "execution_count": 40,
   "id": "cf2fb618-edf1-4d8a-901e-620495c85e8d",
   "metadata": {},
   "outputs": [
    {
     "name": "stdout",
     "output_type": "stream",
     "text": [
      "{'num': '1', 'name': '김철수', 'kor': 90, 'eng': 80, 'math': 85, 'total': 255, 'avg': 85.0, 'order': 0}\n",
      "{'num': '2', 'name': '박제동', 'kor': 90, 'eng': 85, 'math': 90, 'total': 265, 'avg': 88.33333333333333, 'order': 0}\n",
      "{'num': '3', 'name': '홍길동', 'kor': 80, 'eng': 80, 'math': 80, 'total': 240, 'avg': 80.0, 'order': 0}\n"
     ]
    }
   ],
   "source": [
    " print(students[0])\n",
    " print(students[1])\n",
    " print(students[2])"
   ]
  },
  {
   "cell_type": "code",
   "execution_count": 41,
   "id": "08fd9635-b773-4b52-91f5-443580ab4d38",
   "metadata": {},
   "outputs": [
    {
     "name": "stdout",
     "output_type": "stream",
     "text": [
      "김철수 2\n",
      "박제동 1\n",
      "홍길동 3\n"
     ]
    }
   ],
   "source": [
    "# students order\n",
    "for student in students :   # print(students[0])\n",
    "    rank = 1\n",
    "    for other in students : \n",
    "        if other['total'] > student['total'] :\n",
    "            rank += 1\n",
    "    student['order'] = rank\n",
    "    print(student['name'],student['order'])"
   ]
  },
  {
   "cell_type": "code",
   "execution_count": 42,
   "id": "868aef75-f00e-4bbb-8430-0fad80095d98",
   "metadata": {},
   "outputs": [
    {
     "name": "stdout",
     "output_type": "stream",
     "text": [
      "김철수 2 255 85.0\n",
      "박제동 1 265 88.33333333333333\n",
      "홍길동 3 240 80.0\n"
     ]
    }
   ],
   "source": [
    "for student in students :\n",
    "    print(student['name'],student['order'],student['total'],student['avg'])\n",
    "    "
   ]
  },
  {
   "cell_type": "markdown",
   "id": "d67d2cd8-aa6f-42be-8ef2-0e06c5e8af8f",
   "metadata": {
    "jp-MarkdownHeadingCollapsed": true
   },
   "source": [
    "# 초보자를 위한 파이썬 300제 연습문제 (21~30)"
   ]
  },
  {
   "cell_type": "code",
   "execution_count": 53,
   "id": "286bb762-fd56-4e3a-8a8d-b640a0649935",
   "metadata": {},
   "outputs": [
    {
     "name": "stdout",
     "output_type": "stream",
     "text": [
      "p t\n"
     ]
    }
   ],
   "source": [
    "# 21. letters가 바인딩하는 문자열에서 첫번째와 세번째 문자를 출력하세요.\n",
    "\n",
    "letters = 'python'\n",
    "print(letters[0], letters[2])"
   ]
  },
  {
   "cell_type": "code",
   "execution_count": 61,
   "id": "4260f62e-f4d8-47cb-926e-603083f10846",
   "metadata": {},
   "outputs": [
    {
     "name": "stdout",
     "output_type": "stream",
     "text": [
      "2210\n"
     ]
    }
   ],
   "source": [
    "# 22. 자동차 번호가 다음과 같을 때 뒤에 4자리만 출력하세요.\n",
    "\n",
    "license_plate = \"24가 2210\"\n",
    "print(license_plate[4:]) # print(license_plate[-4:])"
   ]
  },
  {
   "cell_type": "code",
   "execution_count": 64,
   "id": "8e21f04c-e6e9-4be7-9794-a80ed435b175",
   "metadata": {},
   "outputs": [
    {
     "name": "stdout",
     "output_type": "stream",
     "text": [
      "홀홀홀\n"
     ]
    }
   ],
   "source": [
    "# 23. 아래의 문자열에서 '홀' 만 출력하세요.\n",
    "string = \"홀짝홀짝홀짝\"\n",
    "print(string[::2])"
   ]
  },
  {
   "cell_type": "code",
   "execution_count": 67,
   "id": "ceee1eca-2676-44b9-a8ea-3cff3dc6aecc",
   "metadata": {},
   "outputs": [
    {
     "name": "stdout",
     "output_type": "stream",
     "text": [
      "NOHTYP\n"
     ]
    }
   ],
   "source": [
    "# 24. 문자열을 거꾸로 뒤집어 출력하세요.\n",
    "string = \"PYTHON\"\n",
    "print(string[::-1])"
   ]
  },
  {
   "cell_type": "code",
   "execution_count": 81,
   "id": "4633773c-5a49-4e30-ab15-6f721f146799",
   "metadata": {},
   "outputs": [
    {
     "name": "stdout",
     "output_type": "stream",
     "text": [
      "010 1111 2222\n"
     ]
    }
   ],
   "source": [
    "# 25. 아래의 전화번호에서 하이푼 ('-')을 제거하고 출력하세요.\n",
    "phone_number = \"010-1111-2222\"\n",
    "phone_number1 = phone_number.replace(\"-\", \" \") # - 와 \" \" 공백을 교체\n",
    "print(phone_number1)"
   ]
  },
  {
   "cell_type": "code",
   "execution_count": 87,
   "id": "972fd658-3796-45c4-ab94-bc01fe019d10",
   "metadata": {},
   "outputs": [
    {
     "name": "stdout",
     "output_type": "stream",
     "text": [
      "01011112222\n"
     ]
    }
   ],
   "source": [
    "# 26. 25번 문제의 전화번호를 아래와 같이 모두 붙여 출력하세요.\n",
    "# 실행 예\n",
    "# 01011112222\n",
    "\n",
    "phone_number2 = phone_number1.replace(\" \", \"\") # \" \"(공백) 과 \"\"(공백없음)을 교체\n",
    "print(phone_number2)\n",
    "\n"
   ]
  },
  {
   "cell_type": "code",
   "execution_count": 90,
   "id": "dcca3b47-cc25-44b8-968a-0b30756205f3",
   "metadata": {},
   "outputs": [
    {
     "name": "stdout",
     "output_type": "stream",
     "text": [
      "kr\n"
     ]
    }
   ],
   "source": [
    "# 27. url 에 저장된 웹 페이지 주소에서 도메인을 출력하세요.\n",
    "url = \"http://sharebook.kr\"\n",
    "# 실행 예: kr \n",
    "url_split = url.split('.')\n",
    "print(url_split[1])"
   ]
  },
  {
   "cell_type": "code",
   "execution_count": 2,
   "id": "310a8f9f-07bb-40a1-aecb-d2d32f5fbce4",
   "metadata": {},
   "outputs": [],
   "source": [
    "# 28. 아래 코드의 실행 결과를 예상해보세요.\n",
    "# lang = 'python'\n",
    "# lang[0] = 'P'\n",
    "# print(lang)\n",
    "# 문자열은 immutable -> 문자열은 수정할 수 없다."
   ]
  },
  {
   "cell_type": "code",
   "execution_count": 5,
   "id": "4ce8a990-a589-432c-8d47-dd90ed556e59",
   "metadata": {},
   "outputs": [
    {
     "name": "stdout",
     "output_type": "stream",
     "text": [
      "Abcdfe2A354A32A\n"
     ]
    }
   ],
   "source": [
    "# 29. 아래 문자열에서 소문자 'a'를 대문자 'A'로 변경하세요.\n",
    "string = 'abcdfe2a354a32a'\n",
    "string = string.replace('a','A')\n",
    "print(string)\n"
   ]
  },
  {
   "cell_type": "code",
   "execution_count": 7,
   "id": "43948798-d0ef-4835-a1ad-2ee05b388038",
   "metadata": {},
   "outputs": [
    {
     "name": "stdout",
     "output_type": "stream",
     "text": [
      "abcd\n"
     ]
    }
   ],
   "source": [
    "# 30. 아래 코드의 실행 결과를 예상해보세요.\n",
    "string = 'abcd'\n",
    "string.replace('b', 'B')\n",
    "print(string)\n",
    "# aBcd를 리턴 하고 원본 유지 \n",
    "# 리턴값을 받을 변수가 없음 ex) string = string.replace('b', 'B')\n",
    "# 원본 값 출력\n",
    "# abcd"
   ]
  },
  {
   "cell_type": "markdown",
   "id": "213cab12-7a67-4729-bfd3-3b3b7cadc7e4",
   "metadata": {
    "jp-MarkdownHeadingCollapsed": true
   },
   "source": [
    "#  초보자를 위한 파이썬 300제 연습문제 (31~40)"
   ]
  },
  {
   "cell_type": "code",
   "execution_count": 9,
   "id": "a5eb7845-1412-4d6a-8f2d-221fa9479f08",
   "metadata": {},
   "outputs": [
    {
     "name": "stdout",
     "output_type": "stream",
     "text": [
      "34\n"
     ]
    }
   ],
   "source": [
    "# 31. 문자열 합치기 \n",
    "# 아래 코드의 실행 결과를 예상해보세요.\n",
    "a = \"3\"\n",
    "b = \"4\"\n",
    "print(a + b)\n",
    "# 문자열의 더하기는 문자열의 연결 -> 34"
   ]
  },
  {
   "cell_type": "code",
   "execution_count": 12,
   "id": "b71ff806-9fc8-4a98-ab04-8c2d6a3fa91c",
   "metadata": {},
   "outputs": [
    {
     "name": "stdout",
     "output_type": "stream",
     "text": [
      "HiHiHi\n"
     ]
    }
   ],
   "source": [
    "# 32. 문자열 곱하기\n",
    "# 아래 코드의 실행 결과를 예상해보세요.\n",
    "print(\"Hi\" * 3)\n",
    "# HiHiHI"
   ]
  },
  {
   "cell_type": "code",
   "execution_count": 13,
   "id": "ccb93b59-f396-4987-9623-6453bc3e91aa",
   "metadata": {},
   "outputs": [
    {
     "name": "stdout",
     "output_type": "stream",
     "text": [
      "--------------------------------------------------------------------------------\n"
     ]
    }
   ],
   "source": [
    "# 33. 문자열 곱하기\n",
    "# 화면에 '-'를 80개 출력하세요.\n",
    "print('-'*80)"
   ]
  },
  {
   "cell_type": "code",
   "execution_count": 2,
   "id": "0ccd1bf5-8a7f-422e-a4a2-ef9976541c9e",
   "metadata": {},
   "outputs": [
    {
     "name": "stdout",
     "output_type": "stream",
     "text": [
      "python java python java python java python java \n"
     ]
    }
   ],
   "source": [
    "# 34. 문자열 곱하기\n",
    "# 변수에 다음과 같은 문자열이 바인딩되어 있습니다.\n",
    "# 변수에 문자열 더하기와 문자열 곱하기를 사용해서 아래와 같이 출력해보세요.\n",
    "t1 = 'python'\n",
    "t2 = 'java'\n",
    "# 실행 예: python java python java python java python java\n",
    "print((t1 + ' '+ t2 + ' ')*4)"
   ]
  },
  {
   "cell_type": "code",
   "execution_count": 5,
   "id": "9640505e-112d-473e-8368-db288d16ae03",
   "metadata": {},
   "outputs": [
    {
     "name": "stdout",
     "output_type": "stream",
     "text": [
      "이름: 김민수 나이: 10\n",
      "이름: 이철희 나이: 13\n"
     ]
    }
   ],
   "source": [
    "# 35. 변수에 다음과 같이 문자열과 정수가 바인딩되어 있을 때 % formatting을 사용해서 다음과 같이 출력해보세요.\n",
    "name1 = \"김민수\" \n",
    "age1 = 10\n",
    "name2 = \"이철희\"\n",
    "age2 = 13\n",
    "# 이름: 김민수 나이: 10\n",
    "# 이름: 이철희 나이: 13\n",
    "print(\"이름: %s 나이: %d\" %(name1, age1))\n",
    "print(\"이름: %s 나이: %d\" %(name2, age2))"
   ]
  },
  {
   "cell_type": "code",
   "execution_count": 8,
   "id": "e282b288-5907-49d9-b430-4e5318c9d354",
   "metadata": {},
   "outputs": [
    {
     "name": "stdout",
     "output_type": "stream",
     "text": [
      "이름: 김민수 나이: 10\n",
      "이름: 이철희 나이: 13\n"
     ]
    }
   ],
   "source": [
    "# 36. 문자열의 format( ) 메서드를 사용해서 035번 문제를 다시 풀어보세요.\n",
    "print(\"이름: {} 나이: {}\".format(name1, age1))\n",
    "print(\"이름: {} 나이: {}\".format(name2, age2))"
   ]
  },
  {
   "cell_type": "code",
   "execution_count": 10,
   "id": "a14a6e06-f7cb-482b-ba9f-88711bb6672a",
   "metadata": {},
   "outputs": [
    {
     "name": "stdout",
     "output_type": "stream",
     "text": [
      "이름: 김민수 나이: 10\n",
      "이름: 이철희 나이: 13\n"
     ]
    }
   ],
   "source": [
    "# 37. 파이썬 3.6부터 지원하는 f-string을 사용해서 035번 문제를 다시 풀어보세요.\n",
    "print(f'이름: {name1} 나이: {age1}')\n",
    "print(f'이름: {name2} 나이: {age2}')"
   ]
  },
  {
   "cell_type": "code",
   "execution_count": 16,
   "id": "bbab05c6-8ddf-4c10-afed-52757f2ce462",
   "metadata": {},
   "outputs": [
    {
     "data": {
      "text/plain": [
       "(5969782550, int)"
      ]
     },
     "execution_count": 16,
     "metadata": {},
     "output_type": "execute_result"
    }
   ],
   "source": [
    "# 38. 삼성전자의 상장주식수가 다음과 같습니다. 컴마를 제거한 후 이를 정수 타입으로 변환해보세요.\n",
    "상장주식수 = \"5,969,782,550\"\n",
    "컴마제거 = 상장주식수.replace(',', '')\n",
    "정수변환 = int(컴마제거)\n",
    "정수변환, type(정수변환)"
   ]
  },
  {
   "cell_type": "code",
   "execution_count": 17,
   "id": "7d59d9cb-3218-450a-a94c-0e12d5278f2b",
   "metadata": {},
   "outputs": [
    {
     "data": {
      "text/plain": [
       "'2020/03'"
      ]
     },
     "execution_count": 17,
     "metadata": {},
     "output_type": "execute_result"
    }
   ],
   "source": [
    "# 39. 다음과 같은 문자열에서 '2020/03'만 출력하세요.\n",
    "분기 = \"2020/03(E) (IFRS연결)\"\n",
    "분기[:7]"
   ]
  },
  {
   "cell_type": "code",
   "execution_count": 21,
   "id": "843d2ace-750d-48f3-bf3a-f113e848a8d3",
   "metadata": {},
   "outputs": [
    {
     "data": {
      "text/plain": [
       "'삼성전자'"
      ]
     },
     "execution_count": 21,
     "metadata": {},
     "output_type": "execute_result"
    }
   ],
   "source": [
    "# 40. 문자열의 좌우의 공백이 있을 때 이를 제거해보세요.\n",
    "data = \"   삼성전자    \"\n",
    "data1 = data.strip()\n",
    "data1"
   ]
  },
  {
   "cell_type": "markdown",
   "id": "5974e8ed-1713-4c6a-9e5d-24eedc735538",
   "metadata": {
    "jp-MarkdownHeadingCollapsed": true
   },
   "source": [
    "# 초보자를 위한 파이썬 300제 연습문제 (41~50)"
   ]
  },
  {
   "cell_type": "code",
   "execution_count": 23,
   "id": "d5851fd4-5246-4eb7-b14c-157c74efa8dc",
   "metadata": {},
   "outputs": [
    {
     "data": {
      "text/plain": [
       "'BTC_KRW'"
      ]
     },
     "execution_count": 23,
     "metadata": {},
     "output_type": "execute_result"
    }
   ],
   "source": [
    "# 41. 다음과 같은 문자열이 있을 때 이를 대문자 BTC_KRW로 변경하세요.\n",
    "ticker = \"btc_krw\"\n",
    "ticker_upper = ticker.upper()\n",
    "ticker_upper"
   ]
  },
  {
   "cell_type": "code",
   "execution_count": 27,
   "id": "a09b5322-7e0f-466d-9070-0c27727a61f5",
   "metadata": {},
   "outputs": [
    {
     "data": {
      "text/plain": [
       "'btc_krw'"
      ]
     },
     "execution_count": 27,
     "metadata": {},
     "output_type": "execute_result"
    }
   ],
   "source": [
    "# 42. 다음과 같은 문자열이 있을 때 이를 소문자 btc_krw로 변경하세요.\n",
    "ticker = \"BTC_KRW\"\n",
    "ticer_lower = ticker.lower()\n",
    "ticer_lower"
   ]
  },
  {
   "cell_type": "code",
   "execution_count": 34,
   "id": "2d353363-3dbd-4c77-bbbc-51265680bc53",
   "metadata": {},
   "outputs": [
    {
     "data": {
      "text/plain": [
       "'Hello'"
      ]
     },
     "execution_count": 34,
     "metadata": {},
     "output_type": "execute_result"
    }
   ],
   "source": [
    "# 43. 문자열 'hello'가 있을 때 이를 'Hello'로 변경해보세요.\n",
    "a = \"hello\"\n",
    "a = a.capitalize()\n",
    "a"
   ]
  },
  {
   "cell_type": "code",
   "execution_count": 39,
   "id": "b2b5aa35-80e2-4870-b5f5-3ae56e0b61b8",
   "metadata": {},
   "outputs": [
    {
     "data": {
      "text/plain": [
       "True"
      ]
     },
     "execution_count": 39,
     "metadata": {},
     "output_type": "execute_result"
    }
   ],
   "source": [
    "# 44. 파일 이름이 문자열로 저장되어 있을 때 endswith 메서드를 사용해서 파일 이름이 'xlsx'로 끝나는지 확인해보세요.\n",
    "file_name = \"보고서.xlsx\"\n",
    "file_name.endswith('.xlsx')"
   ]
  },
  {
   "cell_type": "code",
   "execution_count": 44,
   "id": "e991c4e9-6c8f-4a54-9c8d-a0b90c1fe1a2",
   "metadata": {},
   "outputs": [
    {
     "data": {
      "text/plain": [
       "True"
      ]
     },
     "execution_count": 44,
     "metadata": {},
     "output_type": "execute_result"
    }
   ],
   "source": [
    "# 45. 파일 이름이 문자열로 저장되어 있을 때 endswith 메서드를 사용해서 파일 이름이 'xlsx' 또는 'xls'로 끝나는지 확인해보세요.\n",
    "file_name = \"보고서.xlsx\"\n",
    "file_name.endswith(('.xlsx','.xls'))"
   ]
  },
  {
   "cell_type": "code",
   "execution_count": 47,
   "id": "acad5948-3933-42bb-8889-94e29158c193",
   "metadata": {},
   "outputs": [
    {
     "data": {
      "text/plain": [
       "True"
      ]
     },
     "execution_count": 47,
     "metadata": {},
     "output_type": "execute_result"
    }
   ],
   "source": [
    "# 46. 파일 이름이 문자열로 저장되어 있을 때 startswith 메서드를 사용해서 파일 이름이 '2020'로 시작하는지 확인해보세요.\n",
    "file_name = \"2020_보고서.xlsx\"\n",
    "file_name.startswith(\"2020\")"
   ]
  },
  {
   "cell_type": "code",
   "execution_count": 52,
   "id": "b9d1c784-35d9-4fcb-bc38-de6767e5da1e",
   "metadata": {},
   "outputs": [
    {
     "data": {
      "text/plain": [
       "['hello', 'world']"
      ]
     },
     "execution_count": 52,
     "metadata": {},
     "output_type": "execute_result"
    }
   ],
   "source": [
    "# 47. 다음과 같은 문자열이 있을 때 공백을 기준으로 문자열을 나눠보세요.\n",
    "a = \"hello world\"\n",
    "a.split()"
   ]
  },
  {
   "cell_type": "code",
   "execution_count": 53,
   "id": "ad5c5ef9-bd3e-4c5f-bf41-bbc9d903fed7",
   "metadata": {},
   "outputs": [
    {
     "data": {
      "text/plain": [
       "['btc', 'krw']"
      ]
     },
     "execution_count": 53,
     "metadata": {},
     "output_type": "execute_result"
    }
   ],
   "source": [
    "# 48. 다음과 같이 문자열이 있을 때 btc와 krw로 나눠보세요.\n",
    "ticker = \"btc_krw\"\n",
    "ticker.split('_')"
   ]
  },
  {
   "cell_type": "code",
   "execution_count": 54,
   "id": "5f921ab6-4dd0-4dc9-b145-e38f5c4aaf47",
   "metadata": {},
   "outputs": [
    {
     "data": {
      "text/plain": [
       "['2020', '05', '01']"
      ]
     },
     "execution_count": 54,
     "metadata": {},
     "output_type": "execute_result"
    }
   ],
   "source": [
    "# 49. 다음과 같이 날짜를 표현하는 문자열이 있을 때 연도, 월, 일로 나눠보세요.\n",
    "date = \"2020-05-01\"\n",
    "date.split('-')"
   ]
  },
  {
   "cell_type": "code",
   "execution_count": 57,
   "id": "3b8e4d55-bdab-410f-87d0-27420bd52f77",
   "metadata": {},
   "outputs": [
    {
     "data": {
      "text/plain": [
       "'039490'"
      ]
     },
     "execution_count": 57,
     "metadata": {},
     "output_type": "execute_result"
    }
   ],
   "source": [
    "# 50. 문자열의 오른쪽에 공백이 있을 때 이를 제거해보세요.\n",
    "data = \"039490     \"\n",
    "data= data.rstrip()\n",
    "data"
   ]
  },
  {
   "cell_type": "markdown",
   "id": "44895dda-11d3-4dec-8f5f-404fdb48e267",
   "metadata": {},
   "source": [
    "# 초보자를 위한 파이썬 300제 연습문제 (51~60)"
   ]
  },
  {
   "cell_type": "code",
   "execution_count": 64,
   "id": "8afac452-e119-4a3f-b43b-bc11ca3909e0",
   "metadata": {},
   "outputs": [
    {
     "data": {
      "text/plain": [
       "['닥터 스트레인지', '스플릿', '럭키']"
      ]
     },
     "execution_count": 64,
     "metadata": {},
     "output_type": "execute_result"
    }
   ],
   "source": [
    "# 51. 2016년 11월 영화 예매 순위 기준 top3는 다음과 같습니다.\n",
    "#영화 제목을 movie_rank 이름의 리스트에 저장해보세요. (순위 정보는 저장하지 않습니다.)\n",
    "#순위\t영화\n",
    "#1\t닥터 스트레인지\n",
    "#2\t스플릿\n",
    "#3\t럭키\n",
    "movie_rank =['닥터 스트레인지', '스플릿', '럭키']\n",
    "movie_rank"
   ]
  },
  {
   "cell_type": "code",
   "execution_count": 65,
   "id": "92573e6e-d57b-484c-ab42-a4dde4f13190",
   "metadata": {},
   "outputs": [
    {
     "data": {
      "text/plain": [
       "['닥터 스트레인지', '스플릿', '럭키', '베트맨']"
      ]
     },
     "execution_count": 65,
     "metadata": {},
     "output_type": "execute_result"
    }
   ],
   "source": [
    "# 52. 051의 movie_rank 리스트에 \"배트맨\"을 추가하라.\n",
    "movie_rank.append('베트맨')\n",
    "movie_rank"
   ]
  },
  {
   "cell_type": "code",
   "execution_count": 66,
   "id": "7b5bd2c5-9adb-4cf7-8199-8694b39109fd",
   "metadata": {},
   "outputs": [
    {
     "data": {
      "text/plain": [
       "['닥터 스트레인지', '슈퍼맨', '스플릿', '럭키', '배트맨']"
      ]
     },
     "execution_count": 66,
     "metadata": {},
     "output_type": "execute_result"
    }
   ],
   "source": [
    "# 31. movie_rank 리스트에는 아래와 같이 네 개의 영화 제목이 바인딩되어 있다.\n",
    "# \"슈퍼맨\"을 \"닥터 스트레인지\"와 \"스플릿\" 사이에 추가하라.\n",
    "movie_rank = ['닥터 스트레인지', '스플릿', '럭키', '배트맨']\n",
    "movie_rank.insert(1,'슈퍼맨')\n",
    "movie_rank"
   ]
  },
  {
   "cell_type": "code",
   "execution_count": 67,
   "id": "d0c07a37-87eb-4b55-a787-a612050c3acf",
   "metadata": {},
   "outputs": [],
   "source": [
    "# 54. movie_rank 리스트에서 '럭키'를 삭제하라.\n",
    "movie_rank = ['닥터 스트레인지', '슈퍼맨', '스플릿', '럭키', '배트맨']\n"
   ]
  },
  {
   "cell_type": "code",
   "execution_count": null,
   "id": "6899a44e-305b-4974-af93-7b4e41579ee3",
   "metadata": {},
   "outputs": [],
   "source": [
    "# 55. "
   ]
  },
  {
   "cell_type": "code",
   "execution_count": null,
   "id": "b4d0235e-0bf2-43aa-a2cf-070b629d5d8b",
   "metadata": {},
   "outputs": [],
   "source": [
    "# 56. "
   ]
  },
  {
   "cell_type": "code",
   "execution_count": null,
   "id": "fc6fc66d-26de-452c-ac19-f132bd710caa",
   "metadata": {},
   "outputs": [],
   "source": [
    "# 57. "
   ]
  },
  {
   "cell_type": "code",
   "execution_count": null,
   "id": "d93097b1-0b44-49ac-b8ae-f0979e206ddf",
   "metadata": {},
   "outputs": [],
   "source": [
    "# 58. "
   ]
  },
  {
   "cell_type": "code",
   "execution_count": null,
   "id": "f807e109-308c-4b83-a193-0083afbff87b",
   "metadata": {},
   "outputs": [],
   "source": [
    "# 59. "
   ]
  },
  {
   "cell_type": "code",
   "execution_count": null,
   "id": "7e31603c-e0e1-4e56-88ec-8311ad6fc1b2",
   "metadata": {},
   "outputs": [],
   "source": [
    "# 60. "
   ]
  }
 ],
 "metadata": {
  "kernelspec": {
   "display_name": "Python 3 (ipykernel)",
   "language": "python",
   "name": "python3"
  },
  "language_info": {
   "codemirror_mode": {
    "name": "ipython",
    "version": 3
   },
   "file_extension": ".py",
   "mimetype": "text/x-python",
   "name": "python",
   "nbconvert_exporter": "python",
   "pygments_lexer": "ipython3",
   "version": "3.12.9"
  }
 },
 "nbformat": 4,
 "nbformat_minor": 5
}
