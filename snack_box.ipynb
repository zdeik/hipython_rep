{
 "cells": [
  {
   "cell_type": "code",
   "execution_count": null,
   "id": "0bb6fabe-d1f1-4a53-b49c-07ed1ff59df3",
   "metadata": {},
   "outputs": [],
   "source": [
    "# 간식박스 관리 프로그램\n",
    "snack_box = ['초코파이']\n",
    "new_snack = input(\"먹고싶은 간식을 추가하세요. 단, 쉼표(,)로 연결하세요\").split(',')\n",
    "snack_box += new_snack\n",
    "snack_box\n",
    "\n",
    "# 간식박스 관리 프로그램 2\n",
    "qty = int(input(\"간식박스 몇 세트로 포장할까요? (예: 2 -> 2box)\"))\n",
    "snack_box *= qty\n",
    "snack_box\n",
    "\n",
    "print(f'주문하신 간식상자는 {snack_box[0]},{snack_box[1]},{snack_box[2]}) 등입니다. 확인해주세요.')\n",
    "\n",
    "# 간식박스 관리 프로그램 3\n",
    "msg =f' 혹시 빼고싶은 간식이 있으면 번호를 입력하세요 (0 ~ (len(snack_box)-1)'\n",
    "snack_no =int(input(msg)) -1\n",
    "del snack_box[snack_no]\n",
    "snack_box\n",
    "\n",
    "# 간식박스 관리 프로그램 4\n",
    "# 찾고 싶은 간식이름을 입력하세요\n",
    "# 있어요 OR 없어요 출력\n",
    "snack_search = input (\"찾고 싶은 간식이름을 입력하세요: \")\n",
    "if snack_search in snack_box:\n",
    "    print(\"있어요\")\n",
    "else:\n",
    "    print(\"없어요\")\n",
    "\n",
    "# 간식박스 관리 프로그램 5\n",
    "print(\"주문하신 간식박스는 위에서부터 다음과 같습니다.\")\n",
    "print(f' {snack_box[::-1]}, 총{len(snack_box)}개 입니다.')\n"
   ]
  }
 ],
 "metadata": {
  "kernelspec": {
   "display_name": "Python 3 (ipykernel)",
   "language": "python",
   "name": "python3"
  },
  "language_info": {
   "codemirror_mode": {
    "name": "ipython",
    "version": 3
   },
   "file_extension": ".py",
   "mimetype": "text/x-python",
   "name": "python",
   "nbconvert_exporter": "python",
   "pygments_lexer": "ipython3",
   "version": "3.12.9"
  }
 },
 "nbformat": 4,
 "nbformat_minor": 5
}
