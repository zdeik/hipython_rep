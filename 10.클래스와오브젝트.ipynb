{
 "cells": [
  {
   "cell_type": "markdown",
   "id": "8ade0ea8-5685-4255-9eaf-c58139664db3",
   "metadata": {},
   "source": [
    "# 파이썬으로 객체지향프로그래밍  OOP (오브젝트 클라이언트 프로그래밍)\n",
    "\n",
    "파이썬으로 만드는 응용프로그램\n",
    "- 변수: 전역, 지역\n",
    "- 함수: 기능을 구현하는 도구\n",
    "- 모듈: 함수의 모듈, 변수의 모음 -> .py\n",
    "- CRUD의 구현: Create, Read, Update, Delate\n",
    "\n",
    "클래스: 변수 + 함수를 하나로 묶어 주는 구조 개념\n",
    "객체: 클래스를 이용해서 다수의 객체를 생성\n",
    "객체지향 프로그램: 객체를 이용하는 프로그램"
   ]
  },
  {
   "cell_type": "code",
   "execution_count": null,
   "id": "b1eb3f45-3a71-4e43-b27f-e694e47a3cc3",
   "metadata": {},
   "outputs": [],
   "source": [
    "## 객체지향 프로그램을 만드는 법\n",
    "1. 클래스 만들기\n",
    "2. 클래스를 이용해 객체를 생성\n",
    "3. 객체의 함수: 메소드를 호출"
   ]
  },
  {
   "cell_type": "code",
   "execution_count": 47,
   "id": "c43972fc-aa29-4c3a-983f-ccd004942bd3",
   "metadata": {},
   "outputs": [],
   "source": [
    "class Bicycle():\n",
    "    #속성추가: 생성자\n",
    "    def __init__(self,color,wheelsize = 20):\n",
    "        self.color = color\n",
    "        self.wheelsize = wheelsize\n",
    "\n",
    "    # 오버로딩(파이썬에서 지원x)\n",
    "    # def __init__(self,color,wheelsize):\n",
    "    #     self.color = color\n",
    "    def move(self):\n",
    "        print(f'{self.color} {self.wheelsize}자전거가 움직입니다.')"
   ]
  },
  {
   "cell_type": "code",
   "execution_count": 50,
   "id": "3d3812d6-26a5-42c1-835c-981097afceb2",
   "metadata": {},
   "outputs": [
    {
     "data": {
      "text/plain": [
       "<__main__.Bicycle at 0x1fbb20fae40>"
      ]
     },
     "execution_count": 50,
     "metadata": {},
     "output_type": "execute_result"
    }
   ],
   "source": [
    "bi = Bicycle('White')\n",
    "bi1 = Bicycle('Red')\n",
    "bi2 = Bicycle('Blue', 30)\n",
    "bi"
   ]
  },
  {
   "cell_type": "code",
   "execution_count": 51,
   "id": "97d75924-cfb5-49ee-9f9b-6560cf2cc811",
   "metadata": {},
   "outputs": [
    {
     "name": "stdout",
     "output_type": "stream",
     "text": [
      "White 20자전거가 움직입니다.\n",
      "Red 20자전거가 움직입니다.\n",
      "Blue 30자전거가 움직입니다.\n"
     ]
    }
   ],
   "source": [
    "bi.move()\n",
    "bi1.move()\n",
    "bi2.move()"
   ]
  },
  {
   "cell_type": "code",
   "execution_count": 40,
   "id": "00747154-bd78-4046-8d18-8fcc285c7e1e",
   "metadata": {},
   "outputs": [
    {
     "data": {
      "text/plain": [
       "(__main__.Bicycle, __main__.Bicycle, __main__.Bicycle)"
      ]
     },
     "execution_count": 40,
     "metadata": {},
     "output_type": "execute_result"
    }
   ],
   "source": [
    "type(bi), type(bi1), type(bi2)"
   ]
  },
  {
   "cell_type": "code",
   "execution_count": 42,
   "id": "defad67c-f348-43d4-81ac-5d94ad7e416d",
   "metadata": {},
   "outputs": [
    {
     "data": {
      "text/plain": [
       "['__class__',\n",
       " '__delattr__',\n",
       " '__dict__',\n",
       " '__dir__',\n",
       " '__doc__',\n",
       " '__eq__',\n",
       " '__format__',\n",
       " '__ge__',\n",
       " '__getattribute__',\n",
       " '__getstate__',\n",
       " '__gt__',\n",
       " '__hash__',\n",
       " '__init__',\n",
       " '__init_subclass__',\n",
       " '__le__',\n",
       " '__lt__',\n",
       " '__module__',\n",
       " '__ne__',\n",
       " '__new__',\n",
       " '__reduce__',\n",
       " '__reduce_ex__',\n",
       " '__repr__',\n",
       " '__setattr__',\n",
       " '__sizeof__',\n",
       " '__str__',\n",
       " '__subclasshook__',\n",
       " '__weakref__',\n",
       " 'color',\n",
       " 'move',\n",
       " 'wheelsize']"
      ]
     },
     "execution_count": 42,
     "metadata": {},
     "output_type": "execute_result"
    }
   ],
   "source": [
    "dir(bi)"
   ]
  },
  {
   "cell_type": "code",
   "execution_count": 43,
   "id": "343b40e1-f358-4f95-8c9c-12b38619a6cb",
   "metadata": {},
   "outputs": [],
   "source": [
    "class Student:\n",
    "    def __init__(self, name, age):\n",
    "        self.name = name\n",
    "        self.age = age\n",
    "\n",
    "    def introduce(self):\n",
    "        print(f\"안녕하세요. 제 이름은 {self.name}이고, 나이는 {self.age}살입니다.\")\n"
   ]
  },
  {
   "cell_type": "code",
   "execution_count": 44,
   "id": "2f89c0e0-2582-4d5e-89c7-52429625897f",
   "metadata": {},
   "outputs": [],
   "source": [
    "s1 = Student('지민',20)\n",
    "s2 = Student('유진',22)"
   ]
  },
  {
   "cell_type": "code",
   "execution_count": 46,
   "id": "2a0987ef-95da-4f4f-9935-4fede9787367",
   "metadata": {},
   "outputs": [
    {
     "name": "stdout",
     "output_type": "stream",
     "text": [
      "안녕하세요. 제 이름은 지민이고, 나이는 20살입니다.\n",
      "안녕하세요. 제 이름은 유진이고, 나이는 22살입니다.\n"
     ]
    }
   ],
   "source": [
    "s1.introduce()\n",
    "s2.introduce()"
   ]
  },
  {
   "cell_type": "markdown",
   "id": "24550a5e-f0a9-4189-8835-09539b43538a",
   "metadata": {},
   "source": [
    "# 클래스의 속성\n",
    "1. 인스턴스 변수\n",
    "2. 클래스 변수"
   ]
  },
  {
   "cell_type": "code",
   "execution_count": 81,
   "id": "ec7bc2ff-e069-433a-9a62-177f20895b06",
   "metadata": {},
   "outputs": [],
   "source": [
    "class Car():\n",
    "    #클래스 변수\n",
    "    instance_cnt = 0\n",
    "\n",
    "    def __init__(self,size):\n",
    "        self.size = size\n",
    "        Car.instance_cnt += 1\n",
    "        print(f'자동차{Car.instance_cnt}대가 생성되었습니다.')\n",
    "    def move(self):\n",
    "        print(f'{self.size}의 자동차가 움직힙니다.')"
   ]
  },
  {
   "cell_type": "code",
   "execution_count": 82,
   "id": "cfe648ed-2d69-48a4-9089-b82af50fa963",
   "metadata": {},
   "outputs": [
    {
     "name": "stdout",
     "output_type": "stream",
     "text": [
      "자동차1대가 생성되었습니다.\n",
      "자동차2대가 생성되었습니다.\n",
      "자동차3대가 생성되었습니다.\n"
     ]
    }
   ],
   "source": [
    "c1 = Car(2000)\n",
    "c2 = Car(1500)\n",
    "c3 = Car(3000)"
   ]
  },
  {
   "cell_type": "code",
   "execution_count": 83,
   "id": "cfcf03f7-1eeb-4689-bbb9-d9bde85889db",
   "metadata": {},
   "outputs": [
    {
     "name": "stdout",
     "output_type": "stream",
     "text": [
      "2000의 자동차가 움직힙니다.\n",
      "1500의 자동차가 움직힙니다.\n",
      "3000의 자동차가 움직힙니다.\n"
     ]
    }
   ],
   "source": [
    "c1.move()\n",
    "c2.move()\n",
    "c3.move()"
   ]
  },
  {
   "cell_type": "code",
   "execution_count": 77,
   "id": "0df4d430-c724-4387-a6fe-9e19d8316724",
   "metadata": {},
   "outputs": [
    {
     "name": "stdout",
     "output_type": "stream",
     "text": [
      "영희\n",
      "철수\n",
      "파이썬 스쿨\n"
     ]
    }
   ],
   "source": [
    "class Student:\n",
    "    school = \"파이썬 스쿨\"  # 클래스 변수\n",
    "    \n",
    "    def __init__(self, name):\n",
    "        self.name = name  # 인스턴스 변수\n",
    "\n",
    "s1 = Student(\"영희\")\n",
    "s2 = Student(\"철수\")\n",
    "\n",
    "print(s1.name)  # 영희 (인스턴스 변수)\n",
    "print(s2.name)  # 철수 (인스턴스 변수)\n",
    "print(Student.school)  # 파이썬 고등학교 (클래스 변수)"
   ]
  },
  {
   "cell_type": "markdown",
   "id": "0eb2cbf4-1ac9-43c7-8afd-e8ec0b057de3",
   "metadata": {},
   "source": [
    "# method\n",
    "1. 인스턴턴스 메서드: self\n",
    "2. 스테틱(정적)메서드: @staticmethod\n",
    "3. 클래스 메서드: @calssmethod"
   ]
  },
  {
   "cell_type": "code",
   "execution_count": 85,
   "id": "98552914-f5f0-4b17-8998-c399388212f0",
   "metadata": {},
   "outputs": [],
   "source": [
    "class Calculator:\n",
    "    def __init__(self, x, y):  #instance method\n",
    "        self.x = x\n",
    "        self.y = y\n",
    "\n",
    "    def add(self):  #instance method\n",
    "        return self.x + self.y\n",
    "\n",
    "    def multiply(self):  #instance method\n",
    "        return self.x * self.y\n"
   ]
  },
  {
   "cell_type": "code",
   "execution_count": 87,
   "id": "f008ab48-868c-444d-bfba-e8b234399a15",
   "metadata": {},
   "outputs": [],
   "source": [
    "# Calculator()  # def __init__() 생성자 함수를 자동으로 호출"
   ]
  },
  {
   "cell_type": "code",
   "execution_count": 90,
   "id": "df6709cc-0be4-489c-8499-d223427bb5bf",
   "metadata": {},
   "outputs": [
    {
     "data": {
      "text/plain": [
       "<__main__.Calculator at 0x1fbb376b350>"
      ]
     },
     "execution_count": 90,
     "metadata": {},
     "output_type": "execute_result"
    }
   ],
   "source": [
    "calc = Calculator(3,4)\n",
    "calc"
   ]
  },
  {
   "cell_type": "code",
   "execution_count": 97,
   "id": "c88bc4d0-5223-46d9-8359-9e201ea1e033",
   "metadata": {},
   "outputs": [
    {
     "data": {
      "text/plain": [
       "7"
      ]
     },
     "execution_count": 97,
     "metadata": {},
     "output_type": "execute_result"
    }
   ],
   "source": [
    "calc.add()  # instance method의 호출 -> 객체의 참조.메소드()"
   ]
  },
  {
   "cell_type": "code",
   "execution_count": 94,
   "id": "90050ba9-e10b-4e35-8577-97fd2b62a559",
   "metadata": {},
   "outputs": [
    {
     "data": {
      "text/plain": [
       "12"
      ]
     },
     "execution_count": 94,
     "metadata": {},
     "output_type": "execute_result"
    }
   ],
   "source": [
    "calc.multiply()"
   ]
  },
  {
   "cell_type": "code",
   "execution_count": 150,
   "id": "0305e07e-1f5e-4e02-b8cd-61e3e2b73b61",
   "metadata": {},
   "outputs": [],
   "source": [
    "class Car():\n",
    "    \n",
    "    instance_cnt = 0  #클래스 속성\\\n",
    "    \n",
    "    def __init__(self,size):\n",
    "        self.size = size\n",
    "        Car.instance_cnt += 1\n",
    "        print(f'자동차{Car.instance_cnt}대가 생성되었습니다.')\n",
    "        \n",
    "    def auti_cruise(self):  # instance method\n",
    "        print('자율주행중')\n",
    "\n",
    "    @staticmethod\n",
    "    def check_type(code):  # static method\n",
    "        if code > 10:\n",
    "            print('전기자동차')\n",
    "        elif 10 < code < 20:\n",
    "            print('가솔린자동차')\n",
    "        else:\n",
    "            print('디젤차')\n",
    "\n",
    "    def count_instance(): # class method\n",
    "        print(f'자동차 대수: {Car.instance_cnt}')\n",
    "\n",
    "    # def count_instance(cls): # class method\n",
    "    #     print(f'자동차 대수: {cls.instance_cnt}')"
   ]
  },
  {
   "cell_type": "code",
   "execution_count": 151,
   "id": "940f1e9c-41e2-495e-8d71-fc89c25993fd",
   "metadata": {},
   "outputs": [
    {
     "name": "stdout",
     "output_type": "stream",
     "text": [
      "자동차1대가 생성되었습니다.\n"
     ]
    }
   ],
   "source": [
    "c1 = Car(2000)"
   ]
  },
  {
   "cell_type": "code",
   "execution_count": 130,
   "id": "9bf82999-09cf-4e21-b3fc-d35e824c6d54",
   "metadata": {},
   "outputs": [
    {
     "name": "stdout",
     "output_type": "stream",
     "text": [
      "전기자동차\n"
     ]
    }
   ],
   "source": [
    "Car.check_type(25)"
   ]
  },
  {
   "cell_type": "code",
   "execution_count": 128,
   "id": "8e20256d-a508-44e7-8247-7ce75e4c60c3",
   "metadata": {},
   "outputs": [
    {
     "name": "stdout",
     "output_type": "stream",
     "text": [
      "자동차 대수: 1\n"
     ]
    }
   ],
   "source": [
    "Car.count_instance()"
   ]
  },
  {
   "cell_type": "code",
   "execution_count": 132,
   "id": "74b62217-413e-451a-887d-d12547bc711c",
   "metadata": {},
   "outputs": [
    {
     "name": "stdout",
     "output_type": "stream",
     "text": [
      "자율주행중\n"
     ]
    }
   ],
   "source": [
    "c1.auti_cruise()"
   ]
  },
  {
   "cell_type": "markdown",
   "id": "2254350c-3cb8-4b98-b6d6-661bbcc44698",
   "metadata": {},
   "source": [
    "# 성적 클래스"
   ]
  },
  {
   "cell_type": "code",
   "execution_count": 1,
   "id": "711b658c-6014-4aa2-829e-15e20535eaf1",
   "metadata": {},
   "outputs": [],
   "source": [
    "import random"
   ]
  },
  {
   "cell_type": "code",
   "execution_count": 61,
   "id": "e397c83d-842b-4f1c-a4a4-7f53a7704fba",
   "metadata": {},
   "outputs": [],
   "source": [
    "class Student():\n",
    "    def __init__(self, num, name, kor, eng, math):\n",
    "        self.num = num\n",
    "        self.name = name\n",
    "        self.kor = kor\n",
    "        self.eng = eng\n",
    "        self.math = math\n",
    "        self.total = 0\n",
    "        self.avg = 0\n",
    "        self.order = 0\n",
    "    # 학생 객체의 정보 출력\n",
    "    def s_info(self):\n",
    "        print(f'{self.num},{self.name},{self.kor},{self.eng},{self.math},{self.total},{self.avg},{self.order}')\n",
    "\n",
    "    # 학생 객체의 총점, 평균\n",
    "    def calc_total(self):\n",
    "        self.total = self.kor + self.eng+ self.math\n",
    "        self.avg = self.total / 3\n",
    "    # 학생 객체의 등수 계산\n",
    "    def set_order(self,order):\n",
    "        self.order = order\n",
    "\n",
    "    # Object 상속 받은 메소드 재정의 overriding\n",
    "    def __str__(self):\n",
    "        return f'{self.num}. {self.name} : {self.order}등'\n",
    "        \n",
    "\n",
    "    #학생 성적표\n",
    "    def print_score(self):\n",
    "        \n",
    "        pass\n",
    "        \n",
    "        "
   ]
  },
  {
   "cell_type": "code",
   "execution_count": 62,
   "id": "93b518ca-5d36-40cb-8178-efc9e9df5478",
   "metadata": {},
   "outputs": [],
   "source": [
    "class Classroom():\n",
    "    def __init__(self,stundent_list):\n",
    "        self.students = self.gen_studnet_data(stundent_list)\n",
    "        self.name = ''\n",
    "\n",
    "    def set_name(self,class_name):\n",
    "        self.name = class_name\n",
    "\n",
    "    # 클래스의 학생 목록 생성하는 인스턴스 메소드\n",
    "    def gen_studnet_data(self, stu_list):\n",
    "        students = []\n",
    "        for i,s_name in enumerate(stu_list, start=1):\n",
    "            #print(i, s_name)\n",
    "            s = Student(i,s_name, random.randint(50,100), random.randint(50,100), random.randint(50,100))\n",
    "            s.calc_total()\n",
    "            #s.s_info()\n",
    "            students.append(s)\n",
    "        return students\n",
    "        \n",
    "    def calc_order(self):\n",
    "        for s in self.students:\n",
    "            rank = 1\n",
    "            for other in self.students:\n",
    "                if other.total > s.total:\n",
    "                    rank += 1\n",
    "            s.set_order(rank)\n",
    "            #s.s_info()\n",
    "            \n",
    "\n",
    "    def print_student_score(self):\n",
    "        for student in self.students:\n",
    "            print(student)\n",
    "\n",
    "    #학급정보 리턴함수 __str__\n",
    "    def __str__(self):\n",
    "        return f'학급명 : {self.name}'\n",
    "\n",
    "        \n",
    "\n",
    "        \n",
    "    #Stundent()"
   ]
  },
  {
   "cell_type": "code",
   "execution_count": 51,
   "id": "16bec120-ca2d-4b62-b0f0-8e4420a9e680",
   "metadata": {},
   "outputs": [],
   "source": [
    "# main process\n",
    "a_class_stu = ['홍길동', '박제동', '김영희', '한사랑']\n",
    "b_class_stu = ['김철수', '박길동', '이영희', '최사랑']\n",
    "a_class =Classroom(a_class_stu)\n",
    "b_class =Classroom(b_class_stu)"
   ]
  },
  {
   "cell_type": "code",
   "execution_count": 52,
   "id": "27c4b405-3030-4e8a-a178-0da68a2c19c0",
   "metadata": {},
   "outputs": [],
   "source": [
    "a_class.calc_order()\n",
    "b_class.calc_order()"
   ]
  },
  {
   "cell_type": "code",
   "execution_count": 58,
   "id": "5bf39096-97b4-48ff-9363-57eb8722740c",
   "metadata": {},
   "outputs": [
    {
     "name": "stdout",
     "output_type": "stream",
     "text": [
      "1. 홍길동 : 2등\n",
      "2. 박제동 : 3등\n",
      "3. 김영희 : 4등\n",
      "4. 한사랑 : 1등\n",
      "학급명 : A_Class\n"
     ]
    }
   ],
   "source": [
    "a_class.print_student_score()\n",
    "a_class.set_name('A_Class')\n",
    "print(a_class)"
   ]
  },
  {
   "cell_type": "code",
   "execution_count": 64,
   "id": "0e3ce2f5-0653-4cff-aed7-3d148acebe5d",
   "metadata": {},
   "outputs": [],
   "source": [
    "import random"
   ]
  },
  {
   "cell_type": "code",
   "execution_count": 65,
   "id": "4ac9f6a4-eecf-4ba7-a63f-96e91ca7b322",
   "metadata": {},
   "outputs": [],
   "source": [
    "class Student():\n",
    "    def __init__(self, num, name, kor, eng, math):\n",
    "        self.num = num\n",
    "        self.name = name\n",
    "        self.kor = kor\n",
    "        self.eng = eng\n",
    "        self.math = math\n",
    "        self.total = 0\n",
    "        self.avg = 0\n",
    "        self.order = 0\n",
    "    \n",
    "    #학생 객체의 정보 출력, instance method\n",
    "    def s_info(self):\n",
    "        print(f'{self.num}, {self.name}, {self.kor}, {self.eng}, {self.math}, {self.total}, , {self.order}') \n",
    "\n",
    "    #학생 객체의 총점\n",
    "    def calc_total(self):\n",
    "        self.total = self.kor + self.eng + self.math\n",
    "        self.avg = self.total/3\n",
    "\n",
    "    #학생 객체의 등수 계산\n",
    "    def set_order(self, order):\n",
    "        self.order = order\n",
    "\n",
    "    # Object 상속 받은 메소드 재정의 overriding\n",
    "    def __str__(self):\n",
    "        return f'{self.num}. {self.name} : {self.order}등'\n",
    "\n",
    "    #학생 성적표\n",
    "    def print_score(self):\n",
    "        print(f'{self.name} : {self.avg:.2f}')\n",
    "\n",
    "    #instance method + 1"
   ]
  },
  {
   "cell_type": "code",
   "execution_count": 74,
   "id": "29028622-5fbd-4625-9b6c-2890a9e76819",
   "metadata": {},
   "outputs": [],
   "source": [
    "class Classroom():\n",
    "    #클래스 이름\n",
    "    def __init__(self, student_list):\n",
    "        self.students = self.gen_student_data(student_list)\n",
    "        self.name = ''\n",
    "\n",
    "    def set_name(self, class_name):\n",
    "        self.name = class_name\n",
    "        \n",
    "    #클래스의 학생 목록의 생성하는 인스턴스 메소드\n",
    "    def gen_student_data(self, stu_list):\n",
    "        students = []\n",
    "        for i, s_name in enumerate(stu_list, start=1):\n",
    "            #print(i,s_name)\n",
    "            s = Student(i,s_name, \n",
    "                        random.randint(50,100),\n",
    "                        random.randint(50,100),\n",
    "                        random.randint(50,100)\n",
    "                               )\n",
    "\n",
    "            s.calc_total()\n",
    "            #s.s_info()\n",
    "            \n",
    "            students.append(s)\n",
    "        \n",
    "        return students\n",
    "    \n",
    "    #학급의 학생 순위를 계산해서 학생 객체에 설정\n",
    "    def calc_order(self):\n",
    "        for s in self.students:\n",
    "            rank = 1\n",
    "            for other in self.students:\n",
    "                if other.total > s.total:\n",
    "                    rank += 1\n",
    "            s.set_order(rank)\n",
    "            #s.s_info()\n",
    "            \n",
    "    def print_student_score(self):\n",
    "        for student in self.students:\n",
    "            print(student)\n",
    "\n",
    "    #학급정보 리턴함수 __str__\n",
    "    def __str__(self):\n",
    "        return f'학급명 : {self.name}'\n",
    "\n",
    "    #학급 성적표\n",
    "    #국어 평균, 수학 평균, 영어 평균, 전체 평균, 학생수 \n",
    "    def print_class_score(self):\n",
    "        print(f' 우리 학급은 {self.name} 입니다.')\n",
    "        print(f'이번 우리 클래스의 전체 평균은 {sum(s.total for s in self.students)/len(self.students):.2f} 입니다.')\n",
    "        print(f'우리 학급은 총 {len(self.students)}명입니다.\\n')\n",
    "\n",
    "    def print_ordered_class_member(self):\n",
    "        s_students = sorted(self.students, key=lambda s:s.order)\n",
    "        #print(len(s_students))\n",
    "        \n",
    "        for s in s_students:\n",
    "            s.print_score()\n",
    "\n",
    "    #instance method + 1"
   ]
  },
  {
   "cell_type": "code",
   "execution_count": 73,
   "id": "dc1c71ed-eee3-4d31-a226-ad3c1719086b",
   "metadata": {},
   "outputs": [
    {
     "name": "stdout",
     "output_type": "stream",
     "text": [
      "1. 홍길동 : 3등\n",
      "2. 박제동 : 4등\n",
      "3. 김영희 : 2등\n",
      "4. 한사랑 : 1등\n",
      "1. 김철수 : 4등\n",
      "2. 박길동 : 3등\n",
      "3. 이영희 : 1등\n",
      "4. 최사랑 : 2등\n",
      "5. 아이유 : 5등\n",
      "****************************************\n",
      " 우리 학급은 WN7 입니다.\n",
      "이번 우리 클래스의 전체 평균은 221.25 입니다.\n",
      "우리 학급은 총 4명입니다.\n",
      "\n",
      "@@@@@@@@@@@\n",
      "한사랑 : 87.33\n",
      "김영희 : 74.67\n",
      "홍길동 : 68.00\n",
      "박제동 : 65.00\n",
      "****************************************\n",
      " 우리 학급은 software camp 입니다.\n",
      "이번 우리 클래스의 전체 평균은 213.40 입니다.\n",
      "우리 학급은 총 5명입니다.\n",
      "\n",
      "@@@@@@@@@@@\n",
      "이영희 : 76.33\n",
      "최사랑 : 75.67\n",
      "박길동 : 75.00\n",
      "김철수 : 70.67\n",
      "아이유 : 58.00\n"
     ]
    }
   ],
   "source": [
    "#main process\n",
    "a_class_stu = ['홍길동', '박제동', '김영희', '한사랑']\n",
    "b_class_stu = ['김철수', '박길동', '이영희', '최사랑', '아이유']\n",
    "\n",
    "a_class = Classroom(a_class_stu)\n",
    "b_class = Classroom(b_class_stu)\n",
    "\n",
    "a_class.calc_order()\n",
    "a_class.print_student_score()\n",
    "a_class.set_name('WN7')\n",
    "\n",
    "#print(a_class)\n",
    "b_class.calc_order()\n",
    "b_class.print_student_score()\n",
    "b_class.set_name('software camp')\n",
    "\n",
    "print('*'*40)\n",
    "a_class.print_class_score()\n",
    "a_class.print_ordered_class_member()\n",
    "\n",
    "print('*'*40)\n",
    "b_class.print_class_score()\n",
    "b_class.print_ordered_class_member()"
   ]
  },
  {
   "cell_type": "markdown",
   "id": "64b24961-ef31-45e7-b3e9-ac1b03588809",
   "metadata": {},
   "source": [
    "# 캡슐화"
   ]
  },
  {
   "cell_type": "code",
   "execution_count": 97,
   "id": "6d4d55d3-de71-4ae1-aa25-53d9d1ee4489",
   "metadata": {},
   "outputs": [],
   "source": [
    "class Myclass():\n",
    "    def __init__(self):\n",
    "        self.var1 = 10 # public\n",
    "        self._var2 = 20 # protected\n",
    "        self.__var3 = 30 # privated"
   ]
  },
  {
   "cell_type": "code",
   "execution_count": 88,
   "id": "a68e7c8c-9b08-499b-8435-dba338712e1a",
   "metadata": {},
   "outputs": [
    {
     "data": {
      "text/plain": [
       "10"
      ]
     },
     "execution_count": 88,
     "metadata": {},
     "output_type": "execute_result"
    }
   ],
   "source": [
    "c1 = Myclass()\n",
    "c1.var1"
   ]
  },
  {
   "cell_type": "code",
   "execution_count": 98,
   "id": "8d53e9df-6321-44f1-9fcb-a1aef0ae004f",
   "metadata": {},
   "outputs": [
    {
     "data": {
      "text/plain": [
       "30"
      ]
     },
     "execution_count": 98,
     "metadata": {},
     "output_type": "execute_result"
    }
   ],
   "source": [
    "c1.var2 =30\n",
    "c1.var2"
   ]
  },
  {
   "cell_type": "code",
   "execution_count": 90,
   "id": "9840a734-479a-4abe-81f9-f6ff8bd5f5ab",
   "metadata": {},
   "outputs": [
    {
     "data": {
      "text/plain": [
       "['_Myclass__var3',\n",
       " '__class__',\n",
       " '__delattr__',\n",
       " '__dict__',\n",
       " '__dir__',\n",
       " '__doc__',\n",
       " '__eq__',\n",
       " '__format__',\n",
       " '__ge__',\n",
       " '__getattribute__',\n",
       " '__getstate__',\n",
       " '__gt__',\n",
       " '__hash__',\n",
       " '__init__',\n",
       " '__init_subclass__',\n",
       " '__le__',\n",
       " '__lt__',\n",
       " '__module__',\n",
       " '__ne__',\n",
       " '__new__',\n",
       " '__reduce__',\n",
       " '__reduce_ex__',\n",
       " '__repr__',\n",
       " '__setattr__',\n",
       " '__sizeof__',\n",
       " '__str__',\n",
       " '__subclasshook__',\n",
       " '__weakref__',\n",
       " '_var2',\n",
       " 'var1',\n",
       " 'var2']"
      ]
     },
     "execution_count": 90,
     "metadata": {},
     "output_type": "execute_result"
    }
   ],
   "source": [
    "dir(c1)"
   ]
  },
  {
   "cell_type": "code",
   "execution_count": 91,
   "id": "6cacaf1f-793b-4fb6-a16d-9af002fdd9b0",
   "metadata": {},
   "outputs": [
    {
     "ename": "AttributeError",
     "evalue": "'Myclass' object has no attribute '__var3'",
     "output_type": "error",
     "traceback": [
      "\u001b[31m---------------------------------------------------------------------------\u001b[39m",
      "\u001b[31mAttributeError\u001b[39m                            Traceback (most recent call last)",
      "\u001b[36mCell\u001b[39m\u001b[36m \u001b[39m\u001b[32mIn[91]\u001b[39m\u001b[32m, line 1\u001b[39m\n\u001b[32m----> \u001b[39m\u001b[32m1\u001b[39m c1.__var3\n",
      "\u001b[31mAttributeError\u001b[39m: 'Myclass' object has no attribute '__var3'"
     ]
    }
   ],
   "source": [
    "c1.__var3"
   ]
  },
  {
   "cell_type": "code",
   "execution_count": 92,
   "id": "32bffc1a-cfb4-4818-8832-37018bf988b6",
   "metadata": {},
   "outputs": [
    {
     "data": {
      "text/plain": [
       "30"
      ]
     },
     "execution_count": 92,
     "metadata": {},
     "output_type": "execute_result"
    }
   ],
   "source": [
    "c1._Myclass__var3"
   ]
  },
  {
   "cell_type": "code",
   "execution_count": 93,
   "id": "9744670a-a7d1-4897-ac34-016b0bdffd51",
   "metadata": {},
   "outputs": [
    {
     "data": {
      "text/plain": [
       "['__class__',\n",
       " '__delattr__',\n",
       " '__dict__',\n",
       " '__dir__',\n",
       " '__doc__',\n",
       " '__eq__',\n",
       " '__format__',\n",
       " '__ge__',\n",
       " '__getattribute__',\n",
       " '__getstate__',\n",
       " '__gt__',\n",
       " '__hash__',\n",
       " '__init__',\n",
       " '__init_subclass__',\n",
       " '__le__',\n",
       " '__lt__',\n",
       " '__module__',\n",
       " '__ne__',\n",
       " '__new__',\n",
       " '__reduce__',\n",
       " '__reduce_ex__',\n",
       " '__repr__',\n",
       " '__setattr__',\n",
       " '__sizeof__',\n",
       " '__str__',\n",
       " '__subclasshook__',\n",
       " '__weakref__']"
      ]
     },
     "execution_count": 93,
     "metadata": {},
     "output_type": "execute_result"
    }
   ],
   "source": [
    "dir(Myclass)"
   ]
  },
  {
   "cell_type": "markdown",
   "id": "1f68a122-c31f-4061-a90f-67701e47e138",
   "metadata": {},
   "source": [
    "## 상속"
   ]
  },
  {
   "cell_type": "code",
   "execution_count": 208,
   "id": "62384cfb-d03e-458f-87f4-e91e8c9a38a1",
   "metadata": {},
   "outputs": [],
   "source": [
    "# 부모클래스\n",
    "class Calculator():\n",
    "    def __init__(self,x,y):\n",
    "        self.x = x\n",
    "        self.y = y\n",
    "    def add(self):\n",
    "        return self.x + self.y\n",
    "\n",
    "    def mul(self):\n",
    "        return self.x * self.y"
   ]
  },
  {
   "cell_type": "code",
   "execution_count": 209,
   "id": "9570968a-3fef-4dc9-936f-fd1eb65bf81f",
   "metadata": {},
   "outputs": [],
   "source": [
    "class Advanced_Calculator(Calculator): \n",
    "    # 상속받은 기능 재사용\n",
    "    #def __init__(self,x,y):\n",
    "\n",
    "    # 자식이 추가한 기능\n",
    "    def divison(self):\n",
    "        if self.y == 0:\n",
    "            return '0으로 나누기 금지'\n",
    "        return self.x / self.y\n",
    "\n",
    "    def mul(self):\n",
    "        print('Advanced_Calculator입니다.')\n",
    "        return super().mul()  # 부모에 있는 add를 호출\n",
    "    \n",
    "    def sub(self):\n",
    "        return self.x - self.y\n",
    "    \n",
    "    def add(self):  # overriding\n",
    "        print('Advanced_Calculator입니다.')\n",
    "        return super().add()  # 부모에 있는 add를 호출"
   ]
  },
  {
   "cell_type": "code",
   "execution_count": 210,
   "id": "0cb9af90-2138-43cc-872e-bf87f67cb79f",
   "metadata": {},
   "outputs": [
    {
     "data": {
      "text/plain": [
       "10.0"
      ]
     },
     "execution_count": 210,
     "metadata": {},
     "output_type": "execute_result"
    }
   ],
   "source": [
    "acalc = Advanced_Calculator(30,3)\n",
    "acalc.divison()"
   ]
  },
  {
   "cell_type": "code",
   "execution_count": 211,
   "id": "a357f9e5-cc0f-404e-9c8d-90d64bb1a32b",
   "metadata": {},
   "outputs": [
    {
     "data": {
      "text/plain": [
       "['__class__',\n",
       " '__delattr__',\n",
       " '__dict__',\n",
       " '__dir__',\n",
       " '__doc__',\n",
       " '__eq__',\n",
       " '__format__',\n",
       " '__ge__',\n",
       " '__getattribute__',\n",
       " '__getstate__',\n",
       " '__gt__',\n",
       " '__hash__',\n",
       " '__init__',\n",
       " '__init_subclass__',\n",
       " '__le__',\n",
       " '__lt__',\n",
       " '__module__',\n",
       " '__ne__',\n",
       " '__new__',\n",
       " '__reduce__',\n",
       " '__reduce_ex__',\n",
       " '__repr__',\n",
       " '__setattr__',\n",
       " '__sizeof__',\n",
       " '__str__',\n",
       " '__subclasshook__',\n",
       " '__weakref__',\n",
       " 'add',\n",
       " 'divison',\n",
       " 'mul',\n",
       " 'sub',\n",
       " 'x',\n",
       " 'y']"
      ]
     },
     "execution_count": 211,
     "metadata": {},
     "output_type": "execute_result"
    }
   ],
   "source": [
    "dir(acalc)"
   ]
  },
  {
   "cell_type": "code",
   "execution_count": 212,
   "id": "1ff65af0-380b-40f1-af77-145bb72b1e69",
   "metadata": {},
   "outputs": [
    {
     "name": "stdout",
     "output_type": "stream",
     "text": [
      "Advanced_Calculator입니다.\n"
     ]
    },
    {
     "data": {
      "text/plain": [
       "33"
      ]
     },
     "execution_count": 212,
     "metadata": {},
     "output_type": "execute_result"
    }
   ],
   "source": [
    "acalc.add()"
   ]
  },
  {
   "cell_type": "code",
   "execution_count": 213,
   "id": "5e6c7051-b222-4c68-88eb-094e7a97528a",
   "metadata": {},
   "outputs": [
    {
     "data": {
      "text/plain": [
       "27"
      ]
     },
     "execution_count": 213,
     "metadata": {},
     "output_type": "execute_result"
    }
   ],
   "source": [
    "acalc.sub()"
   ]
  },
  {
   "cell_type": "code",
   "execution_count": 215,
   "id": "656ca133-2e3d-4566-a7b9-42da9890a4e5",
   "metadata": {},
   "outputs": [
    {
     "name": "stdout",
     "output_type": "stream",
     "text": [
      "Advanced_Calculator입니다.\n"
     ]
    },
    {
     "data": {
      "text/plain": [
       "90"
      ]
     },
     "execution_count": 215,
     "metadata": {},
     "output_type": "execute_result"
    }
   ],
   "source": [
    "acalc.mul()"
   ]
  },
  {
   "cell_type": "code",
   "execution_count": null,
   "id": "584e1e12-a5a7-4197-ac1c-0f9cfdb183ac",
   "metadata": {},
   "outputs": [],
   "source": []
  },
  {
   "cell_type": "code",
   "execution_count": null,
   "id": "a077ecdf-0f87-4ddf-a427-3b736d33dfb6",
   "metadata": {},
   "outputs": [],
   "source": []
  },
  {
   "cell_type": "code",
   "execution_count": null,
   "id": "556dc411-56b4-4d6e-a015-13bc73422284",
   "metadata": {},
   "outputs": [],
   "source": []
  },
  {
   "cell_type": "code",
   "execution_count": null,
   "id": "64cc95e4-36d0-460e-aaa6-e70c52023bd1",
   "metadata": {},
   "outputs": [],
   "source": []
  },
  {
   "cell_type": "code",
   "execution_count": null,
   "id": "be3849f5-9847-4858-a367-9211df051177",
   "metadata": {},
   "outputs": [],
   "source": []
  }
 ],
 "metadata": {
  "kernelspec": {
   "display_name": "Python 3 (ipykernel)",
   "language": "python",
   "name": "python3"
  },
  "language_info": {
   "codemirror_mode": {
    "name": "ipython",
    "version": 3
   },
   "file_extension": ".py",
   "mimetype": "text/x-python",
   "name": "python",
   "nbconvert_exporter": "python",
   "pygments_lexer": "ipython3",
   "version": "3.12.9"
  }
 },
 "nbformat": 4,
 "nbformat_minor": 5
}
