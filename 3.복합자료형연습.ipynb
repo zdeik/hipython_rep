{
 "cells": [
  {
   "cell_type": "markdown",
   "id": "6e3a771e-7303-4b7c-9c6b-c189e7540212",
   "metadata": {},
   "source": [
    "# 자료형 비교"
   ]
  },
  {
   "cell_type": "markdown",
   "id": "bb66eda3-a0b0-4380-9909-dff928a246f0",
   "metadata": {},
   "source": [
    "| 항목       | 리스트 `[]`  | 딕셔너리 `{}`      | 튜플 `()`     | 세트 `set()`          |\n",
    "| -------- | --------- | -------------- | ----------- | ------------------- |\n",
    "| 변경 가능성   | ✅ mutable | ✅ mutable      | ❌ immutable | ✅ mutable (내용)      |\n",
    "| 구분 기호    | `[]`      | `{key: value}` | `()`        | `{값, 값}` 또는 `set()` |\n",
    "| 순서       | ✅ 있음      | ✅ 있음 (3.7 이후)  | ✅ 있음        | ❌ 없음 (정렬 안 됨)       |\n",
    "| 중복 허용    | ✅ 허용      | ❌ 키 중복 불가      | ✅ 허용        | ❌ 허용 안 함            |\n",
    "| 인덱싱/슬라이싱 | ✅ 가능      | ❌ 키로 접근        | ✅ 가능        | ❌ 불가능               |\n",
    "| 주요 용도    | 순차적 자료 보관 | 키-값 쌍 저장       | 고정된 값 묶음    | 집합 연산, 중복 제거        |\n"
   ]
  },
  {
   "cell_type": "markdown",
   "id": "cf8ee87f-5215-4be4-ad13-4202ede9b391",
   "metadata": {},
   "source": [
    "1. 리스트 numbers가 다음과 같을 때, 첫 번째 원소와 마지막 원소의 합을 구하는 코드를 작성하세요.   \n"
   ]
  },
  {
   "cell_type": "code",
   "execution_count": 4,
   "id": "2895c663-4e6e-4d1c-998a-227dcea7e349",
   "metadata": {},
   "outputs": [
    {
     "data": {
      "text/plain": [
       "(10, 100)"
      ]
     },
     "execution_count": 4,
     "metadata": {},
     "output_type": "execute_result"
    }
   ],
   "source": [
    "numbers = [10, 20,  30,  40,  50,  60, 70, 80, 90, 100]\n",
    "\n",
    "#답을 작성하세요.\n",
    "numbers[0], numbers[-1]"
   ]
  },
  {
   "cell_type": "markdown",
   "id": "8f1dad10-7246-4f02-86c7-00917c82bba5",
   "metadata": {},
   "source": [
    "2. 리스트 colors가 다음과 같을 때, 첫 3개 원소와 마지막 2개 원소를 슬라이싱을 사용하여 출력하는 코드를 작성하세요."
   ]
  },
  {
   "cell_type": "code",
   "execution_count": 5,
   "id": "fce7b2f0-d39b-4ff6-ab94-145a8395c6b0",
   "metadata": {},
   "outputs": [
    {
     "data": {
      "text/plain": [
       "(['red', 'green', 'blue'], ['orange', 'black'])"
      ]
     },
     "execution_count": 5,
     "metadata": {},
     "output_type": "execute_result"
    }
   ],
   "source": [
    "colors = [\"red\", \"green\", \"blue\", \"yellow\", \"purple\", \"orange\", \"black\"]\n",
    "#답을 작성하세요.\n",
    "\n",
    "colors[:3], colors[-2:]"
   ]
  },
  {
   "cell_type": "markdown",
   "id": "23785129-0c8e-4f82-a308-9f19ba24d450",
   "metadata": {},
   "source": [
    "3. 다음 리스트에서 \"korean\"이라는 문자열을 찾아 출력하는 코드를 작성하세요. - indexing"
   ]
  },
  {
   "cell_type": "code",
   "execution_count": 11,
   "id": "f95f823c-5c98-4faa-982d-94b0d2ac9577",
   "metadata": {},
   "outputs": [
    {
     "data": {
      "text/plain": [
       "'korean'"
      ]
     },
     "execution_count": 11,
     "metadata": {},
     "output_type": "execute_result"
    }
   ],
   "source": [
    "list_a = [\n",
    "    [1, 2, 3],\n",
    "    [\"red\", \"green\", \"blue\"],\n",
    "    [False, \"korean\", True]\n",
    "]\n",
    "#답을 작성하세요.\n",
    "list_a[2][1]"
   ]
  },
  {
   "cell_type": "code",
   "execution_count": 13,
   "id": "313e940e-803e-47d4-bcc2-9583ed06149b",
   "metadata": {},
   "outputs": [
    {
     "name": "stdout",
     "output_type": "stream",
     "text": [
      "korean\n"
     ]
    }
   ],
   "source": [
    "for sub in list_a :\n",
    "    for item in sub:\n",
    "        #print(item)\n",
    "        if item == \"korean\" :\n",
    "            print(item)\n",
    "    "
   ]
  },
  {
   "cell_type": "code",
   "execution_count": null,
   "id": "a8daff3e-27e4-487e-ba9e-6632623e34ab",
   "metadata": {},
   "outputs": [],
   "source": [
    "4. 리스트 list_a과 list_b가 다음과 같을 때, 두 리스트를 합쳐서 새로운 리스트 list_c를 만드는 코드를 작성하세요."
   ]
  },
  {
   "cell_type": "code",
   "execution_count": 8,
   "id": "c14088ae-3638-46bc-88c7-3c0df9a9d93d",
   "metadata": {},
   "outputs": [],
   "source": [
    "list_a = [1, 2, 3]\n",
    "list_b = [4, 5, 6]"
   ]
  },
  {
   "cell_type": "code",
   "execution_count": 9,
   "id": "91b6783d-f361-48b7-8fe8-c98b4d7c5cef",
   "metadata": {},
   "outputs": [
    {
     "data": {
      "text/plain": [
       "[1, 2, 3, 4, 5, 6]"
      ]
     },
     "execution_count": 9,
     "metadata": {},
     "output_type": "execute_result"
    }
   ],
   "source": [
    "list_c = list_a + list_b\n",
    "list_c"
   ]
  },
  {
   "cell_type": "markdown",
   "id": "d1813171-7b2f-4388-99c0-f4b329a79d14",
   "metadata": {},
   "source": [
    "5. 아래의 튜플 tuple_a에서 \"banana\"를 \"blueberry\"로 변경하는 코드를 작성하세요."
   ]
  },
  {
   "cell_type": "code",
   "execution_count": 15,
   "id": "a8ee302f-22c4-40fe-bcbf-9352b929ba1a",
   "metadata": {},
   "outputs": [
    {
     "data": {
      "text/plain": [
       "('apple', 'blueberry', 'cherry')"
      ]
     },
     "execution_count": 15,
     "metadata": {},
     "output_type": "execute_result"
    }
   ],
   "source": [
    "tuple_a = (\"apple\", \"banana\", \"cherry\")\n",
    "list_a = list (tuple_a)\n",
    "list_a[1] = 'blueberry'\n",
    "tuple(list_a)"
   ]
  },
  {
   "cell_type": "markdown",
   "id": "6435ed7d-ba1c-47d9-8255-2dbe5f891c48",
   "metadata": {},
   "source": [
    "6. 변수 a, b, c의 값을 사용하여 튜플 tuple_a를 생성하고 출력하는 코드를 작성하세요."
   ]
  },
  {
   "cell_type": "code",
   "execution_count": 16,
   "id": "6cd65546-f7eb-4246-aa46-42d0a9cad095",
   "metadata": {},
   "outputs": [
    {
     "data": {
      "text/plain": [
       "(5, 10, 15)"
      ]
     },
     "execution_count": 16,
     "metadata": {},
     "output_type": "execute_result"
    }
   ],
   "source": [
    "a = 5\n",
    "b = 10\n",
    "c = 15\n",
    "tuple_a = (a,b,c)\n",
    "tuple_a"
   ]
  },
  {
   "cell_type": "markdown",
   "id": "de532269-ff54-436d-91fc-4d4436f60ba4",
   "metadata": {},
   "source": [
    "7. 튜플 numbers가 주어졌을 때, 튜플의 최대값과 최소값을 출력하는 코드를 작성하세요."
   ]
  },
  {
   "cell_type": "code",
   "execution_count": 19,
   "id": "e8571a17-8ea8-4966-b550-ca436b76e720",
   "metadata": {},
   "outputs": [
    {
     "data": {
      "text/plain": [
       "(92, 19)"
      ]
     },
     "execution_count": 19,
     "metadata": {},
     "output_type": "execute_result"
    }
   ],
   "source": [
    "numbers = (92, 89, 72, 31, 71, 33, 19)\n",
    "#dir(numbers)\n",
    "max(numbers), min(numbers)"
   ]
  },
  {
   "cell_type": "markdown",
   "id": "47921842-520f-4cec-a751-941396825a09",
   "metadata": {},
   "source": [
    "8. dict 타입의 student(변수명)를 생성하고, 아래의 키-값 쌍을 추가하는 코드를 작성하세요.\n",
    "\n",
    "- name: \"Alice\"\n",
    "- age: 24\n",
    "- major: \"Computer Science\""
   ]
  },
  {
   "cell_type": "code",
   "execution_count": 20,
   "id": "70351729-f3a3-403b-87fe-19f8f6782ce6",
   "metadata": {},
   "outputs": [
    {
     "data": {
      "text/plain": [
       "{'name': 'Alice', 'age': 24, 'major': 'Computer Science'}"
      ]
     },
     "execution_count": 20,
     "metadata": {},
     "output_type": "execute_result"
    }
   ],
   "source": [
    "student = {}\n",
    "student[\"name\"] = \"Alice\"\n",
    "student[\"age\"] = 24\n",
    "student[\"major\"] = \"Computer Science\"\n",
    "student"
   ]
  },
  {
   "cell_type": "markdown",
   "id": "420920df-7bfd-4c4a-84d0-b3f02b1a4f3b",
   "metadata": {},
   "source": [
    "9. 위에서 생성한 student에서, 모든 키와 값을 출력하는 코드를 작성하세요"
   ]
  },
  {
   "cell_type": "code",
   "execution_count": 21,
   "id": "e69beab4-ec8c-4c29-91e0-2e56826d9216",
   "metadata": {},
   "outputs": [
    {
     "data": {
      "text/plain": [
       "dict_items([('name', 'Alice'), ('age', 24), ('major', 'Computer Science')])"
      ]
     },
     "execution_count": 21,
     "metadata": {},
     "output_type": "execute_result"
    }
   ],
   "source": [
    "student.items()"
   ]
  },
  {
   "cell_type": "code",
   "execution_count": 22,
   "id": "2934bb89-b07e-46dc-8154-da86403dc2a9",
   "metadata": {},
   "outputs": [
    {
     "data": {
      "text/plain": [
       "dict_keys(['name', 'age', 'major'])"
      ]
     },
     "execution_count": 22,
     "metadata": {},
     "output_type": "execute_result"
    }
   ],
   "source": [
    "student.keys()"
   ]
  },
  {
   "cell_type": "code",
   "execution_count": 23,
   "id": "fb6a1b27-df41-4056-8bf9-1b21da5025a1",
   "metadata": {},
   "outputs": [
    {
     "data": {
      "text/plain": [
       "dict_values(['Alice', 24, 'Computer Science'])"
      ]
     },
     "execution_count": 23,
     "metadata": {},
     "output_type": "execute_result"
    }
   ],
   "source": [
    "student.values()"
   ]
  },
  {
   "cell_type": "code",
   "execution_count": 25,
   "id": "0e15d186-aa1d-4437-8139-d2d7a1809397",
   "metadata": {},
   "outputs": [
    {
     "name": "stdout",
     "output_type": "stream",
     "text": [
      "name:Alice\n",
      "age:24\n",
      "major:Computer Science\n"
     ]
    }
   ],
   "source": [
    "for k, v in student.items():\n",
    "    print(f'{k}:{v}')"
   ]
  },
  {
   "cell_type": "code",
   "execution_count": 26,
   "id": "5a1c95f9-755c-48be-86af-93c76b891c34",
   "metadata": {},
   "outputs": [
    {
     "name": "stdout",
     "output_type": "stream",
     "text": [
      "name\n",
      "age\n",
      "major\n"
     ]
    }
   ],
   "source": [
    "for k in student:\n",
    "    print(f'{k}')"
   ]
  },
  {
   "cell_type": "markdown",
   "id": "7ddaee93-c8e1-4b35-8f57-5f726e00d2aa",
   "metadata": {},
   "source": [
    "10. 위에서 생성한 student에서, age(나이)를 26으로 변경하세요."
   ]
  },
  {
   "cell_type": "code",
   "execution_count": 27,
   "id": "79ce46f3-91c9-49e8-b84b-e473690c1215",
   "metadata": {},
   "outputs": [
    {
     "data": {
      "text/plain": [
       "{'name': 'Alice', 'age': 26, 'major': 'Computer Science'}"
      ]
     },
     "execution_count": 27,
     "metadata": {},
     "output_type": "execute_result"
    }
   ],
   "source": [
    "student['age'] = 26\n",
    "student"
   ]
  },
  {
   "cell_type": "code",
   "execution_count": null,
   "id": "5a1ced7e-8973-4952-96ba-6f4c4e254cf3",
   "metadata": {},
   "outputs": [],
   "source": []
  },
  {
   "cell_type": "code",
   "execution_count": null,
   "id": "c7f3ab7f-bb88-4d8a-9e2f-ebf26caebc7b",
   "metadata": {},
   "outputs": [],
   "source": [
    "11. 다음 딕셔너리 students에서 name의 값을 리스트(name_list)로, age의 값을 튜플(age_tuple) 만드는 코드를 작성하세요"
   ]
  },
  {
   "cell_type": "code",
   "execution_count": 28,
   "id": "22482f5a-1e32-45a5-87f4-c7d2c849c407",
   "metadata": {},
   "outputs": [],
   "source": [
    "students = {\n",
    "    \"student1\": {\"name\": \"Alice\", \"age\": 24},\n",
    "    \"student2\": {\"name\": \"Bob\", \"age\": 22},\n",
    "    \"student3\": {\"name\": \"Charlie\", \"age\": 23}\n",
    "}"
   ]
  },
  {
   "cell_type": "code",
   "execution_count": 29,
   "id": "46e3ee75-0e1b-4965-a5a6-c9fbdba925e7",
   "metadata": {},
   "outputs": [
    {
     "data": {
      "text/plain": [
       "(['Alice', 'Bob', 'Charlie'], (24, 22, 23))"
      ]
     },
     "execution_count": 29,
     "metadata": {},
     "output_type": "execute_result"
    }
   ],
   "source": [
    "name_list = []\n",
    "age_list = []\n",
    "\n",
    "for key in students.keys():\n",
    "    stu = students[key]\n",
    "    name_list.append(stu['name'])\n",
    "    age_list.append(stu['age'])\n",
    "\n",
    "age_tuple = tuple(age_list)\n",
    "name_list, age_tuple"
   ]
  },
  {
   "cell_type": "code",
   "execution_count": null,
   "id": "98034c19-71de-4c3b-aa1f-c7ad99586654",
   "metadata": {},
   "outputs": [],
   "source": []
  },
  {
   "cell_type": "code",
   "execution_count": null,
   "id": "ee3738f8-f8a1-4bb4-80e1-8859e1ff7b44",
   "metadata": {},
   "outputs": [],
   "source": []
  },
  {
   "cell_type": "code",
   "execution_count": null,
   "id": "9baf61a9-4c5c-49dd-bae5-b043a5d5b534",
   "metadata": {},
   "outputs": [],
   "source": []
  },
  {
   "cell_type": "code",
   "execution_count": null,
   "id": "2bebafdc-cf5d-4622-8d16-1471d41ca7b2",
   "metadata": {},
   "outputs": [],
   "source": []
  }
 ],
 "metadata": {
  "kernelspec": {
   "display_name": "Python 3 (ipykernel)",
   "language": "python",
   "name": "python3"
  },
  "language_info": {
   "codemirror_mode": {
    "name": "ipython",
    "version": 3
   },
   "file_extension": ".py",
   "mimetype": "text/x-python",
   "name": "python",
   "nbconvert_exporter": "python",
   "pygments_lexer": "ipython3",
   "version": "3.12.9"
  }
 },
 "nbformat": 4,
 "nbformat_minor": 5
}
