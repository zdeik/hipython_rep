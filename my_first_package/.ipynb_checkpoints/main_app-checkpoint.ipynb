{
 "cells": [
  {
   "cell_type": "code",
   "execution_count": 1,
   "id": "a7e5298a-0476-4a4e-893e-a73202cb2bf8",
   "metadata": {},
   "outputs": [
    {
     "name": "stdout",
     "output_type": "stream",
     "text": [
      "magic calc loaded\n",
      "15\n"
     ]
    }
   ],
   "source": [
    "#방법1\n",
    "import magic_calc\n",
    "\n",
    "result_add = magic_calc.basic_ops.add(10,5)\n",
    "print(result_add)"
   ]
  },
  {
   "cell_type": "code",
   "execution_count": 7,
   "id": "f942795f-7477-4272-84b1-fc00feaa7c00",
   "metadata": {},
   "outputs": [
    {
     "name": "stdout",
     "output_type": "stream",
     "text": [
      "3.1622776601683795\n"
     ]
    }
   ],
   "source": [
    "from magic_calc import basic_ops, advanced_ops\n",
    "result_sqrt = advanced_ops.sqrt(10)\n",
    "print(result_sqrt)"
   ]
  },
  {
   "cell_type": "code",
   "execution_count": 8,
   "id": "ae82f3da-c451-4012-9c6b-b751fd7004ba",
   "metadata": {},
   "outputs": [
    {
     "name": "stdout",
     "output_type": "stream",
     "text": [
      "\n",
      "--- 방법 3: multiply, divide, power 직접 사용 ---\n",
      "7 * 8 = 56\n"
     ]
    }
   ],
   "source": [
    "from magic_calc.basic_ops import multiply, divide\n",
    "from magic_calc.advanced_ops import power\n",
    "\n",
    "print(\"\\n--- 방법 3: multiply, divide, power 직접 사용 ---\")\n",
    "result_mul = multiply(7, 8)\n",
    "print(f\"7 * 8 = {result_mul}\")"
   ]
  },
  {
   "cell_type": "code",
   "execution_count": 2,
   "id": "4b899bfc-8869-4173-bb9b-da8bfc55504e",
   "metadata": {},
   "outputs": [
    {
     "name": "stdout",
     "output_type": "stream",
     "text": [
      "100\n"
     ]
    }
   ],
   "source": [
    "#방법1\n",
    "import magic_calc\n",
    "\n",
    "result_power = magic_calc.advanced_ops.power(10,2)\n",
    "print(result_power)"
   ]
  }
 ],
 "metadata": {
  "kernelspec": {
   "display_name": "Python 3 (ipykernel)",
   "language": "python",
   "name": "python3"
  },
  "language_info": {
   "codemirror_mode": {
    "name": "ipython",
    "version": 3
   },
   "file_extension": ".py",
   "mimetype": "text/x-python",
   "name": "python",
   "nbconvert_exporter": "python",
   "pygments_lexer": "ipython3",
   "version": "3.12.9"
  }
 },
 "nbformat": 4,
 "nbformat_minor": 5
}
