{
 "cells": [
  {
   "cell_type": "markdown",
   "id": "d4eba515",
   "metadata": {},
   "source": [
    "# 쇼핑몰 매출 데이터 분석을 통한 NumPy 기본 연습 문제"
   ]
  },
  {
   "cell_type": "markdown",
   "id": "360a1811",
   "metadata": {},
   "source": [
    "문제 1: 매출 데이터에서 일일 평균 매출 계산하기\n",
    "- 설명: 30일 동안의 쇼핑몰 매출 데이터를 배열로 제공할 때, 일일 평균 매출을 계산하세요.\n",
    "- 힌트: np.mean() 함수를 사용하여 배열의 평균값을 계산합니다."
   ]
  },
  {
   "cell_type": "code",
   "execution_count": 2,
   "id": "a839965a",
   "metadata": {},
   "outputs": [],
   "source": [
    "import numpy as np\n",
    "sales_data = np.array([2200, 2350, 2500, 2750, 3000, 3100, 2700, 2600, 2900, 3200,\n",
    "                       3400, 3600, 3300, 3100, 2900, 2700, 2800, 2900, 3100, 3200,\n",
    "                       3300, 3400, 3500, 3700, 3600, 3500, 3400, 3300, 3000, 3100])"
   ]
  },
  {
   "cell_type": "code",
   "execution_count": null,
   "id": "259c3d87",
   "metadata": {},
   "outputs": [
    {
     "name": "stdout",
     "output_type": "stream",
     "text": [
      "3070.0\n",
      "3070.0\n"
     ]
    }
   ],
   "source": [
    "# numpy 함수\n",
    "avg_sales = np.mean(sales_data)\n",
    "print(avg_sales)\n",
    "# s\n",
    "avg_sales1 = sales_data.sum() / sales_data.size\n",
    "print(avg_sales1)"
   ]
  },
  {
   "cell_type": "markdown",
   "id": "028deba1",
   "metadata": {},
   "source": [
    "# 문제 2: 매출 데이터에서 최대 매출일과 최소 매출일 찾기\n",
    "- 설명: 매출 데이터에서 가장 높은 매출과 가장 낮은 매출을 기록한 날짜를 찾아보세요.\n",
    "- 힌트: np.argmax(), np.argmin()을 사용하여 최대값, 최소값의 인덱스를 찾습니다."
   ]
  },
  {
   "cell_type": "code",
   "execution_count": 14,
   "id": "ad2384e0",
   "metadata": {},
   "outputs": [
    {
     "data": {
      "text/plain": [
       "(30,)"
      ]
     },
     "execution_count": 14,
     "metadata": {},
     "output_type": "execute_result"
    }
   ],
   "source": [
    "sales_data.shape"
   ]
  },
  {
   "cell_type": "code",
   "execution_count": null,
   "id": "c1d93a2c",
   "metadata": {},
   "outputs": [
    {
     "name": "stdout",
     "output_type": "stream",
     "text": [
      "최대 매출일 : 24, 최소 매출일 : 1\n"
     ]
    }
   ],
   "source": [
    "max_day =0\n",
    "min_day =0\n",
    "\n",
    "max_day = sales_data.argmax()\n",
    "min_day = sales_data.argmin()\n",
    "\n",
    "print(f'최대 매출일 : {max_day+1}, 최소 매출일 : {min_day+1}')"
   ]
  },
  {
   "cell_type": "code",
   "execution_count": null,
   "id": "000c7f3e",
   "metadata": {},
   "outputs": [],
   "source": []
  },
  {
   "cell_type": "markdown",
   "id": "a74e0892",
   "metadata": {},
   "source": [
    "# 문제 3: 7일 단위로 매출 합계 계산하기\n",
    "- 설명: 30일 매출 데이터를 7일 단위로 나누어 각 주차별 매출 합계를 계산하세요.\n",
    "- 힌트: 배열을 슬라이싱하거나 reshape()를 사용하여 배열을 변환합니다."
   ]
  },
  {
   "cell_type": "code",
   "execution_count": 16,
   "id": "8e9c3642",
   "metadata": {},
   "outputs": [
    {
     "data": {
      "text/plain": [
       "array([2200, 2350, 2500, 2750, 3000, 3100, 2700, 2600, 2900, 3200, 3400,\n",
       "       3600, 3300, 3100, 2900, 2700, 2800, 2900, 3100, 3200, 3300, 3400,\n",
       "       3500, 3700, 3600, 3500, 3400, 3300, 3000, 3100])"
      ]
     },
     "execution_count": 16,
     "metadata": {},
     "output_type": "execute_result"
    }
   ],
   "source": [
    "sales_data"
   ]
  },
  {
   "cell_type": "code",
   "execution_count": null,
   "id": "794acc17",
   "metadata": {},
   "outputs": [
    {
     "data": {
      "text/plain": [
       "array([[2200, 2350, 2500, 2750, 3000, 3100, 2700],\n",
       "       [2600, 2900, 3200, 3400, 3600, 3300, 3100],\n",
       "       [2900, 2700, 2800, 2900, 3100, 3200, 3300],\n",
       "       [3400, 3500, 3700, 3600, 3500, 3400, 3300]])"
      ]
     },
     "execution_count": 19,
     "metadata": {},
     "output_type": "execute_result"
    }
   ],
   "source": [
    "sales_data[:28].reshape(4,7) # 7일 단위로 매출 합계 계산하기"
   ]
  },
  {
   "cell_type": "code",
   "execution_count": 20,
   "id": "a8c5e000",
   "metadata": {},
   "outputs": [
    {
     "data": {
      "text/plain": [
       "array([[2200, 2350, 2500, 2750, 3000, 3100, 2700],\n",
       "       [2600, 2900, 3200, 3400, 3600, 3300, 3100],\n",
       "       [2900, 2700, 2800, 2900, 3100, 3200, 3300],\n",
       "       [3400, 3500, 3700, 3600, 3500, 3400, 3300],\n",
       "       [3000, 3100,    0,    0,    0,    0,    0]])"
      ]
     },
     "execution_count": 20,
     "metadata": {},
     "output_type": "execute_result"
    }
   ],
   "source": [
    "weekly_data = np.pad(sales_data,(0,5),'constant',constant_values=0).reshape(5,7)\n",
    "weekly_data"
   ]
  },
  {
   "cell_type": "code",
   "execution_count": 24,
   "id": "636c1896",
   "metadata": {},
   "outputs": [
    {
     "data": {
      "text/plain": [
       "array([18600, 22100, 20900, 24400,  6100])"
      ]
     },
     "execution_count": 24,
     "metadata": {},
     "output_type": "execute_result"
    }
   ],
   "source": [
    "weekly_data.sum(axis=1) # 7일 단위로 매출 합계 계산하기 (가로 합: axis=1), (세로 합: axis=0)"
   ]
  },
  {
   "cell_type": "markdown",
   "id": "167cc926",
   "metadata": {},
   "source": [
    "# 문제 4: 매출 데이터에서 특정 조건에 맞는 매출 데이터 필터링하기\n",
    "- 설명: 매출이 3000 이상인 날들의 매출만 필터링하여 보여주세요.\n",
    "- 힌트: 배열에서 조건 필터링을 사용하는 방법을 익힙니다."
   ]
  },
  {
   "cell_type": "code",
   "execution_count": 25,
   "id": "6f591312",
   "metadata": {},
   "outputs": [
    {
     "data": {
      "text/plain": [
       "array([2200, 2350, 2500, 2750, 3000, 3100, 2700, 2600, 2900, 3200, 3400,\n",
       "       3600, 3300, 3100, 2900, 2700, 2800, 2900, 3100, 3200, 3300, 3400,\n",
       "       3500, 3700, 3600, 3500, 3400, 3300, 3000, 3100])"
      ]
     },
     "execution_count": 25,
     "metadata": {},
     "output_type": "execute_result"
    }
   ],
   "source": [
    "sales_data"
   ]
  },
  {
   "cell_type": "code",
   "execution_count": 38,
   "id": "d637a47e",
   "metadata": {},
   "outputs": [
    {
     "data": {
      "text/plain": [
       "array([False, False, False, False,  True,  True, False, False, False,\n",
       "        True,  True,  True,  True,  True, False, False, False, False,\n",
       "        True,  True,  True,  True,  True,  True,  True,  True,  True,\n",
       "        True,  True,  True])"
      ]
     },
     "execution_count": 38,
     "metadata": {},
     "output_type": "execute_result"
    }
   ],
   "source": [
    "sales_data >= 3000"
   ]
  },
  {
   "cell_type": "code",
   "execution_count": 39,
   "id": "e6b0bc4f",
   "metadata": {},
   "outputs": [
    {
     "data": {
      "text/plain": [
       "(array([3000, 3100, 3200, 3400, 3600, 3300, 3100, 3100, 3200, 3300, 3400,\n",
       "        3500, 3700, 3600, 3500, 3400, 3300, 3000, 3100]),\n",
       " array([3000, 3100, 3200, 3400, 3600, 3300, 3100, 3100, 3200, 3300, 3400,\n",
       "        3500, 3700, 3600, 3500, 3400, 3300, 3000, 3100]))"
      ]
     },
     "execution_count": 39,
     "metadata": {},
     "output_type": "execute_result"
    }
   ],
   "source": [
    "# 부울인덱싱\n",
    "filter_data = sales_data[sales_data >= 3000]\n",
    "\n",
    "# filter\n",
    "filter_data1 = np.array(list(filter(lambda x: x >= 3000, sales_data)))\n",
    "\n",
    "filter_data, filter_data1\n"
   ]
  },
  {
   "cell_type": "markdown",
   "id": "1c5e46f3",
   "metadata": {},
   "source": [
    "# 문제 5: 특정 범위 내 매출의 평균값 계산하기\n",
    "- 설명: 매출이 2800에서 3500 사이인 날들의 평균 매출을 계산하세요.\n",
    "- 힌트: 조건 필터링 후 np.mean()을 사용하여 계산합니다."
   ]
  },
  {
   "cell_type": "code",
   "execution_count": 56,
   "id": "2213ae70",
   "metadata": {},
   "outputs": [
    {
     "data": {
      "text/plain": [
       "array([2200, 2350, 2500, 2750, 3000, 3100, 2700, 2600, 2900, 3200, 3400,\n",
       "       3600, 3300, 3100, 2900, 2700, 2800, 2900, 3100, 3200, 3300, 3400,\n",
       "       3500, 3700, 3600, 3500, 3400, 3300, 3000, 3100])"
      ]
     },
     "execution_count": 56,
     "metadata": {},
     "output_type": "execute_result"
    }
   ],
   "source": [
    "sales_data"
   ]
  },
  {
   "cell_type": "code",
   "execution_count": 68,
   "id": "a3bde71b",
   "metadata": {},
   "outputs": [],
   "source": [
    "avg_filter_data = np.array(list(filter(lambda x: x >= 2800 and x <= 3500 , sales_data)))\n",
    "\n",
    "avg_filter_data1 = sales_data[(sales_data>=2800)&(sales_data<=3500)]\n"
   ]
  },
  {
   "cell_type": "code",
   "execution_count": 69,
   "id": "cd22c17f",
   "metadata": {},
   "outputs": [
    {
     "data": {
      "text/plain": [
       "(array([3000, 3100, 2900, 3200, 3400, 3300, 3100, 2900, 2800, 2900, 3100,\n",
       "        3200, 3300, 3400, 3500, 3500, 3400, 3300, 3000, 3100]),\n",
       " array([3000, 3100, 2900, 3200, 3400, 3300, 3100, 2900, 2800, 2900, 3100,\n",
       "        3200, 3300, 3400, 3500, 3500, 3400, 3300, 3000, 3100]))"
      ]
     },
     "execution_count": 69,
     "metadata": {},
     "output_type": "execute_result"
    }
   ],
   "source": [
    "avg_filter_data ,avg_filter_data1"
   ]
  },
  {
   "cell_type": "code",
   "execution_count": 70,
   "id": "60ceb988",
   "metadata": {},
   "outputs": [
    {
     "name": "stdout",
     "output_type": "stream",
     "text": [
      "3170.0\n"
     ]
    }
   ],
   "source": [
    "avg_data = avg_filter_data.mean()\n",
    "print(avg_data)"
   ]
  },
  {
   "cell_type": "code",
   "execution_count": 82,
   "id": "d305dfe8",
   "metadata": {},
   "outputs": [
    {
     "data": {
      "text/plain": [
       "[<matplotlib.lines.Line2D at 0x27659676f60>]"
      ]
     },
     "execution_count": 82,
     "metadata": {},
     "output_type": "execute_result"
    },
    {
     "data": {
      "image/png": "[encoded data removed]",
      "text/plain": [
       "<Figure size 640x480 with 1 Axes>"
      ]
     },
     "metadata": {},
     "output_type": "display_data"
    }
   ],
   "source": [
    "# 주차별 평균 계산\n",
    "import matplotlib.pyplot as plt\n",
    "\n",
    "w_mean = weekly_data.mean(axis=1)\n",
    "plt.plot(w_mean)\n"
   ]
  },
  {
   "cell_type": "code",
   "execution_count": 90,
   "id": "99a9f79d",
   "metadata": {},
   "outputs": [
    {
     "name": "stdout",
     "output_type": "stream",
     "text": [
      "[2657.14285714 3157.14285714 2985.71428571 3485.71428571 3050.        ]\n"
     ]
    },
    {
     "data": {
      "text/plain": [
       "[<matplotlib.lines.Line2D at 0x276596c8260>]"
      ]
     },
     "execution_count": 90,
     "metadata": {},
     "output_type": "execute_result"
    },
    {
     "data": {
      "image/png": "[encoded data removed]",
      "text/plain": [
       "<Figure size 640x480 with 1 Axes>"
      ]
     },
     "metadata": {},
     "output_type": "display_data"
    }
   ],
   "source": [
    "weekly_data_1 = weekly_data.copy().astype(float)\n",
    "weekly_data_1[weekly_data_1==0] = np.nan\n",
    "\n",
    "weekly_mean = np.nanmean(weekly_data_1, axis = 1)\n",
    "print(weekly_mean)\n",
    "plt.plot(weekly_mean)"
   ]
  },
  {
   "cell_type": "code",
   "execution_count": null,
   "id": "c8ada1ea",
   "metadata": {},
   "outputs": [],
   "source": [
    "# 매출의 중앙값\n",
    "np.median()"
   ]
  },
  {
   "cell_type": "code",
   "execution_count": 81,
   "id": "b0fd3f68",
   "metadata": {},
   "outputs": [
    {
     "data": {
      "text/plain": [
       "array([ 150,  150,  250,  250,  100, -400, -100,  300,  300,  200,  200,\n",
       "       -300, -200, -200, -200,  100,  100,  200,  100,  100,  100,  100,\n",
       "        200, -100, -100, -100, -100, -300,  100])"
      ]
     },
     "execution_count": 81,
     "metadata": {},
     "output_type": "execute_result"
    }
   ],
   "source": [
    "# 매출이 증가한 날, 감소한 날 카운트\n",
    "np.diff(sales_data)"
   ]
  },
  {
   "cell_type": "code",
   "execution_count": 89,
   "id": "637796de",
   "metadata": {},
   "outputs": [
    {
     "data": {
      "text/plain": [
       "np.int64(23)"
      ]
     },
     "execution_count": 89,
     "metadata": {},
     "output_type": "execute_result"
    }
   ],
   "source": [
    "# 각 주차별로 가장 매출이 높았던 날 찾기\n",
    "np.argmax(weekly_data)"
   ]
  }
 ],
 "metadata": {
  "kernelspec": {
   "display_name": "hipython",
   "language": "python",
   "name": "python3"
  },
  "language_info": {
   "codemirror_mode": {
    "name": "ipython",
    "version": 3
   },
   "file_extension": ".py",
   "mimetype": "text/x-python",
   "name": "python",
   "nbconvert_exporter": "python",
   "pygments_lexer": "ipython3",
   "version": "3.12.9"
  }
 },
 "nbformat": 4,
 "nbformat_minor": 5
}
