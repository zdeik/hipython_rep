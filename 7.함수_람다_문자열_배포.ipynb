{
 "cells": [
  {
   "cell_type": "markdown",
   "metadata": {
    "colab_type": "text",
    "id": "view-in-github"
   },
   "source": [
    "<a href=\"https://colab.research.google.com/github/zzhining/python_basic/blob/master/exercise/%ED%95%A8%EC%88%98_%EB%9E%8C%EB%8B%A4_%EB%AC%B8%EC%9E%90%EC%97%B4.ipynb\" target=\"_parent\"><img src=\"https://colab.research.google.com/assets/colab-badge.svg\" alt=\"Open In Colab\"/></a>"
   ]
  },
  {
   "cell_type": "markdown",
   "metadata": {
    "id": "gbEnq1KDtnFO"
   },
   "source": [
    "1. 두 수를 입력 받아 그 곱을 반환하는 함수를 작성하세요."
   ]
  },
  {
   "cell_type": "code",
   "execution_count": 9,
   "metadata": {
    "id": "m9muCNmUtSZP"
   },
   "outputs": [],
   "source": [
    "#답을 작성하세요.\n",
    "def multiply_numbers(a, b):\n",
    "    result = lambda a,b: a*b\n",
    "    return a*b"
   ]
  },
  {
   "cell_type": "code",
   "execution_count": 10,
   "metadata": {
    "id": "9AYm4gg_vJ6o"
   },
   "outputs": [
    {
     "name": "stdout",
     "output_type": "stream",
     "text": [
      "15\n"
     ]
    }
   ],
   "source": [
    "#테스트\n",
    "print(multiply_numbers(3, 5))  #15"
   ]
  },
  {
   "cell_type": "markdown",
   "metadata": {
    "id": "FoHkPi26vPFE"
   },
   "source": [
    "2. 숫자 리스트를 입력 받아 평균을 반환하는 함수를 작성하세요."
   ]
  },
  {
   "cell_type": "code",
   "execution_count": 23,
   "metadata": {
    "id": "4J86UASJvMT2"
   },
   "outputs": [],
   "source": [
    "#답을 작성하세요. #람다로 정의\n",
    "def calc_average(numbers):  \n",
    "     return (lambda nums: int(sum(nums) / len(nums)) if nums else 0)(numbers)"
   ]
  },
  {
   "cell_type": "code",
   "execution_count": 24,
   "metadata": {
    "id": "767sASqYvSnv"
   },
   "outputs": [
    {
     "name": "stdout",
     "output_type": "stream",
     "text": [
      "30\n"
     ]
    }
   ],
   "source": [
    "#테스트\n",
    "print(calc_average([10, 20, 30, 40, 50])) #30"
   ]
  },
  {
   "cell_type": "markdown",
   "metadata": {
    "id": "L0FUMKO8voRt"
   },
   "source": [
    "3. 주어진 숫자가 짝수이면 True, 홀수이면 False를 반환하는 함수를 작성하세요."
   ]
  },
  {
   "cell_type": "code",
   "execution_count": 9,
   "metadata": {
    "id": "esi6bwKfvoBs"
   },
   "outputs": [],
   "source": [
    "#답을 작성하세요.\n",
    "def is_even(n):\n",
    "    if n%2==0:\n",
    "        return True\n",
    "    else:\n",
    "        return False\n"
   ]
  },
  {
   "cell_type": "code",
   "execution_count": null,
   "metadata": {},
   "outputs": [],
   "source": [
    "#람다버전"
   ]
  },
  {
   "cell_type": "code",
   "execution_count": 10,
   "metadata": {
    "id": "AblSJD5uwBbJ"
   },
   "outputs": [
    {
     "name": "stdout",
     "output_type": "stream",
     "text": [
      "True\n",
      "False\n"
     ]
    }
   ],
   "source": [
    "# 테스트\n",
    "print(is_even(14))  # True\n",
    "print(is_even(21))  # False"
   ]
  },
  {
   "cell_type": "markdown",
   "metadata": {
    "id": "ZqVepWtkz1Iz"
   },
   "source": [
    "4. 주어진 리스트의 모든 요소를 문자열로 변환하여 반환하는 함수와, 람다 함수를 작성하세요."
   ]
  },
  {
   "cell_type": "code",
   "execution_count": 32,
   "metadata": {},
   "outputs": [],
   "source": [
    "#함수 정의\n",
    "def to_string_list(lst):\n",
    "    result = [] #결과 누적\n",
    "    #lst의 요소를 하니씩 꺼내서 문자열로 변환\n",
    "    # result에 추가\n",
    "    for item in lst:\n",
    "        result.append(str(item))\n",
    "    return result"
   ]
  },
  {
   "cell_type": "code",
   "execution_count": 33,
   "metadata": {
    "id": "ZDTYekgTz9Ku"
   },
   "outputs": [
    {
     "name": "stdout",
     "output_type": "stream",
     "text": [
      "['1', '2', '3', '4', '5']\n"
     ]
    }
   ],
   "source": [
    "# 테스트\n",
    "print(to_string_list([1, 2, 3, 4, 5]))  # ['1', '2', '3', '4', '5']"
   ]
  },
  {
   "cell_type": "code",
   "execution_count": 34,
   "metadata": {
    "id": "g2L27h9jz6A_"
   },
   "outputs": [
    {
     "data": {
      "text/plain": [
       "<function __main__.<lambda>(lst)>"
      ]
     },
     "execution_count": 34,
     "metadata": {},
     "output_type": "execute_result"
    }
   ],
   "source": [
    "#답을 작성하세요.\n",
    "to_string_list1 = lambda lst: list(map(str, lst))\n",
    "to_string_list1"
   ]
  },
  {
   "cell_type": "code",
   "execution_count": 35,
   "metadata": {},
   "outputs": [
    {
     "name": "stdout",
     "output_type": "stream",
     "text": [
      "['1', '2', '3', '4', '5']\n"
     ]
    }
   ],
   "source": [
    "# 테스트\n",
    "print(to_string_list1([1, 2, 3, 4, 5]))  # ['1', '2', '3', '4', '5']"
   ]
  },
  {
   "cell_type": "markdown",
   "metadata": {
    "id": "MFXA7Tap04cg"
   },
   "source": [
    "5. 두 문자열을 입력받아 합친 문자열을 반환하는 함수와 람다 함수를 작성하세요."
   ]
  },
  {
   "cell_type": "code",
   "execution_count": 51,
   "metadata": {},
   "outputs": [
    {
     "data": {
      "text/plain": [
       "'Hello, World!'"
      ]
     },
     "execution_count": 51,
     "metadata": {},
     "output_type": "execute_result"
    }
   ],
   "source": [
    "def concat_strings(s1, s2):\n",
    "    result = s1 + s2\n",
    "    return result\n",
    "(lambda s1,s2: s1 + s2)(\"Hello, \", \"World!\")"
   ]
  },
  {
   "cell_type": "code",
   "execution_count": 52,
   "metadata": {
    "id": "ceS_yflW1Qqq"
   },
   "outputs": [
    {
     "data": {
      "text/plain": [
       "'가나다마바사'"
      ]
     },
     "execution_count": 52,
     "metadata": {},
     "output_type": "execute_result"
    }
   ],
   "source": [
    "#답을 작성하세요.\n",
    "concat_strings1= lambda s1,s2: s1 + s2\n",
    "concat_strings1('가나다','마바사')"
   ]
  },
  {
   "cell_type": "code",
   "execution_count": 48,
   "metadata": {
    "id": "kMITrCoF06mT"
   },
   "outputs": [
    {
     "name": "stdout",
     "output_type": "stream",
     "text": [
      "Hello, World!\n"
     ]
    }
   ],
   "source": [
    "# 테스트\n",
    "print(concat_strings(\"Hello, \", \"World!\"))  # \"Hello, World!\""
   ]
  },
  {
   "cell_type": "markdown",
   "metadata": {
    "id": "FnlTdfBk2EHU"
   },
   "source": [
    "6. 주어진 문자열에서 모든 모음(a,e,i,o,u)을 제거한 문자열을 반환하는 함수를 작성하세요."
   ]
  },
  {
   "cell_type": "code",
   "execution_count": 59,
   "metadata": {
    "id": "tjgXB28u19lk"
   },
   "outputs": [],
   "source": [
    "#답을 작성하세요.\n",
    "def remove_vowels(s):\n",
    "    result = ''\n",
    "    for ch in s:\n",
    "        if ch not in 'aeiou':\n",
    "            result += ch\n",
    "    return result"
   ]
  },
  {
   "cell_type": "code",
   "execution_count": 61,
   "metadata": {},
   "outputs": [],
   "source": [
    "def remove_vowels1(s):\n",
    "    return ''.join([ch for ch in s if ch not in 'aeiou'])"
   ]
  },
  {
   "cell_type": "code",
   "execution_count": 63,
   "metadata": {},
   "outputs": [],
   "source": [
    "remove_vowels2 = lambda s: ''.join([ch for ch in s if ch not in 'aeiou'])"
   ]
  },
  {
   "cell_type": "code",
   "execution_count": 64,
   "metadata": {
    "id": "f3Hl9mG62hN0"
   },
   "outputs": [
    {
     "name": "stdout",
     "output_type": "stream",
     "text": [
      "bcdfghjklmnpqrstvwxyz\n"
     ]
    }
   ],
   "source": [
    "# 테스트\n",
    "print(remove_vowels(\"abcdefghijklmnopqrstuvwxyz\"))  # \"bcdfghjklmnpqrstvwxyz\""
   ]
  },
  {
   "cell_type": "code",
   "execution_count": 65,
   "metadata": {},
   "outputs": [
    {
     "name": "stdout",
     "output_type": "stream",
     "text": [
      "bcdfghjklmnpqrstvwxyz\n"
     ]
    }
   ],
   "source": [
    "print(remove_vowels1(\"abcdefghijklmnopqrstuvwxyz\"))"
   ]
  },
  {
   "cell_type": "code",
   "execution_count": 66,
   "metadata": {},
   "outputs": [
    {
     "name": "stdout",
     "output_type": "stream",
     "text": [
      "bcdfghjklmnpqrstvwxyz\n"
     ]
    }
   ],
   "source": [
    "print(remove_vowels2(\"abcdefghijklmnopqrstuvwxyz\"))"
   ]
  },
  {
   "cell_type": "markdown",
   "metadata": {
    "id": "mznE_wth4t11"
   },
   "source": [
    "7. 문자열을 입력 받아, 해당 문자열에서 가장 긴 단어와 길이를 반환하는 함수를 작성하세요.\n"
   ]
  },
  {
   "cell_type": "code",
   "execution_count": 69,
   "metadata": {
    "id": "TJjrzqzu5EGp"
   },
   "outputs": [],
   "source": [
    "#답을 작성하세요.\n",
    "def find_longest_word(s):\n",
    "    words = s.split()\n",
    "    longest = words[0]\n",
    "    max_len =len(longest)\n",
    "\n",
    "    for w in words[1:]:\n",
    "        if len(w) > max_len:\n",
    "            longest =w\n",
    "            max_len = len(w)\n",
    "        \n",
    "\n",
    "    return longest, max_len"
   ]
  },
  {
   "cell_type": "code",
   "execution_count": 71,
   "metadata": {},
   "outputs": [],
   "source": [
    "def find_longest_word1(s):\n",
    "    words =s.split()\n",
    "    longest = max(words,key=len)\n",
    "    return longest, len(longest)"
   ]
  },
  {
   "cell_type": "code",
   "execution_count": 79,
   "metadata": {},
   "outputs": [],
   "source": [
    "find_longest_word2 = lambda s: max([(w, len(w)) for w in s.split()],key=lambda x:x[1])"
   ]
  },
  {
   "cell_type": "code",
   "execution_count": 70,
   "metadata": {
    "id": "4g7-JncB5HHB"
   },
   "outputs": [
    {
     "name": "stdout",
     "output_type": "stream",
     "text": [
      "('generation', 10)\n"
     ]
    }
   ],
   "source": [
    "# 테스트\n",
    "print(find_longest_word(\"Life is for one generation a good name is forever.\"))  # \"generation\", 10"
   ]
  },
  {
   "cell_type": "code",
   "execution_count": 74,
   "metadata": {},
   "outputs": [
    {
     "name": "stdout",
     "output_type": "stream",
     "text": [
      "('generation', 10)\n"
     ]
    }
   ],
   "source": [
    "print(find_longest_word1(\"Life is for one generation a good name is forever.\"))"
   ]
  },
  {
   "cell_type": "code",
   "execution_count": 80,
   "metadata": {},
   "outputs": [
    {
     "name": "stdout",
     "output_type": "stream",
     "text": [
      "('generation', 10)\n"
     ]
    }
   ],
   "source": [
    "print(find_longest_word2(\"Life is for one generation a good name is forever.\"))"
   ]
  },
  {
   "cell_type": "markdown",
   "metadata": {
    "id": "ZoGzLeG93sVd"
   },
   "source": [
    "8. 주어진 문자열에서 숫자와 문자를 분리하는 함수를 작성하세요."
   ]
  },
  {
   "cell_type": "code",
   "execution_count": 90,
   "metadata": {
    "id": "wmtg3HI93sDF"
   },
   "outputs": [],
   "source": [
    "#답을 작성하세요.\n",
    "def split_numbers_letters(s):\n",
    "    # 1. 숫자를 담을 리스트, 문자를 담을 리스트를 만든다.\n",
    "    numbers = []\n",
    "    letters = []\n",
    "    for ch in s:\n",
    "        if ch.isdigit():\n",
    "            numbers.append(int(ch))\n",
    "        elif ch.isalpha():\n",
    "            letters.append(ch)\n",
    "        \n",
    "    return numbers, letters"
   ]
  },
  {
   "cell_type": "code",
   "execution_count": 94,
   "metadata": {},
   "outputs": [],
   "source": [
    "def split_numbers_letters1(s):\n",
    "    numbers = [int(ch) for ch in s if ch.isdigit()]\n",
    "    letters = [ch for ch in s if ch.isalpha()]\n",
    "    return numbers, letters"
   ]
  },
  {
   "cell_type": "code",
   "execution_count": 100,
   "metadata": {},
   "outputs": [],
   "source": [
    "def split_numbers_letters2(s):\n",
    "    numbers = list(map(int, filter(lambda ch: ch.isdigit(), s)))\n",
    "    letters = list(filter(lambda ch:ch.isalpha(), s))\n",
    "    return numbers, letters"
   ]
  },
  {
   "cell_type": "code",
   "execution_count": 91,
   "metadata": {
    "id": "oqB4LNRd30Jg"
   },
   "outputs": [
    {
     "name": "stdout",
     "output_type": "stream",
     "text": [
      "([1, 2, 3, 4], ['a', 'b', 'c', 'd'])\n"
     ]
    }
   ],
   "source": [
    "# 테스트\n",
    "print(split_numbers_letters(\"a1b2c3d4\")) # [\"a\", \"b\", \"c\", \"d\"], [1, 2, 3, 4]"
   ]
  },
  {
   "cell_type": "code",
   "execution_count": 95,
   "metadata": {},
   "outputs": [
    {
     "name": "stdout",
     "output_type": "stream",
     "text": [
      "([1, 2, 3, 4], ['a', 'b', 'c', 'd'])\n"
     ]
    }
   ],
   "source": [
    "print(split_numbers_letters1(\"a1b2c3d4\"))"
   ]
  },
  {
   "cell_type": "code",
   "execution_count": 101,
   "metadata": {},
   "outputs": [
    {
     "name": "stdout",
     "output_type": "stream",
     "text": [
      "([1, 2, 3, 4], ['a', 'b', 'c', 'd'])\n"
     ]
    }
   ],
   "source": [
    "print(split_numbers_letters2(\"a1b2c3d4\"))"
   ]
  },
  {
   "cell_type": "markdown",
   "metadata": {
    "id": "y7OEHrgG3GeB"
   },
   "source": [
    "9. 주어진 문자열(알파벳)을 입력 받아, 각 알파벳의 종류와 개수를 dict형으로 반환하는 함수를 만드세요."
   ]
  },
  {
   "cell_type": "code",
   "execution_count": 102,
   "metadata": {
    "id": "-gqBttTm3OpN"
   },
   "outputs": [],
   "source": [
    "#답을 작성하세요.\n",
    "def count_alphabets(s):\n",
    "    count_dict = {}\n",
    "\n",
    "    for ch in s :\n",
    "        if ch in count_dict:\n",
    "            count_dict[ch] += 1\n",
    "        else:\n",
    "            count_dict[ch] = 1\n",
    "    return count_dict"
   ]
  },
  {
   "cell_type": "code",
   "execution_count": 104,
   "metadata": {},
   "outputs": [],
   "source": [
    "def count_alphabets1(s):\n",
    "    # 딕셔너리 컴프리헨션\n",
    "    return{ch: s.count(ch) for ch in s}\n"
   ]
  },
  {
   "cell_type": "code",
   "execution_count": 103,
   "metadata": {
    "id": "zUcFL0fR3Vln"
   },
   "outputs": [
    {
     "name": "stdout",
     "output_type": "stream",
     "text": [
      "{'h': 1, 'e': 1, 'l': 2, 'o': 1}\n"
     ]
    }
   ],
   "source": [
    "# 테스트\n",
    "print(count_alphabets(\"hello\"))  # {\"h\": 1, \"e\": 1, \"l\": 2, \"o\": \"1\"}"
   ]
  },
  {
   "cell_type": "code",
   "execution_count": 105,
   "metadata": {},
   "outputs": [
    {
     "name": "stdout",
     "output_type": "stream",
     "text": [
      "{'h': 1, 'e': 1, 'l': 2, 'o': 1}\n"
     ]
    }
   ],
   "source": [
    "print(count_alphabets1(\"hello\"))"
   ]
  }
 ],
 "metadata": {
  "colab": {
   "include_colab_link": true,
   "provenance": []
  },
  "kernelspec": {
   "display_name": "Python 3 (ipykernel)",
   "language": "python",
   "name": "python3"
  },
  "language_info": {
   "codemirror_mode": {
    "name": "ipython",
    "version": 3
   },
   "file_extension": ".py",
   "mimetype": "text/x-python",
   "name": "python",
   "nbconvert_exporter": "python",
   "pygments_lexer": "ipython3",
   "version": "3.12.9"
  }
 },
 "nbformat": 4,
 "nbformat_minor": 4
}
