{
 "cells": [
  {
   "cell_type": "markdown",
   "id": "d3c73665-4345-41e6-a210-27dba37799e1",
   "metadata": {},
   "source": [
    "# 간식박스 관리프로그램 (함수기반)"
   ]
  },
  {
   "cell_type": "code",
   "execution_count": null,
   "id": "1478a330-dfb6-4a1c-a08f-9493e291083f",
   "metadata": {},
   "outputs": [],
   "source": [
    "# 함수 도출  - 기능의 세분화, 함수를 정의\n",
    "# 함수 구현\n",
    "# 문제점 - 오류처리, 예외처리 "
   ]
  },
  {
   "cell_type": "code",
   "execution_count": null,
   "id": "d62c9ab8-36d9-4fb1-8ff3-2d92f639cbc6",
   "metadata": {},
   "outputs": [],
   "source": [
    "#관리프로그램 crud처리\n",
    "#1. 간식박스 생성 create\n",
    "#2. 간식세트 포장 *2 update\n",
    "#3. 간식박스 미리보기(3개만) read\n",
    "#4. 간식삭제 delete\n",
    "#5. 간식찾기 search\n",
    "#6. 간식박스 요약 summarize\n",
    "#7. 간식박스 전체보기 read"
   ]
  },
  {
   "cell_type": "code",
   "execution_count": null,
   "id": "47e7c238-3b38-43ad-8bcc-2d88ffe43b23",
   "metadata": {},
   "outputs": [],
   "source": [
    "#1. 간식박스 생성 create\n",
    "\n",
    "def make_snack_box():\n",
    "    snack_box = ['초코파이']\n",
    "    new_snack = input(\"먹고싶은 간식을 추가하세요. 단, 쉼표(,)로 연결하세요\").split(',')\n",
    "    snack_box += new_snack\n",
    "    return snack_box"
   ]
  },
  {
   "cell_type": "code",
   "execution_count": null,
   "id": "7af4df04-20e8-482b-b7b7-e7791f89f283",
   "metadata": {},
   "outputs": [],
   "source": [
    "#02. 간식세트 포장 update\n",
    "\n",
    "def multiply_snack_box(snack_box):\n",
    "    qty = int(input(\"간식박스 몇 세트로 포장할까요? (예: 2 -> 2box)\"))\n",
    "    snack_box *= qty\n",
    "    return snack_box\n",
    "    "
   ]
  },
  {
   "cell_type": "code",
   "execution_count": null,
   "id": "64a57be4-dddf-43d3-95e4-4942e9190ac5",
   "metadata": {},
   "outputs": [],
   "source": [
    "#3. 간식박스 미리보기(3개만) read - signature\n",
    "def preview_snack_box(snack_box):\n",
    "    preview = ','.join(snack_box[:3])\n",
    "    print(f'선택하신 간식은 {preview} 등입니다.') "
   ]
  },
  {
   "cell_type": "code",
   "execution_count": null,
   "id": "ba44888d-f27f-4c94-8ffa-d8e2a2a375f3",
   "metadata": {},
   "outputs": [],
   "source": [
    "#4. 간식삭제 delete\n",
    "def remove_snack_box(snack_box):\n",
    "    #예외처리\n",
    "    if not snack_box:\n",
    "        print('간식박스가 비어 있어요')\n",
    "        return\n",
    "\n",
    "    display_snack_box(snack_box)\n",
    "\n",
    "    msg = f'혹시 빼고싶은 간식이 있으면 번호를 입력하세요 (1~{len(snack_box)})'\n",
    "    snack_no = int(input(msg))\n",
    "\n",
    "    #snack_no validation\n",
    "\n",
    "    del snack_box[snack_no]\n",
    "    return snack_box"
   ]
  },
  {
   "cell_type": "code",
   "execution_count": null,
   "id": "4690ba81-b376-46ea-95a7-bd2aef5c6737",
   "metadata": {},
   "outputs": [],
   "source": [
    "#5. 간식찾기 search\n",
    "def search_snack(snack_box):\n",
    "    snack_name = input('찾고 싶은 간식을 입력하세요')\n",
    "    print('있어요' if snack_name in snack_box else '없어요')"
   ]
  },
  {
   "cell_type": "code",
   "execution_count": null,
   "id": "819b06cb-c87d-407c-bca3-3214f6d2a845",
   "metadata": {},
   "outputs": [],
   "source": [
    "#6. 간식박스 요약\n",
    "def summarize_snacks(snack_box):\n",
    "    summary = {}\n",
    "    for snack in snack_box:\n",
    "        summary[snack] = summary.get(snack,0)+1\n",
    "\n",
    "    print('간식박스 정리')\n",
    "    for snack, qty in summary.items():\n",
    "        print(f'- {snack} : {qty}개')"
   ]
  },
  {
   "cell_type": "code",
   "execution_count": null,
   "id": "54b00e09-6082-47eb-a3e1-0bdc7640141d",
   "metadata": {},
   "outputs": [],
   "source": [
    "#07. 간식박스 전체 보기 read\n",
    "def display_snack_box(snack_box):\n",
    "    print(f'{snack_box[::-1]}, {len(snack_box)}개입니다.') "
   ]
  },
  {
   "cell_type": "code",
   "execution_count": null,
   "id": "47825eff-dd7a-48c7-a7d8-45079a54da5b",
   "metadata": {},
   "outputs": [],
   "source": [
    "box = make_snack_box()\n",
    "print('간식박스가 만들어졌어요')\n",
    "display_snack_box(box)\n",
    "box = multiply_snack_box(box)\n",
    "display_snack_box(box)\n",
    "# 간식박스 요약\n",
    "summarize_snacks(box)\n",
    "\n",
    "# 검색 후 삭제 기능\n",
    "search_snack(box)\n",
    "remove_snack_box(box)\n",
    "display_snack_box(box)\n",
    "\n"
   ]
  },
  {
   "cell_type": "markdown",
   "id": "f5f6164e-4b90-46ec-9314-b2aa960267ba",
   "metadata": {},
   "source": [
    "# 메뉴 형식으로 구조를 개편"
   ]
  },
  {
   "cell_type": "code",
   "execution_count": null,
   "id": "77964595-92e4-40f0-9f1d-043754616d57",
   "metadata": {},
   "outputs": [
    {
     "name": "stdout",
     "output_type": "stream",
     "text": [
      "간식박스 관리 프로그램 메뉴\n",
      "1. 간식박스 생성\n",
      "2. 세트 생성\n",
      "3. 세트 미리보기\n",
      "4. 간식 삭제\n",
      "5. 간식 검색\n",
      "6. 간식박스 요약\n",
      "7. 간식박스 전체보기\n"
     ]
    }
   ],
   "source": [
    "# 서비스의 호출 - 선택과 반복\n",
    "\n",
    "# 숫자검증\n",
    "def get_valid_number_input(msg,min_no=1,max_no=5):\n",
    "    try:\n",
    "        number = int(input (msg))\n",
    "        if number < min_no:\n",
    "            print(f'{min_no}이상 숫자를 입력하세요')\n",
    "            return None\n",
    "        elif number > max_no:\n",
    "            print(f'{max_no}이하 숫자를 입력하세요')\n",
    "            return None\n",
    "        else:\n",
    "            return number\n",
    "    except ValueError:\n",
    "        print('숫자를 입력하세요')\n",
    "        return None\n",
    "\n",
    "\n",
    "def get_valid_text_input(msg):\n",
    "    user_input = input(msg).strip()\n",
    "    if not user_input:\n",
    "        print('입력값을 확인하세요')\n",
    "        return None\n",
    "    return user_input\n",
    "def menu():\n",
    "        print('간식박스 관리 프로그램 메뉴')\n",
    "        print('1. 간식박스 생성')\n",
    "        print('2. 세트 생성')\n",
    "        print('3. 세트 미리보기')\n",
    "        print('4. 간식 삭제')\n",
    "        print('5. 간식 검색')\n",
    "        print('6. 간식박스 요약')\n",
    "        print('7. 간식박스 전체보기')\n",
    "    \n",
    "def run_menu_program():\n",
    "    snack_box = []\n",
    "    while True:\n",
    "        menu_msg = '원하시는 메뉴 번호를 입력하세요'\n",
    "\n",
    "        choice = str(get_valid_number_input(menu_msg,1,7))\n",
    "\n",
    "        if choice =='1':\n",
    "            snack_box = make_snack_box()\n",
    "        elif choice =='2':\n",
    "            snack_box = multiply_snack_box(snack_box)\n",
    "        elif choice =='3': \n",
    "            preview_snack_box(snack_box)\n",
    "        elif choice =='4':\n",
    "            remove_snack_box(snack_box)\n",
    "        elif choice =='5':\n",
    "            search_snack(snack_box)\n",
    "        elif choice =='6':\n",
    "            summarize_snacks(snack_box)\n",
    "        elif choice =='7':\n",
    "            display_snack_box(snack_box)\n",
    "#1. 간식박스 생성 create\n",
    "def make_snack_box():\n",
    "    snack_box = ['초코파이']\n",
    "    make_msg = '먹고싶은 간식을 추가하세요. 단, 쉼표(,)로 연결하세요'\n",
    "    new_snack = get_valid_text_input(make_msg).split(',')\n",
    "    snack_box += [item.strip() for item in new_snack]\n",
    "    return snack_box\n",
    "\n",
    "    #02. 간식세트 포장 update\n",
    "def multiply_snack_box(snack_box):\n",
    "    mul_msg = \"간식박스 몇 세트로 포장할까요? (예: 2 -> 2box)\"\n",
    "    qty = get_valid_number_input(mul_msg,2,5)\n",
    "    snack_box *= qty\n",
    "    return snack_box\n",
    "\n",
    "#3. 간식박스 미리보기(3개만) read - signature\n",
    "def preview_snack_box(snack_box):\n",
    "    preview = ','.join(snack_box[:3])\n",
    "    print(f'선택하신 간식은 {preview} 등입니다.') \n",
    "\n",
    "#4. 간식삭제 delete\n",
    "def remove_snack_box(snack_box):\n",
    "    #예외처리\n",
    "    if not snack_box:\n",
    "        print('간식박스가 비어 있어요')\n",
    "        return\n",
    "\n",
    "    display_snack_box(snack_box)\n",
    "    remove_msg = f'혹시 빼고싶은 간식이 있으면 번호를 입력하세요 (1~{len(snack_box)})'\n",
    "    snack_count = len(snack_box)\n",
    "\n",
    "    snack_no = get_valid_number_input(remove_msg,1 ,snack_count) - 1\n",
    "    \n",
    "\n",
    "    #snack_no validation\n",
    "\n",
    "    del snack_box[snack_no]\n",
    "    return snack_box\n",
    "\n",
    "#5. 간식찾기 search\n",
    "def search_snack(snack_box):\n",
    "    snack_name = input('찾고 싶은 간식을 입력하세요')\n",
    "    print('있어요' if snack_name in snack_box else '없어요')\n",
    "\n",
    "#6. 간식박스 요약\n",
    "def summarize_snacks(snack_box):\n",
    "    summary = {}\n",
    "    for snack in snack_box:\n",
    "        summary[snack] = summary.get(snack,0)+1\n",
    "\n",
    "    print('간식박스 정리')\n",
    "    for snack, qty in summary.items():\n",
    "        print(f'- {snack} : {qty}개')\n",
    "\n",
    "#07. 간식박스 전체 보기 read\n",
    "def display_snack_box(snack_box):\n",
    "    print(f'{snack_box}, {len(snack_box)}개입니다.') \n",
    "\n",
    "\n",
    "#main\n",
    "menu()\n",
    "run_menu_program()\n",
    "\n"
   ]
  },
  {
   "cell_type": "code",
   "execution_count": null,
   "id": "7acbc313-480f-46c2-abca-c093a8f11fbb",
   "metadata": {},
   "outputs": [],
   "source": []
  }
 ],
 "metadata": {
  "kernelspec": {
   "display_name": "Python 3 (ipykernel)",
   "language": "python",
   "name": "python3"
  },
  "language_info": {
   "codemirror_mode": {
    "name": "ipython",
    "version": 3
   },
   "file_extension": ".py",
   "mimetype": "text/x-python",
   "name": "python",
   "nbconvert_exporter": "python",
   "pygments_lexer": "ipython3",
   "version": "3.12.9"
  }
 },
 "nbformat": 4,
 "nbformat_minor": 5
}
