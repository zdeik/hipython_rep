{
 "cells": [
  {
   "cell_type": "markdown",
   "id": "d8e72d51-4801-4efa-b6e4-adccb938bbf4",
   "metadata": {
    "jp-MarkdownHeadingCollapsed": true
   },
   "source": [
    "# 들어가기: 주석"
   ]
  },
  {
   "cell_type": "code",
   "execution_count": 2,
   "id": "8863a49d-69d5-49c0-9695-0c36b185d8fa",
   "metadata": {},
   "outputs": [
    {
     "name": "stdout",
     "output_type": "stream",
     "text": [
      "Hello, Jupyter!\n"
     ]
    }
   ],
   "source": [
    "print(\"Hello, Jupyter!\")"
   ]
  },
  {
   "cell_type": "code",
   "execution_count": 2,
   "id": "49c22460-5463-4d14-a3e4-5b9cc1a7988c",
   "metadata": {},
   "outputs": [
    {
     "data": {
      "text/plain": [
       "<bound method Kernel.raw_input of <ipykernel.ipkernel.IPythonKernel object at 0x0000023142287BF0>>"
      ]
     },
     "execution_count": 2,
     "metadata": {},
     "output_type": "execute_result"
    }
   ],
   "source": [
    "age =input\n",
    "age"
   ]
  },
  {
   "cell_type": "code",
   "execution_count": 3,
   "id": "84c790ea-8329-49cf-8b38-8a0f34683587",
   "metadata": {},
   "outputs": [
    {
     "name": "stdin",
     "output_type": "stream",
     "text": [
      "나이를 입력하세요:  26\n"
     ]
    },
    {
     "name": "stdout",
     "output_type": "stream",
     "text": [
      "당신의 나이는 26 세입니다.\n"
     ]
    }
   ],
   "source": [
    "#이 코드는 사용자의 나이를 입력받아 출력하는 코드이다.\n",
    "age = input(\"나이를 입력하세요: \")\n",
    "print(\"당신의 나이는\", age, \"세입니다.\")"
   ]
  },
  {
   "cell_type": "code",
   "execution_count": 4,
   "id": "644da0a0-f49b-4040-b011-665f5acdc0b6",
   "metadata": {},
   "outputs": [
    {
     "name": "stdin",
     "output_type": "stream",
     "text": [
      "나이를 입력하세요:  26\n"
     ]
    },
    {
     "name": "stdout",
     "output_type": "stream",
     "text": [
      "이름: Alice, 나이: 26\n"
     ]
    }
   ],
   "source": [
    "# 변수 선언\n",
    "name = \"Alice\"\n",
    "# 나이 입력받기\n",
    "age = int(input(\"나이를 입력하세요: \"))\n",
    "# 결과 출력\n",
    "print(f\"이름: {name}, 나이: {age}\")"
   ]
  },
  {
   "cell_type": "code",
   "execution_count": 14,
   "id": "22afcab8-3a27-4746-8be2-2031bb5e2a55",
   "metadata": {},
   "outputs": [
    {
     "name": "stdout",
     "output_type": "stream",
     "text": [
      "7\n"
     ]
    }
   ],
   "source": [
    "def calculate_sum(a,b):\n",
    "    result = a+b\n",
    "    return result\n",
    "print(calculate_sum(3,4))"
   ]
  },
  {
   "cell_type": "code",
   "execution_count": null,
   "id": "50464994-33b0-48b1-897d-8127892a2448",
   "metadata": {},
   "outputs": [],
   "source": [
    "# 상수\n",
    "MAX_CNT = 3\n",
    "\n",
    "# 변수\n",
    "val_i = 1\n",
    "_val, __val\n",
    "\n",
    "# Function\n",
    "def f_a():\n",
    "    return\n",
    "\n",
    "# Class\n",
    "Car, SportCar, Student"
   ]
  },
  {
   "cell_type": "markdown",
   "id": "35842edd-1cb6-4b4e-84e4-bf5328d8e436",
   "metadata": {
    "jp-MarkdownHeadingCollapsed": true
   },
   "source": [
    "# 표준 입력과 표준 출력"
   ]
  },
  {
   "cell_type": "code",
   "execution_count": 17,
   "id": "c6a227f7-1c90-4f13-8753-02f07091584c",
   "metadata": {},
   "outputs": [
    {
     "data": {
      "text/plain": [
       "10"
      ]
     },
     "execution_count": 17,
     "metadata": {},
     "output_type": "execute_result"
    }
   ],
   "source": [
    "12345\n",
    "10\n",
    "#ipython 라이브러리 기본기능\n",
    "# print(12345) 표준출력 기능을 내장하고 있다."
   ]
  },
  {
   "cell_type": "code",
   "execution_count": 20,
   "id": "ec46227b-fb9e-4b20-b5fc-9dd46523308b",
   "metadata": {},
   "outputs": [
    {
     "name": "stdout",
     "output_type": "stream",
     "text": [
      "12345\n"
     ]
    },
    {
     "data": {
      "text/plain": [
       "10"
      ]
     },
     "execution_count": 20,
     "metadata": {},
     "output_type": "execute_result"
    }
   ],
   "source": [
    "print(12345)\n",
    "10"
   ]
  },
  {
   "cell_type": "code",
   "execution_count": 21,
   "id": "bcd57b58-caf1-4bb3-b752-99f8f92d0764",
   "metadata": {},
   "outputs": [
    {
     "data": {
      "text/plain": [
       "'12345'"
      ]
     },
     "execution_count": 21,
     "metadata": {},
     "output_type": "execute_result"
    }
   ],
   "source": [
    "\"12345\""
   ]
  },
  {
   "cell_type": "code",
   "execution_count": 22,
   "id": "1f0375e0-1019-41e1-92e6-e79da5af6b08",
   "metadata": {},
   "outputs": [
    {
     "data": {
      "text/plain": [
       "str"
      ]
     },
     "execution_count": 22,
     "metadata": {},
     "output_type": "execute_result"
    }
   ],
   "source": [
    "type('12345')"
   ]
  },
  {
   "cell_type": "code",
   "execution_count": 23,
   "id": "37e80e24-b374-4059-8b1c-94576fc6b1c9",
   "metadata": {},
   "outputs": [
    {
     "data": {
      "text/plain": [
       "int"
      ]
     },
     "execution_count": 23,
     "metadata": {},
     "output_type": "execute_result"
    }
   ],
   "source": [
    "type(12345)"
   ]
  },
  {
   "cell_type": "code",
   "execution_count": 24,
   "id": "cf87f4b6-3939-4fdc-954f-ef6e5b72a897",
   "metadata": {},
   "outputs": [
    {
     "data": {
      "text/plain": [
       "12355"
      ]
     },
     "execution_count": 24,
     "metadata": {},
     "output_type": "execute_result"
    }
   ],
   "source": [
    "12345+10"
   ]
  },
  {
   "cell_type": "code",
   "execution_count": 83,
   "id": "c2375066-759c-4a4d-bc03-767cec9d4a4a",
   "metadata": {},
   "outputs": [],
   "source": [
    "# '12345'+10    # typeerror"
   ]
  },
  {
   "cell_type": "code",
   "execution_count": 27,
   "id": "642753bb-e08e-4b93-96e4-48908a9a4d88",
   "metadata": {},
   "outputs": [
    {
     "data": {
      "text/plain": [
       "str"
      ]
     },
     "execution_count": 27,
     "metadata": {},
     "output_type": "execute_result"
    }
   ],
   "source": [
    "type(\"12345\")"
   ]
  },
  {
   "cell_type": "code",
   "execution_count": 30,
   "id": "bdfa337a-eda5-4ba6-9215-e192dee890bc",
   "metadata": {},
   "outputs": [
    {
     "data": {
      "text/plain": [
       "'123451234512345'"
      ]
     },
     "execution_count": 30,
     "metadata": {},
     "output_type": "execute_result"
    }
   ],
   "source": [
    "\"12345\"*3"
   ]
  },
  {
   "cell_type": "code",
   "execution_count": 32,
   "id": "b9173187-3c75-42fc-98a1-2190df37092c",
   "metadata": {},
   "outputs": [
    {
     "name": "stdin",
     "output_type": "stream",
     "text": [
      "당신의 이름을 입력하세요:  이정석\n"
     ]
    },
    {
     "name": "stdout",
     "output_type": "stream",
     "text": [
      "입력한 이름: 이정석\n"
     ]
    }
   ],
   "source": [
    "name = input(\"당신의 이름을 입력하세요: \")\n",
    "print(\"입력한 이름:\",name)"
   ]
  },
  {
   "cell_type": "code",
   "execution_count": 33,
   "id": "38fb74a3-9cb6-4cc5-8535-efa468e92c0a",
   "metadata": {},
   "outputs": [
    {
     "name": "stdin",
     "output_type": "stream",
     "text": [
      "당신의 나이을 입력하세요:  26\n"
     ]
    },
    {
     "name": "stdout",
     "output_type": "stream",
     "text": [
      "입력한 나이: 26\n"
     ]
    }
   ],
   "source": [
    "age = input (\"당신의 나이을 입력하세요: \")\n",
    "print(\"입력한 나이:\",age)"
   ]
  },
  {
   "cell_type": "code",
   "execution_count": 35,
   "id": "09f0811b-6a84-4445-a820-adf80b0ddb4e",
   "metadata": {},
   "outputs": [
    {
     "data": {
      "text/plain": [
       "('이정석', '26')"
      ]
     },
     "execution_count": 35,
     "metadata": {},
     "output_type": "execute_result"
    }
   ],
   "source": [
    "# 입력받은 name과 age 출력\n",
    "name, age"
   ]
  },
  {
   "cell_type": "code",
   "execution_count": 39,
   "id": "00cec3b3-8592-46dc-97dd-be9da7634938",
   "metadata": {},
   "outputs": [
    {
     "name": "stdout",
     "output_type": "stream",
     "text": [
      "나는 이정석이고 나이는 26살 입니다.\n"
     ]
    }
   ],
   "source": [
    "print(\"나는 \"+name+\"이고 나이는 \"+age+ \"살 입니다.\")"
   ]
  },
  {
   "cell_type": "code",
   "execution_count": 43,
   "id": "7a10c513-b51f-4b75-9295-bca16e1fec59",
   "metadata": {},
   "outputs": [
    {
     "data": {
      "text/plain": [
       "36"
      ]
     },
     "execution_count": 43,
     "metadata": {},
     "output_type": "execute_result"
    }
   ],
   "source": [
    "age = int(age)\n",
    "age+10"
   ]
  },
  {
   "cell_type": "markdown",
   "id": "7481b390-d26b-429c-a2b4-319f0efa085f",
   "metadata": {
    "jp-MarkdownHeadingCollapsed": true
   },
   "source": [
    "# 변수"
   ]
  },
  {
   "cell_type": "markdown",
   "id": "1e0f767d-6f0c-44ee-940c-46fd0a433c88",
   "metadata": {},
   "source": [
    "변수는 type safe : 변수를 선언할 때 타입(유형)을 지정하지 않아도 되는 특성\n",
    "변수명 =값"
   ]
  },
  {
   "cell_type": "code",
   "execution_count": null,
   "id": "d3908ffc-fb07-4a50-8ed6-356da3e05596",
   "metadata": {},
   "outputs": [],
   "source": [
    "## 변수의 명령 규칙\n",
    "1. 문자, 숫자, 밑줄(_언더바)을 가지고 만든다.\n",
    "2. 숫자로 시작하면 X\n",
    "3. 대소문자를 구분한다.\n",
    "4. 예약어, 특수기호 공백 사용 X"
   ]
  },
  {
   "cell_type": "code",
   "execution_count": 81,
   "id": "c794fa11-8649-4535-9ba8-e0c8ba953b27",
   "metadata": {},
   "outputs": [],
   "source": [
    "# False = 10    # SyntaxError\n",
    "false =10"
   ]
  },
  {
   "cell_type": "code",
   "execution_count": 65,
   "id": "324f0525-33ed-46d2-b8d0-683609636894",
   "metadata": {},
   "outputs": [
    {
     "data": {
      "text/plain": [
       "(10, 'hello', 3.141592)"
      ]
     },
     "execution_count": 65,
     "metadata": {},
     "output_type": "execute_result"
    }
   ],
   "source": [
    "x =10\n",
    "y ='hello'\n",
    "z = 3.141592\n",
    "x,y,z"
   ]
  },
  {
   "cell_type": "code",
   "execution_count": 69,
   "id": "a67e5170-c76c-4266-9c25-0d0d61b988cc",
   "metadata": {},
   "outputs": [
    {
     "data": {
      "text/plain": [
       "float"
      ]
     },
     "execution_count": 69,
     "metadata": {},
     "output_type": "execute_result"
    }
   ],
   "source": [
    "type(x)\n",
    "type(y)\n",
    "type(z)"
   ]
  },
  {
   "cell_type": "code",
   "execution_count": 72,
   "id": "70c76b05-8847-4859-9971-19220e4d4e6a",
   "metadata": {},
   "outputs": [
    {
     "name": "stdout",
     "output_type": "stream",
     "text": [
      "<class 'int'> <class 'str'> <class 'float'>\n"
     ]
    }
   ],
   "source": [
    "print(type(x),type(y),type(z))"
   ]
  },
  {
   "cell_type": "code",
   "execution_count": 74,
   "id": "67e451fb-48f1-4936-b9f8-90d84b4aff71",
   "metadata": {},
   "outputs": [
    {
     "data": {
      "text/plain": [
       "(10, 20, 30)"
      ]
     },
     "execution_count": 74,
     "metadata": {},
     "output_type": "execute_result"
    }
   ],
   "source": [
    "a,b,c =10,20,30\n",
    "a,b,c"
   ]
  },
  {
   "cell_type": "code",
   "execution_count": 79,
   "id": "ccc45164-fe35-4836-86d2-9ae3ed9f31e6",
   "metadata": {},
   "outputs": [
    {
     "data": {
      "text/plain": [
       "(10, 20, 30)"
      ]
     },
     "execution_count": 79,
     "metadata": {},
     "output_type": "execute_result"
    }
   ],
   "source": [
    "a=10;b=20;c=30;\n",
    "a,b,c"
   ]
  },
  {
   "cell_type": "code",
   "execution_count": 80,
   "id": "ac54e957-3ffd-40ab-a327-2c10745f06f0",
   "metadata": {},
   "outputs": [
    {
     "data": {
      "text/plain": [
       "(40, 40, 40)"
      ]
     },
     "execution_count": 80,
     "metadata": {},
     "output_type": "execute_result"
    }
   ],
   "source": [
    "a=b=c=40\n",
    "a,b,c"
   ]
  },
  {
   "cell_type": "code",
   "execution_count": 85,
   "id": "ea25956b-b956-4043-8c0d-2289602b230a",
   "metadata": {},
   "outputs": [
    {
     "data": {
      "text/plain": [
       "(True, None)"
      ]
     },
     "execution_count": 85,
     "metadata": {},
     "output_type": "execute_result"
    }
   ],
   "source": [
    "d = True # bool형\n",
    "e = None #type이 없음 NoneType\n",
    "d,e"
   ]
  },
  {
   "cell_type": "code",
   "execution_count": 90,
   "id": "b0027f3d-c45c-43a4-9611-f7231967c0c9",
   "metadata": {},
   "outputs": [
    {
     "name": "stdout",
     "output_type": "stream",
     "text": [
      "10 10\n"
     ]
    },
    {
     "data": {
      "text/plain": [
       "(140727617661656, 140727617661656)"
      ]
     },
     "execution_count": 90,
     "metadata": {},
     "output_type": "execute_result"
    }
   ],
   "source": [
    "a = 10\n",
    "b =a\n",
    "print(a,b)\n",
    "id(a),id(b)"
   ]
  },
  {
   "cell_type": "code",
   "execution_count": 88,
   "id": "8ced4961-4489-4fb8-8174-561b5357d702",
   "metadata": {},
   "outputs": [
    {
     "name": "stdout",
     "output_type": "stream",
     "text": [
      "20 10\n"
     ]
    }
   ],
   "source": [
    "a=20\n",
    "print(a,b)"
   ]
  },
  {
   "cell_type": "code",
   "execution_count": 89,
   "id": "f6c4d482-b94e-430f-8ce1-6a45fcb5b7eb",
   "metadata": {},
   "outputs": [
    {
     "data": {
      "text/plain": [
       "(140727617661976, 140727617661656)"
      ]
     },
     "execution_count": 89,
     "metadata": {},
     "output_type": "execute_result"
    }
   ],
   "source": [
    "id(a),id(b)"
   ]
  },
  {
   "cell_type": "code",
   "execution_count": 3,
   "id": "ced4b661-d1dc-47a8-b751-88fd634ad18a",
   "metadata": {},
   "outputs": [
    {
     "name": "stdout",
     "output_type": "stream",
     "text": [
      "10 10\n"
     ]
    },
    {
     "data": {
      "text/plain": [
       "(140727617661656, 140727617661656)"
      ]
     },
     "execution_count": 3,
     "metadata": {},
     "output_type": "execute_result"
    }
   ],
   "source": [
    "a = 10\n",
    "b =10\n",
    "print(a,b)\n",
    "id(a),id(b)   # 정수 캐싱(-5부터 256까지의 정수는 미리 만들어서 재사용)"
   ]
  },
  {
   "cell_type": "code",
   "execution_count": null,
   "id": "4b6e72f9-79dd-4f37-8759-3cde222083ff",
   "metadata": {},
   "outputs": [],
   "source": [
    "# 의미 부여 하기 어려운 변수명\n",
    "x =100\n",
    "y =100\n",
    "\n",
    "# 의미 있는 변수명\n",
    "age =20\n",
    "name = '이정석'\n",
    "user_name = 'Alic'\n",
    "admin_name = 'Bob'\n",
    "\n",
    "# 대문자 Upper-case 상수에 사용\n",
    "PI =3.141592\n",
    "MIN_VALUE = 0    #최소값\n",
    "MAX_VALUE = 100    # 최대값"
   ]
  },
  {
   "cell_type": "code",
   "execution_count": null,
   "id": "43723482-709c-4d46-85e7-0a061580eed8",
   "metadata": {},
   "outputs": [],
   "source": [
    "# NAME_SPACE\n",
    "\n",
    "변수가 최초로 ㅡ정의된 영역에 따라 유효범위가 결정됩니다.\n",
    "\n",
    "-지역변수\n",
    "-전역변수\n",
    "-정적변수"
   ]
  },
  {
   "cell_type": "code",
   "execution_count": 7,
   "id": "1a0da337-f559-45a2-bc34-9d1d33edfd8d",
   "metadata": {},
   "outputs": [
    {
     "name": "stdout",
     "output_type": "stream",
     "text": [
      "여기는 함수의 영역입니다. 100\n"
     ]
    }
   ],
   "source": [
    "# 지역변수\n",
    "\n",
    "def local_example():\n",
    "    local_var = 100\n",
    "    print(\"여기는 함수의 영역입니다.\", local_var)\n",
    "\n",
    "# local_var    # NameError: name 'local_var' is not defined\n",
    "\n",
    "local_example()"
   ]
  },
  {
   "cell_type": "code",
   "execution_count": 14,
   "id": "ab861885-15e2-41e5-a914-901174a05756",
   "metadata": {},
   "outputs": [
    {
     "name": "stdout",
     "output_type": "stream",
     "text": [
      "나는 전역변수야\n",
      "나는 전역변수야 100\n"
     ]
    }
   ],
   "source": [
    "# 전역변수\n",
    "\n",
    "global_var = '나는 전역변수야'\n",
    "print(global_var)\n",
    "\n",
    "def global_example():\n",
    "    local_var =100\n",
    "    print(global_var,local_var)\n",
    "global_example()"
   ]
  },
  {
   "cell_type": "code",
   "execution_count": 13,
   "id": "e4080a82-4ed1-4269-ab34-1a4eaea2fa4a",
   "metadata": {},
   "outputs": [
    {
     "name": "stdout",
     "output_type": "stream",
     "text": [
      "나는 전역변수야\n",
      "나는 전역변수야\n",
      "100\n"
     ]
    }
   ],
   "source": [
    "var_test = '나는 전역변수야'\n",
    "print(var_test)\n",
    "\n",
    "def var_example():\n",
    "    global var_test\n",
    "    var_test =100\n",
    "    print(var_test)\n",
    "print(var_test)\n",
    "var_example()"
   ]
  },
  {
   "cell_type": "code",
   "execution_count": 22,
   "id": "1da179b1-f5a9-4bc6-8111-5b49a48c8864",
   "metadata": {},
   "outputs": [
    {
     "name": "stdout",
     "output_type": "stream",
     "text": [
      "카운터:  1\n",
      "카운터:  2\n",
      "카운터:  3\n"
     ]
    }
   ],
   "source": [
    "# 변수 영역 연습\n",
    "\n",
    "counter =0  # global\n",
    "\n",
    "def incounter_counter():\n",
    "    global counter\n",
    "    counter = counter+1\n",
    "    # counter += 1\n",
    "    print(\"카운터: \", counter)\n",
    "    # print(f\"카운터: {counter}\")\n",
    "    \n",
    "incounter_counter()\n",
    "incounter_counter()\n",
    "incounter_counter()\n"
   ]
  },
  {
   "cell_type": "code",
   "execution_count": 32,
   "id": "5d35a86b-0390-46fa-b455-a433b401a680",
   "metadata": {},
   "outputs": [
    {
     "data": {
      "text/plain": [
       "[1, 2, 3]"
      ]
     },
     "execution_count": 32,
     "metadata": {},
     "output_type": "execute_result"
    }
   ],
   "source": [
    "# 교재 변수 연습 \n",
    "from copy import copy\n",
    "a = [1, 2, 3]\n",
    "b = copy(a)\n",
    "# b = a[:]    # b =a\n",
    "b"
   ]
  },
  {
   "cell_type": "code",
   "execution_count": 33,
   "id": "53bec1e5-2446-451f-953f-c6641724fe6e",
   "metadata": {},
   "outputs": [
    {
     "data": {
      "text/plain": [
       "False"
      ]
     },
     "execution_count": 33,
     "metadata": {},
     "output_type": "execute_result"
    }
   ],
   "source": [
    "b is a"
   ]
  },
  {
   "cell_type": "code",
   "execution_count": 45,
   "id": "6e257c67-11e4-45df-bc20-f62d99768e57",
   "metadata": {},
   "outputs": [
    {
     "data": {
      "text/plain": [
       "(2300925650496, 2300926227072)"
      ]
     },
     "execution_count": 45,
     "metadata": {},
     "output_type": "execute_result"
    }
   ],
   "source": [
    "id(a),id(b)"
   ]
  },
  {
   "cell_type": "markdown",
   "id": "05ff2d10-4707-4c80-af8e-1011d39e2d4e",
   "metadata": {
    "jp-MarkdownHeadingCollapsed": true
   },
   "source": [
    "# 연습"
   ]
  },
  {
   "cell_type": "code",
   "execution_count": 47,
   "id": "316ef43d-dac4-4fb8-a213-0f8e2613e3a4",
   "metadata": {},
   "outputs": [
    {
     "name": "stdout",
     "output_type": "stream",
     "text": [
      "이: 이 순간에도\n",
      "정: 정상을 향해 걷는 너는\n",
      "석: 석양보다 눈부셔\n"
     ]
    }
   ],
   "source": [
    "# 자기 이름으로 삼행시 짓기\n",
    "print(\"이: 이 순간에도\")\n",
    "print(\"정: 정상을 향해 걷는 너는\")\n",
    "print(\"석: 석양보다 눈부셔\")"
   ]
  },
  {
   "cell_type": "code",
   "execution_count": 57,
   "id": "0f73dbf6-4913-45c9-b49a-73dec4279a7a",
   "metadata": {},
   "outputs": [
    {
     "name": "stdin",
     "output_type": "stream",
     "text": [
      "이:  이 순간에도\n",
      "정:  정상을 향해 걷는 너는\n",
      "석:  석양보다 눈부셔\n"
     ]
    }
   ],
   "source": [
    "a = input(\"이: \")\n",
    "b = input(\"정: \")\n",
    "c = input(\"석: \")\n"
   ]
  },
  {
   "cell_type": "code",
   "execution_count": 54,
   "id": "b6e1b11e-6b45-40bd-956a-fe621582b728",
   "metadata": {},
   "outputs": [
    {
     "name": "stdout",
     "output_type": "stream",
     "text": [
      "이 순간에도\n",
      "정상을 향해 걷는 너는\n",
      "석양보다 눈부셔\n"
     ]
    }
   ],
   "source": [
    "print(a,b,c, sep ='\\n')    # 줄바꿈 기호 \\n"
   ]
  },
  {
   "cell_type": "code",
   "execution_count": null,
   "id": "062a04e9-03fa-4ac4-bd94-f2a33555d251",
   "metadata": {},
   "outputs": [],
   "source": [
    "# 문자들의 시작이 \\ 역슬래시 -> 이스케이프 문자, 특수 문자 \\n \\t \\"
   ]
  },
  {
   "cell_type": "code",
   "execution_count": 59,
   "id": "a52a7abc-c34b-4dbd-b778-70e44ffe2409",
   "metadata": {},
   "outputs": [
    {
     "name": "stdout",
     "output_type": "stream",
     "text": [
      "이 순간에도\n",
      "정상을 향해 걷는 너는\n",
      "석양보다 눈부셔\n"
     ]
    }
   ],
   "source": [
    "삼행시 = a+'\\n'+b+'\\n'+c\n",
    "print(삼행시)"
   ]
  },
  {
   "cell_type": "markdown",
   "id": "857016aa-6fee-4347-a991-9a7d42904c7d",
   "metadata": {
    "jp-MarkdownHeadingCollapsed": true
   },
   "source": [
    "# 초보자를 위한 파이썬 300제 연습문제 (11~20)"
   ]
  },
  {
   "cell_type": "code",
   "execution_count": 50,
   "id": "fb4dc2bd-19bc-47ac-930e-e69aad5b511e",
   "metadata": {},
   "outputs": [
    {
     "name": "stdout",
     "output_type": "stream",
     "text": [
      "총평가금액:  500000\n"
     ]
    }
   ],
   "source": [
    "# 11.삼성전자라는 변수로 50,000원을 바인딩해보세요. 삼성전자 주식 10주를 보유하고 있을 때 총 평가금액을 출력하세요.\n",
    "\n",
    "삼성전자 = 50000\n",
    "총평가금액 = 삼성전자 *10\n",
    "print(\"총평가금액: \",총평가금액)"
   ]
  },
  {
   "cell_type": "code",
   "execution_count": 53,
   "id": "613f5ceb-c7d5-41a8-b6e6-56e23af8d769",
   "metadata": {},
   "outputs": [
    {
     "name": "stdout",
     "output_type": "stream",
     "text": [
      "298000000000000 <class 'int'>\n",
      "50000 <class 'int'>\n",
      "15.79 <class 'float'>\n"
     ]
    }
   ],
   "source": [
    "# 12.다음 표는 삼성전자의 일부 투자정보입니다. 변수를 사용해서 시가총액, 현재가, PER 등을 바인딩해보세요.\n",
    "\n",
    "시가총액 = 298000000000000\n",
    "현재가 = 50000\n",
    "PER = 15.79\n",
    "\n",
    "print(시가총액, type(시가총액))\n",
    "print(현재가, type(현재가))\n",
    "print(PER, type(PER))"
   ]
  },
  {
   "cell_type": "code",
   "execution_count": 54,
   "id": "8d27db7f-c211-49b2-a7d5-a6d03566fca8",
   "metadata": {},
   "outputs": [
    {
     "name": "stdout",
     "output_type": "stream",
     "text": [
      "hello! python\n"
     ]
    }
   ],
   "source": [
    "# 13.문자열 출력\n",
    "s = \"hello\"\n",
    "t = \"python\"\n",
    "\n",
    "print(s+\"!\",t)\n"
   ]
  },
  {
   "cell_type": "code",
   "execution_count": 57,
   "id": "54b482be-5c8d-44b6-87cf-c1b8228e549c",
   "metadata": {},
   "outputs": [
    {
     "name": "stdout",
     "output_type": "stream",
     "text": [
      "<class 'int'>\n",
      "<class 'int'>\n"
     ]
    }
   ],
   "source": [
    "# 15.type 함수\n",
    "\n",
    "a =128\n",
    "print (type(a))\n",
    "\n",
    "a=132\n",
    "print (type(a))\n",
    "\n"
   ]
  },
  {
   "cell_type": "code",
   "execution_count": 61,
   "id": "50416d66-1395-4c03-a4b8-50f35d30212a",
   "metadata": {},
   "outputs": [
    {
     "name": "stdout",
     "output_type": "stream",
     "text": [
      "720 <class 'int'>\n"
     ]
    }
   ],
   "source": [
    "# 16.문자열 '720'를 정수형으로 변환해보세요.\n",
    "\n",
    "num_str = \"720\"\n",
    "num_int =int(num_str)\n",
    "print(num_int, type(num_int))"
   ]
  },
  {
   "cell_type": "code",
   "execution_count": 62,
   "id": "ff68cad3-a826-41cc-aac8-c5957549b6b4",
   "metadata": {},
   "outputs": [
    {
     "name": "stdout",
     "output_type": "stream",
     "text": [
      "100 <class 'str'>\n"
     ]
    }
   ],
   "source": [
    "# 17. 정수 100을 문자열 '100'으로 변환해보세요.\n",
    "\n",
    "num =100\n",
    "num_str = str(num)\n",
    "print(num_str, type(num_str))"
   ]
  },
  {
   "cell_type": "code",
   "execution_count": 64,
   "id": "cf53a22e-b8ef-443b-a045-1ec887954f3a",
   "metadata": {},
   "outputs": [
    {
     "name": "stdout",
     "output_type": "stream",
     "text": [
      "15.79 <class 'float'>\n"
     ]
    }
   ],
   "source": [
    "# 18.문자열 \"15.79\"를 실수(float) 타입으로 변환해보세요.\n",
    "\n",
    "a =15.79\n",
    "a = float(a)\n",
    "print(a, type(a))"
   ]
  },
  {
   "cell_type": "code",
   "execution_count": 67,
   "id": "94587d20-996c-4491-b903-0d6ffa34fafe",
   "metadata": {},
   "outputs": [
    {
     "name": "stdout",
     "output_type": "stream",
     "text": [
      "2019 2018 2017\n"
     ]
    }
   ],
   "source": [
    "# 19. 문자열을 정수로 변환\n",
    "\n",
    "year =\"2020\"\n",
    "year = int(year)\n",
    "print(year-1,year-2,year-3)"
   ]
  },
  {
   "cell_type": "code",
   "execution_count": 73,
   "id": "ce77381c-aa4e-4556-9006-eb3d6fd73fc9",
   "metadata": {},
   "outputs": [
    {
     "name": "stdout",
     "output_type": "stream",
     "text": [
      "총 금액:  1749024\n"
     ]
    }
   ],
   "source": [
    "# 20. 에이컨이 월 48,584원에 무이자 36개월의 조건으로 홈쇼핑에서 판매되고 있습니다.\n",
    "# 총 금액은 계산한 후 이를 화면에 출력해보세요. (변수사용하기)\n",
    "월금액 = 48584\n",
    "개월수 = 36\n",
    "result = 월금액*개월수\n",
    "print(\"총 금액: \", result)\n"
   ]
  },
  {
   "cell_type": "markdown",
   "id": "29d598a0-0bd9-4bd7-824b-04521b514852",
   "metadata": {
    "jp-MarkdownHeadingCollapsed": true
   },
   "source": [
    "# 자료형"
   ]
  },
  {
   "cell_type": "code",
   "execution_count": null,
   "id": "19136c93-c7d9-46e2-8c1e-b9426390b71c",
   "metadata": {},
   "outputs": [],
   "source": [
    "-기본 자료형: 숫자형, 문자열형 str, 부울형\n",
    "-복합 자료형: 리스트 셋, 튜플, 딕셔너리"
   ]
  },
  {
   "cell_type": "markdown",
   "id": "ad32cccf-66c8-44a7-a5fa-46914435e26e",
   "metadata": {},
   "source": [
    "기본 자료형        | 설명                               | 예시                        |\n",
    "|---------------|------------------------------------|-----------------------------|\n",
    "| 정수형 (`int`) | 정수를 저장하는 자료형              | `1`, `-5`, `100`            |\n",
    "| 실수형 (`float`) | 소수점이 있는 숫자를 저장하는 자료형 | `3.14`, `-0.001`, `2.0`     |\n",
    "| 문자열 (`str`) | 텍스트를 저장하는 자료형             | `\"Hello\"`, `'파이썬'`       |\n",
    "| 논리형 (`bool`) | 참/거짓 값을 저장하는 자료형         | `True`, `False`             |\n"
   ]
  },
  {
   "cell_type": "markdown",
   "id": "c1b991fe-4a6b-4bb3-97b7-02c91d8eb855",
   "metadata": {},
   "source": [
    "| 복합 자료형         | 설명                                      | 예시                                      |\n",
    "|----------------|-------------------------------------------|-------------------------------------------|\n",
    "| 리스트 (`list`) | 여러 항목을 순서대로 저장하는 자료형         | `[1, 2, 3]`, `['a', 'b']`                  |\n",
    "| 튜플 (`tuple`)  | 변경 불가능한 순서가 있는 자료형             | `(1, 2)`, `('x', 'y')`                     |\n",
    "| 딕셔너리 (`dict`)| 키와 값의 쌍으로 데이터를 저장하는 자료형   | `{'name': '홍길동', 'age': 20}`            |\n",
    "| 집합 (`set`)    | 중복되지 않는 항목들의 모음                  | `{1, 2, 3}, {'apple', 'banana'}`            | \n"
   ]
  },
  {
   "cell_type": "code",
   "execution_count": 116,
   "id": "ff9c2b37-1caf-4e0e-9055-c4e6ec48e19d",
   "metadata": {},
   "outputs": [
    {
     "data": {
      "text/plain": [
       "(10, int)"
      ]
     },
     "execution_count": 116,
     "metadata": {},
     "output_type": "execute_result"
    }
   ],
   "source": [
    "# 정수형 int\n",
    "10,type(10)"
   ]
  },
  {
   "cell_type": "code",
   "execution_count": 75,
   "id": "8545c8a9-9c49-44ca-af42-9f93a42cbed1",
   "metadata": {},
   "outputs": [
    {
     "data": {
      "text/plain": [
       "int"
      ]
     },
     "execution_count": 75,
     "metadata": {},
     "output_type": "execute_result"
    }
   ],
   "source": [
    "age = 10\n",
    "type(age)"
   ]
  },
  {
   "cell_type": "code",
   "execution_count": null,
   "id": "3c608125-ef87-4e41-bd74-477f3481882f",
   "metadata": {},
   "outputs": [],
   "source": [
    "1. 진법: 10진수, 2진수, 8진수, 16진수\n",
    "2. 입력하는 방법은 다르지만, print()결과는 동일하다."
   ]
  },
  {
   "cell_type": "code",
   "execution_count": 79,
   "id": "2ee4d5da-bab0-4e27-b8ac-5e10b13a0117",
   "metadata": {},
   "outputs": [
    {
     "data": {
      "text/plain": [
       "(10, 10)"
      ]
     },
     "execution_count": 79,
     "metadata": {},
     "output_type": "execute_result"
    }
   ],
   "source": [
    "a = 10       # 2진수: bin()    # 8진수: oct()    # 16진수: hex()\n",
    "b = 0b1010\n",
    "a,b"
   ]
  },
  {
   "cell_type": "code",
   "execution_count": 81,
   "id": "0717e3a5-b9c9-4851-bdd1-68877a2f84ee",
   "metadata": {},
   "outputs": [
    {
     "data": {
      "text/plain": [
       "(3.14, float)"
      ]
     },
     "execution_count": 81,
     "metadata": {},
     "output_type": "execute_result"
    }
   ],
   "source": [
    "# 실수형 float\n",
    "a = 3.14\n",
    "a,type(a)"
   ]
  },
  {
   "cell_type": "code",
   "execution_count": null,
   "id": "c096b991-743f-482e-b18e-6657793a35cb",
   "metadata": {},
   "outputs": [],
   "source": [
    "지수의 표기\n",
    "\n",
    "숫자e2 ->10^2의 곱 = 10**3\n",
    "숫자e-2 -> 10^-2의 곱 = 10**-1"
   ]
  },
  {
   "cell_type": "code",
   "execution_count": 89,
   "id": "bc902c2f-a78f-406a-8630-cf0b6a6b900c",
   "metadata": {},
   "outputs": [
    {
     "data": {
      "text/plain": [
       "(1000.0, 1000)"
      ]
     },
     "execution_count": 89,
     "metadata": {},
     "output_type": "execute_result"
    }
   ],
   "source": [
    "fa = 10e2\n",
    "fa,10**3"
   ]
  },
  {
   "cell_type": "code",
   "execution_count": 88,
   "id": "d2970ce2-0915-483b-8f05-a6aa3a14909a",
   "metadata": {},
   "outputs": [
    {
     "data": {
      "text/plain": [
       "(0.1, 0.1)"
      ]
     },
     "execution_count": 88,
     "metadata": {},
     "output_type": "execute_result"
    }
   ],
   "source": [
    "fb = 10e-2\n",
    "fb, 10**-1"
   ]
  },
  {
   "cell_type": "code",
   "execution_count": null,
   "id": "d1410f73-384c-4a89-b485-7b569ea729e2",
   "metadata": {},
   "outputs": [],
   "source": [
    "# 논리형 bool\n",
    "BOOLEM값 = True False"
   ]
  },
  {
   "cell_type": "code",
   "execution_count": 99,
   "id": "57b693c0-7892-47c7-bd04-e4c0bfab0c4c",
   "metadata": {},
   "outputs": [
    {
     "data": {
      "text/plain": [
       "bool"
      ]
     },
     "execution_count": 99,
     "metadata": {},
     "output_type": "execute_result"
    }
   ],
   "source": [
    "ba = True\n",
    "type(ba)"
   ]
  },
  {
   "cell_type": "code",
   "execution_count": 100,
   "id": "03779669-56c1-43e5-be21-7dc8e08b77d7",
   "metadata": {},
   "outputs": [
    {
     "data": {
      "text/plain": [
       "True"
      ]
     },
     "execution_count": 100,
     "metadata": {},
     "output_type": "execute_result"
    }
   ],
   "source": [
    "ba == True"
   ]
  },
  {
   "cell_type": "code",
   "execution_count": 102,
   "id": "ae0b3489-381d-4f47-8a14-c265fe057193",
   "metadata": {},
   "outputs": [],
   "source": [
    "# 사칙연산 + - * / // % **\n",
    "a = 2\n",
    "b = 3"
   ]
  },
  {
   "cell_type": "code",
   "execution_count": 103,
   "id": "4fb79ad3-1cd6-446a-8022-c9d40ae2feba",
   "metadata": {},
   "outputs": [
    {
     "data": {
      "text/plain": [
       "(0.6666666666666666, 0, 2, 8)"
      ]
     },
     "execution_count": 103,
     "metadata": {},
     "output_type": "execute_result"
    }
   ],
   "source": [
    "a+b\n",
    "a-b\n",
    "a*b\n",
    "a/b, a//b, a%b, a**b"
   ]
  },
  {
   "cell_type": "code",
   "execution_count": 104,
   "id": "f2bbfea3-f791-4778-ad4c-266160cdff40",
   "metadata": {},
   "outputs": [
    {
     "data": {
      "text/plain": [
       "False"
      ]
     },
     "execution_count": 104,
     "metadata": {},
     "output_type": "execute_result"
    }
   ],
   "source": [
    "# 비교연산자\n",
    "1+2 ==4"
   ]
  },
  {
   "cell_type": "code",
   "execution_count": 105,
   "id": "a9386480-b7ec-4350-89fc-a8601a804fce",
   "metadata": {},
   "outputs": [
    {
     "data": {
      "text/plain": [
       "True"
      ]
     },
     "execution_count": 105,
     "metadata": {},
     "output_type": "execute_result"
    }
   ],
   "source": [
    "1+2 <4"
   ]
  },
  {
   "cell_type": "code",
   "execution_count": 106,
   "id": "672e346d-0189-4b5b-a8f7-fc035928222c",
   "metadata": {},
   "outputs": [
    {
     "data": {
      "text/plain": [
       "True"
      ]
     },
     "execution_count": 106,
     "metadata": {},
     "output_type": "execute_result"
    }
   ],
   "source": [
    "1+2 !=2"
   ]
  },
  {
   "cell_type": "code",
   "execution_count": 107,
   "id": "248289d7-d8a6-43f7-b781-df3c7460e68f",
   "metadata": {},
   "outputs": [
    {
     "data": {
      "text/plain": [
       "True"
      ]
     },
     "execution_count": 107,
     "metadata": {},
     "output_type": "execute_result"
    }
   ],
   "source": [
    "1+2 <=3"
   ]
  },
  {
   "cell_type": "code",
   "execution_count": 109,
   "id": "ff8a8417-5a85-4bb7-9335-fc91e59c3712",
   "metadata": {},
   "outputs": [
    {
     "data": {
      "text/plain": [
       "True"
      ]
     },
     "execution_count": 109,
     "metadata": {},
     "output_type": "execute_result"
    }
   ],
   "source": [
    "# 비교연산자와 논리연산자의 결합\n",
    "10%2 ==0 and 12%3 == 0"
   ]
  },
  {
   "cell_type": "code",
   "execution_count": 111,
   "id": "c5cd3e49-392f-43db-8eeb-59ae8abce804",
   "metadata": {},
   "outputs": [
    {
     "data": {
      "text/plain": [
       "('1234', '5678', 2300887734608, 2300929599424)"
      ]
     },
     "execution_count": 111,
     "metadata": {},
     "output_type": "execute_result"
    }
   ],
   "source": [
    "a ='1234'\n",
    "b = '5678'\n",
    "a,b,id(a),id(b)"
   ]
  },
  {
   "cell_type": "code",
   "execution_count": 112,
   "id": "baeb1723-b9e9-442a-8d72-c76d329254d0",
   "metadata": {},
   "outputs": [
    {
     "data": {
      "text/plain": [
       "False"
      ]
     },
     "execution_count": 112,
     "metadata": {},
     "output_type": "execute_result"
    }
   ],
   "source": [
    "id(a)==id(b)"
   ]
  },
  {
   "cell_type": "code",
   "execution_count": 113,
   "id": "3eb1f448-3b32-40cf-834f-1336d0b7c296",
   "metadata": {},
   "outputs": [
    {
     "data": {
      "text/plain": [
       "(10, 11)"
      ]
     },
     "execution_count": 113,
     "metadata": {},
     "output_type": "execute_result"
    }
   ],
   "source": [
    "# 대입 연산자\n",
    "a = 10\n",
    "b = a+1\n",
    "a,b"
   ]
  },
  {
   "cell_type": "code",
   "execution_count": 142,
   "id": "ae63a6c3-7554-472f-a3d8-9d5347a24b58",
   "metadata": {},
   "outputs": [
    {
     "data": {
      "text/plain": [
       "21"
      ]
     },
     "execution_count": 142,
     "metadata": {},
     "output_type": "execute_result"
    }
   ],
   "source": [
    "a = 20\n",
    "a += 1    # a = a + 1\n",
    "a"
   ]
  },
  {
   "cell_type": "code",
   "execution_count": 143,
   "id": "176a8f7a-843b-421a-8515-b31f99863b93",
   "metadata": {},
   "outputs": [
    {
     "data": {
      "text/plain": [
       "20"
      ]
     },
     "execution_count": 143,
     "metadata": {},
     "output_type": "execute_result"
    }
   ],
   "source": [
    "a -= 1    # a = a - 1\n",
    "a"
   ]
  },
  {
   "cell_type": "code",
   "execution_count": 145,
   "id": "dcb38a2f-3bf6-4f9b-99db-a8f5edef2308",
   "metadata": {},
   "outputs": [
    {
     "data": {
      "text/plain": [
       "7"
      ]
     },
     "execution_count": 145,
     "metadata": {},
     "output_type": "execute_result"
    }
   ],
   "source": [
    "a =3\n",
    "b =2\n",
    "a += 2 + b\n",
    "a"
   ]
  },
  {
   "cell_type": "markdown",
   "id": "45b7ed19-f340-47f9-8e8c-31c45877a4a0",
   "metadata": {
    "jp-MarkdownHeadingCollapsed": true
   },
   "source": [
    "# 문자열\n",
    "''  \"\"  `` "
   ]
  },
  {
   "cell_type": "code",
   "execution_count": 146,
   "id": "0221cb07-7040-460e-b27c-ebf6af24a7f7",
   "metadata": {},
   "outputs": [
    {
     "data": {
      "text/plain": [
       "'zxcasd'"
      ]
     },
     "execution_count": 146,
     "metadata": {},
     "output_type": "execute_result"
    }
   ],
   "source": [
    "a = 'zxc'\n",
    "b = 'asd'\n",
    "a+b"
   ]
  },
  {
   "cell_type": "code",
   "execution_count": 148,
   "id": "8c060cb7-ab7c-4adf-925b-6da634eb5942",
   "metadata": {},
   "outputs": [
    {
     "data": {
      "text/plain": [
       "'zxczxczxc'"
      ]
     },
     "execution_count": 148,
     "metadata": {},
     "output_type": "execute_result"
    }
   ],
   "source": [
    "a * 3"
   ]
  },
  {
   "cell_type": "code",
   "execution_count": 149,
   "id": "b38fdce8-3da6-48f3-b406-51a2bbc9ca8e",
   "metadata": {},
   "outputs": [
    {
     "data": {
      "text/plain": [
       "\"Kim's family.\""
      ]
     },
     "execution_count": 149,
     "metadata": {},
     "output_type": "execute_result"
    }
   ],
   "source": [
    "c = \"Kim's family.\"\n",
    "c"
   ]
  },
  {
   "cell_type": "code",
   "execution_count": 150,
   "id": "fb87006d-db8f-4d1c-963d-090ec53b98ce",
   "metadata": {},
   "outputs": [
    {
     "data": {
      "text/plain": [
       "True"
      ]
     },
     "execution_count": 150,
     "metadata": {},
     "output_type": "execute_result"
    }
   ],
   "source": [
    "a = 'i'\n",
    "b = 'i'\n",
    "a ==b"
   ]
  },
  {
   "cell_type": "code",
   "execution_count": 151,
   "id": "59274aaa-69f6-4e43-b209-9b332e0fab3e",
   "metadata": {},
   "outputs": [
    {
     "data": {
      "text/plain": [
       "'2'"
      ]
     },
     "execution_count": 151,
     "metadata": {},
     "output_type": "execute_result"
    }
   ],
   "source": [
    "# 문자열은 리스트, 열거형\n",
    "a = '2001asdcxz' # 10개의 글자의 목록\n",
    "a[0] # 숫자 자리수 -> 인덱스"
   ]
  },
  {
   "cell_type": "code",
   "execution_count": 156,
   "id": "1dec0b53-249b-457c-916c-796e3818924c",
   "metadata": {},
   "outputs": [
    {
     "data": {
      "text/plain": [
       "'1'"
      ]
     },
     "execution_count": 156,
     "metadata": {},
     "output_type": "execute_result"
    }
   ],
   "source": [
    "a[3] #인덱싱"
   ]
  },
  {
   "cell_type": "code",
   "execution_count": 157,
   "id": "645cf907-e637-486d-91a2-eb947337269d",
   "metadata": {},
   "outputs": [
    {
     "data": {
      "text/plain": [
       "'200'"
      ]
     },
     "execution_count": 157,
     "metadata": {},
     "output_type": "execute_result"
    }
   ],
   "source": [
    "a[:3] # 영역을 지정할 때 :(콜론),  슬라이싱"
   ]
  },
  {
   "cell_type": "code",
   "execution_count": 159,
   "id": "971b34e7-ce18-41d4-a145-62114094925e",
   "metadata": {},
   "outputs": [
    {
     "data": {
      "text/plain": [
       "'cx'"
      ]
     },
     "execution_count": 159,
     "metadata": {},
     "output_type": "execute_result"
    }
   ],
   "source": [
    "a = '2001asdcxz'\n",
    "a[7:9]"
   ]
  },
  {
   "cell_type": "code",
   "execution_count": 161,
   "id": "7a18c19c-a5fa-4207-bb0c-7bd9e5217271",
   "metadata": {},
   "outputs": [
    {
     "data": {
      "text/plain": [
       "'zxcdsa1002'"
      ]
     },
     "execution_count": 161,
     "metadata": {},
     "output_type": "execute_result"
    }
   ],
   "source": [
    "a[::-1] # 역순으로 전체 뒤집기"
   ]
  },
  {
   "cell_type": "code",
   "execution_count": 162,
   "id": "ffc3d36b-34fe-406c-a959-d1b2505aff11",
   "metadata": {},
   "outputs": [
    {
     "data": {
      "text/plain": [
       "'20adx'"
      ]
     },
     "execution_count": 162,
     "metadata": {},
     "output_type": "execute_result"
    }
   ],
   "source": [
    "a[::2] # 전체 중에서 2칸씩 건너뛰기"
   ]
  },
  {
   "cell_type": "code",
   "execution_count": 163,
   "id": "33b5dccf-07f0-4bf5-8473-78d36e3b8f39",
   "metadata": {},
   "outputs": [
    {
     "data": {
      "text/plain": [
       "'01scz'"
      ]
     },
     "execution_count": 163,
     "metadata": {},
     "output_type": "execute_result"
    }
   ],
   "source": [
    "a[1::2] # \t1번 인덱스부터 2칸씩"
   ]
  },
  {
   "cell_type": "code",
   "execution_count": 167,
   "id": "679d68a3-6b80-4d1b-91e5-ab40f120c735",
   "metadata": {},
   "outputs": [
    {
     "data": {
      "text/plain": [
       "True"
      ]
     },
     "execution_count": 167,
     "metadata": {},
     "output_type": "execute_result"
    }
   ],
   "source": [
    "s ='abc'\n",
    "a =s\n",
    "a is s"
   ]
  },
  {
   "cell_type": "code",
   "execution_count": 168,
   "id": "6d670ae0-6ff2-4457-84cd-c9bd2535147f",
   "metadata": {},
   "outputs": [
    {
     "data": {
      "text/plain": [
       "True"
      ]
     },
     "execution_count": 168,
     "metadata": {},
     "output_type": "execute_result"
    }
   ],
   "source": [
    "s ='abc'\n",
    "b =s[:]\n",
    "a is b"
   ]
  },
  {
   "cell_type": "code",
   "execution_count": 171,
   "id": "60f83026-886a-4169-8bb6-29597d1a69c6",
   "metadata": {},
   "outputs": [
    {
     "data": {
      "text/plain": [
       "'1111111111111111111111111111111111111111111111111111111111111111111111111111111111111111111111111111111111111111111111111111111111111111111111111111111111111111111111111111111111111111111111111111111111111111111111111111111111111111111111111111111111111111111111111111111111111111111111111111111111111111111111111111111111111111111111111111111111111111111111111111111111111111111111111111111111111111111111111111111111111111111111111111111111111111111111111111111111111111111111111111111111111111111111111111111111111111111111111111111111111111111111111111111111111111111111111111111111111111111111111111111111111111111111111111111111111111111111111111111111111111111111111111111111111111111111111111111111111111111111111111111111111111111111111111111111111111111111111111111111111111111111111111111111111111111111111111111111111111111111111111111111111111111111111111111111111111111111111111111111111111111111111111111111111111111111111111111111111111111111111111111111111111111111111111111111111111'"
      ]
     },
     "execution_count": 171,
     "metadata": {},
     "output_type": "execute_result"
    }
   ],
   "source": [
    "s1 = '1'*1000\n",
    "s1"
   ]
  },
  {
   "cell_type": "code",
   "execution_count": 172,
   "id": "c106af75-4084-4298-809b-89957e436eed",
   "metadata": {},
   "outputs": [
    {
     "data": {
      "text/plain": [
       "True"
      ]
     },
     "execution_count": 172,
     "metadata": {},
     "output_type": "execute_result"
    }
   ],
   "source": [
    "b = s1[:]\n",
    "s1 is b"
   ]
  },
  {
   "cell_type": "markdown",
   "id": "71f228cd-1eff-4af4-b7bc-f44753212928",
   "metadata": {},
   "source": [
    "# 문자열\n",
    "유니코드\n",
    "\n",
    "1. 유니코드 문자 표준\n",
    "2. 영어는 ascii -> 유니코드\n",
    "3. 한국어도 유니코드\n",
    "4.유니코드: 글자의 크기에 따라 utf-8, [utf-16, utf-32]\n",
    "5.파이썬의 문자열 str ->unicode 기반이다.\n",
    "6. euc-kr : 예전에 우리나라에서 쓰던 한글 코드\n",
    "7. cp949 : 한국어 문자 인코딩 방식(확장 완성형(EUC-KR의 확장))"
   ]
  },
  {
   "cell_type": "code",
   "execution_count": 9,
   "id": "5458708e-4c86-4bae-828f-ce1469350254",
   "metadata": {},
   "outputs": [
    {
     "name": "stdout",
     "output_type": "stream",
     "text": [
      "파이썬\n",
      "54028\n"
     ]
    }
   ],
   "source": [
    "text ='파이썬'\n",
    "print(text)\n",
    "print(ord('파'))"
   ]
  },
  {
   "cell_type": "code",
   "execution_count": 10,
   "id": "d2efeca8-2fcc-4436-8f3d-bdd473691c1a",
   "metadata": {},
   "outputs": [
    {
     "data": {
      "text/plain": [
       "b'\\xed\\x8c\\x8c\\xec\\x9d\\xb4\\xec\\x8d\\xac'"
      ]
     },
     "execution_count": 10,
     "metadata": {},
     "output_type": "execute_result"
    }
   ],
   "source": [
    "# 인코딩s\n",
    "enc_text = text.encode('utf-8')\n",
    "enc_text"
   ]
  },
  {
   "cell_type": "code",
   "execution_count": 14,
   "id": "9244c294-46a6-4ed0-881e-3fd239a5461e",
   "metadata": {},
   "outputs": [
    {
     "data": {
      "text/plain": [
       "'파이썬'"
      ]
     },
     "execution_count": 14,
     "metadata": {},
     "output_type": "execute_result"
    }
   ],
   "source": [
    "dec_text = enc_text.decode('utf-8')\n",
    "dec_text"
   ]
  },
  {
   "cell_type": "code",
   "execution_count": 15,
   "id": "fb656e36-f387-418c-b572-31c7cd06136a",
   "metadata": {},
   "outputs": [
    {
     "data": {
      "text/plain": [
       "True"
      ]
     },
     "execution_count": 15,
     "metadata": {},
     "output_type": "execute_result"
    }
   ],
   "source": [
    "e ='1'\n",
    "e == '1'"
   ]
  },
  {
   "cell_type": "markdown",
   "id": "826b7db4-fbcd-49be-9b52-8b93e2dc047f",
   "metadata": {},
   "source": [
    "''' docstring \\n\n",
    "start \\n\n",
    "end \\n"
   ]
  },
  {
   "cell_type": "code",
   "execution_count": 20,
   "id": "47a3d583-6ea2-4f79-a3e6-ee841412f712",
   "metadata": {},
   "outputs": [
    {
     "name": "stdout",
     "output_type": "stream",
     "text": [
      " docstring \n",
      "\n",
      "start \n",
      "\n",
      "end \n",
      "\n",
      "\n"
     ]
    }
   ],
   "source": [
    "doc_string =''' docstring \\n\n",
    "start \\n\n",
    "end \\n\n",
    "'''\n",
    "print(doc_string)"
   ]
  },
  {
   "cell_type": "code",
   "execution_count": 21,
   "id": "65deaf3b-8cfe-47f9-9212-49eb7b42dfd7",
   "metadata": {},
   "outputs": [
    {
     "data": {
      "text/plain": [
       "' docstring \\n\\nstart \\n\\nend \\n\\n'"
      ]
     },
     "execution_count": 21,
     "metadata": {},
     "output_type": "execute_result"
    }
   ],
   "source": [
    "doc_string"
   ]
  },
  {
   "cell_type": "code",
   "execution_count": 22,
   "id": "39db1646-8966-4d36-b668-869fd40c8edd",
   "metadata": {},
   "outputs": [
    {
     "data": {
      "text/plain": [
       "'파이썬'"
      ]
     },
     "execution_count": 22,
     "metadata": {},
     "output_type": "execute_result"
    }
   ],
   "source": [
    "text"
   ]
  },
  {
   "cell_type": "markdown",
   "id": "24c675ff-989a-4dc1-9a05-c6e0059205b1",
   "metadata": {},
   "source": [
    "# str의 함수\n",
    "dir()"
   ]
  },
  {
   "cell_type": "code",
   "execution_count": 23,
   "id": "c5e40751-388c-45d6-8e45-3de0b3594d74",
   "metadata": {},
   "outputs": [
    {
     "data": {
      "text/plain": [
       "['__add__',\n",
       " '__class__',\n",
       " '__contains__',\n",
       " '__delattr__',\n",
       " '__dir__',\n",
       " '__doc__',\n",
       " '__eq__',\n",
       " '__format__',\n",
       " '__ge__',\n",
       " '__getattribute__',\n",
       " '__getitem__',\n",
       " '__getnewargs__',\n",
       " '__getstate__',\n",
       " '__gt__',\n",
       " '__hash__',\n",
       " '__init__',\n",
       " '__init_subclass__',\n",
       " '__iter__',\n",
       " '__le__',\n",
       " '__len__',\n",
       " '__lt__',\n",
       " '__mod__',\n",
       " '__mul__',\n",
       " '__ne__',\n",
       " '__new__',\n",
       " '__reduce__',\n",
       " '__reduce_ex__',\n",
       " '__repr__',\n",
       " '__rmod__',\n",
       " '__rmul__',\n",
       " '__setattr__',\n",
       " '__sizeof__',\n",
       " '__str__',\n",
       " '__subclasshook__',\n",
       " 'capitalize',\n",
       " 'casefold',\n",
       " 'center',\n",
       " 'count',\n",
       " 'encode',\n",
       " 'endswith',\n",
       " 'expandtabs',\n",
       " 'find',\n",
       " 'format',\n",
       " 'format_map',\n",
       " 'index',\n",
       " 'isalnum',\n",
       " 'isalpha',\n",
       " 'isascii',\n",
       " 'isdecimal',\n",
       " 'isdigit',\n",
       " 'isidentifier',\n",
       " 'islower',\n",
       " 'isnumeric',\n",
       " 'isprintable',\n",
       " 'isspace',\n",
       " 'istitle',\n",
       " 'isupper',\n",
       " 'join',\n",
       " 'ljust',\n",
       " 'lower',\n",
       " 'lstrip',\n",
       " 'maketrans',\n",
       " 'partition',\n",
       " 'removeprefix',\n",
       " 'removesuffix',\n",
       " 'replace',\n",
       " 'rfind',\n",
       " 'rindex',\n",
       " 'rjust',\n",
       " 'rpartition',\n",
       " 'rsplit',\n",
       " 'rstrip',\n",
       " 'split',\n",
       " 'splitlines',\n",
       " 'startswith',\n",
       " 'strip',\n",
       " 'swapcase',\n",
       " 'title',\n",
       " 'translate',\n",
       " 'upper',\n",
       " 'zfill']"
      ]
     },
     "execution_count": 23,
     "metadata": {},
     "output_type": "execute_result"
    }
   ],
   "source": [
    "dir(text)"
   ]
  },
  {
   "cell_type": "code",
   "execution_count": 30,
   "id": "9ca92e4d-36b4-4b16-ade6-3c226952dae7",
   "metadata": {},
   "outputs": [
    {
     "data": {
      "text/plain": [
       "0"
      ]
     },
     "execution_count": 30,
     "metadata": {},
     "output_type": "execute_result"
    }
   ],
   "source": [
    "text.count('t')"
   ]
  },
  {
   "cell_type": "code",
   "execution_count": 32,
   "id": "ae1de66e-f359-4da9-a2bf-71f64ad6418e",
   "metadata": {},
   "outputs": [
    {
     "data": {
      "text/plain": [
       "'파이썬4'"
      ]
     },
     "execution_count": 32,
     "metadata": {},
     "output_type": "execute_result"
    }
   ],
   "source": [
    "text.__add__('4')"
   ]
  },
  {
   "cell_type": "code",
   "execution_count": 34,
   "id": "7dd08b1a-654a-438e-89ea-ebbb7a555e00",
   "metadata": {},
   "outputs": [
    {
     "data": {
      "text/plain": [
       "'파이썬4'"
      ]
     },
     "execution_count": 34,
     "metadata": {},
     "output_type": "execute_result"
    }
   ],
   "source": [
    "text + '4'"
   ]
  },
  {
   "cell_type": "code",
   "execution_count": 43,
   "id": "20d1e939-3eb9-4248-881e-6e021e65a842",
   "metadata": {},
   "outputs": [
    {
     "name": "stdout",
     "output_type": "stream",
     "text": [
      "hello\n",
      "world's\n"
     ]
    }
   ],
   "source": [
    "print('hello\\nworld\\'s') # excape 문자는 특수문자를 그냥 텍스트로 인식하게 된다.\n"
   ]
  },
  {
   "cell_type": "markdown",
   "id": "1d941ddf-f509-49a4-80e3-f2312373e589",
   "metadata": {},
   "source": [
    "raw-string  : 모두다 문자열이다   r'str?\\'\n",
    "f-string   : 형식코드가 내포된 문자열 f'str(text)'"
   ]
  },
  {
   "cell_type": "code",
   "execution_count": 52,
   "id": "9cce278e-c71d-432a-aac9-803ef97fa3ea",
   "metadata": {},
   "outputs": [
    {
     "data": {
      "text/plain": [
       "'12\\\\4'"
      ]
     },
     "execution_count": 52,
     "metadata": {},
     "output_type": "execute_result"
    }
   ],
   "source": [
    "str_1 = '12\\\\4' # 12\\x04 \\는\n",
    "str_1"
   ]
  },
  {
   "cell_type": "code",
   "execution_count": 53,
   "id": "65c89a71-d1cb-41e7-b80e-378f7ee77135",
   "metadata": {},
   "outputs": [
    {
     "data": {
      "text/plain": [
       "'12\\\\4'"
      ]
     },
     "execution_count": 53,
     "metadata": {},
     "output_type": "execute_result"
    }
   ],
   "source": [
    "raw_str = r'12\\4'\n",
    "raw_str"
   ]
  },
  {
   "cell_type": "code",
   "execution_count": 55,
   "id": "d360ff2a-486f-41fe-b1de-6fda4e18da96",
   "metadata": {},
   "outputs": [
    {
     "name": "stdout",
     "output_type": "stream",
     "text": [
      "Hello\\nWorld\n"
     ]
    }
   ],
   "source": [
    "raw_str_1 = r'Hello\\nWorld'\n",
    "print(raw_str_1)"
   ]
  },
  {
   "cell_type": "markdown",
   "id": "0d797df6-97b4-406f-95be-46ab06c971b2",
   "metadata": {},
   "source": [
    "f' 문자열이에요 {변수} '"
   ]
  },
  {
   "cell_type": "code",
   "execution_count": 62,
   "id": "5d016e6f-d0ee-4269-a02c-b1f5d9a997c0",
   "metadata": {},
   "outputs": [
    {
     "name": "stdout",
     "output_type": "stream",
     "text": [
      "제 이름은 ylee 내 나이는  25\n"
     ]
    }
   ],
   "source": [
    "name = 'ylee'\n",
    "age = 25\n",
    "print('제 이름은', name, '내 나이는 ',age)"
   ]
  },
  {
   "cell_type": "code",
   "execution_count": 67,
   "id": "7267d986-7e69-4a07-9c7d-7b83540ac85c",
   "metadata": {},
   "outputs": [
    {
     "data": {
      "text/plain": [
       "'제 이름은 ylee 내 나이는 25 입니다.'"
      ]
     },
     "execution_count": 67,
     "metadata": {},
     "output_type": "execute_result"
    }
   ],
   "source": [
    "f_str_1 = f'제 이름은 {name} 내 나이는 {age} 입니다.'\n",
    "f_str_1"
   ]
  },
  {
   "cell_type": "code",
   "execution_count": 70,
   "id": "998531bf-13bb-4fbd-9594-c19fda284264",
   "metadata": {},
   "outputs": [
    {
     "name": "stdin",
     "output_type": "stream",
     "text": [
      "이름을 입력하세요. 이정석\n",
      "나이를 입력하세요. 26\n"
     ]
    },
    {
     "data": {
      "text/plain": [
       "'제 이름은 이정석 내 나이는 26 입니다.'"
      ]
     },
     "execution_count": 70,
     "metadata": {},
     "output_type": "execute_result"
    }
   ],
   "source": [
    "name = input(\"이름을 입력하세요.\")\n",
    "age = input(\"나이를 입력하세요.\")\n",
    "f'제 이름은 {name} 내 나이는 {age} 입니다.'"
   ]
  },
  {
   "cell_type": "code",
   "execution_count": null,
   "id": "444b0a3b-a0cf-499c-a716-426ce4c22861",
   "metadata": {},
   "outputs": [],
   "source": [
    "문자열, format()\n",
    "\n",
    "문자열에 위치 인덱스를 사용해 포맷한 값을 지정할 수있다."
   ]
  },
  {
   "cell_type": "code",
   "execution_count": 71,
   "id": "5b7823ea-ceb0-4f82-9bab-9f892c62dd94",
   "metadata": {},
   "outputs": [
    {
     "data": {
      "text/plain": [
       "'제 이름은 이정석 내 나이는 26 입니다.'"
      ]
     },
     "execution_count": 71,
     "metadata": {},
     "output_type": "execute_result"
    }
   ],
   "source": [
    "f_str_1 = f'제 이름은 {name} 내 나이는 {age} 입니다.'\n",
    "f_str_1"
   ]
  },
  {
   "cell_type": "code",
   "execution_count": 79,
   "id": "5345dcf3-b969-46b4-b857-586f39e1277a",
   "metadata": {},
   "outputs": [
    {
     "data": {
      "text/plain": [
       "'99.9900 dollar are worth USS 100'"
      ]
     },
     "execution_count": 79,
     "metadata": {},
     "output_type": "execute_result"
    }
   ],
   "source": [
    "# dir(f_str_1)\n",
    "format_str = '{0:.4f} {1:s} are worth USS {2}' # template\n",
    "format_str.format(99.99,'dollar', 100)"
   ]
  },
  {
   "cell_type": "code",
   "execution_count": 83,
   "id": "b85dfb43-f567-4429-bc87-014a85a93e9c",
   "metadata": {},
   "outputs": [
    {
     "name": "stdin",
     "output_type": "stream",
     "text": [
      "주문할 메뉴를 입력하세요  밥\n",
      "한 개 가격이 얼마인가요?  1000\n",
      "몇 개나 주문하세요?  3\n"
     ]
    },
    {
     "name": "stdout",
     "output_type": "stream",
     "text": [
      "밥 메뉴의 3개 가격은 총 3,000입니다.\n"
     ]
    }
   ],
   "source": [
    "menu = input('주문할 메뉴를 입력하세요 ')\n",
    "price = input('한 개 가격이 얼마인가요? ')\n",
    "count = input('몇 개나 주문하세요? ')\n",
    "total = int(price) * int(count)\n",
    "msg = '{} 메뉴의 {}개 가격은 총 {:,}입니다.' # 15,000\n",
    "print(msg.format(menu, count, total))"
   ]
  },
  {
   "cell_type": "code",
   "execution_count": 92,
   "id": "f5fee913-5a87-4faa-9cb7-828eda9f1a3f",
   "metadata": {},
   "outputs": [],
   "source": [
    "items = [\n",
    "    {\"name\": \"아메리카노\", \"price\": 3000, \"qty\": 2},\n",
    "    {\"name\": \"카페라떼\", \"price\": 4000, \"qty\": 1},\n",
    "    {\"name\": \"샌드위치\", \"price\": 5500, \"qty\": 3}\n",
    "]\n"
   ]
  },
  {
   "cell_type": "code",
   "execution_count": 120,
   "id": "d29638cc-ef4c-43ae-97ed-00491474f13b",
   "metadata": {},
   "outputs": [
    {
     "name": "stdout",
     "output_type": "stream",
     "text": [
      "상품명       가격        수량        총액        \n",
      "--------------------------------------------------\n",
      "아메리카노          3,000원         2개     6,000원\n",
      "카페라떼           4,000원         1개     4,000원\n",
      "샌드위치           5,500원         3개    16,500원\n"
     ]
    }
   ],
   "source": [
    "header_str = '{0:10}{1:10}{2:10}{3:10}' # 인덱스: 데이터 결과\n",
    "print(header_str.format('상품명', '가격', '수량', '총액'))\n",
    "print('-'*50)\n",
    "data_str = '{0:10}{1:10,}원{2:10}개{3:10,}원' # 인덱스: 데이터 결과\n",
    "\n",
    "for item in items :\n",
    "    item_name = item['name']\n",
    "    item_price = item['price']\n",
    "    item_qty = item['qty']\n",
    "    total_price = item_price * item_qty\n",
    "    print(data_str.format(item_name, item_price, item_qty, total_price))\n"
   ]
  },
  {
   "cell_type": "markdown",
   "id": "2b27c7cd-f4e3-417e-be5b-2b0dad02de8e",
   "metadata": {},
   "source": [
    "# Typeerror, ValueError"
   ]
  },
  {
   "cell_type": "code",
   "execution_count": 58,
   "id": "352acb38-09ba-4dff-8477-382d43fb75dd",
   "metadata": {},
   "outputs": [
    {
     "data": {
      "text/plain": [
       "5"
      ]
     },
     "execution_count": 58,
     "metadata": {},
     "output_type": "execute_result"
    }
   ],
   "source": [
    "b = 2\n",
    "c = '3'\n",
    "# b + c # TypeError\n",
    "b + int(c)"
   ]
  },
  {
   "cell_type": "code",
   "execution_count": 61,
   "id": "6ebace46-51e7-43f6-9eaa-cc964d32e323",
   "metadata": {},
   "outputs": [
    {
     "data": {
      "text/plain": [
       "5"
      ]
     },
     "execution_count": 61,
     "metadata": {},
     "output_type": "execute_result"
    }
   ],
   "source": [
    "c = '3a'\n",
    "# b + int(c) # ValueError\n",
    "b + int(c[:1])"
   ]
  },
  {
   "cell_type": "markdown",
   "id": "73eb9d8b-ac6a-42d5-94d7-4c69bc20f071",
   "metadata": {},
   "source": [
    "# 기본함수 \n",
    "| 함수                  | 설명                  | 예시                                        |\n",
    "| ------------------- | ------------------- | ----------------------------------------- |\n",
    "| lower()           | 모두 소문자로 변환          | \"Python\".lower() → \"python\"           |\n",
    "| upper()           | 모두 대문자로 변환          | \"python\".upper() → \"PYTHON\"           |\n",
    "| capitalize()      | 첫 글자만 대문자           | \"hello\".capitalize() → \"Hello\"        |\n",
    "| title()           | 각 단어의 첫 글자 대문자      | \"hello world\".title() → \"Hello World\" |\n",
    "| strip()           | 앞뒤 공백 제거            | \" hello \".strip() → \"hello\"           |\n",
    "| lstrip()          | 왼쪽 공백 제거            | \" hello\".lstrip()                       |\n",
    "| rstrip()          | 오른쪽 공백 제거           | \"hello \".rstrip()                       |\n",
    "| replace(old, new) | 문자열 바꾸기             | \"hello\".replace(\"l\", \"x\") → \"hexxo\"   |\n",
    "| split()           | 문자열 나누기 (기본: 공백)    | \"a b c\".split() → ['a', 'b', 'c']     |\n",
    "| join(list)        | 리스트를 문자열로 결합        | \" \".join(['a', 'b']) → \"a b\"          |\n",
    "| find(sub)         | 처음 등장하는 위치 (없으면 -1) | \"apple\".find(\"p\") → 1                 |\n",
    "| index(sub)        | 처음 등장하는 위치 (없으면 오류) | \"apple\".index(\"p\") → 1                |\n",
    "| count(sub)        | 부분 문자열 개수           | \"banana\".count(\"a\") → 3               |\n",
    "| startswith(sub)   | 해당 문자열로 시작?         | \"python\".startswith(\"py\") → True      |\n",
    "| endswith(sub)     | 해당 문자열로 끝남?         | \"python\".endswith(\"on\") → True        |\n",
    "| isalnum()         | 영문자+숫자인가?           | \"abc123\".isalnum() → True             |\n",
    "| isalpha()         | 영문자만인가?             | \"abc\".isalpha() → True                |\n",
    "| isdigit()         | 숫자만인가?              | \"123\".isdigit() → True                |\n",
    "| isspace()         | 공백문자만 있는가?          | \" \\t\\n\".isspace() → True              |"
   ]
  },
  {
   "cell_type": "code",
   "execution_count": 6,
   "id": "252abd37-c813-470c-8a15-351b3ffcf1e2",
   "metadata": {},
   "outputs": [],
   "source": [
    "ra = range(2,20,2)"
   ]
  },
  {
   "cell_type": "code",
   "execution_count": 7,
   "id": "19ae6f82-6c7e-448e-a4d7-589d99a93067",
   "metadata": {},
   "outputs": [
    {
     "data": {
      "text/plain": [
       "[2, 4, 6, 8, 10, 12, 14, 16, 18]"
      ]
     },
     "execution_count": 7,
     "metadata": {},
     "output_type": "execute_result"
    }
   ],
   "source": [
    "num_list = list(ra) # 생성자\n",
    "num_list"
   ]
  },
  {
   "cell_type": "code",
   "execution_count": 11,
   "id": "e2a4194c-0100-4977-80b4-54ace3d95d92",
   "metadata": {},
   "outputs": [
    {
     "data": {
      "text/plain": [
       "18"
      ]
     },
     "execution_count": 11,
     "metadata": {},
     "output_type": "execute_result"
    }
   ],
   "source": [
    "num_list[-1]"
   ]
  },
  {
   "cell_type": "code",
   "execution_count": 9,
   "id": "0ef27f77-2024-42ef-a88c-6c8deb3897e4",
   "metadata": {},
   "outputs": [
    {
     "data": {
      "text/plain": [
       "9"
      ]
     },
     "execution_count": 9,
     "metadata": {},
     "output_type": "execute_result"
    }
   ],
   "source": [
    "ra.__len__()"
   ]
  },
  {
   "cell_type": "code",
   "execution_count": 12,
   "id": "7facd21c-f444-45ce-a29b-51d4051bef47",
   "metadata": {},
   "outputs": [
    {
     "data": {
      "text/plain": [
       "1"
      ]
     },
     "execution_count": 12,
     "metadata": {},
     "output_type": "execute_result"
    }
   ],
   "source": [
    "num_list.count(2)"
   ]
  },
  {
   "cell_type": "markdown",
   "id": "cf9a0514-e926-4d99-bbb8-8a3f45995abf",
   "metadata": {},
   "source": [
    "method 와 function\n",
    "1. method : 객체의 한해서 동작하는 함수 -> 객체명.함수()\n",
    "2. function : 함수(매개변수) -> 매개변수로 동작하는 함수\n",
    "\n",
    "dir() -> function\n",
    "list_obj.len() -> method"
   ]
  },
  {
   "cell_type": "code",
   "execution_count": 43,
   "id": "1d4416cd-593f-4259-80ef-1bf3640da4df",
   "metadata": {},
   "outputs": [],
   "source": [
    "str_1 = 'hello'\n",
    "# str_1[0] = 'H' # TypeError -> str Immutable(객체의 불변성)"
   ]
  },
  {
   "cell_type": "code",
   "execution_count": 44,
   "id": "3530655d-89bb-4668-a026-a9fe7726a2ad",
   "metadata": {},
   "outputs": [
    {
     "data": {
      "text/plain": [
       "['H', 'e', 'l', 'l', 'o']"
      ]
     },
     "execution_count": 44,
     "metadata": {},
     "output_type": "execute_result"
    }
   ],
   "source": [
    "str_2 = list(str_1)\n",
    "str_2[0] = 'H'\n",
    "str_2"
   ]
  },
  {
   "cell_type": "code",
   "execution_count": 45,
   "id": "a4ebd253-978a-4cb4-9d29-73bd125c18f7",
   "metadata": {},
   "outputs": [
    {
     "data": {
      "text/plain": [
       "'Hello'"
      ]
     },
     "execution_count": 45,
     "metadata": {},
     "output_type": "execute_result"
    }
   ],
   "source": [
    "''.join(str_2)\n"
   ]
  },
  {
   "cell_type": "code",
   "execution_count": 46,
   "id": "128ae5a0-a9c2-497d-97b5-22d4fa798332",
   "metadata": {},
   "outputs": [
    {
     "data": {
      "text/plain": [
       "[['aaa', 'bbb', 'ccc'], [1, 2, 'aaa', 'bbb']]"
      ]
     },
     "execution_count": 46,
     "metadata": {},
     "output_type": "execute_result"
    }
   ],
   "source": [
    "# 리스트의 생성\n",
    "a = list()\n",
    "a = []\n",
    "b = [1,2,3,4,5]\n",
    "c = ['aaa','bbb','ccc']\n",
    "d =[1,2,'aaa','bbb']\n",
    "e = [c,d]\n",
    "e"
   ]
  },
  {
   "cell_type": "code",
   "execution_count": 59,
   "id": "3991d782-ae08-45a3-86d4-7932bec7e6dd",
   "metadata": {},
   "outputs": [
    {
     "data": {
      "text/plain": [
       "'bbb'"
      ]
     },
     "execution_count": 59,
     "metadata": {},
     "output_type": "execute_result"
    }
   ],
   "source": [
    "e[1][3]"
   ]
  },
  {
   "cell_type": "code",
   "execution_count": 60,
   "id": "bed33385-b870-4a7d-8545-42ddf2130121",
   "metadata": {},
   "outputs": [
    {
     "data": {
      "text/plain": [
       "[[1, 2], [3, 4]]"
      ]
     },
     "execution_count": 60,
     "metadata": {},
     "output_type": "execute_result"
    }
   ],
   "source": [
    "score = [[1,2],[3,4]]\n",
    "score"
   ]
  },
  {
   "cell_type": "code",
   "execution_count": null,
   "id": "ce8d7771-e33f-4deb-a77e-ccaf3c21123d",
   "metadata": {},
   "outputs": [],
   "source": [
    "복사\n",
    "1. 얕은 복사 shallow copy\n",
    "2. 깊은 복사 deep copy"
   ]
  },
  {
   "cell_type": "code",
   "execution_count": 65,
   "id": "88a9bb40-93fc-4d42-a49e-5253d293bd75",
   "metadata": {},
   "outputs": [
    {
     "data": {
      "text/plain": [
       "[[100, 2], [3, 4]]"
      ]
     },
     "execution_count": 65,
     "metadata": {},
     "output_type": "execute_result"
    }
   ],
   "source": [
    "new_score = score[:]    # 얕은카피\n",
    "new_score[0][0] = 100\n",
    "new_score"
   ]
  },
  {
   "cell_type": "code",
   "execution_count": 66,
   "id": "2d422312-9886-44cc-ad66-bf8067c01d1f",
   "metadata": {},
   "outputs": [
    {
     "data": {
      "text/plain": [
       "[[100, 2], [3, 4]]"
      ]
     },
     "execution_count": 66,
     "metadata": {},
     "output_type": "execute_result"
    }
   ],
   "source": [
    "score    "
   ]
  },
  {
   "cell_type": "code",
   "execution_count": 75,
   "id": "198c0b9e-664f-49aa-b207-1fbeec87cc2f",
   "metadata": {},
   "outputs": [
    {
     "data": {
      "text/plain": [
       "[[100, 99], [3, 4]]"
      ]
     },
     "execution_count": 75,
     "metadata": {},
     "output_type": "execute_result"
    }
   ],
   "source": [
    "import copy\n",
    "copied = copy.copy(score)\n",
    "copied [0][1] = 99\n",
    "copied"
   ]
  },
  {
   "cell_type": "code",
   "execution_count": 76,
   "id": "9c459d6e-7a2a-4eed-811d-b0f4f43ed839",
   "metadata": {},
   "outputs": [
    {
     "data": {
      "text/plain": [
       "[[100, 99], [3, 4]]"
      ]
     },
     "execution_count": 76,
     "metadata": {},
     "output_type": "execute_result"
    }
   ],
   "source": [
    "score"
   ]
  },
  {
   "cell_type": "code",
   "execution_count": 79,
   "id": "e29e71b2-a7ea-452d-9929-f931e5d80241",
   "metadata": {},
   "outputs": [
    {
     "data": {
      "text/plain": [
       "[[100, 99], [88, 4]]"
      ]
     },
     "execution_count": 79,
     "metadata": {},
     "output_type": "execute_result"
    }
   ],
   "source": [
    "deepcopied = copy.deepcopy(score)\n",
    "deepcopied[1][0] = 88\n",
    "deepcopied"
   ]
  },
  {
   "cell_type": "code",
   "execution_count": 80,
   "id": "2494d78f-ee0b-427c-83c8-fe29ec96707d",
   "metadata": {},
   "outputs": [
    {
     "data": {
      "text/plain": [
       "[[100, 99], [3, 4]]"
      ]
     },
     "execution_count": 80,
     "metadata": {},
     "output_type": "execute_result"
    }
   ],
   "source": [
    "score"
   ]
  },
  {
   "cell_type": "markdown",
   "id": "9e96eecc-681d-47f7-b9fa-bdf561eb18a3",
   "metadata": {},
   "source": [
    "# 리스트의 연산\n",
    "\n",
    "- add()\n",
    "- mul()\n",
    "- del list[항목]\n",
    "- in list -> True/False"
   ]
  },
  {
   "cell_type": "code",
   "execution_count": 106,
   "id": "5e6ec5c9-7937-4790-b50b-b1eb29f17e1b",
   "metadata": {},
   "outputs": [
    {
     "data": {
      "text/plain": [
       "['해물라면', '샐러드', '떡볶이', '오므라이스', '볶음밥', '떡볶이', '제육볶음', '주먹밥']"
      ]
     },
     "execution_count": 106,
     "metadata": {},
     "output_type": "execute_result"
    }
   ],
   "source": [
    "lunch1 = ['해물라면', '샐러드', '떡볶이']\n",
    "lunch2 = ['오므라이스', '볶음밥', '떡볶이','제육볶음','주먹밥']\n",
    "lunch1 + lunch2"
   ]
  },
  {
   "cell_type": "code",
   "execution_count": 99,
   "id": "12abe702-0790-4bb3-bf7c-a0407bf0731c",
   "metadata": {},
   "outputs": [
    {
     "data": {
      "text/plain": [
       "['해물라면', '샐러드', '떡볶이', '해물라면', '샐러드', '떡볶이']"
      ]
     },
     "execution_count": 99,
     "metadata": {},
     "output_type": "execute_result"
    }
   ],
   "source": [
    "lunch1 *2"
   ]
  },
  {
   "cell_type": "code",
   "execution_count": 100,
   "id": "60a3cfab-4d1b-489e-9fec-fe6a55564173",
   "metadata": {},
   "outputs": [
    {
     "data": {
      "text/plain": [
       "['샐러드', '떡볶이']"
      ]
     },
     "execution_count": 100,
     "metadata": {},
     "output_type": "execute_result"
    }
   ],
   "source": [
    "del lunch1[0]\n",
    "lunch1"
   ]
  },
  {
   "cell_type": "code",
   "execution_count": 105,
   "id": "b53b34ef-b287-4ce8-8e69-be1a1c299c91",
   "metadata": {},
   "outputs": [
    {
     "data": {
      "text/plain": [
       "['샐러드', '오므라이스', '볶음밥', '떡볶이', '제육볶음', '주먹밥']"
      ]
     },
     "execution_count": 105,
     "metadata": {},
     "output_type": "execute_result"
    }
   ],
   "source": [
    "# lunch1과 lunch2를 합하고 '떡볶이'를 삭제하시오.\n",
    "lunch3 = lunch1 + lunch2\n",
    "lunch3\n",
    "del lunch3[1]\n",
    "lunch3"
   ]
  },
  {
   "cell_type": "code",
   "execution_count": 102,
   "id": "f520ec4e-b511-4ec4-a1ad-ef617e98f909",
   "metadata": {},
   "outputs": [
    {
     "data": {
      "text/plain": [
       "True"
      ]
     },
     "execution_count": 102,
     "metadata": {},
     "output_type": "execute_result"
    }
   ],
   "source": [
    "'떡볶이' in lunch3"
   ]
  },
  {
   "cell_type": "code",
   "execution_count": 147,
   "id": "97a7272e-56ae-4bc1-b0bc-2fde2b293cc3",
   "metadata": {},
   "outputs": [
    {
     "name": "stdin",
     "output_type": "stream",
     "text": [
      "먹고싶은 간식을 추가하세요. 단, 쉼표(,)로 연결하세요 홈런볼,사이다\n"
     ]
    },
    {
     "data": {
      "text/plain": [
       "['초코파이', '홈런볼', '사이다']"
      ]
     },
     "execution_count": 147,
     "metadata": {},
     "output_type": "execute_result"
    }
   ],
   "source": [
    "# 간식박스 관리 프로그램\n",
    "snack_box = ['초코파이']\n",
    "new_snack = input(\"먹고싶은 간식을 추가하세요. 단, 쉼표(,)로 연결하세요\").split(',')\n",
    "snack_box += new_snack\n",
    "snack_box"
   ]
  },
  {
   "cell_type": "code",
   "execution_count": 148,
   "id": "f4cc4952-f1b3-4de3-8606-17143b2f478b",
   "metadata": {},
   "outputs": [
    {
     "name": "stdin",
     "output_type": "stream",
     "text": [
      "간식박스 몇 세트로 포장할까요? (예: 2 -> 2box) 2\n"
     ]
    },
    {
     "data": {
      "text/plain": [
       "['초코파이', '홈런볼', '사이다', '초코파이', '홈런볼', '사이다']"
      ]
     },
     "execution_count": 148,
     "metadata": {},
     "output_type": "execute_result"
    }
   ],
   "source": [
    "# 간식박스 관리 프로그램 2\n",
    "qty = int(input(\"간식박스 몇 세트로 포장할까요? (예: 2 -> 2box)\"))\n",
    "snack_box *= qty\n",
    "snack_box"
   ]
  },
  {
   "cell_type": "code",
   "execution_count": 149,
   "id": "2c4ff537-009c-4341-b51e-4fecfca12605",
   "metadata": {},
   "outputs": [
    {
     "name": "stdout",
     "output_type": "stream",
     "text": [
      "주문하신 간식상자는 초코파이,홈런볼,사이다) 등입니다. 확인해주세요.\n"
     ]
    }
   ],
   "source": [
    "print(f'주문하신 간식상자는 {snack_box[0]},{snack_box[1]},{snack_box[2]}) 등입니다. 확인해주세요.')"
   ]
  },
  {
   "cell_type": "code",
   "execution_count": 150,
   "id": "9a280007-a9b3-4496-bd50-c472bdc2aa5a",
   "metadata": {},
   "outputs": [
    {
     "name": "stdin",
     "output_type": "stream",
     "text": [
      " 혹시 빼고싶은 간식이 있으면 번호를 입력하세요 (0 ~ (len(snack_box)-1) 2\n"
     ]
    }
   ],
   "source": [
    "# 간식박스 관리 프로그램 3\n",
    "msg =f' 혹시 빼고싶은 간식이 있으면 번호를 입력하세요 (0 ~ (len(snack_box)-1)'\n",
    "snack_no =int(input(msg)) -1"
   ]
  },
  {
   "cell_type": "code",
   "execution_count": 151,
   "id": "0b5a5510-1f56-4809-9f7c-a5076dae59a9",
   "metadata": {},
   "outputs": [],
   "source": [
    "del snack_box[snack_no]"
   ]
  },
  {
   "cell_type": "code",
   "execution_count": 152,
   "id": "0b390bc5-7e2f-4355-b144-c2ab8e351e77",
   "metadata": {},
   "outputs": [
    {
     "data": {
      "text/plain": [
       "['초코파이', '사이다', '초코파이', '홈런볼', '사이다']"
      ]
     },
     "execution_count": 152,
     "metadata": {},
     "output_type": "execute_result"
    }
   ],
   "source": [
    "snack_box"
   ]
  },
  {
   "cell_type": "markdown",
   "id": "5a9e8409-dc7a-496d-a509-951b14654879",
   "metadata": {},
   "source": [
    "# 간식박스 관리 프로그램 4\n",
    "# 찾고 싶은 간식이름을 입력하세요\n",
    "# 있어요 OR 없어요 출력"
   ]
  },
  {
   "cell_type": "code",
   "execution_count": 153,
   "id": "82b064c0-96c7-47bc-b3ad-89638971f85b",
   "metadata": {},
   "outputs": [
    {
     "name": "stdin",
     "output_type": "stream",
     "text": [
      "찾고 싶은 간식이름을 입력하세요:  홈런볼\n"
     ]
    }
   ],
   "source": [
    "snack_search = input (\"찾고 싶은 간식이름을 입력하세요: \")"
   ]
  },
  {
   "cell_type": "code",
   "execution_count": 154,
   "id": "76faa611-03b4-42d8-ad5d-eb54926ac7d2",
   "metadata": {},
   "outputs": [
    {
     "name": "stdout",
     "output_type": "stream",
     "text": [
      "있어요\n"
     ]
    }
   ],
   "source": [
    "if snack_search in snack_box:\n",
    "    print(\"있어요\")\n",
    "else:\n",
    "    print(\"없어요\")\n",
    "    "
   ]
  },
  {
   "cell_type": "code",
   "execution_count": 157,
   "id": "84aebd89-9ba9-4608-a713-0c0427c994e2",
   "metadata": {},
   "outputs": [
    {
     "name": "stdout",
     "output_type": "stream",
     "text": [
      "주문하신 간식박스는 위에서부터 다음과 같습니다.\n",
      " ['사이다', '홈런볼', '초코파이', '사이다', '초코파이'], 총5개 입니다.\n"
     ]
    }
   ],
   "source": [
    "# 간식박스 관리 프로그램 5\n",
    "print(\"주문하신 간식박스는 위에서부터 다음과 같습니다.\")\n",
    "print(f' {snack_box[::-1]}, 총{len(snack_box)}개 입니다.')"
   ]
  },
  {
   "cell_type": "markdown",
   "id": "0f566c70-be0d-4af7-9fa4-33d80e3b6486",
   "metadata": {},
   "source": [
    "| 메서드                  | 사용 예시                    | 설명                |\n",
    "| -------------------- | ------------------------ | ----------------- |\n",
    "| append(x)          | lst.append(4)          | 맨 뒤에 x 추가       |\n",
    "| insert(i, x)       | lst.insert(1, \"a\")     | i 위치에 x 삽입    |\n",
    "| extend(iter)       | lst.extend([4, 5])     | 리스트에 여러 값 추가      |\n",
    "| remove(x)          | lst.remove(\"a\")        | x와 일치하는 첫 항목 삭제 |\n",
    "| pop()              | lst.pop()              | 마지막 항목 제거하고 반환    |\n",
    "| pop(i)             | lst.pop(0)             | i번째 항목 제거하고 반환  |\n",
    "| clear()            | lst.clear()            | 리스트 전체 비우기        |\n",
    "| index(x)           | lst.index(\"a\")         | x의 위치(인덱스) 반환   |\n",
    "| count(x)           | lst.count(\"a\")         | x의 개수 세기        |\n",
    "| sort()             | lst.sort()             | 오름차순 정렬 (원본 변경)   |\n",
    "| sort(reverse=True) | lst.sort(reverse=True) | 내림차순 정렬           |\n",
    "| reverse()          | lst.reverse()          | 항목 순서 뒤집기         |\n",
    "| copy()             | lst2 = lst.copy()      | 리스트 복사            |"
   ]
  }
 ],
 "metadata": {
  "kernelspec": {
   "display_name": "Python 3 (ipykernel)",
   "language": "python",
   "name": "python3"
  },
  "language_info": {
   "codemirror_mode": {
    "name": "ipython",
    "version": 3
   },
   "file_extension": ".py",
   "mimetype": "text/x-python",
   "name": "python",
   "nbconvert_exporter": "python",
   "pygments_lexer": "ipython3",
   "version": "3.12.9"
  }
 },
 "nbformat": 4,
 "nbformat_minor": 5
}
