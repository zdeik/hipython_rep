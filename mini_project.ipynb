{
 "cells": [
  {
   "cell_type": "code",
   "execution_count": null,
   "id": "5237895f-952c-492b-adfa-dfc33f64519c",
   "metadata": {},
   "outputs": [
    {
     "name": "stdout",
     "output_type": "stream",
     "text": [
      "========================================\n",
      "어서오세요 또와유에 오신 것을 환영합니다!\n",
      "========================================\n",
      "\n",
      "📋 메뉴:\n",
      "1. 초코\n",
      "2. 바닐라\n",
      "3. 딸기\n",
      "4. 우유\n",
      "5. 민트초코\n",
      "6. 말차\n",
      "----------------------------------------\n",
      "📏 사이즈 및 가격:\n",
      "1. 사이즈: S, 가격: 2000원\n",
      "2. 사이즈: M, 가격: 3000원\n",
      "3. 사이즈: L, 가격: 4000원\n",
      "----------------------------------------\n"
     ]
    },
    {
     "name": "stdin",
     "output_type": "stream",
     "text": [
      "\n",
      "메뉴를 선택하세요 (1~6, 0: 종료):  1\n"
     ]
    },
    {
     "name": "stdout",
     "output_type": "stream",
     "text": [
      "\n",
      "사이즈를 선택하세요:\n",
      "1. S - 2000원\n",
      "2. M - 3000원\n",
      "3. L - 4000원\n",
      "0. 이전으로 돌아가기\n"
     ]
    },
    {
     "name": "stdin",
     "output_type": "stream",
     "text": [
      "사이즈 선택 (1~3, 0: 이전):  1\n",
      "주문 개수를 입력하세요 (0: 이전):  2\n"
     ]
    },
    {
     "name": "stdout",
     "output_type": "stream",
     "text": [
      "초코(S) 2개가 장바구니에 담겼습니다.\n",
      "\n",
      "🛒 현재 장바구니:\n",
      "1. 초코(S) * 2 = 4000원\n",
      "총 결제 금액: 4000원\n"
     ]
    },
    {
     "name": "stdin",
     "output_type": "stream",
     "text": [
      "\n",
      "결제하시겠습니까? (yes / no / add / remove):  no\n"
     ]
    },
    {
     "name": "stdout",
     "output_type": "stream",
     "text": [
      "장바구니를 비우고 처음으로 돌아갑니다.\n"
     ]
    },
    {
     "name": "stdin",
     "output_type": "stream",
     "text": [
      "\n",
      "메뉴를 선택하세요 (1~6, 0: 종료):  1\n"
     ]
    },
    {
     "name": "stdout",
     "output_type": "stream",
     "text": [
      "\n",
      "사이즈를 선택하세요:\n",
      "1. S - 2000원\n",
      "2. M - 3000원\n",
      "3. L - 4000원\n",
      "0. 이전으로 돌아가기\n"
     ]
    },
    {
     "name": "stdin",
     "output_type": "stream",
     "text": [
      "사이즈 선택 (1~3, 0: 이전):  2\n",
      "주문 개수를 입력하세요 (0: 이전):  3\n"
     ]
    },
    {
     "name": "stdout",
     "output_type": "stream",
     "text": [
      "초코(M) 3개가 장바구니에 담겼습니다.\n",
      "\n",
      "🛒 현재 장바구니:\n",
      "1. 초코(M) * 3 = 9000원\n",
      "총 결제 금액: 9000원\n"
     ]
    },
    {
     "name": "stdin",
     "output_type": "stream",
     "text": [
      "\n",
      "결제하시겠습니까? (yes / no / add / remove):  remove\n"
     ]
    },
    {
     "name": "stdout",
     "output_type": "stream",
     "text": [
      "\n",
      "❌ 삭제할 항목 번호를 입력하세요:\n",
      "1. 초코(M) * 3\n"
     ]
    },
    {
     "name": "stdin",
     "output_type": "stream",
     "text": [
      "삭제할 번호 입력 (0: 취소):  1\n"
     ]
    },
    {
     "name": "stdout",
     "output_type": "stream",
     "text": [
      "초코(M)가 삭제되었습니다.\n",
      "\n",
      "🛒 현재 장바구니:\n",
      "총 결제 금액: 0원\n"
     ]
    },
    {
     "name": "stdin",
     "output_type": "stream",
     "text": [
      "\n",
      "결제하시겠습니까? (yes / no / add / remove):  yes\n",
      "멤버십을 적립하시겠습니까? (yes / no):  no\n"
     ]
    },
    {
     "name": "stdout",
     "output_type": "stream",
     "text": [
      "\n",
      "💳 결제 완료!\n",
      "🧾 영수증:\n",
      "총 결제 금액: 0원\n",
      "감사합니다!\n"
     ]
    }
   ],
   "source": [
    "store_name = '또와유'\n",
    "menu_list = ['초코', '바닐라', '딸기', '우유', '민트초코', '말차']\n",
    "size_price = {'S': 2000, 'M': 3000, 'L': 4000}\n",
    "cart = []\n",
    "\n",
    "print('=' * 40)\n",
    "print(f'어서오세요 {store_name}에 오신 것을 환영합니다!')\n",
    "print('=' * 40)\n",
    "\n",
    "# 메뉴 및 사이즈 한 번만 출력\n",
    "print('\\n📋 메뉴:')\n",
    "for i, menu in enumerate(menu_list):\n",
    "    print(f'{i + 1}. {menu}')\n",
    "print('-' * 40)\n",
    "\n",
    "print('📏 사이즈 및 가격:')\n",
    "for i, (size, price) in enumerate(size_price.items()):\n",
    "    print(f'{i + 1}. 사이즈: {size}, 가격: {price}원')\n",
    "print('-' * 40)\n",
    "\n",
    "# 주문 루프\n",
    "while True:\n",
    "    menu_input = input('\\n메뉴를 선택하세요 (1~6, 0: 종료): ')\n",
    "    if menu_input == '0':\n",
    "        print('\\n감사합니다 또 오세요!')\n",
    "        break\n",
    "    if not menu_input.isdigit() or not 1 <= int(menu_input) <= 6:\n",
    "        print('유효한 메뉴 번호를 입력하세요.')\n",
    "        continue\n",
    "\n",
    "    menu_index = int(menu_input) - 1\n",
    "    menu_name = menu_list[menu_index]\n",
    "\n",
    "    while True:\n",
    "        print('\\n사이즈를 선택하세요:')\n",
    "        for i, (size, price) in enumerate(size_price.items()):\n",
    "            print(f'{i + 1}. {size} - {price}원')\n",
    "        print('0. 이전으로 돌아가기')\n",
    "\n",
    "        size_input = input('사이즈 선택 (1~3, 0: 이전): ')\n",
    "        if size_input == '0':\n",
    "            break\n",
    "        if not size_input.isdigit() or not 1 <= int(size_input) <= 3:\n",
    "            print('유효한 번호를 입력하세요.')\n",
    "            continue\n",
    "\n",
    "        size_key = list(size_price.keys())[int(size_input) - 1]\n",
    "        size_value = size_price[size_key]\n",
    "\n",
    "        while True:\n",
    "            qty_input = input('주문 개수를 입력하세요 (0: 이전): ')\n",
    "            if not qty_input.isdigit():\n",
    "                print('숫자로 입력해주세요.')\n",
    "                continue\n",
    "            qty = int(qty_input)\n",
    "            if qty == 0:\n",
    "                # 수량 0일 경우 사이즈 선택으로 돌아가기\n",
    "                break  # <-- 이 break는 수량 입력 루프에서 빠져나가 사이즈 선택 루프로 돌아감\n",
    "            cart.append({'name': menu_name, 'size': size_key, 'qty': qty, 'price': size_value})\n",
    "            print(f'{menu_name}({size_key}) {qty}개가 장바구니에 담겼습니다.')\n",
    "            break  # 수량 정상 입력 후 사이즈 선택 루프 종료\n",
    "\n",
    "        if qty == 0:\n",
    "            continue  # 사이즈 선택 루프로 다시 이동\n",
    "        break  # 메뉴 선택 루프 종료\n",
    "\n",
    "    # 결제 단계\n",
    "    while True:\n",
    "        print('\\n🛒 현재 장바구니:')\n",
    "        total_price = 0\n",
    "        for idx, item in enumerate(cart):\n",
    "            item_total = item['qty'] * item['price']\n",
    "            print(f'{idx + 1}. {item[\"name\"]}({item[\"size\"]}) * {item[\"qty\"]} = {item_total}원')\n",
    "            total_price += item_total\n",
    "        print(f'총 결제 금액: {total_price}원')\n",
    "\n",
    "        next_action = input('\\n결제하시겠습니까? (yes / no / add / remove): ').strip().lower()\n",
    "\n",
    "        if next_action == 'yes':\n",
    "            membership = input('멤버십을 적립하시겠습니까? (yes / no): ').strip().lower()\n",
    "            if membership == 'yes':\n",
    "                phone = input('핸드폰 번호를 입력해주세요: ')\n",
    "                print(f'{phone} 번호로 멤버십이 적립되었습니다.')\n",
    "\n",
    "            print('\\n💳 결제 완료!')\n",
    "            print('🧾 영수증:')\n",
    "            for item in cart:\n",
    "                item_total = item['qty'] * item['price']\n",
    "                print(f'- {item[\"name\"]}({item[\"size\"]}) * {item[\"qty\"]} = {item_total}원')\n",
    "            print(f'총 결제 금액: {total_price}원')\n",
    "            print('감사합니다!')\n",
    "            break\n",
    "\n",
    "        elif next_action == 'no':\n",
    "            print('장바구니를 비우고 처음으로 돌아갑니다.')\n",
    "            cart.clear()\n",
    "            break\n",
    "\n",
    "        elif next_action == 'add':\n",
    "            break\n",
    "\n",
    "        elif next_action == 'remove':\n",
    "            if not cart:\n",
    "                print('장바구니가 비어 있습니다.')\n",
    "                continue\n",
    "            print('\\n❌ 삭제할 항목 번호를 입력하세요:')\n",
    "            for idx, item in enumerate(cart):\n",
    "                print(f'{idx + 1}. {item[\"name\"]}({item[\"size\"]}) * {item[\"qty\"]}')\n",
    "            del_input = input('삭제할 번호 입력 (0: 취소): ')\n",
    "            if del_input == '0':\n",
    "                continue\n",
    "            if del_input.isdigit():\n",
    "                del_index = int(del_input) - 1\n",
    "                if 0 <= del_index < len(cart):\n",
    "                    removed = cart.pop(del_index)\n",
    "                    print(f'{removed[\"name\"]}({removed[\"size\"]})가 삭제되었습니다.')\n",
    "                else:\n",
    "                    print('잘못된 번호입니다.')\n",
    "            else:\n",
    "                print('숫자를 입력해주세요.')\n",
    "        else:\n",
    "            print('입력 오류: 다시 입력해주세요.')\n"
   ]
  },
  {
   "cell_type": "code",
   "execution_count": null,
   "id": "050a6335-bd51-4e09-b41f-789418bf43b6",
   "metadata": {},
   "outputs": [],
   "source": []
  }
 ],
 "metadata": {
  "kernelspec": {
   "display_name": "Python 3 (ipykernel)",
   "language": "python",
   "name": "python3"
  },
  "language_info": {
   "codemirror_mode": {
    "name": "ipython",
    "version": 3
   },
   "file_extension": ".py",
   "mimetype": "text/x-python",
   "name": "python",
   "nbconvert_exporter": "python",
   "pygments_lexer": "ipython3",
   "version": "3.12.9"
  }
 },
 "nbformat": 4,
 "nbformat_minor": 5
}
