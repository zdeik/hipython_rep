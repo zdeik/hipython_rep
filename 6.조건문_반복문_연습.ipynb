{
 "cells": [
  {
   "cell_type": "markdown",
   "metadata": {
    "colab_type": "text",
    "id": "view-in-github"
   },
   "source": [
    "<a href=\"https://colab.research.google.com/github/zzhining/python_basic/blob/master/exercise/%EC%A1%B0%EA%B1%B4%EB%AC%B8_%EB%B0%98%EB%B3%B5%EB%AC%B8.ipynb\" target=\"_parent\"><img src=\"https://colab.research.google.com/assets/colab-badge.svg\" alt=\"Open In Colab\"/></a>"
   ]
  },
  {
   "cell_type": "markdown",
   "metadata": {
    "id": "aY8qecTDvJp-"
   },
   "source": [
    "1. 변수 number가 주어졌을 때, 숫자가 양수인지 음수인지 또는 0인지 판별하고, 해당 결과를 출력하는 코드를 작성하세요."
   ]
  },
  {
   "cell_type": "code",
   "execution_count": 2,
   "metadata": {
    "id": "b6Yc9GKku74M"
   },
   "outputs": [],
   "source": [
    "number = -10"
   ]
  },
  {
   "cell_type": "code",
   "execution_count": 3,
   "metadata": {
    "id": "mloBcOpQvPZx"
   },
   "outputs": [
    {
     "name": "stdout",
     "output_type": "stream",
     "text": [
      "음수입니다.\n"
     ]
    }
   ],
   "source": [
    "#답을 작성하세요.\n",
    "print(\"양수입니다.\" if number > 0 else \"음수입니다.\" if number < 0 else \"0입니다.\")"
   ]
  },
  {
   "cell_type": "markdown",
   "metadata": {
    "id": "QnHW5rjAvcmH"
   },
   "source": [
    "2. 변수 number가 주어졌을 때, 숫자가 짝수인지 홀수인지 판별하고, 해당 결과를 출력하는 코드를 작성하세요."
   ]
  },
  {
   "cell_type": "code",
   "execution_count": null,
   "metadata": {
    "id": "vdEd3HmYvmzZ"
   },
   "outputs": [],
   "source": [
    "number = 52"
   ]
  },
  {
   "cell_type": "code",
   "execution_count": 11,
   "metadata": {
    "id": "k0zrvO9DvcLy"
   },
   "outputs": [
    {
     "data": {
      "text/plain": [
       "'짝수'"
      ]
     },
     "execution_count": 11,
     "metadata": {},
     "output_type": "execute_result"
    }
   ],
   "source": [
    "#답을 작성하세요.\n",
    "'짝수' if number % 2 == 0 else '홀수'"
   ]
  },
  {
   "cell_type": "markdown",
   "metadata": {
    "id": "3dbaqEFlv8JV"
   },
   "source": [
    "3. 변수 score가 주어졌을 때, 다음 기준에 따라 학점을 출력하는 코드를 작성하세요.\n",
    "- 90점 이상: A\n",
    "- 80점 이상 90점 미만: B\n",
    "- 70점 이상 80점 미만: C\n",
    "- 70점 미만: F"
   ]
  },
  {
   "cell_type": "code",
   "execution_count": 13,
   "metadata": {
    "id": "w30L_264wHG3"
   },
   "outputs": [
    {
     "name": "stdin",
     "output_type": "stream",
     "text": [
      "점수를 입력하세요:  90\n"
     ]
    },
    {
     "name": "stdout",
     "output_type": "stream",
     "text": [
      "A\n"
     ]
    }
   ],
   "source": [
    "#답을 작성하세요.\n",
    "score = int(input(\"점수를 입력하세요: \"))\n",
    "print(\"A\" if score >= 90 else \"B\" if score >= 80 else \"C\" if score >= 70 else \"F\")\n"
   ]
  },
  {
   "cell_type": "markdown",
   "metadata": {
    "id": "s1PQZZ-xwSp-"
   },
   "source": [
    "4. 변수 price와 is_discount가 주어졌을 때, is_discount가 True이면 가격에 10% 할인을 적용하고, 그렇지 않으면 원래 가격을 출력하는 코드를 작성하세요."
   ]
  },
  {
   "cell_type": "code",
   "execution_count": 18,
   "metadata": {
    "id": "_RCIZwfDwSSz"
   },
   "outputs": [],
   "source": [
    "price = 100\n",
    "is_discount = True"
   ]
  },
  {
   "cell_type": "code",
   "execution_count": 19,
   "metadata": {
    "id": "HaR5tBTywtvm"
   },
   "outputs": [
    {
     "name": "stdout",
     "output_type": "stream",
     "text": [
      "90.0\n"
     ]
    }
   ],
   "source": [
    "#답을 작성하세요.\n",
    "price = price*0.9 if is_discount else price\n",
    "print(price)\n"
   ]
  },
  {
   "cell_type": "markdown",
   "metadata": {
    "id": "_YUcYRgvx_LF"
   },
   "source": [
    "5. 반복문을 사용하여 1부터 10까지의 숫자를 출력하는 코드를 작성하세요."
   ]
  },
  {
   "cell_type": "code",
   "execution_count": 21,
   "metadata": {
    "id": "wai32pPIyGz8"
   },
   "outputs": [
    {
     "name": "stdout",
     "output_type": "stream",
     "text": [
      "1\n",
      "2\n",
      "3\n",
      "4\n",
      "5\n",
      "6\n",
      "7\n",
      "8\n",
      "9\n",
      "10\n"
     ]
    }
   ],
   "source": [
    "#답을 작성하세요.\n",
    "for i in range(1,11):\n",
    "    print(i)\n",
    "    \n",
    "\n"
   ]
  },
  {
   "cell_type": "markdown",
   "metadata": {
    "id": "WWeLXpUEyXzR"
   },
   "source": [
    "6. 위 반복문(1~10) 숫자 중, 짝수의 값만 출력하는 코드를 작성하세요."
   ]
  },
  {
   "cell_type": "code",
   "execution_count": 23,
   "metadata": {
    "id": "9OeskZ2YyWqH"
   },
   "outputs": [
    {
     "name": "stdout",
     "output_type": "stream",
     "text": [
      "2\n",
      "4\n",
      "6\n",
      "8\n",
      "10\n"
     ]
    }
   ],
   "source": [
    "#답을 작성하세요.\n",
    "for i in range(1,11):\n",
    "    if i % 2 == 0:\n",
    "        print(i)\n",
    "    \n"
   ]
  },
  {
   "cell_type": "code",
   "execution_count": 25,
   "metadata": {},
   "outputs": [
    {
     "data": {
      "text/plain": [
       "[2, 4, 6, 8, 10]"
      ]
     },
     "execution_count": 25,
     "metadata": {},
     "output_type": "execute_result"
    }
   ],
   "source": [
    "# comprehension\n",
    "[i for i in range(1,11) if i % 2 == 0 ]"
   ]
  },
  {
   "cell_type": "markdown",
   "metadata": {
    "id": "KvfAOYVOy6ns"
   },
   "source": [
    "7. 리스트 items와 변수 target이 주어졌을 때, for 반복문을 사용하여 target이 리스트에 있는지 확인하고, 결과를 출력하는 코드를 작성하세요."
   ]
  },
  {
   "cell_type": "code",
   "execution_count": 35,
   "metadata": {
    "id": "Tew31WYozN_m"
   },
   "outputs": [],
   "source": [
    "items = [\"apple\", \"banana\", \"cherry\"]\n",
    "target = \"banana\""
   ]
  },
  {
   "cell_type": "code",
   "execution_count": 30,
   "metadata": {
    "id": "BBH00bf_zGxF"
   },
   "outputs": [
    {
     "name": "stdout",
     "output_type": "stream",
     "text": [
      "리스트에 확인\n"
     ]
    }
   ],
   "source": [
    "#답을 작성하세요.\n",
    "for item in items:\n",
    "    if item == target:\n",
    "        found = True\n",
    "        break\n",
    "if found:\n",
    "    print(\"리스트에 확인\")\n",
    "else:\n",
    "    print(\"리스트에 없음\")\n",
    "    \n",
    "        "
   ]
  },
  {
   "cell_type": "code",
   "execution_count": 38,
   "metadata": {},
   "outputs": [
    {
     "data": {
      "text/plain": [
       "True"
      ]
     },
     "execution_count": 38,
     "metadata": {},
     "output_type": "execute_result"
    }
   ],
   "source": [
    "# comprehension\n",
    "found = True if [item for item in items if item== target] else False\n",
    "found"
   ]
  },
  {
   "cell_type": "code",
   "execution_count": 41,
   "metadata": {},
   "outputs": [
    {
     "data": {
      "text/plain": [
       "(False, True)"
      ]
     },
     "execution_count": 41,
     "metadata": {},
     "output_type": "execute_result"
    }
   ],
   "source": [
    "list_1 = []\n",
    "list_2 = [1,2,3]\n",
    "\n",
    "bool(list_1),bool(list_2)"
   ]
  },
  {
   "cell_type": "markdown",
   "metadata": {
    "id": "0bKxdqaJz6GY"
   },
   "source": [
    "8. for 반복문을 사용하여 구구단 2단의 결과물을 출력하는 코드를 작성하세요."
   ]
  },
  {
   "cell_type": "code",
   "execution_count": 32,
   "metadata": {
    "id": "9xKeBAxPz1pI"
   },
   "outputs": [
    {
     "name": "stdout",
     "output_type": "stream",
     "text": [
      "2 * 1 = 2\n",
      "2 * 2 = 4\n",
      "2 * 3 = 6\n",
      "2 * 4 = 8\n",
      "2 * 5 = 10\n",
      "2 * 6 = 12\n",
      "2 * 7 = 14\n",
      "2 * 8 = 16\n",
      "2 * 9 = 18\n"
     ]
    }
   ],
   "source": [
    "for i in range(1,10):\n",
    "    print(f\"2 * {i} = {2*i}\")"
   ]
  },
  {
   "cell_type": "markdown",
   "metadata": {
    "id": "s6d1hJv8xcdp"
   },
   "source": [
    "9. 나이에 따라 다음과 같은 입장료를 받고 있다고 할 때, 반복문을 이용하여 1세부터 13세까지의 전체 가격표를 만드는 코드를 작성하세요.\n",
    "\n",
    "- 3세 이하: 무료\n",
    "- 3세에서 5세: 5달러\n",
    "- 5세에서 9세: 10달러\n",
    "- 9세에서 12세: 12달러\n",
    "- 12세 이상: 사용할 수 없음 (프로그램 종료)"
   ]
  },
  {
   "cell_type": "code",
   "execution_count": 54,
   "metadata": {
    "id": "H9eQDDNhxR7P"
   },
   "outputs": [
    {
     "name": "stdin",
     "output_type": "stream",
     "text": [
      "나이를 입력하세요:  10\n"
     ]
    },
    {
     "name": "stdout",
     "output_type": "stream",
     "text": [
      "12달러\n"
     ]
    }
   ],
   "source": [
    "#답을 작성하세요.\n",
    "\n",
    "for i in range(1):\n",
    "    age =  int(input(\"나이를 입력하세요: \"))\n",
    "    if age <= 3:\n",
    "        print(\"무료\")\n",
    "    elif age<=5:\n",
    "        print(\"5달러\")\n",
    "    elif age<=9:\n",
    "        print(\"10달러\")\n",
    "    elif age<=12:\n",
    "        print(\"12달러\")\n",
    "    else:\n",
    "        print(\"사용할수 없습니다\")\n",
    "        break\n",
    "        \n",
    "        \n",
    "        \n",
    "        "
   ]
  },
  {
   "cell_type": "markdown",
   "metadata": {},
   "source": [
    "10. 다음 코드의 결과값은 무엇일까?\n",
    "```\n",
    "a = \"Life is too short, you need python\"\n",
    "\n",
    "if \"wife\" in a:   # False\n",
    "    print(\"wife\")\n",
    "\n",
    "elif \"python\" in a and \"you\" not in a:   # False\n",
    "    print(\"python\")\n",
    "\n",
    "elif \"shirt\" not in a:    # True -> 실행 후 다음 조건문 실행 x\n",
    "    print(\"shirt\")\n",
    "\n",
    "elif \"need\" in a:\n",
    "    print(\"need\")\n",
    "\n",
    "else: print(\"none\")"
   ]
  },
  {
   "cell_type": "markdown",
   "metadata": {},
   "source": [
    "10. 휴대폰 번호 앞자리에 따라 통신사는 아래와 같이 구분된다.   \n",
    "사용자로부터 휴대전화 번호를 입력 받고, 통신사를 출력하는 프로그램을 작성하라.\n",
    "\n",
    "번호\t통신사  \n",
    "011\tSKT  \n",
    "016\tKT  \n",
    "019\tLGU  \n",
    "010\t알수없음\n",
    "\n",
    "```\n",
    ">> 휴대전화 번호 입력: 011-345-1922\n",
    "당신은 SKT 사용자입니다.\n",
    "```\n"
   ]
  },
  {
   "cell_type": "code",
   "execution_count": 65,
   "metadata": {},
   "outputs": [
    {
     "name": "stdin",
     "output_type": "stream",
     "text": [
      "휴대폰 번호를 입력해주세요:  011-986-9865\n"
     ]
    },
    {
     "name": "stdout",
     "output_type": "stream",
     "text": [
      "당신은 SKT통신사의 사용자입니다.\n"
     ]
    }
   ],
   "source": [
    "phone_number = input(\"휴대폰 번호를 입력해주세요: \")\n",
    "\n",
    "#if '-' in phone_number :\n",
    "#    number = phone_number.split('-')[0]\n",
    "#else:\n",
    "#    number =phone_number[:3]\n",
    "\n",
    "# number =phone_number[:3]\n",
    "\n",
    "number = phone_number.split('-')[0] if '-' in phone_number else phone_number[:3]\n",
    "\n",
    "\n",
    "tel_com = {\n",
    "    \"011\": \"SKT\",\n",
    "    \"016\": \"KT\",\n",
    "    \"019\": \"LGU\",\n",
    "    \"010\": \"알수없음\"\n",
    "}\n",
    "\n",
    "com =tel_com.get(number,'못찾았음')\n",
    "\n",
    "print(f'당신은 {com}통신사의 사용자입니다.')\n"
   ]
  },
  {
   "cell_type": "markdown",
   "metadata": {},
   "source": [
    "11. 주민등록번호는 13자리로 구성되는데 마지막 자리수는 주민등록번호의 유효성을 체크하는데 사용된다.  \n",
    "먼저 앞에서부터 12자리의 숫자에 2, 3, 4, 5, 6, 7, 8, 9, 2, 3, 4, 5를 차례로 곱한 뒤 그 값을 전부 더한다.    \n",
    "연산 결과 값을 11로 나누면 나머지가 나오는데 11에서 나머지를 뺀 값이 주민등록번호의 마지막 번호가 된다.  \n",
    "\n",
    "```\n",
    "  8 2 1 0 1 0 - 1 6 3 5 2 1 0\n",
    "x 2 3 4 5 6 7   8 9 2 3 4 5 \n",
    "-----------------------------\n",
    "1차 계산: (8*2 + 2*3 + 1*4 + 0*5 + 1*6 + 0*7 + 1*8 + 6*9 + 3*2 + 5*3 + 2*4 + 1*5) = (128 % 11) = 7\n",
    "2차 계산: 11 -7 = 4\n",
    "\n",
    ">> 주민등록번호: 821010-1635210\n",
    "유효하지 않은 주민등록번호입니다. \n",
    "\n",
    "ex) 입력 -> 자리수 체크 -> 가중치 리스트 -> for문으로 반복 -> 마지막 자리 값 계산 -> if문으로 조건체크\n",
    "```\n",
    "\n"
   ]
  },
  {
   "cell_type": "code",
   "execution_count": 80,
   "metadata": {},
   "outputs": [
    {
     "name": "stdin",
     "output_type": "stream",
     "text": [
      "주민번호를 입력해 주세요 (숫자 13자리):  001117-3912613\n"
     ]
    },
    {
     "name": "stdout",
     "output_type": "stream",
     "text": [
      "유효한 주민등록번호입니다.\n"
     ]
    }
   ],
   "source": [
    "\n",
    "while True:\n",
    "    user_input = input(\"주민번호를 입력해 주세요 (숫자 13자리): \")\n",
    "    user_input= user_input.replace('-','')\n",
    "\n",
    "    # 자리수 체크 및 숫자 여부 체크\n",
    "    if len(user_input) != 13 or not user_input.isdigit():\n",
    "        print(\"잘못된 입력입니다. 숫자 13자리를 입력하세요.\")\n",
    "    else:\n",
    "        break\n",
    "\n",
    "# 가중치 리스트\n",
    "weights = [2, 3, 4, 5, 6, 7, 8, 9, 2, 3, 4, 5]\n",
    "\n",
    "\n",
    "# 총합 계산\n",
    "total = 0\n",
    "for i in range(12):\n",
    "    total += int(user_input[i]) * weights[i]\n",
    "\n",
    "# 마지막 숫자 계산\n",
    "remain = (11 - (total % 11)) % 10\n",
    "\n",
    "# 마지막 숫자와 비교\n",
    "if int(user_input[-1]) == remain:\n",
    "    print(\"유효한 주민등록번호입니다.\")\n",
    "else:\n",
    "    print(\"유효하지 않은 주민등록번호입니다.\")\n"
   ]
  },
  {
   "cell_type": "markdown",
   "metadata": {},
   "source": [
    "12. 아래 코드는 비트코인의 가격 정보를 딕셔너리로 가져오는 코드이다.\n",
    "```\n",
    "import requests\n",
    "btc = requests.get(\"https://api.bithumb.com/public/ticker/\").json()['data']\n",
    "```\n",
    "btc 딕셔너리 안에는 시가, 종가, 최고가, 최저가 등이 저장되어 있다.   \n",
    "최고가와 최저가의 차이를 변동폭으로 정의할 때 (시가 + 변동폭)이 최고가 보다 높을 경우 \"상승장\",  \n",
    "그렇지 않은 경우 \"하락장\" 문자열을 출력하라.\n",
    "```\n",
    "Key Name\tDescription\n",
    "opening_price\t최근 24시간 내 시작 거래금액\n",
    "closing_price\t최근 24시간 내 마지막 거래금액\n",
    "min_price\t최근 24시간 내 최저 거래금액\n",
    "max_price\t최근 24시간 내 최고 거래금액\n",
    "```"
   ]
  },
  {
   "cell_type": "code",
   "execution_count": 5,
   "metadata": {},
   "outputs": [
    {
     "name": "stdout",
     "output_type": "stream",
     "text": [
      "상승장\n",
      "150676000.0\n",
      "{'opening_price': '148687000', 'closing_price': '147110000', 'min_price': '146911000', 'max_price': '148900000', 'units_traded': '154.90550222', 'acc_trade_value': '22879079350.84124', 'prev_closing_price': '148698000', 'units_traded_24H': '309.42999003', 'acc_trade_value_24H': '45667257092.21895', 'fluctate_24H': '-382000', 'fluctate_rate_24H': '-0.26', 'date': '1749008198140'}\n"
     ]
    }
   ],
   "source": [
    "import requests\n",
    "btc = requests.get(\"https://api.bithumb.com/public/ticker/\").json()['data']\n",
    "\n",
    "opening_price = float(btc['opening_price'])\n",
    "closing_price = float(btc['closing_price'])\n",
    "min_price = float(btc['min_price'])\n",
    "max_price = float(btc['max_price'])\n",
    "\n",
    "# 변동폭 계산\n",
    "volatility = max_price - min_price\n",
    "\n",
    "# 상승장/하락장 판단\n",
    "if opening_price + volatility > max_price:\n",
    "    print(\"상승장\")\n",
    "else:\n",
    "    print(\"하락장\")\n",
    "\n",
    "print(opening_price + volatility)\n",
    "print(btc)"
   ]
  },
  {
   "cell_type": "markdown",
   "metadata": {},
   "source": [
    "14. 리스트에는 3일 간의 ohlc 데이터가 저장돼 있다. 시가에 매수해서 종가에 매도 했을 경우 총 수익금을 계산하라.\n",
    "\n",
    "ohlc = [[\"open\", \"high\", \"low\", \"close\"],\n",
    "        [100, 110, 70, 100],\n",
    "        [200, 210, 180, 190],\n",
    "        [300, 310, 300, 310]]\n",
    "\n",
    "1일차 수익 0원 (100 - 100), 2일차 수익 -10원 (190 - 200), 3일차 수익 10원 (310 - 300) 이다.\n",
    "\n",
    "\n",
    "0"
   ]
  },
  {
   "cell_type": "code",
   "execution_count": 16,
   "metadata": {},
   "outputs": [
    {
     "name": "stdout",
     "output_type": "stream",
     "text": [
      "[['open', 'high', 'low', 'close'], [100, 110, 70, 100], [200, 210, 180, 190], [300, 310, 300, 310]]\n",
      "[[100, 110, 70, 100], [200, 210, 180, 190], [300, 310, 300, 310]]\n",
      "총 수익금: 0 원\n"
     ]
    }
   ],
   "source": [
    "ohlc = [[\"open\", \"high\", \"low\", \"close\"],\n",
    "        [100, 110, 70, 100],\n",
    "        [200, 210, 180, 190],\n",
    "        [300, 310, 300, 310]]\n",
    "\n",
    "data = ohlc[1:]\n",
    "print(ohlc)\n",
    "print(data)\n",
    "\n",
    "total_profit = 0\n",
    "for day in data:\n",
    "    open_price = day[0]\n",
    "    close_price = day[3]\n",
    "    profit = close_price - open_price\n",
    "    total_profit += profit\n",
    "\n",
    "print(\"총 수익금:\", total_profit, \"원\")\n"
   ]
  },
  {
   "cell_type": "markdown",
   "metadata": {},
   "source": [
    "# While 문"
   ]
  },
  {
   "cell_type": "code",
   "execution_count": 20,
   "metadata": {},
   "outputs": [
    {
     "name": "stdout",
     "output_type": "stream",
     "text": [
      "1\n",
      "2\n",
      "3\n",
      "4\n",
      "5\n"
     ]
    }
   ],
   "source": [
    "# 1부터 5까지 출력하기\n",
    "count = 1\n",
    "\n",
    "while count <= 5:\n",
    "    print(count)\n",
    "    count += 1\n"
   ]
  },
  {
   "cell_type": "code",
   "execution_count": 21,
   "metadata": {},
   "outputs": [
    {
     "name": "stdin",
     "output_type": "stream",
     "text": [
      "문자를 입력하세요 (exit 입력 시 종료):  exi\n"
     ]
    },
    {
     "name": "stdout",
     "output_type": "stream",
     "text": [
      "입력한 값: exi\n"
     ]
    },
    {
     "name": "stdin",
     "output_type": "stream",
     "text": [
      "문자를 입력하세요 (exit 입력 시 종료):  exit\n"
     ]
    },
    {
     "name": "stdout",
     "output_type": "stream",
     "text": [
      "입력한 값: exit\n"
     ]
    }
   ],
   "source": [
    "# 사용자가 \"exit\" 입력 시까지 반복\n",
    "user_input = \"\"\n",
    "\n",
    "while user_input != \"exit\":\n",
    "    user_input = input(\"문자를 입력하세요 (exit 입력 시 종료): \")\n",
    "    print(f\"입력한 값: {user_input}\")"
   ]
  },
  {
   "cell_type": "code",
   "execution_count": 23,
   "metadata": {},
   "outputs": [
    {
     "name": "stdin",
     "output_type": "stream",
     "text": [
      "종료하려면 exit 입력:  ㄷexit\n",
      "종료하려면 exit 입력:  exit\n"
     ]
    },
    {
     "name": "stdout",
     "output_type": "stream",
     "text": [
      "프로그램 종료!\n"
     ]
    }
   ],
   "source": [
    "# 종료 조건이 있는 무한 루프\n",
    "while True:\n",
    "    user_input = input(\"종료하려면 exit 입력: \")\n",
    "    if user_input == \"exit\":\n",
    "        print(\"프로그램 종료!\")\n",
    "        break    # break문이 없으면 무한루프 조심!\n"
   ]
  },
  {
   "cell_type": "code",
   "execution_count": 9,
   "metadata": {},
   "outputs": [
    {
     "data": {
      "text/plain": [
       "6"
      ]
     },
     "execution_count": 9,
     "metadata": {},
     "output_type": "execute_result"
    }
   ],
   "source": [
    "sum =0\n",
    "for i in range(6):\n",
    "    sum +=1\n",
    "sum"
   ]
  },
  {
   "cell_type": "code",
   "execution_count": 7,
   "metadata": {},
   "outputs": [
    {
     "data": {
      "text/plain": [
       "21"
      ]
     },
     "execution_count": 7,
     "metadata": {},
     "output_type": "execute_result"
    }
   ],
   "source": [
    "i = 0\n",
    "while True:\n",
    "    if i >6:\n",
    "        break\n",
    "    sum += 1\n",
    "    i += 1\n",
    "sum\n"
   ]
  },
  {
   "cell_type": "code",
   "execution_count": 9,
   "metadata": {},
   "outputs": [
    {
     "data": {
      "text/plain": [
       "21"
      ]
     },
     "execution_count": 9,
     "metadata": {},
     "output_type": "execute_result"
    }
   ],
   "source": [
    "while i < 6:\n",
    "    i += 1\n",
    "    sum += 1\n",
    "sum"
   ]
  },
  {
   "cell_type": "code",
   "execution_count": 1,
   "metadata": {},
   "outputs": [
    {
     "data": {
      "text/plain": [
       "21"
      ]
     },
     "execution_count": 1,
     "metadata": {},
     "output_type": "execute_result"
    }
   ],
   "source": [
    "sum(range(1,7))"
   ]
  },
  {
   "cell_type": "code",
   "execution_count": 2,
   "metadata": {},
   "outputs": [
    {
     "name": "stdout",
     "output_type": "stream",
     "text": [
      "[4, 16, 36, 64, 100]\n"
     ]
    }
   ],
   "source": [
    "# 1부터 10까지의 숫자 중 짝수만 선택하여 제곱한 리스트 생성\n",
    "squares = [x**2 for x in range(1, 11) if x % 2 == 0]\n",
    "print(squares)  # [4, 16, 36, 64, 100]"
   ]
  },
  {
   "cell_type": "markdown",
   "metadata": {},
   "source": [
    "# 리스트 컴프리헨션\n",
    "[리스트 요소 for<1개> in <반복범위>]"
   ]
  },
  {
   "cell_type": "code",
   "execution_count": 4,
   "metadata": {},
   "outputs": [
    {
     "data": {
      "text/plain": [
       "[2, 4, 6, 8, 10]"
      ]
     },
     "execution_count": 4,
     "metadata": {},
     "output_type": "execute_result"
    }
   ],
   "source": [
    "numbers =[1,2,3,4,5]\n",
    "squares = [num *2 for num in numbers]\n",
    "squares"
   ]
  },
  {
   "cell_type": "code",
   "execution_count": null,
   "metadata": {},
   "outputs": [],
   "source": [
    "## 조건식+ for리스트 컴프리헨션"
   ]
  },
  {
   "cell_type": "code",
   "execution_count": 5,
   "metadata": {},
   "outputs": [
    {
     "data": {
      "text/plain": [
       "[0, 2, 4, 6, 8, 5, 6, 7, 8, 9]"
      ]
     },
     "execution_count": 5,
     "metadata": {},
     "output_type": "execute_result"
    }
   ],
   "source": [
    "test_list =[]\n",
    "for x in range(10):\n",
    "    if x < 5:\n",
    "        test_list.append(x*2)\n",
    "    else:\n",
    "        test_list.append(x)\n",
    "test_list"
   ]
  },
  {
   "cell_type": "code",
   "execution_count": 6,
   "metadata": {},
   "outputs": [
    {
     "data": {
      "text/plain": [
       "[0, 2, 4, 6, 8, 5, 6, 7, 8, 9]"
      ]
     },
     "execution_count": 6,
     "metadata": {},
     "output_type": "execute_result"
    }
   ],
   "source": [
    "[x * 2 if x <  5 else x for x in range(10)]"
   ]
  },
  {
   "cell_type": "code",
   "execution_count": 7,
   "metadata": {},
   "outputs": [
    {
     "data": {
      "text/plain": [
       "[0, 1, 2, 3, 4]"
      ]
     },
     "execution_count": 7,
     "metadata": {},
     "output_type": "execute_result"
    }
   ],
   "source": [
    "[x for x in range(10) if x < 5]"
   ]
  },
  {
   "cell_type": "code",
   "execution_count": 23,
   "metadata": {},
   "outputs": [
    {
     "name": "stdout",
     "output_type": "stream",
     "text": [
      "🎉 당첨 번호 있음! (23)\n"
     ]
    }
   ],
   "source": [
    "#로또 번호 당첨 여부 확인\n",
    "my_numbers = [3, 11, 17, 23, 38, 42]\n",
    "win_numbers = [7, 14, 23, 32, 38, 45]\n",
    "\n",
    "for num in my_numbers:\n",
    "    if num in win_numbers:\n",
    "        print(f\"🎉 당첨 번호 있음! ({num})\")\n",
    "        break\n",
    "else:\n",
    "    print(\"😢 꽝입니다.\")"
   ]
  },
  {
   "cell_type": "code",
   "execution_count": 21,
   "metadata": {},
   "outputs": [
    {
     "name": "stdout",
     "output_type": "stream",
     "text": [
      "🎉 당첨 번호 있음! ([23, 38])\n"
     ]
    }
   ],
   "source": [
    "my_numbers = [3, 11, 17, 23, 38, 42]\n",
    "win_numbers = [7, 14, 23, 32, 38, 45]\n",
    "result = [num for num in my_numbers if num in win_numbers]\n",
    "result\n",
    "if result:\n",
    "    print(f\"🎉 당첨 번호 있음! ({result})\")\n",
    "else:\n",
    "    print(\"😢 꽝입니다.\")"
   ]
  },
  {
   "cell_type": "code",
   "execution_count": null,
   "metadata": {},
   "outputs": [],
   "source": []
  }
 ],
 "metadata": {
  "colab": {
   "include_colab_link": true,
   "provenance": []
  },
  "kernelspec": {
   "display_name": "Python 3 (ipykernel)",
   "language": "python",
   "name": "python3"
  },
  "language_info": {
   "codemirror_mode": {
    "name": "ipython",
    "version": 3
   },
   "file_extension": ".py",
   "mimetype": "text/x-python",
   "name": "python",
   "nbconvert_exporter": "python",
   "pygments_lexer": "ipython3",
   "version": "3.12.9"
  }
 },
 "nbformat": 4,
 "nbformat_minor": 4
}
