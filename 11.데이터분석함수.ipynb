{
 "cells": [
  {
   "cell_type": "code",
   "execution_count": 3,
   "id": "9bcf4265",
   "metadata": {},
   "outputs": [],
   "source": [
    "from collections import defaultdict"
   ]
  },
  {
   "cell_type": "code",
   "execution_count": 5,
   "id": "d6020329",
   "metadata": {},
   "outputs": [
    {
     "name": "stdout",
     "output_type": "stream",
     "text": [
      "defaultdict(<class 'int'>, {'a': 1, 'B': 0, 'c': 2})\n"
     ]
    }
   ],
   "source": [
    "dd =defaultdict(int) # defaultdict 함수  존재하지 않는 키값 자동으로 0\n",
    "dd['a'] = 1\n",
    "dd['B']\n",
    "dd['c'] = 2\n",
    "print(dd)"
   ]
  },
  {
   "cell_type": "code",
   "execution_count": 14,
   "id": "a00426ac",
   "metadata": {},
   "outputs": [
    {
     "data": {
      "text/plain": [
       "[{90, 'alice'}, {80, 'bob'}, {70, 'charlie'}, {80, 'alice'}]"
      ]
     },
     "execution_count": 14,
     "metadata": {},
     "output_type": "execute_result"
    }
   ],
   "source": [
    "scores = [{'alice',90},{'bob',80},{'charlie',70},{'alice',80}]\n",
    "scores\n"
   ]
  },
  {
   "cell_type": "code",
   "execution_count": 15,
   "id": "b7ab4ce0",
   "metadata": {},
   "outputs": [
    {
     "data": {
      "text/plain": [
       "{90: ['alice'], 80: ['bob', 'alice'], 'charlie': [70]}"
      ]
     },
     "execution_count": 15,
     "metadata": {},
     "output_type": "execute_result"
    }
   ],
   "source": [
    "grouped = defaultdict(list)\n",
    "for name, score in scores:\n",
    "    grouped[name].append(score)\n",
    "grouped\n",
    "dict(grouped)"
   ]
  },
  {
   "cell_type": "code",
   "execution_count": 11,
   "id": "26ab20f8",
   "metadata": {},
   "outputs": [
    {
     "data": {
      "text/plain": [
       "defaultdict(int, {'b': 1, 'a': 3, 'n': 2})"
      ]
     },
     "execution_count": 11,
     "metadata": {},
     "output_type": "execute_result"
    }
   ],
   "source": [
    "s= 'banana'\n",
    "cnt =defaultdict(int)\n",
    "\n",
    "for  char in s:\n",
    "    cnt[char] += 1\n",
    "cnt"
   ]
  },
  {
   "cell_type": "code",
   "execution_count": 1,
   "id": "27de6ffc",
   "metadata": {},
   "outputs": [
    {
     "name": "stdout",
     "output_type": "stream",
     "text": [
      "defaultdict(<function <lambda> at 0x0000027C396BCA40>, {'A': {'count': 2, 'sum': 40}, 'B': {'count': 1, 'sum': 20}})\n"
     ]
    }
   ],
   "source": [
    "from collections import defaultdict\n",
    "\n",
    "# lambda를 사용한 defaultdict\n",
    "complex_dict = defaultdict(lambda: {'count': 0, 'sum': 0})\n",
    "data = [('A', 10), ('B', 20), ('A', 30)]\n",
    "\n",
    "for key, value in data:\n",
    "    complex_dict[key]['count'] += 1\n",
    "    complex_dict[key]['sum'] += value\n",
    "\n",
    "print(complex_dict)  # 각 키별로 count와 sum을 추적"
   ]
  },
  {
   "cell_type": "markdown",
   "id": "264b7562",
   "metadata": {},
   "source": [
    "# counter"
   ]
  },
  {
   "cell_type": "code",
   "execution_count": 5,
   "id": "5f9a4cba",
   "metadata": {},
   "outputs": [
    {
     "data": {
      "text/plain": [
       "Counter({2: 2, 3: 2, 0: 1, 1: 1, 4: 1})"
      ]
     },
     "execution_count": 5,
     "metadata": {},
     "output_type": "execute_result"
    }
   ],
   "source": [
    "# Counter : 요소의 개수를 세기 위한 라이브러리\n",
    "from collections import Counter\n",
    "\n",
    "list1 = [0,1,2,3,4,2,3]\n",
    "cnt =Counter(list1)\n",
    "cnt\n"
   ]
  },
  {
   "cell_type": "code",
   "execution_count": 8,
   "id": "17cee16e",
   "metadata": {},
   "outputs": [
    {
     "data": {
      "text/plain": [
       "[(2, 2), (3, 2)]"
      ]
     },
     "execution_count": 8,
     "metadata": {},
     "output_type": "execute_result"
    }
   ],
   "source": [
    "cnt.most_common(2)"
   ]
  },
  {
   "cell_type": "code",
   "execution_count": 12,
   "id": "ec07c0cb",
   "metadata": {},
   "outputs": [
    {
     "data": {
      "text/plain": [
       "dict_items([(0, 1), (1, 1), (2, 2), (3, 2), (4, 1)])"
      ]
     },
     "execution_count": 12,
     "metadata": {},
     "output_type": "execute_result"
    }
   ],
   "source": [
    "cnt.items()"
   ]
  },
  {
   "cell_type": "markdown",
   "id": "06484300",
   "metadata": {},
   "source": [
    "# extend()\n",
    "# extend() : 리스트에 여러 요소를 한번에 추가 \n",
    "# append() : 리스트에 1개씩 추가 \n"
   ]
  },
  {
   "cell_type": "code",
   "execution_count": 14,
   "id": "617d0cd1",
   "metadata": {},
   "outputs": [
    {
     "data": {
      "text/plain": [
       "[0, 1, 2, 3, 4, 2, 2, 3, [10, 11], 10, 11]"
      ]
     },
     "execution_count": 14,
     "metadata": {},
     "output_type": "execute_result"
    }
   ],
   "source": [
    "list1 =[0,1,2,3,4,2,2,3]\n",
    "list1.append([10,11])\n",
    "list1.extend([10,11])\n",
    "list1"
   ]
  },
  {
   "cell_type": "code",
   "execution_count": null,
   "id": "98cb23a1",
   "metadata": {},
   "outputs": [],
   "source": []
  },
  {
   "cell_type": "code",
   "execution_count": null,
   "id": "5280f34e",
   "metadata": {},
   "outputs": [],
   "source": []
  },
  {
   "cell_type": "code",
   "execution_count": null,
   "id": "36f5c1b3",
   "metadata": {},
   "outputs": [],
   "source": []
  },
  {
   "cell_type": "code",
   "execution_count": null,
   "id": "3cc8fbf1",
   "metadata": {},
   "outputs": [],
   "source": []
  },
  {
   "cell_type": "code",
   "execution_count": null,
   "id": "825971e6",
   "metadata": {},
   "outputs": [],
   "source": []
  },
  {
   "cell_type": "code",
   "execution_count": null,
   "id": "1212b2aa",
   "metadata": {},
   "outputs": [],
   "source": []
  },
  {
   "cell_type": "code",
   "execution_count": null,
   "id": "d51fe199",
   "metadata": {},
   "outputs": [],
   "source": []
  },
  {
   "cell_type": "code",
   "execution_count": null,
   "id": "13b1d714",
   "metadata": {},
   "outputs": [],
   "source": []
  },
  {
   "cell_type": "code",
   "execution_count": null,
   "id": "67e1867b",
   "metadata": {},
   "outputs": [],
   "source": []
  },
  {
   "cell_type": "code",
   "execution_count": null,
   "id": "eb1c5439",
   "metadata": {},
   "outputs": [],
   "source": []
  },
  {
   "cell_type": "code",
   "execution_count": null,
   "id": "fe96498a",
   "metadata": {},
   "outputs": [],
   "source": []
  },
  {
   "cell_type": "code",
   "execution_count": null,
   "id": "cbbcc0fa",
   "metadata": {},
   "outputs": [],
   "source": []
  },
  {
   "cell_type": "code",
   "execution_count": null,
   "id": "a32f0aa7",
   "metadata": {},
   "outputs": [],
   "source": []
  }
 ],
 "metadata": {
  "kernelspec": {
   "display_name": "hipython",
   "language": "python",
   "name": "python3"
  },
  "language_info": {
   "codemirror_mode": {
    "name": "ipython",
    "version": 3
   },
   "file_extension": ".py",
   "mimetype": "text/x-python",
   "name": "python",
   "nbconvert_exporter": "python",
   "pygments_lexer": "ipython3",
   "version": "3.12.9"
  }
 },
 "nbformat": 4,
 "nbformat_minor": 5
}
