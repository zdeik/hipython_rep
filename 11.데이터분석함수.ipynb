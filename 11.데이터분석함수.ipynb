{
 "cells": [
  {
   "cell_type": "code",
   "execution_count": 3,
   "id": "9bcf4265",
   "metadata": {},
   "outputs": [],
   "source": [
    "from collections import defaultdict"
   ]
  },
  {
   "cell_type": "code",
   "execution_count": 5,
   "id": "d6020329",
   "metadata": {},
   "outputs": [
    {
     "name": "stdout",
     "output_type": "stream",
     "text": [
      "defaultdict(<class 'int'>, {'a': 1, 'B': 0, 'c': 2})\n"
     ]
    }
   ],
   "source": [
    "dd =defaultdict(int) # defaultdict 함수  존재하지 않는 키값 자동으로 0\n",
    "dd['a'] = 1\n",
    "dd['B']\n",
    "dd['c'] = 2\n",
    "print(dd)"
   ]
  },
  {
   "cell_type": "code",
   "execution_count": 14,
   "id": "a00426ac",
   "metadata": {},
   "outputs": [
    {
     "data": {
      "text/plain": [
       "[{90, 'alice'}, {80, 'bob'}, {70, 'charlie'}, {80, 'alice'}]"
      ]
     },
     "execution_count": 14,
     "metadata": {},
     "output_type": "execute_result"
    }
   ],
   "source": [
    "scores = [{'alice',90},{'bob',80},{'charlie',70},{'alice',80}]\n",
    "scores\n"
   ]
  },
  {
   "cell_type": "code",
   "execution_count": 15,
   "id": "b7ab4ce0",
   "metadata": {},
   "outputs": [
    {
     "data": {
      "text/plain": [
       "{90: ['alice'], 80: ['bob', 'alice'], 'charlie': [70]}"
      ]
     },
     "execution_count": 15,
     "metadata": {},
     "output_type": "execute_result"
    }
   ],
   "source": [
    "grouped = defaultdict(list)\n",
    "for name, score in scores:\n",
    "    grouped[name].append(score)\n",
    "grouped\n",
    "dict(grouped)"
   ]
  },
  {
   "cell_type": "code",
   "execution_count": 11,
   "id": "26ab20f8",
   "metadata": {},
   "outputs": [
    {
     "data": {
      "text/plain": [
       "defaultdict(int, {'b': 1, 'a': 3, 'n': 2})"
      ]
     },
     "execution_count": 11,
     "metadata": {},
     "output_type": "execute_result"
    }
   ],
   "source": [
    "s= 'banana'\n",
    "cnt =defaultdict(int)\n",
    "\n",
    "for  char in s:\n",
    "    cnt[char] += 1\n",
    "cnt"
   ]
  },
  {
   "cell_type": "code",
   "execution_count": null,
   "id": "27de6ffc",
   "metadata": {},
   "outputs": [],
   "source": []
  },
  {
   "cell_type": "code",
   "execution_count": null,
   "id": "264b7562",
   "metadata": {},
   "outputs": [],
   "source": []
  }
 ],
 "metadata": {
  "kernelspec": {
   "display_name": "hipython",
   "language": "python",
   "name": "python3"
  },
  "language_info": {
   "codemirror_mode": {
    "name": "ipython",
    "version": 3
   },
   "file_extension": ".py",
   "mimetype": "text/x-python",
   "name": "python",
   "nbconvert_exporter": "python",
   "pygments_lexer": "ipython3",
   "version": "3.12.9"
  }
 },
 "nbformat": 4,
 "nbformat_minor": 5
}
