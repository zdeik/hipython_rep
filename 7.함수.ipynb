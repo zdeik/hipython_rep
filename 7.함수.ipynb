{
 "cells": [
  {
   "cell_type": "markdown",
   "id": "d924a8dd-5247-4eac-87e0-d06944b0d4e5",
   "metadata": {},
   "source": [
    "# 함수\n",
    "- 인자 = 매개변수, 입력, 파라미터\n",
    "- 변환값 = 리턴값, 결과값\n",
    "- 함수이름\n",
    "\n",
    "- 함수 정의 -> 호출"
   ]
  },
  {
   "cell_type": "code",
   "execution_count": 26,
   "id": "1be2d863-9ac9-49d1-b657-414c7bcd716d",
   "metadata": {},
   "outputs": [],
   "source": [
    "# defination  - 리턴이 없는 경우\n",
    "def py_func():\n",
    "    print(\"py first func\")\n",
    "    print(\"hello\")\n",
    "    print(\"good job\")"
   ]
  },
  {
   "cell_type": "code",
   "execution_count": 12,
   "id": "ea701e3c-d3d6-4324-aa46-4c00d5b03fc0",
   "metadata": {},
   "outputs": [
    {
     "data": {
      "text/plain": [
       "function"
      ]
     },
     "execution_count": 12,
     "metadata": {},
     "output_type": "execute_result"
    }
   ],
   "source": [
    "type(py_func)"
   ]
  },
  {
   "cell_type": "code",
   "execution_count": 19,
   "id": "5ed6724e-f8aa-435b-b012-61079e42d6b8",
   "metadata": {},
   "outputs": [
    {
     "name": "stdout",
     "output_type": "stream",
     "text": [
      "py first func\n",
      "hello\n",
      "good job\n"
     ]
    }
   ],
   "source": [
    "my_func = py_func()"
   ]
  },
  {
   "cell_type": "code",
   "execution_count": 14,
   "id": "8d857a56-623e-44cb-8319-e2711b4d92eb",
   "metadata": {},
   "outputs": [
    {
     "data": {
      "text/plain": [
       "function"
      ]
     },
     "execution_count": 14,
     "metadata": {},
     "output_type": "execute_result"
    }
   ],
   "source": [
    "type(my_func)"
   ]
  },
  {
   "cell_type": "code",
   "execution_count": 21,
   "id": "64e584b0-6d69-430c-9fb3-94544746bbcd",
   "metadata": {},
   "outputs": [
    {
     "name": "stdout",
     "output_type": "stream",
     "text": [
      "None\n"
     ]
    }
   ],
   "source": [
    "print(my_func)"
   ]
  },
  {
   "cell_type": "code",
   "execution_count": 27,
   "id": "ce8f48c5-2e4c-4fa3-b53d-c705145cfcc2",
   "metadata": {},
   "outputs": [],
   "source": [
    "# 리턴이 있는 경우\n",
    "def my_func():\n",
    "    print(\"py first func\")\n",
    "    print(\"hello\")\n",
    "    print(\"good job\")\n",
    "    return 'hello'"
   ]
  },
  {
   "cell_type": "code",
   "execution_count": 23,
   "id": "5af5098f-db25-45e3-a19a-5480f5aea3b3",
   "metadata": {},
   "outputs": [
    {
     "name": "stdout",
     "output_type": "stream",
     "text": [
      "py first func\n",
      "hello\n",
      "good job\n"
     ]
    },
    {
     "data": {
      "text/plain": [
       "'hello'"
      ]
     },
     "execution_count": 23,
     "metadata": {},
     "output_type": "execute_result"
    }
   ],
   "source": [
    " my_func()"
   ]
  },
  {
   "cell_type": "code",
   "execution_count": 24,
   "id": "bf44e43a-cb23-4eed-95de-bd14facf1eda",
   "metadata": {},
   "outputs": [
    {
     "name": "stdout",
     "output_type": "stream",
     "text": [
      "py first func\n",
      "hello\n",
      "good job\n"
     ]
    }
   ],
   "source": [
    "my_func2 =  my_func()"
   ]
  },
  {
   "cell_type": "code",
   "execution_count": 28,
   "id": "cee52998-6fb5-457f-97c3-e922137bb453",
   "metadata": {},
   "outputs": [
    {
     "data": {
      "text/plain": [
       "'hello'"
      ]
     },
     "execution_count": 28,
     "metadata": {},
     "output_type": "execute_result"
    }
   ],
   "source": [
    "my_func2"
   ]
  },
  {
   "cell_type": "markdown",
   "id": "4ddb48e0-a84d-49fd-8585-f66e5b20369b",
   "metadata": {
    "jp-MarkdownHeadingCollapsed": true
   },
   "source": [
    "# 입력값이 있는 함수"
   ]
  },
  {
   "cell_type": "code",
   "execution_count": 35,
   "id": "4d655a77-38a6-450b-a15a-0ebb561fd4bf",
   "metadata": {},
   "outputs": [],
   "source": [
    "def my_calc(x):\n",
    "    print(f'{x}를 계산합니다.')"
   ]
  },
  {
   "cell_type": "code",
   "execution_count": 37,
   "id": "1f23506c-79d6-4bd5-bd60-c32942b2b981",
   "metadata": {},
   "outputs": [
    {
     "name": "stdout",
     "output_type": "stream",
     "text": [
      "2를 계산합니다.\n"
     ]
    }
   ],
   "source": [
    "my_calc(2)"
   ]
  },
  {
   "cell_type": "code",
   "execution_count": 48,
   "id": "74274cf1-3aa0-4fa4-844b-e4cb5d6360a6",
   "metadata": {},
   "outputs": [],
   "source": [
    "def mycalc1(x,y):\n",
    "    print(f'{x}와 {y}를 계산합니다.')\n",
    "    add_result = x + y\n",
    "    mul_result = x * y\n",
    "    return add_result, mul_result"
   ]
  },
  {
   "cell_type": "code",
   "execution_count": 41,
   "id": "9c44aa83-a3c3-48a0-80a7-5bf7454f39ee",
   "metadata": {},
   "outputs": [
    {
     "name": "stdout",
     "output_type": "stream",
     "text": [
      "3와 5를 계산합니다.\n"
     ]
    },
    {
     "data": {
      "text/plain": [
       "(8, 15)"
      ]
     },
     "execution_count": 41,
     "metadata": {},
     "output_type": "execute_result"
    }
   ],
   "source": [
    "mycalc1(3,5)"
   ]
  },
  {
   "cell_type": "code",
   "execution_count": 42,
   "id": "ffbd2c73-b167-4853-95eb-ca4d7b4df1e1",
   "metadata": {},
   "outputs": [
    {
     "name": "stdout",
     "output_type": "stream",
     "text": [
      "3와 5를 계산합니다.\n"
     ]
    }
   ],
   "source": [
    "func_result = mycalc1(3,5)"
   ]
  },
  {
   "cell_type": "code",
   "execution_count": 43,
   "id": "fa62a611-0182-4d2b-b38e-1a357c0bcda3",
   "metadata": {},
   "outputs": [
    {
     "data": {
      "text/plain": [
       "(8, 15)"
      ]
     },
     "execution_count": 43,
     "metadata": {},
     "output_type": "execute_result"
    }
   ],
   "source": [
    "func_result"
   ]
  },
  {
   "cell_type": "code",
   "execution_count": 47,
   "id": "b3176648-863c-4089-a754-42bdafb36c72",
   "metadata": {},
   "outputs": [],
   "source": [
    "# func_result[0] = 0  -> 함수의 결과값은 변경불가"
   ]
  },
  {
   "cell_type": "code",
   "execution_count": 49,
   "id": "657ac5cc-7945-4c82-aabf-6ee1d2698ad5",
   "metadata": {},
   "outputs": [
    {
     "name": "stdout",
     "output_type": "stream",
     "text": [
      "3와 5를 계산합니다.\n"
     ]
    }
   ],
   "source": [
    "result1,result2 = mycalc1(3,5)"
   ]
  },
  {
   "cell_type": "code",
   "execution_count": 50,
   "id": "28190678-d0e6-49ee-afa8-1171ce1c25ea",
   "metadata": {},
   "outputs": [
    {
     "data": {
      "text/plain": [
       "8"
      ]
     },
     "execution_count": 50,
     "metadata": {},
     "output_type": "execute_result"
    }
   ],
   "source": [
    "result1"
   ]
  },
  {
   "cell_type": "code",
   "execution_count": 51,
   "id": "ae643728-64ab-43cd-9bd2-2ab5142070df",
   "metadata": {},
   "outputs": [
    {
     "data": {
      "text/plain": [
       "15"
      ]
     },
     "execution_count": 51,
     "metadata": {},
     "output_type": "execute_result"
    }
   ],
   "source": [
    "result2"
   ]
  },
  {
   "cell_type": "code",
   "execution_count": 52,
   "id": "08f44bab-5751-4aa4-bae5-b4cb80c1fd0d",
   "metadata": {},
   "outputs": [],
   "source": [
    "# 리스트 매개변수의 실행\n",
    "def my_calc3(a,lst1):\n",
    "    a+=1\n",
    "    lst1.append(a)\n",
    "    return a"
   ]
  },
  {
   "cell_type": "code",
   "execution_count": 53,
   "id": "13da0db3-647f-4fd2-922d-cbdb1581cfaa",
   "metadata": {
    "scrolled": true
   },
   "outputs": [
    {
     "name": "stdout",
     "output_type": "stream",
     "text": [
      "before: 10,[1, 2, '12']\n",
      "after: 10,[1, 2, '12', 11]\n"
     ]
    }
   ],
   "source": [
    "num =10\n",
    "list_num = [1,2,'12']\n",
    "print(f'before: {num},{list_num}')\n",
    "\n",
    "my_calc3(num,list_num)\n",
    "print(f'after: {num},{list_num}')"
   ]
  },
  {
   "cell_type": "markdown",
   "id": "99d80480-d468-459c-99da-ee014c3ed340",
   "metadata": {},
   "source": [
    "키워드 매개변수: 함수를 호출할 때 인자의 이름을 직접 지정해서 값을 전달하는 방식\n",
    "매개변수명을 이용한 호출은 매개변수의 순서와 무관하다"
   ]
  },
  {
   "cell_type": "code",
   "execution_count": 56,
   "id": "cd996966-97e8-409b-9afd-0daf09828974",
   "metadata": {},
   "outputs": [
    {
     "name": "stdout",
     "output_type": "stream",
     "text": [
      "hi, Bob님!\n"
     ]
    }
   ],
   "source": [
    "# 기본값, 기본인자\n",
    "def greeting(name, greeting ='hello'):\n",
    "    print(f'{greeting}, {name}님!')\n",
    "\n",
    "greeting('Bob', 'hi')"
   ]
  },
  {
   "cell_type": "code",
   "execution_count": 57,
   "id": "e4e71fd4-a10c-4629-ae9e-407bfa8d9b46",
   "metadata": {},
   "outputs": [
    {
     "name": "stdout",
     "output_type": "stream",
     "text": [
      "hello, Bob님!\n"
     ]
    }
   ],
   "source": [
    "greeting('Bob')"
   ]
  },
  {
   "cell_type": "code",
   "execution_count": 59,
   "id": "05f071a1-d907-48d1-b3f6-de06d5c08d18",
   "metadata": {},
   "outputs": [],
   "source": [
    "# 가변인자\n",
    "def sum_all(*args):\n",
    "    return sum(args)"
   ]
  },
  {
   "cell_type": "code",
   "execution_count": 60,
   "id": "022137da-bdc3-45df-af79-f6c0f057d4fa",
   "metadata": {},
   "outputs": [
    {
     "name": "stdout",
     "output_type": "stream",
     "text": [
      "15\n"
     ]
    }
   ],
   "source": [
    "print(sum_all(1, 2, 3, 4, 5))  # 15"
   ]
  },
  {
   "cell_type": "code",
   "execution_count": 62,
   "id": "73c59d6b-1520-4270-92b8-6b99be23dfd7",
   "metadata": {},
   "outputs": [],
   "source": [
    "def sum_all(args1,args2,*args):\n",
    "    print(args)\n",
    "    result = args1 + args2 + sum(args)\n",
    "    return result"
   ]
  },
  {
   "cell_type": "code",
   "execution_count": 63,
   "id": "6aabb8a9-6b44-4be4-8b28-59646df3c752",
   "metadata": {},
   "outputs": [
    {
     "name": "stdout",
     "output_type": "stream",
     "text": [
      "(3, 4, 5)\n"
     ]
    },
    {
     "data": {
      "text/plain": [
       "15"
      ]
     },
     "execution_count": 63,
     "metadata": {},
     "output_type": "execute_result"
    }
   ],
   "source": [
    "sum_all(1, 2, 3, 4, 5) "
   ]
  },
  {
   "cell_type": "code",
   "execution_count": 64,
   "id": "4358075a-8555-47ff-9a88-c08f777998f6",
   "metadata": {},
   "outputs": [],
   "source": [
    "def print_info(**kwargs):\n",
    "    for key, value in kwargs.items():\n",
    "        print(f\"{key}: {value}\")"
   ]
  },
  {
   "cell_type": "code",
   "execution_count": 65,
   "id": "ef288336-1d16-4808-914b-239d14b16532",
   "metadata": {},
   "outputs": [
    {
     "name": "stdout",
     "output_type": "stream",
     "text": [
      "name: 홍길동\n",
      "age: 25\n",
      "city: 서울\n"
     ]
    }
   ],
   "source": [
    "print_info(name=\"홍길동\", age=25, city=\"서울\")"
   ]
  },
  {
   "cell_type": "markdown",
   "id": "4bb70752-29a3-44bb-866f-c1e531154bd4",
   "metadata": {},
   "source": [
    "# 요일 구하는 함수 정의\n",
    "- 입력: year, month, day\n",
    "- 출력: '월요일'\n",
    "- 함수명: 요일찾기()"
   ]
  },
  {
   "cell_type": "code",
   "execution_count": 75,
   "id": "182b0a2e-7241-441e-b2e9-709342a25cb2",
   "metadata": {},
   "outputs": [
    {
     "name": "stdin",
     "output_type": "stream",
     "text": [
      "연도를 입력하세요 (예: 2025):  2025\n",
      "월을 입력하세요 (1~12):  6\n",
      "일을 입력하세요 (1~31):  5\n"
     ]
    },
    {
     "name": "stdout",
     "output_type": "stream",
     "text": [
      "2025년 6월 5일은 목요일입니다.\n"
     ]
    }
   ],
   "source": [
    "# 날짜 입력 받기\n",
    "year = int(input(\"연도를 입력하세요 (예: 2025): \"))\n",
    "month = int(input(\"월을 입력하세요 (1~12): \"))\n",
    "day = int(input(\"일을 입력하세요 (1~31): \"))\n",
    "\n",
    "total_days = 0\n",
    "\n",
    "# 1. 이전 연도까지의 총 일수 계산\n",
    "for i in range(1, year):\n",
    "    if i % 400 == 0:\n",
    "        total_days += 366\n",
    "    elif i % 100 == 0:\n",
    "        total_days += 365\n",
    "    elif i % 4 == 0:\n",
    "        total_days += 366\n",
    "    else:\n",
    "        total_days += 365\n",
    "\n",
    "# 2. 월별 일수 더하기\n",
    "month_days = [0, 31, 28, 31, 30, 31, 30,\n",
    "              31, 31, 30, 31, 30, 31]\n",
    "for m in range(1, month):\n",
    "    total_days += month_days[m]\n",
    "\n",
    "# 3. 윤년이면 2월을 29일로 반영 (3월 이후인 경우에만)\n",
    "if month >= 3:\n",
    "    if year % 400 == 0:\n",
    "        total_days += 1\n",
    "    elif year % 100 == 0:\n",
    "        pass\n",
    "    elif year % 4 == 0:\n",
    "        total_days += 1\n",
    "\n",
    "# 4. 일수 더하기\n",
    "total_days += day\n",
    "\n",
    "# 5. 요일 판별 (1년 1월 1일이 월요일이라고 가정)\n",
    "remain_days = total_days % 7\n",
    "\n",
    "# 6. 요일 출력\n",
    "weekdays = ['일요일', '월요일', '화요일', '수요일',\n",
    "            '목요일', '금요일', '토요일']\n",
    "print(f\"{year}년 {month}월 {day}일은 {weekdays[remain_days]}입니다.\")\n"
   ]
  },
  {
   "cell_type": "code",
   "execution_count": 92,
   "id": "339ff5e6-56f0-4987-91c4-06e92423db8d",
   "metadata": {},
   "outputs": [
    {
     "name": "stdout",
     "output_type": "stream",
     "text": [
      "목요일\n",
      "입력하신 날짜는 ['일요일', '월요일', '화요일', '수요일', '목요일', '금요일', '토요일']입니다.\n"
     ]
    }
   ],
   "source": [
    "def 윤년체크(year):\n",
    "    #윤년: 400으로 나누어 나머지가 0, 4로 나누어 나머지가 0\n",
    "    #평년: 100으로 나누어 나머지가 0\n",
    "   \n",
    "    if year%400 == 0:\n",
    "        return True\n",
    "    elif year%100 == 0:\n",
    "        return False\n",
    "    elif year%4 == 0:\n",
    "        return True\n",
    "    else:\n",
    "        return False\n",
    "\n",
    "def get_total_days(year, month, day):\n",
    "    total_days = 0\n",
    "    # 1. 연도별 총 일수 계산 (1년부터 입력년도 - 1년까지)\n",
    "    for i in range(1, year):\n",
    "        \n",
    "    # 윤년 조건: 4의 배수이면서 100의 배수가 아니거나, 400의 배수\n",
    "        if i % 400 == 0:\n",
    "            total_days += 366\n",
    "        elif i % 100 == 0:\n",
    "            total_days += 365\n",
    "        elif i % 4 == 0:\n",
    "            total_days += 366\n",
    "        else:\n",
    "            total_days += 365\n",
    "\n",
    "    # 2. 입력한 달 이전까지의 월별 일수 합산\n",
    "    month_days = [0, 31, 28, 31, 30, 31, 30, 31, 31, 30, 31, 30, 31]\n",
    "    for m in range(1, month):\n",
    "        total_days += month_days[m]\n",
    "\n",
    "    # 3. 현재 해가 윤년이고, 3월 이상이면 하루 추가\n",
    "    if month>=3 :\n",
    "        if 윤년체크(year):\n",
    "            total_days += 1\n",
    "\n",
    "    # 4. 현재 달의 날짜 추가\n",
    "    total_days += day\n",
    "    return total_days\n",
    "\n",
    "\n",
    "\n",
    "def get_weekday(year, month, day):\n",
    "    \"\"\"입력된 날짜의 요일을 반환하는 함수\"\"\"\n",
    "    total_days = get_total_days(year, month, day)\n",
    "    weekdays = ['일요일', '월요일', '화요일', '수요일', '목요일', '금요일', '토요일']\n",
    "    remain_days = total_days % 7    #요일 계산 (1일이 일요일 기준)\n",
    "    return weekdays[remain_days]\n",
    "\n",
    "\n",
    "print(get_weekday(2025, 6, 5))\n",
    "\n"
   ]
  },
  {
   "cell_type": "code",
   "execution_count": 95,
   "id": "54d6c991-4a90-423c-8f51-16877a3af3b6",
   "metadata": {},
   "outputs": [
    {
     "name": "stdout",
     "output_type": "stream",
     "text": [
      "입력하신 날짜는 목요일입니다.\n"
     ]
    }
   ],
   "source": [
    "year=2025\n",
    "month=6\n",
    "day=5\n",
    "day_name = get_weekday(year, month, day)\n",
    "print(f'입력하신 날짜는 {day_name}입니다.')"
   ]
  },
  {
   "cell_type": "markdown",
   "id": "666b6622-07f4-4df3-a836-b5bb0807f6ed",
   "metadata": {},
   "source": [
    "# 성적처리 시스템\n",
    "- calc_total()\n",
    "\n",
    "- calc_average()\n",
    "\n",
    "- calc__order()\n",
    "\n",
    "- print_student(students) : 전학생의 성적을 출력\n",
    "\n",
    "- print_class() : 반평균, 각 과목별 평균 출력"
   ]
  },
  {
   "cell_type": "code",
   "execution_count": 5,
   "id": "1b680bc2-6e7c-4d1b-9fe5-fb4d7d2b78cb",
   "metadata": {},
   "outputs": [],
   "source": [
    "students = [\n",
    "               {'num':'1','name':'김철수','kor':90,'eng':80,'math':85,'total':0,'avg':0.0,'order':0 },\n",
    "               {'num':'2','name':'박제동','kor':90,'eng':85,'math':90,'total':0,'avg':0.0,'order':0 },\n",
    "               {'num':'3','name':'홍길동','kor':80,'eng':80,'math':80,'total':0,'avg':0.0,'order':0 }\n",
    "           ]"
   ]
  },
  {
   "cell_type": "code",
   "execution_count": 6,
   "id": "51104d03-5a33-4dc9-b742-1e961c8e0a40",
   "metadata": {},
   "outputs": [],
   "source": [
    "def calc_total(stus) :\n",
    "    for s in stus:\n",
    "        s['total'] = s['kor'] +  s['eng'] +  s['math'] \n"
   ]
  },
  {
   "cell_type": "code",
   "execution_count": 7,
   "id": "a5923f5e-3dd3-4cc5-ba4c-6d07a0ff3284",
   "metadata": {},
   "outputs": [],
   "source": [
    "def calc_order(stus):\n",
    "    \n",
    "    for student in stus :  #students[0] 자료를 꺼낸 것이 student\n",
    "        rank = 1\n",
    "        for other in stus :\n",
    "            if other['total'] > student['total'] :\n",
    "                rank += 1\n",
    "        student['order'] = rank\n",
    "        #print(student['name'], student['order'])"
   ]
  },
  {
   "cell_type": "code",
   "execution_count": 8,
   "id": "c1288d2a-0f4a-443c-bf36-ff5df41f819b",
   "metadata": {},
   "outputs": [],
   "source": [
    "def print_student(stus):\n",
    "    for s in stus:\n",
    "        print(f'이름: {s['name']} 국어: {s['kor']} 영어: {s['eng']} 수학: {s['math']} 등수: { s['order']}')"
   ]
  },
  {
   "cell_type": "code",
   "execution_count": 9,
   "id": "6c2cb52f-ad53-49ee-aa6c-e937f9ba556a",
   "metadata": {},
   "outputs": [],
   "source": [
    "def print_class(stus):\n",
    "    #반평균\n",
    "    class_avg =0\n",
    "    count = len(stus)\n",
    "    \n",
    "    class_avg = sum(student['total'] for student in stus)/count/3\n",
    "    kor_avg =sum(student['kor'] for student in stus)/count\n",
    "    eng_avg = sum(student['eng'] for student in stus)/count\n",
    "    math_avg = sum(student['math'] for student in stus)/count\n",
    "    #각 과목별 평균 출력\n",
    "    print(f'반평균: {class_avg} 국어: {kor_avg} 영어: {eng_avg} 수학: {math_avg}')"
   ]
  },
  {
   "cell_type": "code",
   "execution_count": 10,
   "id": "29cc1585-d238-4ec0-84e6-31c7abbaab0c",
   "metadata": {},
   "outputs": [
    {
     "name": "stdout",
     "output_type": "stream",
     "text": [
      "이름: 김철수 국어: 90 영어: 80 수학: 85 등수: 2\n",
      "이름: 박제동 국어: 90 영어: 85 수학: 90 등수: 1\n",
      "이름: 홍길동 국어: 80 영어: 80 수학: 80 등수: 3\n",
      "반평균: 84.44444444444444 국어: 86.66666666666667 영어: 81.66666666666667 수학: 85.0\n"
     ]
    }
   ],
   "source": [
    "calc_total(students)\n",
    "calc_average(students)\n",
    "calc_order(students)\n",
    "print_student(students)\n",
    "print_class(students)"
   ]
  },
  {
   "cell_type": "code",
   "execution_count": 180,
   "id": "130d585d-7b59-47ff-a03f-be31cdbed797",
   "metadata": {},
   "outputs": [],
   "source": [
    "def calc_avg(stus):\n",
    "    for s in stus:\n",
    "        s['avg'] = (s['kor'] +  s['eng'] +  s['math']) / len(stus)\n",
    "    "
   ]
  },
  {
   "cell_type": "code",
   "execution_count": 128,
   "id": "1a6e6ec7-512c-495d-bc53-25f363ddfd02",
   "metadata": {},
   "outputs": [],
   "source": [
    "def calc_order(student):\n",
    "    for s in student:\n",
    "        rank =1\n",
    "        for other in student:\n",
    "            if s['total'] < other['total']:\n",
    "                rank += 1\n",
    "        s['order'] = rank\n",
    "            "
   ]
  },
  {
   "cell_type": "code",
   "execution_count": 129,
   "id": "1a8f1768-cd57-41a9-a4c8-f68845f86c46",
   "metadata": {},
   "outputs": [
    {
     "data": {
      "text/plain": [
       "[{'num': '1',\n",
       "  'name': '김철수',\n",
       "  'kor': 90,\n",
       "  'eng': 80,\n",
       "  'math': 85,\n",
       "  'total': 255,\n",
       "  'avg': 85.0,\n",
       "  'order': 2},\n",
       " {'num': '2',\n",
       "  'name': '박제동',\n",
       "  'kor': 90,\n",
       "  'eng': 85,\n",
       "  'math': 90,\n",
       "  'total': 265,\n",
       "  'avg': 88.33333333333333,\n",
       "  'order': 1},\n",
       " {'num': '3',\n",
       "  'name': '홍길동',\n",
       "  'kor': 80,\n",
       "  'eng': 80,\n",
       "  'math': 80,\n",
       "  'total': 240,\n",
       "  'avg': 80.0,\n",
       "  'order': 3}]"
      ]
     },
     "execution_count": 129,
     "metadata": {},
     "output_type": "execute_result"
    }
   ],
   "source": [
    "calc_order(students)\n",
    "students"
   ]
  },
  {
   "cell_type": "code",
   "execution_count": 159,
   "id": "610b6124-737e-41d1-98dd-b6cf08aaafb2",
   "metadata": {},
   "outputs": [
    {
     "name": "stdout",
     "output_type": "stream",
     "text": [
      "번호 이름 국어 영어 수학 총점  평균  석차\n",
      "1   김철수 90  80   85  255  85.00 2\n",
      "2   박제동 90  85   90  265  88.33 1\n",
      "3   홍길동 80  80   80  240  80.00 3\n"
     ]
    }
   ],
   "source": [
    "def print_student(students):\n",
    "    print(\"번호 이름 국어 영어 수학 총점  평균  석차\")\n",
    "\n",
    "    for s in students:\n",
    "        print(f\"{s['num']}   {s['name']} {s['kor']}  {s['eng']}   {s['math']}  {s['total']}  {s['avg']:>5.2f} {s['order']}\")\n",
    "\n",
    "\n",
    "print_student(students)"
   ]
  },
  {
   "cell_type": "code",
   "execution_count": 162,
   "id": "c7bbbf5c-335a-47b8-8ee4-e521ecb3a019",
   "metadata": {},
   "outputs": [
    {
     "name": "stdout",
     "output_type": "stream",
     "text": [
      "번호  이름     국어  영어  수학  총점  평균   석차\n",
      "--------------------------------------------------\n",
      " 1   김철수     90   80   85  255  85.00    2\n",
      " 2   박제동     90   85   90  265  88.33    1\n",
      " 3   홍길동     80   80   80  240  80.00    3\n"
     ]
    }
   ],
   "source": [
    "def print_student(students):\n",
    "    print(\"번호  이름     국어  영어  수학  총점  평균   석차\")\n",
    "    print(\"-\" * 50)\n",
    "    for s in students:\n",
    "        print(f\"{s['num']:>2}   {s['name']:<5}  {s['kor']:>3}  {s['eng']:>3}  {s['math']:>3}  {s['total']:>3}  {s['avg']:>5.2f}   {s['order']:>2}\")\n",
    "\n",
    "\n",
    "print_student(students)"
   ]
  },
  {
   "cell_type": "markdown",
   "id": "742f4d60-46ff-4ab6-84e8-123ff0747b67",
   "metadata": {},
   "source": [
    "# 람다 함수\n",
    "\n",
    "- 선언 --> lambda <매개변수> : 코드\n",
    "- 호출 --> (lambda <매개변수> : 코드) (매개변수값)"
   ]
  },
  {
   "cell_type": "code",
   "execution_count": 7,
   "id": "e00aa5f4-4478-4520-a35b-5e399417dc86",
   "metadata": {},
   "outputs": [],
   "source": [
    "def aaa(a):\n",
    "    result =a + 1\n",
    "    return result"
   ]
  },
  {
   "cell_type": "code",
   "execution_count": 8,
   "id": "e1861b25-68bc-44cf-8174-6dac8470ac26",
   "metadata": {},
   "outputs": [
    {
     "data": {
      "text/plain": [
       "<function __main__.<lambda>(a)>"
      ]
     },
     "execution_count": 8,
     "metadata": {},
     "output_type": "execute_result"
    }
   ],
   "source": [
    "lambda a: a+1 # 람다정의"
   ]
  },
  {
   "cell_type": "code",
   "execution_count": 10,
   "id": "1b042e8e-1c77-47d4-889a-494f58f86f44",
   "metadata": {},
   "outputs": [
    {
     "data": {
      "text/plain": [
       "3"
      ]
     },
     "execution_count": 10,
     "metadata": {},
     "output_type": "execute_result"
    }
   ],
   "source": [
    "(lambda a: a+1)(2) # 람다 호출"
   ]
  },
  {
   "cell_type": "code",
   "execution_count": 12,
   "id": "42737d31-ca31-4d07-bcb1-ee650cef5b61",
   "metadata": {},
   "outputs": [
    {
     "data": {
      "text/plain": [
       "4"
      ]
     },
     "execution_count": 12,
     "metadata": {},
     "output_type": "execute_result"
    }
   ],
   "source": [
    "my_lambda = lambda a: a+1 # 람다의 재정의\n",
    "my_lambda(3)"
   ]
  },
  {
   "cell_type": "code",
   "execution_count": 13,
   "id": "93c002d7-698f-4c6a-9249-318478abb38d",
   "metadata": {},
   "outputs": [
    {
     "data": {
      "text/plain": [
       "5"
      ]
     },
     "execution_count": 13,
     "metadata": {},
     "output_type": "execute_result"
    }
   ],
   "source": [
    "def sum1(a,b):\n",
    "    return a+b\n",
    "sum1(2,3)"
   ]
  },
  {
   "cell_type": "code",
   "execution_count": 16,
   "id": "7fddb10c-650b-4c9d-abf4-f6a225fdaaf6",
   "metadata": {},
   "outputs": [
    {
     "data": {
      "text/plain": [
       "5"
      ]
     },
     "execution_count": 16,
     "metadata": {},
     "output_type": "execute_result"
    }
   ],
   "source": [
    "(lambda a,b: a+b)(2,3) "
   ]
  },
  {
   "cell_type": "code",
   "execution_count": 18,
   "id": "1349cc2c-eca1-4f0a-abb6-e3506e0e3f01",
   "metadata": {},
   "outputs": [],
   "source": [
    "def calc_func(a,b,opr_func):\n",
    "    result =opr_func(a,b)\n",
    "    return result"
   ]
  },
  {
   "cell_type": "code",
   "execution_count": 19,
   "id": "ce2e825b-e188-4c79-8d1c-13714b7d0d53",
   "metadata": {},
   "outputs": [
    {
     "data": {
      "text/plain": [
       "3"
      ]
     },
     "execution_count": 19,
     "metadata": {},
     "output_type": "execute_result"
    }
   ],
   "source": [
    "calc_func(1,2,lambda x,y:x+y)"
   ]
  },
  {
   "cell_type": "code",
   "execution_count": 20,
   "id": "7c3b66c4-6462-4f7f-8801-106cd99252bd",
   "metadata": {},
   "outputs": [
    {
     "data": {
      "text/plain": [
       "-1"
      ]
     },
     "execution_count": 20,
     "metadata": {},
     "output_type": "execute_result"
    }
   ],
   "source": [
    "calc_func(1,2,lambda x,y:x-y)"
   ]
  },
  {
   "cell_type": "code",
   "execution_count": 21,
   "id": "ea6bf79b-de56-4553-8ab7-f4c36201b38c",
   "metadata": {},
   "outputs": [
    {
     "data": {
      "text/plain": [
       "2"
      ]
     },
     "execution_count": 21,
     "metadata": {},
     "output_type": "execute_result"
    }
   ],
   "source": [
    "calc_func(1,2,lambda x,y:x*y)"
   ]
  },
  {
   "cell_type": "code",
   "execution_count": 25,
   "id": "8f6d6897-d6c9-456c-a546-f3491a9f2706",
   "metadata": {},
   "outputs": [
    {
     "data": {
      "text/plain": [
       "['APPLE', 'BANANA', 'CHERRY']"
      ]
     },
     "execution_count": 25,
     "metadata": {},
     "output_type": "execute_result"
    }
   ],
   "source": [
    "# map함수\n",
    "fruits = ['apple', 'banana', 'cherry']\n",
    "# str.upper\n",
    "# fruits[0].upper()\n",
    "list(map(str.upper,fruits))"
   ]
  },
  {
   "cell_type": "code",
   "execution_count": 26,
   "id": "9a591666-e612-4bd1-b958-339d2a345c55",
   "metadata": {},
   "outputs": [
    {
     "data": {
      "text/plain": [
       "['1', '2', '3', '4', '5']"
      ]
     },
     "execution_count": 26,
     "metadata": {},
     "output_type": "execute_result"
    }
   ],
   "source": [
    "str_number = '12345' # string --> 숫자 리스트\n",
    "list(str_number) # 문자열 리스트\n",
    "\n"
   ]
  },
  {
   "cell_type": "code",
   "execution_count": 28,
   "id": "c9c2c313-c2e4-48c3-83c0-f853d70d919f",
   "metadata": {},
   "outputs": [],
   "source": [
    "# int(list(str_number)) #error int는 문자열하나만 정수로 변경"
   ]
  },
  {
   "cell_type": "code",
   "execution_count": 30,
   "id": "d61e3d74-de74-474b-9536-320354ac1338",
   "metadata": {},
   "outputs": [
    {
     "data": {
      "text/plain": [
       "[1, 2, 3, 4, 5]"
      ]
     },
     "execution_count": 30,
     "metadata": {},
     "output_type": "execute_result"
    }
   ],
   "source": [
    "list(map(int,str_number))"
   ]
  },
  {
   "cell_type": "code",
   "execution_count": 33,
   "id": "ed7e6ca2-dae0-4c9a-be16-9b8847d61661",
   "metadata": {},
   "outputs": [
    {
     "data": {
      "text/plain": [
       "[1, 4, 9, 16, 25]"
      ]
     },
     "execution_count": 33,
     "metadata": {},
     "output_type": "execute_result"
    }
   ],
   "source": [
    "numbers = list(map(int,str_number))\n",
    "list(map(lambda x:x**2,numbers)) # map에서 원하는 데이터 뽑아내고 원하는 데이터형태로 변경"
   ]
  },
  {
   "cell_type": "code",
   "execution_count": 41,
   "id": "e9a81a44-5dcb-4d03-986c-13192c9d03a5",
   "metadata": {},
   "outputs": [
    {
     "data": {
      "text/plain": [
       "[5, 7, 9]"
      ]
     },
     "execution_count": 41,
     "metadata": {},
     "output_type": "execute_result"
    }
   ],
   "source": [
    "kor_score =[1,2,3]\n",
    "eng_score =[4,5,6]\n",
    "math_score =[7,8,9]\n",
    "list(map(lambda x,y: x+y, kor_score, eng_score))\n"
   ]
  },
  {
   "cell_type": "code",
   "execution_count": null,
   "id": "a2a9a363-95e7-4499-bf26-333106244059",
   "metadata": {},
   "outputs": [],
   "source": [
    "# 평균, 최대값, 최소값"
   ]
  },
  {
   "cell_type": "code",
   "execution_count": 43,
   "id": "54ebc4c7-ff83-4f0e-a9dd-2a9dcabc7927",
   "metadata": {},
   "outputs": [
    {
     "data": {
      "text/plain": [
       "[12, 15, 18]"
      ]
     },
     "execution_count": 43,
     "metadata": {},
     "output_type": "execute_result"
    }
   ],
   "source": [
    "kor_score =[1,2,3]\n",
    "eng_score =[4,5,6]\n",
    "math_score =[7,8,9]\n",
    "\n",
    "list(map(lambda x,y,z: x+y+z, kor_score, eng_score, math_score))"
   ]
  },
  {
   "cell_type": "code",
   "execution_count": 44,
   "id": "23352a8c-e025-4e10-b8f4-49423c988adc",
   "metadata": {},
   "outputs": [
    {
     "data": {
      "text/plain": [
       "[12, 15, 18]"
      ]
     },
     "execution_count": 44,
     "metadata": {},
     "output_type": "execute_result"
    }
   ],
   "source": [
    "list(map(lambda s: sum(s),zip(kor_score, eng_score, math_score)))"
   ]
  },
  {
   "cell_type": "code",
   "execution_count": 18,
   "id": "608b6d66-bdae-4d48-9afe-088aa1ebdb19",
   "metadata": {},
   "outputs": [],
   "source": [
    "# 리스트 컴프리헨션 의 필터\n",
    "numbers = [1,2,3,4,5]\n",
    "\n",
    "[x for in numbers if x % 2 == 0]"
   ]
  },
  {
   "cell_type": "code",
   "execution_count": 7,
   "id": "3511da19-a1c8-483b-9fd5-75368d8cf3b0",
   "metadata": {},
   "outputs": [
    {
     "data": {
      "text/plain": [
       "[2, 4]"
      ]
     },
     "execution_count": 7,
     "metadata": {},
     "output_type": "execute_result"
    }
   ],
   "source": [
    "# 필터함수\n",
    "list(filter(lambda x: x % 2 == 0, numbers))"
   ]
  },
  {
   "cell_type": "code",
   "execution_count": 19,
   "id": "0ea6f95f-b4a6-4f6a-a9fb-af8a082443b4",
   "metadata": {},
   "outputs": [
    {
     "ename": "SyntaxError",
     "evalue": "incomplete input (2491695206.py, line 2)",
     "output_type": "error",
     "traceback": [
      "  \u001b[36mCell\u001b[39m\u001b[36m \u001b[39m\u001b[32mIn[19]\u001b[39m\u001b[32m, line 2\u001b[39m\n\u001b[31m    \u001b[39m\u001b[31m(filter(lambda x: X%2==0,map(lambda x: x*x, numbers))\u001b[39m\n                                                         ^\n\u001b[31mSyntaxError\u001b[39m\u001b[31m:\u001b[39m incomplete input\n"
     ]
    }
   ],
   "source": [
    "# numbers를 2배하고 그 중에 짝수인 리스트로 리턴\n",
    "(filter(lambda x: X%2==0,map(lambda x: x*x, numbers))"
   ]
  },
  {
   "cell_type": "code",
   "execution_count": 9,
   "id": "552b5efe-1cc1-4b51-ae2a-66fe4f3bc87f",
   "metadata": {},
   "outputs": [
    {
     "data": {
      "text/plain": [
       "[1, 3, 4, 5, 6, 7, 8, 9]"
      ]
     },
     "execution_count": 9,
     "metadata": {},
     "output_type": "execute_result"
    }
   ],
   "source": [
    "numbers = [3,1,5,4,7,8,6,9]\n",
    "sorted(numbers)"
   ]
  },
  {
   "cell_type": "code",
   "execution_count": 10,
   "id": "2eeeb88b-3345-4061-adf1-3b6d8e01433d",
   "metadata": {},
   "outputs": [
    {
     "data": {
      "text/plain": [
       "[3, 1, 5, 4, 7, 8, 6, 9]"
      ]
     },
     "execution_count": 10,
     "metadata": {},
     "output_type": "execute_result"
    }
   ],
   "source": [
    "numbers"
   ]
  },
  {
   "cell_type": "code",
   "execution_count": 12,
   "id": "c9f7ccb1-71c9-404c-869e-01c36634eab7",
   "metadata": {},
   "outputs": [
    {
     "data": {
      "text/plain": [
       "[1, 3, 4, 5, 6, 7, 8, 9]"
      ]
     },
     "execution_count": 12,
     "metadata": {},
     "output_type": "execute_result"
    }
   ],
   "source": [
    "nums =sorted(numbers)\n",
    "nums"
   ]
  },
  {
   "cell_type": "code",
   "execution_count": 24,
   "id": "a848e32b-5568-4da2-9b7e-b4fa08675f1b",
   "metadata": {},
   "outputs": [
    {
     "data": {
      "text/plain": [
       "[3, 1, 5, 4, 7, 8, 6, 9]"
      ]
     },
     "execution_count": 24,
     "metadata": {},
     "output_type": "execute_result"
    }
   ],
   "source": [
    "numbers = [3,1,5,4,7,8,6,9]\n",
    "numbers"
   ]
  },
  {
   "cell_type": "code",
   "execution_count": 25,
   "id": "97ee60d4-956a-4a9f-af92-2a05e2c140dd",
   "metadata": {},
   "outputs": [
    {
     "data": {
      "text/plain": [
       "[1, -3, 5, -6, -8]"
      ]
     },
     "execution_count": 25,
     "metadata": {},
     "output_type": "execute_result"
    }
   ],
   "source": [
    "numbers1 = [-3,1,5,-6,-8]\n",
    "sorted(numbers1, key=abs)"
   ]
  },
  {
   "cell_type": "code",
   "execution_count": 26,
   "id": "a330967a-ae94-44ef-bd02-1d7625623f7b",
   "metadata": {},
   "outputs": [
    {
     "data": {
      "text/plain": [
       "['apple', 'banana', 'blueberry', 'cherry']"
      ]
     },
     "execution_count": 26,
     "metadata": {},
     "output_type": "execute_result"
    }
   ],
   "source": [
    "words = ['apple','banana','cherry','blueberry']\n",
    "sorted(words)"
   ]
  },
  {
   "cell_type": "code",
   "execution_count": 28,
   "id": "09bf0bc4-8510-4bf0-b3c1-f325f319c7aa",
   "metadata": {},
   "outputs": [
    {
     "data": {
      "text/plain": [
       "['blueberry', 'banana', 'cherry', 'apple']"
      ]
     },
     "execution_count": 28,
     "metadata": {},
     "output_type": "execute_result"
    }
   ],
   "source": [
    "sorted(words, key=len, reverse=True)"
   ]
  },
  {
   "cell_type": "code",
   "execution_count": 29,
   "id": "c09033aa-3274-444c-b98e-89242a424bd8",
   "metadata": {},
   "outputs": [
    {
     "data": {
      "text/plain": [
       "['banana', 'apple', 'cherry', 'blueberry']"
      ]
     },
     "execution_count": 29,
     "metadata": {},
     "output_type": "execute_result"
    }
   ],
   "source": [
    "# 마지막글자의 순\n",
    "sorted(words, key=lambda w: w[-1])"
   ]
  },
  {
   "cell_type": "code",
   "execution_count": 30,
   "id": "ea6a7280-3629-4efc-9300-72cb07be481c",
   "metadata": {},
   "outputs": [
    {
     "data": {
      "text/plain": [
       "[(3, 2), (2, 3), (1, 4)]"
      ]
     },
     "execution_count": 30,
     "metadata": {},
     "output_type": "execute_result"
    }
   ],
   "source": [
    "# 튜플의 요소 기준 정렬\n",
    "data = [(1,4),(2,3),(3,2)]\n",
    "sorted(data, key=lambda x:x[1])"
   ]
  },
  {
   "cell_type": "code",
   "execution_count": 32,
   "id": "c70337ae-f150-48f7-9ac4-66f3b15bf4ba",
   "metadata": {},
   "outputs": [],
   "source": [
    "# 이름, 나이, 점수\n",
    "students = [('Alice',20,85),('Bob',23,90),('Charie',21,70)]\n",
    "# 나이 기준으로 정렬\n",
    "# 높은 점수순으로 정렬"
   ]
  },
  {
   "cell_type": "code",
   "execution_count": 33,
   "id": "cec8adae-a693-4dfc-b3bb-493dbf1c5c75",
   "metadata": {},
   "outputs": [
    {
     "data": {
      "text/plain": [
       "[('Alice', 20, 85), ('Charie', 21, 70), ('Bob', 23, 90)]"
      ]
     },
     "execution_count": 33,
     "metadata": {},
     "output_type": "execute_result"
    }
   ],
   "source": [
    "sorted(students,key=lambda x:x[1]) # 나이순"
   ]
  },
  {
   "cell_type": "code",
   "execution_count": 35,
   "id": "b82b5b18-513f-4499-91fe-344e3b388fe8",
   "metadata": {},
   "outputs": [
    {
     "data": {
      "text/plain": [
       "[('Bob', 23, 90), ('Alice', 20, 85), ('Charie', 21, 70)]"
      ]
     },
     "execution_count": 35,
     "metadata": {},
     "output_type": "execute_result"
    }
   ],
   "source": [
    "sorted(students,key=lambda x:x[2],reverse=True) # 높은 점수순"
   ]
  },
  {
   "cell_type": "code",
   "execution_count": null,
   "id": "c74a047c-4f3f-45b2-8a72-a830bd0c2523",
   "metadata": {},
   "outputs": [],
   "source": []
  },
  {
   "cell_type": "code",
   "execution_count": null,
   "id": "60e9a084-c087-4397-9883-73b2f1e3e0c2",
   "metadata": {},
   "outputs": [],
   "source": []
  },
  {
   "cell_type": "code",
   "execution_count": null,
   "id": "a8e8e456-1c76-497a-9f48-abfc7250cbaa",
   "metadata": {},
   "outputs": [],
   "source": []
  }
 ],
 "metadata": {
  "kernelspec": {
   "display_name": "Python 3 (ipykernel)",
   "language": "python",
   "name": "python3"
  },
  "language_info": {
   "codemirror_mode": {
    "name": "ipython",
    "version": 3
   },
   "file_extension": ".py",
   "mimetype": "text/x-python",
   "name": "python",
   "nbconvert_exporter": "python",
   "pygments_lexer": "ipython3",
   "version": "3.12.9"
  }
 },
 "nbformat": 4,
 "nbformat_minor": 5
}
